{
 "cells": [
  {
   "cell_type": "markdown",
   "id": "ca625c8c",
   "metadata": {},
   "source": [
    "# Introduction to Scikit-Learn (sklearn)\n",
    "\n",
    "This notebook demonstrates some of the most useful function of the Scikit-Learn libry\n",
    "\n",
    "Contents:\n",
    "\n",
    "0. An end-to-end Scikit-learn workflow\n",
    "1. Getting the data ready\n",
    "2. Choose the right estimator/algorithm/model for our problems\n",
    "3. Fit the model/algorithm/estimator and use it to make predictions on our data\n",
    "4. Evaluating a model\n",
    "5. Improve a model\n",
    "6. Save and load a trained model\n",
    "7. Putting it all together"
   ]
  },
  {
   "cell_type": "code",
   "execution_count": 1,
   "id": "f11f1344",
   "metadata": {},
   "outputs": [],
   "source": [
    "# Standard inputs\n",
    "import numpy as np\n",
    "import pandas as pd\n",
    "import matplotlib.pyplot as plt\n",
    "%matplotlib inline "
   ]
  },
  {
   "cell_type": "markdown",
   "id": "cfd11e5d",
   "metadata": {},
   "source": [
    "## 0. An end-to-end Scikit-learn workflow"
   ]
  },
  {
   "cell_type": "code",
   "execution_count": 2,
   "id": "8ec6bd06",
   "metadata": {},
   "outputs": [
    {
     "data": {
      "text/html": [
       "<div>\n",
       "<style scoped>\n",
       "    .dataframe tbody tr th:only-of-type {\n",
       "        vertical-align: middle;\n",
       "    }\n",
       "\n",
       "    .dataframe tbody tr th {\n",
       "        vertical-align: top;\n",
       "    }\n",
       "\n",
       "    .dataframe thead th {\n",
       "        text-align: right;\n",
       "    }\n",
       "</style>\n",
       "<table border=\"1\" class=\"dataframe\">\n",
       "  <thead>\n",
       "    <tr style=\"text-align: right;\">\n",
       "      <th></th>\n",
       "      <th>age</th>\n",
       "      <th>sex</th>\n",
       "      <th>cp</th>\n",
       "      <th>trestbps</th>\n",
       "      <th>chol</th>\n",
       "      <th>fbs</th>\n",
       "      <th>restecg</th>\n",
       "      <th>thalach</th>\n",
       "      <th>exang</th>\n",
       "      <th>oldpeak</th>\n",
       "      <th>slope</th>\n",
       "      <th>ca</th>\n",
       "      <th>thal</th>\n",
       "      <th>target</th>\n",
       "    </tr>\n",
       "  </thead>\n",
       "  <tbody>\n",
       "    <tr>\n",
       "      <th>0</th>\n",
       "      <td>63</td>\n",
       "      <td>1</td>\n",
       "      <td>3</td>\n",
       "      <td>145</td>\n",
       "      <td>233</td>\n",
       "      <td>1</td>\n",
       "      <td>0</td>\n",
       "      <td>150</td>\n",
       "      <td>0</td>\n",
       "      <td>2.3</td>\n",
       "      <td>0</td>\n",
       "      <td>0</td>\n",
       "      <td>1</td>\n",
       "      <td>1</td>\n",
       "    </tr>\n",
       "    <tr>\n",
       "      <th>1</th>\n",
       "      <td>37</td>\n",
       "      <td>1</td>\n",
       "      <td>2</td>\n",
       "      <td>130</td>\n",
       "      <td>250</td>\n",
       "      <td>0</td>\n",
       "      <td>1</td>\n",
       "      <td>187</td>\n",
       "      <td>0</td>\n",
       "      <td>3.5</td>\n",
       "      <td>0</td>\n",
       "      <td>0</td>\n",
       "      <td>2</td>\n",
       "      <td>1</td>\n",
       "    </tr>\n",
       "    <tr>\n",
       "      <th>2</th>\n",
       "      <td>41</td>\n",
       "      <td>0</td>\n",
       "      <td>1</td>\n",
       "      <td>130</td>\n",
       "      <td>204</td>\n",
       "      <td>0</td>\n",
       "      <td>0</td>\n",
       "      <td>172</td>\n",
       "      <td>0</td>\n",
       "      <td>1.4</td>\n",
       "      <td>2</td>\n",
       "      <td>0</td>\n",
       "      <td>2</td>\n",
       "      <td>1</td>\n",
       "    </tr>\n",
       "    <tr>\n",
       "      <th>3</th>\n",
       "      <td>56</td>\n",
       "      <td>1</td>\n",
       "      <td>1</td>\n",
       "      <td>120</td>\n",
       "      <td>236</td>\n",
       "      <td>0</td>\n",
       "      <td>1</td>\n",
       "      <td>178</td>\n",
       "      <td>0</td>\n",
       "      <td>0.8</td>\n",
       "      <td>2</td>\n",
       "      <td>0</td>\n",
       "      <td>2</td>\n",
       "      <td>1</td>\n",
       "    </tr>\n",
       "    <tr>\n",
       "      <th>4</th>\n",
       "      <td>57</td>\n",
       "      <td>0</td>\n",
       "      <td>0</td>\n",
       "      <td>120</td>\n",
       "      <td>354</td>\n",
       "      <td>0</td>\n",
       "      <td>1</td>\n",
       "      <td>163</td>\n",
       "      <td>1</td>\n",
       "      <td>0.6</td>\n",
       "      <td>2</td>\n",
       "      <td>0</td>\n",
       "      <td>2</td>\n",
       "      <td>1</td>\n",
       "    </tr>\n",
       "  </tbody>\n",
       "</table>\n",
       "</div>"
      ],
      "text/plain": [
       "   age  sex  cp  trestbps  chol  fbs  restecg  thalach  exang  oldpeak  slope  \\\n",
       "0   63    1   3       145   233    1        0      150      0      2.3      0   \n",
       "1   37    1   2       130   250    0        1      187      0      3.5      0   \n",
       "2   41    0   1       130   204    0        0      172      0      1.4      2   \n",
       "3   56    1   1       120   236    0        1      178      0      0.8      2   \n",
       "4   57    0   0       120   354    0        1      163      1      0.6      2   \n",
       "\n",
       "   ca  thal  target  \n",
       "0   0     1       1  \n",
       "1   0     2       1  \n",
       "2   0     2       1  \n",
       "3   0     2       1  \n",
       "4   0     2       1  "
      ]
     },
     "execution_count": 2,
     "metadata": {},
     "output_type": "execute_result"
    }
   ],
   "source": [
    "# 1. Get the data ready\n",
    "import pandas as pd\n",
    "import numpy as np\n",
    "heart_disease = pd.read_csv(\"../data/heart-disease.csv\")\n",
    "heart_disease.head()"
   ]
  },
  {
   "cell_type": "code",
   "execution_count": 3,
   "id": "a0b753c5",
   "metadata": {},
   "outputs": [],
   "source": [
    "# Create X (features matrix)\n",
    "X = heart_disease.drop(\"target\", axis = 1)\n",
    "\n",
    "# Create y (labels)\n",
    "y = heart_disease[\"target\"]"
   ]
  },
  {
   "cell_type": "code",
   "execution_count": 4,
   "id": "2ec6b5ec",
   "metadata": {},
   "outputs": [
    {
     "data": {
      "text/plain": [
       "{'bootstrap': True,\n",
       " 'ccp_alpha': 0.0,\n",
       " 'class_weight': None,\n",
       " 'criterion': 'gini',\n",
       " 'max_depth': None,\n",
       " 'max_features': 'auto',\n",
       " 'max_leaf_nodes': None,\n",
       " 'max_samples': None,\n",
       " 'min_impurity_decrease': 0.0,\n",
       " 'min_impurity_split': None,\n",
       " 'min_samples_leaf': 1,\n",
       " 'min_samples_split': 2,\n",
       " 'min_weight_fraction_leaf': 0.0,\n",
       " 'n_estimators': 100,\n",
       " 'n_jobs': None,\n",
       " 'oob_score': False,\n",
       " 'random_state': None,\n",
       " 'verbose': 0,\n",
       " 'warm_start': False}"
      ]
     },
     "execution_count": 4,
     "metadata": {},
     "output_type": "execute_result"
    }
   ],
   "source": [
    "# 2. Choose the right model and hyperparameters\n",
    "from sklearn.ensemble import RandomForestClassifier\n",
    "\n",
    "# convention is clf (classifier) =, or model = \n",
    "clf = RandomForestClassifier()\n",
    "\n",
    "# We'll keep the default hyperparameters\n",
    "clf.get_params()"
   ]
  },
  {
   "cell_type": "code",
   "execution_count": 5,
   "id": "247bc9ed",
   "metadata": {},
   "outputs": [],
   "source": [
    "# 3. Fit the model to the training data\n",
    "from sklearn.model_selection import train_test_split\n",
    "\n",
    "X_train, X_test, y_train, y_test = train_test_split(X, y, test_size = 0.2)"
   ]
  },
  {
   "cell_type": "code",
   "execution_count": 6,
   "id": "db52e89c",
   "metadata": {},
   "outputs": [],
   "source": [
    "clf.fit(X_train, y_train);"
   ]
  },
  {
   "cell_type": "code",
   "execution_count": 7,
   "id": "b99e50af",
   "metadata": {},
   "outputs": [
    {
     "ename": "ValueError",
     "evalue": "Expected 2D array, got 1D array instead:\narray=[0. 2. 3. 4.].\nReshape your data either using array.reshape(-1, 1) if your data has a single feature or array.reshape(1, -1) if it contains a single sample.",
     "output_type": "error",
     "traceback": [
      "\u001b[1;31m---------------------------------------------------------------------------\u001b[0m",
      "\u001b[1;31mValueError\u001b[0m                                Traceback (most recent call last)",
      "\u001b[1;32m~\\AppData\\Local\\Temp/ipykernel_8140/2671139463.py\u001b[0m in \u001b[0;36m<module>\u001b[1;34m\u001b[0m\n\u001b[0;32m      1\u001b[0m \u001b[1;31m# make a prediction\u001b[0m\u001b[1;33m\u001b[0m\u001b[1;33m\u001b[0m\u001b[0m\n\u001b[1;32m----> 2\u001b[1;33m \u001b[0my_label\u001b[0m \u001b[1;33m=\u001b[0m \u001b[0mclf\u001b[0m\u001b[1;33m.\u001b[0m\u001b[0mpredict\u001b[0m\u001b[1;33m(\u001b[0m\u001b[0mnp\u001b[0m\u001b[1;33m.\u001b[0m\u001b[0marray\u001b[0m\u001b[1;33m(\u001b[0m\u001b[1;33m[\u001b[0m\u001b[1;36m0\u001b[0m\u001b[1;33m,\u001b[0m\u001b[1;36m2\u001b[0m\u001b[1;33m,\u001b[0m\u001b[1;36m3\u001b[0m\u001b[1;33m,\u001b[0m\u001b[1;36m4\u001b[0m\u001b[1;33m]\u001b[0m\u001b[1;33m)\u001b[0m\u001b[1;33m)\u001b[0m\u001b[1;33m\u001b[0m\u001b[1;33m\u001b[0m\u001b[0m\n\u001b[0m",
      "\u001b[1;32m~\\Desktop\\ML_Projects\\SampleProject\\env\\lib\\site-packages\\sklearn\\ensemble\\_forest.py\u001b[0m in \u001b[0;36mpredict\u001b[1;34m(self, X)\u001b[0m\n\u001b[0;32m    628\u001b[0m             \u001b[0mThe\u001b[0m \u001b[0mpredicted\u001b[0m \u001b[0mclasses\u001b[0m\u001b[1;33m.\u001b[0m\u001b[1;33m\u001b[0m\u001b[1;33m\u001b[0m\u001b[0m\n\u001b[0;32m    629\u001b[0m         \"\"\"\n\u001b[1;32m--> 630\u001b[1;33m         \u001b[0mproba\u001b[0m \u001b[1;33m=\u001b[0m \u001b[0mself\u001b[0m\u001b[1;33m.\u001b[0m\u001b[0mpredict_proba\u001b[0m\u001b[1;33m(\u001b[0m\u001b[0mX\u001b[0m\u001b[1;33m)\u001b[0m\u001b[1;33m\u001b[0m\u001b[1;33m\u001b[0m\u001b[0m\n\u001b[0m\u001b[0;32m    631\u001b[0m \u001b[1;33m\u001b[0m\u001b[0m\n\u001b[0;32m    632\u001b[0m         \u001b[1;32mif\u001b[0m \u001b[0mself\u001b[0m\u001b[1;33m.\u001b[0m\u001b[0mn_outputs_\u001b[0m \u001b[1;33m==\u001b[0m \u001b[1;36m1\u001b[0m\u001b[1;33m:\u001b[0m\u001b[1;33m\u001b[0m\u001b[1;33m\u001b[0m\u001b[0m\n",
      "\u001b[1;32m~\\Desktop\\ML_Projects\\SampleProject\\env\\lib\\site-packages\\sklearn\\ensemble\\_forest.py\u001b[0m in \u001b[0;36mpredict_proba\u001b[1;34m(self, X)\u001b[0m\n\u001b[0;32m    672\u001b[0m         \u001b[0mcheck_is_fitted\u001b[0m\u001b[1;33m(\u001b[0m\u001b[0mself\u001b[0m\u001b[1;33m)\u001b[0m\u001b[1;33m\u001b[0m\u001b[1;33m\u001b[0m\u001b[0m\n\u001b[0;32m    673\u001b[0m         \u001b[1;31m# Check data\u001b[0m\u001b[1;33m\u001b[0m\u001b[1;33m\u001b[0m\u001b[0m\n\u001b[1;32m--> 674\u001b[1;33m         \u001b[0mX\u001b[0m \u001b[1;33m=\u001b[0m \u001b[0mself\u001b[0m\u001b[1;33m.\u001b[0m\u001b[0m_validate_X_predict\u001b[0m\u001b[1;33m(\u001b[0m\u001b[0mX\u001b[0m\u001b[1;33m)\u001b[0m\u001b[1;33m\u001b[0m\u001b[1;33m\u001b[0m\u001b[0m\n\u001b[0m\u001b[0;32m    675\u001b[0m \u001b[1;33m\u001b[0m\u001b[0m\n\u001b[0;32m    676\u001b[0m         \u001b[1;31m# Assign chunk of trees to jobs\u001b[0m\u001b[1;33m\u001b[0m\u001b[1;33m\u001b[0m\u001b[0m\n",
      "\u001b[1;32m~\\Desktop\\ML_Projects\\SampleProject\\env\\lib\\site-packages\\sklearn\\ensemble\\_forest.py\u001b[0m in \u001b[0;36m_validate_X_predict\u001b[1;34m(self, X)\u001b[0m\n\u001b[0;32m    420\u001b[0m         \u001b[0mcheck_is_fitted\u001b[0m\u001b[1;33m(\u001b[0m\u001b[0mself\u001b[0m\u001b[1;33m)\u001b[0m\u001b[1;33m\u001b[0m\u001b[1;33m\u001b[0m\u001b[0m\n\u001b[0;32m    421\u001b[0m \u001b[1;33m\u001b[0m\u001b[0m\n\u001b[1;32m--> 422\u001b[1;33m         \u001b[1;32mreturn\u001b[0m \u001b[0mself\u001b[0m\u001b[1;33m.\u001b[0m\u001b[0mestimators_\u001b[0m\u001b[1;33m[\u001b[0m\u001b[1;36m0\u001b[0m\u001b[1;33m]\u001b[0m\u001b[1;33m.\u001b[0m\u001b[0m_validate_X_predict\u001b[0m\u001b[1;33m(\u001b[0m\u001b[0mX\u001b[0m\u001b[1;33m,\u001b[0m \u001b[0mcheck_input\u001b[0m\u001b[1;33m=\u001b[0m\u001b[1;32mTrue\u001b[0m\u001b[1;33m)\u001b[0m\u001b[1;33m\u001b[0m\u001b[1;33m\u001b[0m\u001b[0m\n\u001b[0m\u001b[0;32m    423\u001b[0m \u001b[1;33m\u001b[0m\u001b[0m\n\u001b[0;32m    424\u001b[0m     \u001b[1;33m@\u001b[0m\u001b[0mproperty\u001b[0m\u001b[1;33m\u001b[0m\u001b[1;33m\u001b[0m\u001b[0m\n",
      "\u001b[1;32m~\\Desktop\\ML_Projects\\SampleProject\\env\\lib\\site-packages\\sklearn\\tree\\_classes.py\u001b[0m in \u001b[0;36m_validate_X_predict\u001b[1;34m(self, X, check_input)\u001b[0m\n\u001b[0;32m    405\u001b[0m         \u001b[1;34m\"\"\"Validate the training data on predict (probabilities).\"\"\"\u001b[0m\u001b[1;33m\u001b[0m\u001b[1;33m\u001b[0m\u001b[0m\n\u001b[0;32m    406\u001b[0m         \u001b[1;32mif\u001b[0m \u001b[0mcheck_input\u001b[0m\u001b[1;33m:\u001b[0m\u001b[1;33m\u001b[0m\u001b[1;33m\u001b[0m\u001b[0m\n\u001b[1;32m--> 407\u001b[1;33m             X = self._validate_data(X, dtype=DTYPE, accept_sparse=\"csr\",\n\u001b[0m\u001b[0;32m    408\u001b[0m                                     reset=False)\n\u001b[0;32m    409\u001b[0m             if issparse(X) and (X.indices.dtype != np.intc or\n",
      "\u001b[1;32m~\\Desktop\\ML_Projects\\SampleProject\\env\\lib\\site-packages\\sklearn\\base.py\u001b[0m in \u001b[0;36m_validate_data\u001b[1;34m(self, X, y, reset, validate_separately, **check_params)\u001b[0m\n\u001b[0;32m    419\u001b[0m             \u001b[0mout\u001b[0m \u001b[1;33m=\u001b[0m \u001b[0mX\u001b[0m\u001b[1;33m\u001b[0m\u001b[1;33m\u001b[0m\u001b[0m\n\u001b[0;32m    420\u001b[0m         \u001b[1;32melif\u001b[0m \u001b[0misinstance\u001b[0m\u001b[1;33m(\u001b[0m\u001b[0my\u001b[0m\u001b[1;33m,\u001b[0m \u001b[0mstr\u001b[0m\u001b[1;33m)\u001b[0m \u001b[1;32mand\u001b[0m \u001b[0my\u001b[0m \u001b[1;33m==\u001b[0m \u001b[1;34m'no_validation'\u001b[0m\u001b[1;33m:\u001b[0m\u001b[1;33m\u001b[0m\u001b[1;33m\u001b[0m\u001b[0m\n\u001b[1;32m--> 421\u001b[1;33m             \u001b[0mX\u001b[0m \u001b[1;33m=\u001b[0m \u001b[0mcheck_array\u001b[0m\u001b[1;33m(\u001b[0m\u001b[0mX\u001b[0m\u001b[1;33m,\u001b[0m \u001b[1;33m**\u001b[0m\u001b[0mcheck_params\u001b[0m\u001b[1;33m)\u001b[0m\u001b[1;33m\u001b[0m\u001b[1;33m\u001b[0m\u001b[0m\n\u001b[0m\u001b[0;32m    422\u001b[0m             \u001b[0mout\u001b[0m \u001b[1;33m=\u001b[0m \u001b[0mX\u001b[0m\u001b[1;33m\u001b[0m\u001b[1;33m\u001b[0m\u001b[0m\n\u001b[0;32m    423\u001b[0m         \u001b[1;32melse\u001b[0m\u001b[1;33m:\u001b[0m\u001b[1;33m\u001b[0m\u001b[1;33m\u001b[0m\u001b[0m\n",
      "\u001b[1;32m~\\Desktop\\ML_Projects\\SampleProject\\env\\lib\\site-packages\\sklearn\\utils\\validation.py\u001b[0m in \u001b[0;36minner_f\u001b[1;34m(*args, **kwargs)\u001b[0m\n\u001b[0;32m     61\u001b[0m             \u001b[0mextra_args\u001b[0m \u001b[1;33m=\u001b[0m \u001b[0mlen\u001b[0m\u001b[1;33m(\u001b[0m\u001b[0margs\u001b[0m\u001b[1;33m)\u001b[0m \u001b[1;33m-\u001b[0m \u001b[0mlen\u001b[0m\u001b[1;33m(\u001b[0m\u001b[0mall_args\u001b[0m\u001b[1;33m)\u001b[0m\u001b[1;33m\u001b[0m\u001b[1;33m\u001b[0m\u001b[0m\n\u001b[0;32m     62\u001b[0m             \u001b[1;32mif\u001b[0m \u001b[0mextra_args\u001b[0m \u001b[1;33m<=\u001b[0m \u001b[1;36m0\u001b[0m\u001b[1;33m:\u001b[0m\u001b[1;33m\u001b[0m\u001b[1;33m\u001b[0m\u001b[0m\n\u001b[1;32m---> 63\u001b[1;33m                 \u001b[1;32mreturn\u001b[0m \u001b[0mf\u001b[0m\u001b[1;33m(\u001b[0m\u001b[1;33m*\u001b[0m\u001b[0margs\u001b[0m\u001b[1;33m,\u001b[0m \u001b[1;33m**\u001b[0m\u001b[0mkwargs\u001b[0m\u001b[1;33m)\u001b[0m\u001b[1;33m\u001b[0m\u001b[1;33m\u001b[0m\u001b[0m\n\u001b[0m\u001b[0;32m     64\u001b[0m \u001b[1;33m\u001b[0m\u001b[0m\n\u001b[0;32m     65\u001b[0m             \u001b[1;31m# extra_args > 0\u001b[0m\u001b[1;33m\u001b[0m\u001b[1;33m\u001b[0m\u001b[0m\n",
      "\u001b[1;32m~\\Desktop\\ML_Projects\\SampleProject\\env\\lib\\site-packages\\sklearn\\utils\\validation.py\u001b[0m in \u001b[0;36mcheck_array\u001b[1;34m(array, accept_sparse, accept_large_sparse, dtype, order, copy, force_all_finite, ensure_2d, allow_nd, ensure_min_samples, ensure_min_features, estimator)\u001b[0m\n\u001b[0;32m    692\u001b[0m             \u001b[1;31m# If input is 1D raise error\u001b[0m\u001b[1;33m\u001b[0m\u001b[1;33m\u001b[0m\u001b[0m\n\u001b[0;32m    693\u001b[0m             \u001b[1;32mif\u001b[0m \u001b[0marray\u001b[0m\u001b[1;33m.\u001b[0m\u001b[0mndim\u001b[0m \u001b[1;33m==\u001b[0m \u001b[1;36m1\u001b[0m\u001b[1;33m:\u001b[0m\u001b[1;33m\u001b[0m\u001b[1;33m\u001b[0m\u001b[0m\n\u001b[1;32m--> 694\u001b[1;33m                 raise ValueError(\n\u001b[0m\u001b[0;32m    695\u001b[0m                     \u001b[1;34m\"Expected 2D array, got 1D array instead:\\narray={}.\\n\"\u001b[0m\u001b[1;33m\u001b[0m\u001b[1;33m\u001b[0m\u001b[0m\n\u001b[0;32m    696\u001b[0m                     \u001b[1;34m\"Reshape your data either using array.reshape(-1, 1) if \"\u001b[0m\u001b[1;33m\u001b[0m\u001b[1;33m\u001b[0m\u001b[0m\n",
      "\u001b[1;31mValueError\u001b[0m: Expected 2D array, got 1D array instead:\narray=[0. 2. 3. 4.].\nReshape your data either using array.reshape(-1, 1) if your data has a single feature or array.reshape(1, -1) if it contains a single sample."
     ]
    }
   ],
   "source": [
    "# make a prediction\n",
    "y_label = clf.predict(np.array([0,2,3,4]))"
   ]
  },
  {
   "cell_type": "code",
   "execution_count": 9,
   "id": "e852afeb",
   "metadata": {},
   "outputs": [
    {
     "ename": "NotFittedError",
     "evalue": "This RandomForestClassifier instance is not fitted yet. Call 'fit' with appropriate arguments before using this estimator.",
     "output_type": "error",
     "traceback": [
      "\u001b[1;31m---------------------------------------------------------------------------\u001b[0m",
      "\u001b[1;31mNotFittedError\u001b[0m                            Traceback (most recent call last)",
      "\u001b[1;32m~\\AppData\\Local\\Temp/ipykernel_8140/3237139527.py\u001b[0m in \u001b[0;36m<module>\u001b[1;34m\u001b[0m\n\u001b[1;32m----> 1\u001b[1;33m \u001b[0my_preds\u001b[0m \u001b[1;33m=\u001b[0m \u001b[0mclf\u001b[0m\u001b[1;33m.\u001b[0m\u001b[0mpredict\u001b[0m\u001b[1;33m(\u001b[0m\u001b[0mX_test\u001b[0m\u001b[1;33m)\u001b[0m\u001b[1;33m\u001b[0m\u001b[1;33m\u001b[0m\u001b[0m\n\u001b[0m\u001b[0;32m      2\u001b[0m \u001b[0my_preds\u001b[0m\u001b[1;33m\u001b[0m\u001b[1;33m\u001b[0m\u001b[0m\n",
      "\u001b[1;32m~\\Desktop\\ML_Projects\\SampleProject\\env\\lib\\site-packages\\sklearn\\ensemble\\_forest.py\u001b[0m in \u001b[0;36mpredict\u001b[1;34m(self, X)\u001b[0m\n\u001b[0;32m    628\u001b[0m             \u001b[0mThe\u001b[0m \u001b[0mpredicted\u001b[0m \u001b[0mclasses\u001b[0m\u001b[1;33m.\u001b[0m\u001b[1;33m\u001b[0m\u001b[1;33m\u001b[0m\u001b[0m\n\u001b[0;32m    629\u001b[0m         \"\"\"\n\u001b[1;32m--> 630\u001b[1;33m         \u001b[0mproba\u001b[0m \u001b[1;33m=\u001b[0m \u001b[0mself\u001b[0m\u001b[1;33m.\u001b[0m\u001b[0mpredict_proba\u001b[0m\u001b[1;33m(\u001b[0m\u001b[0mX\u001b[0m\u001b[1;33m)\u001b[0m\u001b[1;33m\u001b[0m\u001b[1;33m\u001b[0m\u001b[0m\n\u001b[0m\u001b[0;32m    631\u001b[0m \u001b[1;33m\u001b[0m\u001b[0m\n\u001b[0;32m    632\u001b[0m         \u001b[1;32mif\u001b[0m \u001b[0mself\u001b[0m\u001b[1;33m.\u001b[0m\u001b[0mn_outputs_\u001b[0m \u001b[1;33m==\u001b[0m \u001b[1;36m1\u001b[0m\u001b[1;33m:\u001b[0m\u001b[1;33m\u001b[0m\u001b[1;33m\u001b[0m\u001b[0m\n",
      "\u001b[1;32m~\\Desktop\\ML_Projects\\SampleProject\\env\\lib\\site-packages\\sklearn\\ensemble\\_forest.py\u001b[0m in \u001b[0;36mpredict_proba\u001b[1;34m(self, X)\u001b[0m\n\u001b[0;32m    670\u001b[0m             \u001b[0mclasses\u001b[0m \u001b[0mcorresponds\u001b[0m \u001b[0mto\u001b[0m \u001b[0mthat\u001b[0m \u001b[1;32min\u001b[0m \u001b[0mthe\u001b[0m \u001b[0mattribute\u001b[0m \u001b[1;33m:\u001b[0m\u001b[0mterm\u001b[0m\u001b[1;33m:\u001b[0m\u001b[0;31m`\u001b[0m\u001b[0mclasses_\u001b[0m\u001b[0;31m`\u001b[0m\u001b[1;33m.\u001b[0m\u001b[1;33m\u001b[0m\u001b[1;33m\u001b[0m\u001b[0m\n\u001b[0;32m    671\u001b[0m         \"\"\"\n\u001b[1;32m--> 672\u001b[1;33m         \u001b[0mcheck_is_fitted\u001b[0m\u001b[1;33m(\u001b[0m\u001b[0mself\u001b[0m\u001b[1;33m)\u001b[0m\u001b[1;33m\u001b[0m\u001b[1;33m\u001b[0m\u001b[0m\n\u001b[0m\u001b[0;32m    673\u001b[0m         \u001b[1;31m# Check data\u001b[0m\u001b[1;33m\u001b[0m\u001b[1;33m\u001b[0m\u001b[0m\n\u001b[0;32m    674\u001b[0m         \u001b[0mX\u001b[0m \u001b[1;33m=\u001b[0m \u001b[0mself\u001b[0m\u001b[1;33m.\u001b[0m\u001b[0m_validate_X_predict\u001b[0m\u001b[1;33m(\u001b[0m\u001b[0mX\u001b[0m\u001b[1;33m)\u001b[0m\u001b[1;33m\u001b[0m\u001b[1;33m\u001b[0m\u001b[0m\n",
      "\u001b[1;32m~\\Desktop\\ML_Projects\\SampleProject\\env\\lib\\site-packages\\sklearn\\utils\\validation.py\u001b[0m in \u001b[0;36minner_f\u001b[1;34m(*args, **kwargs)\u001b[0m\n\u001b[0;32m     61\u001b[0m             \u001b[0mextra_args\u001b[0m \u001b[1;33m=\u001b[0m \u001b[0mlen\u001b[0m\u001b[1;33m(\u001b[0m\u001b[0margs\u001b[0m\u001b[1;33m)\u001b[0m \u001b[1;33m-\u001b[0m \u001b[0mlen\u001b[0m\u001b[1;33m(\u001b[0m\u001b[0mall_args\u001b[0m\u001b[1;33m)\u001b[0m\u001b[1;33m\u001b[0m\u001b[1;33m\u001b[0m\u001b[0m\n\u001b[0;32m     62\u001b[0m             \u001b[1;32mif\u001b[0m \u001b[0mextra_args\u001b[0m \u001b[1;33m<=\u001b[0m \u001b[1;36m0\u001b[0m\u001b[1;33m:\u001b[0m\u001b[1;33m\u001b[0m\u001b[1;33m\u001b[0m\u001b[0m\n\u001b[1;32m---> 63\u001b[1;33m                 \u001b[1;32mreturn\u001b[0m \u001b[0mf\u001b[0m\u001b[1;33m(\u001b[0m\u001b[1;33m*\u001b[0m\u001b[0margs\u001b[0m\u001b[1;33m,\u001b[0m \u001b[1;33m**\u001b[0m\u001b[0mkwargs\u001b[0m\u001b[1;33m)\u001b[0m\u001b[1;33m\u001b[0m\u001b[1;33m\u001b[0m\u001b[0m\n\u001b[0m\u001b[0;32m     64\u001b[0m \u001b[1;33m\u001b[0m\u001b[0m\n\u001b[0;32m     65\u001b[0m             \u001b[1;31m# extra_args > 0\u001b[0m\u001b[1;33m\u001b[0m\u001b[1;33m\u001b[0m\u001b[0m\n",
      "\u001b[1;32m~\\Desktop\\ML_Projects\\SampleProject\\env\\lib\\site-packages\\sklearn\\utils\\validation.py\u001b[0m in \u001b[0;36mcheck_is_fitted\u001b[1;34m(estimator, attributes, msg, all_or_any)\u001b[0m\n\u001b[0;32m   1096\u001b[0m \u001b[1;33m\u001b[0m\u001b[0m\n\u001b[0;32m   1097\u001b[0m     \u001b[1;32mif\u001b[0m \u001b[1;32mnot\u001b[0m \u001b[0mattrs\u001b[0m\u001b[1;33m:\u001b[0m\u001b[1;33m\u001b[0m\u001b[1;33m\u001b[0m\u001b[0m\n\u001b[1;32m-> 1098\u001b[1;33m         \u001b[1;32mraise\u001b[0m \u001b[0mNotFittedError\u001b[0m\u001b[1;33m(\u001b[0m\u001b[0mmsg\u001b[0m \u001b[1;33m%\u001b[0m \u001b[1;33m{\u001b[0m\u001b[1;34m'name'\u001b[0m\u001b[1;33m:\u001b[0m \u001b[0mtype\u001b[0m\u001b[1;33m(\u001b[0m\u001b[0mestimator\u001b[0m\u001b[1;33m)\u001b[0m\u001b[1;33m.\u001b[0m\u001b[0m__name__\u001b[0m\u001b[1;33m}\u001b[0m\u001b[1;33m)\u001b[0m\u001b[1;33m\u001b[0m\u001b[1;33m\u001b[0m\u001b[0m\n\u001b[0m\u001b[0;32m   1099\u001b[0m \u001b[1;33m\u001b[0m\u001b[0m\n\u001b[0;32m   1100\u001b[0m \u001b[1;33m\u001b[0m\u001b[0m\n",
      "\u001b[1;31mNotFittedError\u001b[0m: This RandomForestClassifier instance is not fitted yet. Call 'fit' with appropriate arguments before using this estimator."
     ]
    }
   ],
   "source": [
    "y_preds = clf.predict(X_test)\n",
    "y_preds"
   ]
  },
  {
   "cell_type": "code",
   "execution_count": 10,
   "id": "72b848b6",
   "metadata": {},
   "outputs": [
    {
     "ename": "NotFittedError",
     "evalue": "This RandomForestClassifier instance is not fitted yet. Call 'fit' with appropriate arguments before using this estimator.",
     "output_type": "error",
     "traceback": [
      "\u001b[1;31m---------------------------------------------------------------------------\u001b[0m",
      "\u001b[1;31mNotFittedError\u001b[0m                            Traceback (most recent call last)",
      "\u001b[1;32m~\\AppData\\Local\\Temp/ipykernel_8140/923471713.py\u001b[0m in \u001b[0;36m<module>\u001b[1;34m\u001b[0m\n\u001b[0;32m      1\u001b[0m \u001b[1;31m# 4. Evaluate the model on the training data and testing data\u001b[0m\u001b[1;33m\u001b[0m\u001b[1;33m\u001b[0m\u001b[0m\n\u001b[1;32m----> 2\u001b[1;33m \u001b[0mclf\u001b[0m\u001b[1;33m.\u001b[0m\u001b[0mscore\u001b[0m\u001b[1;33m(\u001b[0m\u001b[0mX_train\u001b[0m\u001b[1;33m,\u001b[0m \u001b[0my_train\u001b[0m\u001b[1;33m)\u001b[0m\u001b[1;33m\u001b[0m\u001b[1;33m\u001b[0m\u001b[0m\n\u001b[0m",
      "\u001b[1;32m~\\Desktop\\ML_Projects\\SampleProject\\env\\lib\\site-packages\\sklearn\\base.py\u001b[0m in \u001b[0;36mscore\u001b[1;34m(self, X, y, sample_weight)\u001b[0m\n\u001b[0;32m    498\u001b[0m         \"\"\"\n\u001b[0;32m    499\u001b[0m         \u001b[1;32mfrom\u001b[0m \u001b[1;33m.\u001b[0m\u001b[0mmetrics\u001b[0m \u001b[1;32mimport\u001b[0m \u001b[0maccuracy_score\u001b[0m\u001b[1;33m\u001b[0m\u001b[1;33m\u001b[0m\u001b[0m\n\u001b[1;32m--> 500\u001b[1;33m         \u001b[1;32mreturn\u001b[0m \u001b[0maccuracy_score\u001b[0m\u001b[1;33m(\u001b[0m\u001b[0my\u001b[0m\u001b[1;33m,\u001b[0m \u001b[0mself\u001b[0m\u001b[1;33m.\u001b[0m\u001b[0mpredict\u001b[0m\u001b[1;33m(\u001b[0m\u001b[0mX\u001b[0m\u001b[1;33m)\u001b[0m\u001b[1;33m,\u001b[0m \u001b[0msample_weight\u001b[0m\u001b[1;33m=\u001b[0m\u001b[0msample_weight\u001b[0m\u001b[1;33m)\u001b[0m\u001b[1;33m\u001b[0m\u001b[1;33m\u001b[0m\u001b[0m\n\u001b[0m\u001b[0;32m    501\u001b[0m \u001b[1;33m\u001b[0m\u001b[0m\n\u001b[0;32m    502\u001b[0m     \u001b[1;32mdef\u001b[0m \u001b[0m_more_tags\u001b[0m\u001b[1;33m(\u001b[0m\u001b[0mself\u001b[0m\u001b[1;33m)\u001b[0m\u001b[1;33m:\u001b[0m\u001b[1;33m\u001b[0m\u001b[1;33m\u001b[0m\u001b[0m\n",
      "\u001b[1;32m~\\Desktop\\ML_Projects\\SampleProject\\env\\lib\\site-packages\\sklearn\\ensemble\\_forest.py\u001b[0m in \u001b[0;36mpredict\u001b[1;34m(self, X)\u001b[0m\n\u001b[0;32m    628\u001b[0m             \u001b[0mThe\u001b[0m \u001b[0mpredicted\u001b[0m \u001b[0mclasses\u001b[0m\u001b[1;33m.\u001b[0m\u001b[1;33m\u001b[0m\u001b[1;33m\u001b[0m\u001b[0m\n\u001b[0;32m    629\u001b[0m         \"\"\"\n\u001b[1;32m--> 630\u001b[1;33m         \u001b[0mproba\u001b[0m \u001b[1;33m=\u001b[0m \u001b[0mself\u001b[0m\u001b[1;33m.\u001b[0m\u001b[0mpredict_proba\u001b[0m\u001b[1;33m(\u001b[0m\u001b[0mX\u001b[0m\u001b[1;33m)\u001b[0m\u001b[1;33m\u001b[0m\u001b[1;33m\u001b[0m\u001b[0m\n\u001b[0m\u001b[0;32m    631\u001b[0m \u001b[1;33m\u001b[0m\u001b[0m\n\u001b[0;32m    632\u001b[0m         \u001b[1;32mif\u001b[0m \u001b[0mself\u001b[0m\u001b[1;33m.\u001b[0m\u001b[0mn_outputs_\u001b[0m \u001b[1;33m==\u001b[0m \u001b[1;36m1\u001b[0m\u001b[1;33m:\u001b[0m\u001b[1;33m\u001b[0m\u001b[1;33m\u001b[0m\u001b[0m\n",
      "\u001b[1;32m~\\Desktop\\ML_Projects\\SampleProject\\env\\lib\\site-packages\\sklearn\\ensemble\\_forest.py\u001b[0m in \u001b[0;36mpredict_proba\u001b[1;34m(self, X)\u001b[0m\n\u001b[0;32m    670\u001b[0m             \u001b[0mclasses\u001b[0m \u001b[0mcorresponds\u001b[0m \u001b[0mto\u001b[0m \u001b[0mthat\u001b[0m \u001b[1;32min\u001b[0m \u001b[0mthe\u001b[0m \u001b[0mattribute\u001b[0m \u001b[1;33m:\u001b[0m\u001b[0mterm\u001b[0m\u001b[1;33m:\u001b[0m\u001b[0;31m`\u001b[0m\u001b[0mclasses_\u001b[0m\u001b[0;31m`\u001b[0m\u001b[1;33m.\u001b[0m\u001b[1;33m\u001b[0m\u001b[1;33m\u001b[0m\u001b[0m\n\u001b[0;32m    671\u001b[0m         \"\"\"\n\u001b[1;32m--> 672\u001b[1;33m         \u001b[0mcheck_is_fitted\u001b[0m\u001b[1;33m(\u001b[0m\u001b[0mself\u001b[0m\u001b[1;33m)\u001b[0m\u001b[1;33m\u001b[0m\u001b[1;33m\u001b[0m\u001b[0m\n\u001b[0m\u001b[0;32m    673\u001b[0m         \u001b[1;31m# Check data\u001b[0m\u001b[1;33m\u001b[0m\u001b[1;33m\u001b[0m\u001b[0m\n\u001b[0;32m    674\u001b[0m         \u001b[0mX\u001b[0m \u001b[1;33m=\u001b[0m \u001b[0mself\u001b[0m\u001b[1;33m.\u001b[0m\u001b[0m_validate_X_predict\u001b[0m\u001b[1;33m(\u001b[0m\u001b[0mX\u001b[0m\u001b[1;33m)\u001b[0m\u001b[1;33m\u001b[0m\u001b[1;33m\u001b[0m\u001b[0m\n",
      "\u001b[1;32m~\\Desktop\\ML_Projects\\SampleProject\\env\\lib\\site-packages\\sklearn\\utils\\validation.py\u001b[0m in \u001b[0;36minner_f\u001b[1;34m(*args, **kwargs)\u001b[0m\n\u001b[0;32m     61\u001b[0m             \u001b[0mextra_args\u001b[0m \u001b[1;33m=\u001b[0m \u001b[0mlen\u001b[0m\u001b[1;33m(\u001b[0m\u001b[0margs\u001b[0m\u001b[1;33m)\u001b[0m \u001b[1;33m-\u001b[0m \u001b[0mlen\u001b[0m\u001b[1;33m(\u001b[0m\u001b[0mall_args\u001b[0m\u001b[1;33m)\u001b[0m\u001b[1;33m\u001b[0m\u001b[1;33m\u001b[0m\u001b[0m\n\u001b[0;32m     62\u001b[0m             \u001b[1;32mif\u001b[0m \u001b[0mextra_args\u001b[0m \u001b[1;33m<=\u001b[0m \u001b[1;36m0\u001b[0m\u001b[1;33m:\u001b[0m\u001b[1;33m\u001b[0m\u001b[1;33m\u001b[0m\u001b[0m\n\u001b[1;32m---> 63\u001b[1;33m                 \u001b[1;32mreturn\u001b[0m \u001b[0mf\u001b[0m\u001b[1;33m(\u001b[0m\u001b[1;33m*\u001b[0m\u001b[0margs\u001b[0m\u001b[1;33m,\u001b[0m \u001b[1;33m**\u001b[0m\u001b[0mkwargs\u001b[0m\u001b[1;33m)\u001b[0m\u001b[1;33m\u001b[0m\u001b[1;33m\u001b[0m\u001b[0m\n\u001b[0m\u001b[0;32m     64\u001b[0m \u001b[1;33m\u001b[0m\u001b[0m\n\u001b[0;32m     65\u001b[0m             \u001b[1;31m# extra_args > 0\u001b[0m\u001b[1;33m\u001b[0m\u001b[1;33m\u001b[0m\u001b[0m\n",
      "\u001b[1;32m~\\Desktop\\ML_Projects\\SampleProject\\env\\lib\\site-packages\\sklearn\\utils\\validation.py\u001b[0m in \u001b[0;36mcheck_is_fitted\u001b[1;34m(estimator, attributes, msg, all_or_any)\u001b[0m\n\u001b[0;32m   1096\u001b[0m \u001b[1;33m\u001b[0m\u001b[0m\n\u001b[0;32m   1097\u001b[0m     \u001b[1;32mif\u001b[0m \u001b[1;32mnot\u001b[0m \u001b[0mattrs\u001b[0m\u001b[1;33m:\u001b[0m\u001b[1;33m\u001b[0m\u001b[1;33m\u001b[0m\u001b[0m\n\u001b[1;32m-> 1098\u001b[1;33m         \u001b[1;32mraise\u001b[0m \u001b[0mNotFittedError\u001b[0m\u001b[1;33m(\u001b[0m\u001b[0mmsg\u001b[0m \u001b[1;33m%\u001b[0m \u001b[1;33m{\u001b[0m\u001b[1;34m'name'\u001b[0m\u001b[1;33m:\u001b[0m \u001b[0mtype\u001b[0m\u001b[1;33m(\u001b[0m\u001b[0mestimator\u001b[0m\u001b[1;33m)\u001b[0m\u001b[1;33m.\u001b[0m\u001b[0m__name__\u001b[0m\u001b[1;33m}\u001b[0m\u001b[1;33m)\u001b[0m\u001b[1;33m\u001b[0m\u001b[1;33m\u001b[0m\u001b[0m\n\u001b[0m\u001b[0;32m   1099\u001b[0m \u001b[1;33m\u001b[0m\u001b[0m\n\u001b[0;32m   1100\u001b[0m \u001b[1;33m\u001b[0m\u001b[0m\n",
      "\u001b[1;31mNotFittedError\u001b[0m: This RandomForestClassifier instance is not fitted yet. Call 'fit' with appropriate arguments before using this estimator."
     ]
    }
   ],
   "source": [
    "# 4. Evaluate the model on the training data and testing data\n",
    "clf.score(X_train, y_train)\n"
   ]
  },
  {
   "cell_type": "code",
   "execution_count": 11,
   "id": "2d1fe3f3",
   "metadata": {},
   "outputs": [
    {
     "ename": "NotFittedError",
     "evalue": "This RandomForestClassifier instance is not fitted yet. Call 'fit' with appropriate arguments before using this estimator.",
     "output_type": "error",
     "traceback": [
      "\u001b[1;31m---------------------------------------------------------------------------\u001b[0m",
      "\u001b[1;31mNotFittedError\u001b[0m                            Traceback (most recent call last)",
      "\u001b[1;32m~\\AppData\\Local\\Temp/ipykernel_8140/1407869231.py\u001b[0m in \u001b[0;36m<module>\u001b[1;34m\u001b[0m\n\u001b[1;32m----> 1\u001b[1;33m \u001b[0mclf\u001b[0m\u001b[1;33m.\u001b[0m\u001b[0mscore\u001b[0m\u001b[1;33m(\u001b[0m\u001b[0mX_test\u001b[0m\u001b[1;33m,\u001b[0m \u001b[0my_test\u001b[0m\u001b[1;33m)\u001b[0m\u001b[1;33m\u001b[0m\u001b[1;33m\u001b[0m\u001b[0m\n\u001b[0m",
      "\u001b[1;32m~\\Desktop\\ML_Projects\\SampleProject\\env\\lib\\site-packages\\sklearn\\base.py\u001b[0m in \u001b[0;36mscore\u001b[1;34m(self, X, y, sample_weight)\u001b[0m\n\u001b[0;32m    498\u001b[0m         \"\"\"\n\u001b[0;32m    499\u001b[0m         \u001b[1;32mfrom\u001b[0m \u001b[1;33m.\u001b[0m\u001b[0mmetrics\u001b[0m \u001b[1;32mimport\u001b[0m \u001b[0maccuracy_score\u001b[0m\u001b[1;33m\u001b[0m\u001b[1;33m\u001b[0m\u001b[0m\n\u001b[1;32m--> 500\u001b[1;33m         \u001b[1;32mreturn\u001b[0m \u001b[0maccuracy_score\u001b[0m\u001b[1;33m(\u001b[0m\u001b[0my\u001b[0m\u001b[1;33m,\u001b[0m \u001b[0mself\u001b[0m\u001b[1;33m.\u001b[0m\u001b[0mpredict\u001b[0m\u001b[1;33m(\u001b[0m\u001b[0mX\u001b[0m\u001b[1;33m)\u001b[0m\u001b[1;33m,\u001b[0m \u001b[0msample_weight\u001b[0m\u001b[1;33m=\u001b[0m\u001b[0msample_weight\u001b[0m\u001b[1;33m)\u001b[0m\u001b[1;33m\u001b[0m\u001b[1;33m\u001b[0m\u001b[0m\n\u001b[0m\u001b[0;32m    501\u001b[0m \u001b[1;33m\u001b[0m\u001b[0m\n\u001b[0;32m    502\u001b[0m     \u001b[1;32mdef\u001b[0m \u001b[0m_more_tags\u001b[0m\u001b[1;33m(\u001b[0m\u001b[0mself\u001b[0m\u001b[1;33m)\u001b[0m\u001b[1;33m:\u001b[0m\u001b[1;33m\u001b[0m\u001b[1;33m\u001b[0m\u001b[0m\n",
      "\u001b[1;32m~\\Desktop\\ML_Projects\\SampleProject\\env\\lib\\site-packages\\sklearn\\ensemble\\_forest.py\u001b[0m in \u001b[0;36mpredict\u001b[1;34m(self, X)\u001b[0m\n\u001b[0;32m    628\u001b[0m             \u001b[0mThe\u001b[0m \u001b[0mpredicted\u001b[0m \u001b[0mclasses\u001b[0m\u001b[1;33m.\u001b[0m\u001b[1;33m\u001b[0m\u001b[1;33m\u001b[0m\u001b[0m\n\u001b[0;32m    629\u001b[0m         \"\"\"\n\u001b[1;32m--> 630\u001b[1;33m         \u001b[0mproba\u001b[0m \u001b[1;33m=\u001b[0m \u001b[0mself\u001b[0m\u001b[1;33m.\u001b[0m\u001b[0mpredict_proba\u001b[0m\u001b[1;33m(\u001b[0m\u001b[0mX\u001b[0m\u001b[1;33m)\u001b[0m\u001b[1;33m\u001b[0m\u001b[1;33m\u001b[0m\u001b[0m\n\u001b[0m\u001b[0;32m    631\u001b[0m \u001b[1;33m\u001b[0m\u001b[0m\n\u001b[0;32m    632\u001b[0m         \u001b[1;32mif\u001b[0m \u001b[0mself\u001b[0m\u001b[1;33m.\u001b[0m\u001b[0mn_outputs_\u001b[0m \u001b[1;33m==\u001b[0m \u001b[1;36m1\u001b[0m\u001b[1;33m:\u001b[0m\u001b[1;33m\u001b[0m\u001b[1;33m\u001b[0m\u001b[0m\n",
      "\u001b[1;32m~\\Desktop\\ML_Projects\\SampleProject\\env\\lib\\site-packages\\sklearn\\ensemble\\_forest.py\u001b[0m in \u001b[0;36mpredict_proba\u001b[1;34m(self, X)\u001b[0m\n\u001b[0;32m    670\u001b[0m             \u001b[0mclasses\u001b[0m \u001b[0mcorresponds\u001b[0m \u001b[0mto\u001b[0m \u001b[0mthat\u001b[0m \u001b[1;32min\u001b[0m \u001b[0mthe\u001b[0m \u001b[0mattribute\u001b[0m \u001b[1;33m:\u001b[0m\u001b[0mterm\u001b[0m\u001b[1;33m:\u001b[0m\u001b[0;31m`\u001b[0m\u001b[0mclasses_\u001b[0m\u001b[0;31m`\u001b[0m\u001b[1;33m.\u001b[0m\u001b[1;33m\u001b[0m\u001b[1;33m\u001b[0m\u001b[0m\n\u001b[0;32m    671\u001b[0m         \"\"\"\n\u001b[1;32m--> 672\u001b[1;33m         \u001b[0mcheck_is_fitted\u001b[0m\u001b[1;33m(\u001b[0m\u001b[0mself\u001b[0m\u001b[1;33m)\u001b[0m\u001b[1;33m\u001b[0m\u001b[1;33m\u001b[0m\u001b[0m\n\u001b[0m\u001b[0;32m    673\u001b[0m         \u001b[1;31m# Check data\u001b[0m\u001b[1;33m\u001b[0m\u001b[1;33m\u001b[0m\u001b[0m\n\u001b[0;32m    674\u001b[0m         \u001b[0mX\u001b[0m \u001b[1;33m=\u001b[0m \u001b[0mself\u001b[0m\u001b[1;33m.\u001b[0m\u001b[0m_validate_X_predict\u001b[0m\u001b[1;33m(\u001b[0m\u001b[0mX\u001b[0m\u001b[1;33m)\u001b[0m\u001b[1;33m\u001b[0m\u001b[1;33m\u001b[0m\u001b[0m\n",
      "\u001b[1;32m~\\Desktop\\ML_Projects\\SampleProject\\env\\lib\\site-packages\\sklearn\\utils\\validation.py\u001b[0m in \u001b[0;36minner_f\u001b[1;34m(*args, **kwargs)\u001b[0m\n\u001b[0;32m     61\u001b[0m             \u001b[0mextra_args\u001b[0m \u001b[1;33m=\u001b[0m \u001b[0mlen\u001b[0m\u001b[1;33m(\u001b[0m\u001b[0margs\u001b[0m\u001b[1;33m)\u001b[0m \u001b[1;33m-\u001b[0m \u001b[0mlen\u001b[0m\u001b[1;33m(\u001b[0m\u001b[0mall_args\u001b[0m\u001b[1;33m)\u001b[0m\u001b[1;33m\u001b[0m\u001b[1;33m\u001b[0m\u001b[0m\n\u001b[0;32m     62\u001b[0m             \u001b[1;32mif\u001b[0m \u001b[0mextra_args\u001b[0m \u001b[1;33m<=\u001b[0m \u001b[1;36m0\u001b[0m\u001b[1;33m:\u001b[0m\u001b[1;33m\u001b[0m\u001b[1;33m\u001b[0m\u001b[0m\n\u001b[1;32m---> 63\u001b[1;33m                 \u001b[1;32mreturn\u001b[0m \u001b[0mf\u001b[0m\u001b[1;33m(\u001b[0m\u001b[1;33m*\u001b[0m\u001b[0margs\u001b[0m\u001b[1;33m,\u001b[0m \u001b[1;33m**\u001b[0m\u001b[0mkwargs\u001b[0m\u001b[1;33m)\u001b[0m\u001b[1;33m\u001b[0m\u001b[1;33m\u001b[0m\u001b[0m\n\u001b[0m\u001b[0;32m     64\u001b[0m \u001b[1;33m\u001b[0m\u001b[0m\n\u001b[0;32m     65\u001b[0m             \u001b[1;31m# extra_args > 0\u001b[0m\u001b[1;33m\u001b[0m\u001b[1;33m\u001b[0m\u001b[0m\n",
      "\u001b[1;32m~\\Desktop\\ML_Projects\\SampleProject\\env\\lib\\site-packages\\sklearn\\utils\\validation.py\u001b[0m in \u001b[0;36mcheck_is_fitted\u001b[1;34m(estimator, attributes, msg, all_or_any)\u001b[0m\n\u001b[0;32m   1096\u001b[0m \u001b[1;33m\u001b[0m\u001b[0m\n\u001b[0;32m   1097\u001b[0m     \u001b[1;32mif\u001b[0m \u001b[1;32mnot\u001b[0m \u001b[0mattrs\u001b[0m\u001b[1;33m:\u001b[0m\u001b[1;33m\u001b[0m\u001b[1;33m\u001b[0m\u001b[0m\n\u001b[1;32m-> 1098\u001b[1;33m         \u001b[1;32mraise\u001b[0m \u001b[0mNotFittedError\u001b[0m\u001b[1;33m(\u001b[0m\u001b[0mmsg\u001b[0m \u001b[1;33m%\u001b[0m \u001b[1;33m{\u001b[0m\u001b[1;34m'name'\u001b[0m\u001b[1;33m:\u001b[0m \u001b[0mtype\u001b[0m\u001b[1;33m(\u001b[0m\u001b[0mestimator\u001b[0m\u001b[1;33m)\u001b[0m\u001b[1;33m.\u001b[0m\u001b[0m__name__\u001b[0m\u001b[1;33m}\u001b[0m\u001b[1;33m)\u001b[0m\u001b[1;33m\u001b[0m\u001b[1;33m\u001b[0m\u001b[0m\n\u001b[0m\u001b[0;32m   1099\u001b[0m \u001b[1;33m\u001b[0m\u001b[0m\n\u001b[0;32m   1100\u001b[0m \u001b[1;33m\u001b[0m\u001b[0m\n",
      "\u001b[1;31mNotFittedError\u001b[0m: This RandomForestClassifier instance is not fitted yet. Call 'fit' with appropriate arguments before using this estimator."
     ]
    }
   ],
   "source": [
    "clf.score(X_test, y_test)"
   ]
  },
  {
   "cell_type": "code",
   "execution_count": 12,
   "id": "25ec2f3d",
   "metadata": {},
   "outputs": [
    {
     "ename": "NameError",
     "evalue": "name 'y_preds' is not defined",
     "output_type": "error",
     "traceback": [
      "\u001b[1;31m---------------------------------------------------------------------------\u001b[0m",
      "\u001b[1;31mNameError\u001b[0m                                 Traceback (most recent call last)",
      "\u001b[1;32m~\\AppData\\Local\\Temp/ipykernel_8140/168868452.py\u001b[0m in \u001b[0;36m<module>\u001b[1;34m\u001b[0m\n\u001b[0;32m      1\u001b[0m \u001b[1;32mfrom\u001b[0m \u001b[0msklearn\u001b[0m\u001b[1;33m.\u001b[0m\u001b[0mmetrics\u001b[0m \u001b[1;32mimport\u001b[0m \u001b[0mclassification_report\u001b[0m\u001b[1;33m,\u001b[0m \u001b[0mconfusion_matrix\u001b[0m\u001b[1;33m,\u001b[0m \u001b[0maccuracy_score\u001b[0m\u001b[1;33m\u001b[0m\u001b[1;33m\u001b[0m\u001b[0m\n\u001b[0;32m      2\u001b[0m \u001b[1;33m\u001b[0m\u001b[0m\n\u001b[1;32m----> 3\u001b[1;33m \u001b[0mprint\u001b[0m\u001b[1;33m(\u001b[0m\u001b[0mclassification_report\u001b[0m\u001b[1;33m(\u001b[0m\u001b[0my_test\u001b[0m\u001b[1;33m,\u001b[0m \u001b[0my_preds\u001b[0m\u001b[1;33m)\u001b[0m\u001b[1;33m)\u001b[0m\u001b[1;33m\u001b[0m\u001b[1;33m\u001b[0m\u001b[0m\n\u001b[0m",
      "\u001b[1;31mNameError\u001b[0m: name 'y_preds' is not defined"
     ]
    }
   ],
   "source": [
    "from sklearn.metrics import classification_report, confusion_matrix, accuracy_score\n",
    "\n",
    "print(classification_report(y_test, y_preds))"
   ]
  },
  {
   "cell_type": "code",
   "execution_count": 13,
   "id": "5a6b9909",
   "metadata": {},
   "outputs": [
    {
     "ename": "NameError",
     "evalue": "name 'y_preds' is not defined",
     "output_type": "error",
     "traceback": [
      "\u001b[1;31m---------------------------------------------------------------------------\u001b[0m",
      "\u001b[1;31mNameError\u001b[0m                                 Traceback (most recent call last)",
      "\u001b[1;32m~\\AppData\\Local\\Temp/ipykernel_8140/1826355675.py\u001b[0m in \u001b[0;36m<module>\u001b[1;34m\u001b[0m\n\u001b[1;32m----> 1\u001b[1;33m \u001b[0mconfusion_matrix\u001b[0m\u001b[1;33m(\u001b[0m\u001b[0my_test\u001b[0m\u001b[1;33m,\u001b[0m \u001b[0my_preds\u001b[0m\u001b[1;33m)\u001b[0m\u001b[1;33m\u001b[0m\u001b[1;33m\u001b[0m\u001b[0m\n\u001b[0m",
      "\u001b[1;31mNameError\u001b[0m: name 'y_preds' is not defined"
     ]
    }
   ],
   "source": [
    "confusion_matrix(y_test, y_preds)"
   ]
  },
  {
   "cell_type": "code",
   "execution_count": 14,
   "id": "52563704",
   "metadata": {},
   "outputs": [
    {
     "ename": "NameError",
     "evalue": "name 'y_preds' is not defined",
     "output_type": "error",
     "traceback": [
      "\u001b[1;31m---------------------------------------------------------------------------\u001b[0m",
      "\u001b[1;31mNameError\u001b[0m                                 Traceback (most recent call last)",
      "\u001b[1;32m~\\AppData\\Local\\Temp/ipykernel_8140/664965469.py\u001b[0m in \u001b[0;36m<module>\u001b[1;34m\u001b[0m\n\u001b[1;32m----> 1\u001b[1;33m \u001b[0maccuracy_score\u001b[0m\u001b[1;33m(\u001b[0m\u001b[0my_test\u001b[0m\u001b[1;33m,\u001b[0m \u001b[0my_preds\u001b[0m\u001b[1;33m)\u001b[0m\u001b[1;33m\u001b[0m\u001b[1;33m\u001b[0m\u001b[0m\n\u001b[0m",
      "\u001b[1;31mNameError\u001b[0m: name 'y_preds' is not defined"
     ]
    }
   ],
   "source": [
    "accuracy_score(y_test, y_preds)"
   ]
  },
  {
   "cell_type": "code",
   "execution_count": 15,
   "id": "14a198a1",
   "metadata": {},
   "outputs": [
    {
     "name": "stdout",
     "output_type": "stream",
     "text": [
      "trying model with 10 estimators...\n",
      "Model accuracy on test set: 83.61%\n",
      "\n",
      "trying model with 20 estimators...\n",
      "Model accuracy on test set: 81.97%\n",
      "\n",
      "trying model with 30 estimators...\n",
      "Model accuracy on test set: 83.61%\n",
      "\n",
      "trying model with 40 estimators...\n",
      "Model accuracy on test set: 83.61%\n",
      "\n",
      "trying model with 50 estimators...\n",
      "Model accuracy on test set: 81.97%\n",
      "\n",
      "trying model with 60 estimators...\n",
      "Model accuracy on test set: 81.97%\n",
      "\n",
      "trying model with 70 estimators...\n",
      "Model accuracy on test set: 83.61%\n",
      "\n",
      "trying model with 80 estimators...\n",
      "Model accuracy on test set: 81.97%\n",
      "\n",
      "trying model with 90 estimators...\n",
      "Model accuracy on test set: 78.69%\n",
      "\n"
     ]
    }
   ],
   "source": [
    "# 5. Improve a model\n",
    "# Try different amount of n_estimators (one of hyperparemets a.k.a. dials on ML model)\n",
    "np.random.seed(42)\n",
    "\n",
    "for i in range(10, 100, 10):\n",
    "    print(f\"trying model with {i} estimators...\")\n",
    "    clf = RandomForestClassifier(n_estimators = i).fit(X_train, y_train)\n",
    "    print(f\"Model accuracy on test set: {clf.score(X_test, y_test) * 100:.2f}%\")\n",
    "    print(\"\")"
   ]
  },
  {
   "cell_type": "code",
   "execution_count": 16,
   "id": "395a0c66",
   "metadata": {},
   "outputs": [],
   "source": [
    "# 6. Save a model and load it\n",
    "import pickle \n",
    "\n",
    "pickle.dump(clf, open(\"random_forest_model_1.pkl\", \"wb\")) # write binary"
   ]
  },
  {
   "cell_type": "code",
   "execution_count": 17,
   "id": "494d3c00",
   "metadata": {},
   "outputs": [
    {
     "data": {
      "text/plain": [
       "0.7868852459016393"
      ]
     },
     "execution_count": 17,
     "metadata": {},
     "output_type": "execute_result"
    }
   ],
   "source": [
    "loaded_model = pickle.load(open(\"random_forest_model_1.pkl\", \"rb\")) # read binary\n",
    "loaded_model.score(X_test, y_test)"
   ]
  },
  {
   "cell_type": "markdown",
   "id": "008effab",
   "metadata": {},
   "source": [
    "## 1. Getting data ready to be used with ML\n",
    "\n",
    "Three main things to do:\n",
    "1. Split the data into feature and labels (usually 'X' and 'y')\n",
    "2. Filling (also called inputting) or disregarding missing value\n",
    "3. Converting non-numerical values to numerical values (a.k.a. feature encoding)"
   ]
  },
  {
   "cell_type": "code",
   "execution_count": 18,
   "id": "ce86611b",
   "metadata": {},
   "outputs": [
    {
     "data": {
      "text/html": [
       "<div>\n",
       "<style scoped>\n",
       "    .dataframe tbody tr th:only-of-type {\n",
       "        vertical-align: middle;\n",
       "    }\n",
       "\n",
       "    .dataframe tbody tr th {\n",
       "        vertical-align: top;\n",
       "    }\n",
       "\n",
       "    .dataframe thead th {\n",
       "        text-align: right;\n",
       "    }\n",
       "</style>\n",
       "<table border=\"1\" class=\"dataframe\">\n",
       "  <thead>\n",
       "    <tr style=\"text-align: right;\">\n",
       "      <th></th>\n",
       "      <th>age</th>\n",
       "      <th>sex</th>\n",
       "      <th>cp</th>\n",
       "      <th>trestbps</th>\n",
       "      <th>chol</th>\n",
       "      <th>fbs</th>\n",
       "      <th>restecg</th>\n",
       "      <th>thalach</th>\n",
       "      <th>exang</th>\n",
       "      <th>oldpeak</th>\n",
       "      <th>slope</th>\n",
       "      <th>ca</th>\n",
       "      <th>thal</th>\n",
       "      <th>target</th>\n",
       "    </tr>\n",
       "  </thead>\n",
       "  <tbody>\n",
       "    <tr>\n",
       "      <th>0</th>\n",
       "      <td>63</td>\n",
       "      <td>1</td>\n",
       "      <td>3</td>\n",
       "      <td>145</td>\n",
       "      <td>233</td>\n",
       "      <td>1</td>\n",
       "      <td>0</td>\n",
       "      <td>150</td>\n",
       "      <td>0</td>\n",
       "      <td>2.3</td>\n",
       "      <td>0</td>\n",
       "      <td>0</td>\n",
       "      <td>1</td>\n",
       "      <td>1</td>\n",
       "    </tr>\n",
       "    <tr>\n",
       "      <th>1</th>\n",
       "      <td>37</td>\n",
       "      <td>1</td>\n",
       "      <td>2</td>\n",
       "      <td>130</td>\n",
       "      <td>250</td>\n",
       "      <td>0</td>\n",
       "      <td>1</td>\n",
       "      <td>187</td>\n",
       "      <td>0</td>\n",
       "      <td>3.5</td>\n",
       "      <td>0</td>\n",
       "      <td>0</td>\n",
       "      <td>2</td>\n",
       "      <td>1</td>\n",
       "    </tr>\n",
       "    <tr>\n",
       "      <th>2</th>\n",
       "      <td>41</td>\n",
       "      <td>0</td>\n",
       "      <td>1</td>\n",
       "      <td>130</td>\n",
       "      <td>204</td>\n",
       "      <td>0</td>\n",
       "      <td>0</td>\n",
       "      <td>172</td>\n",
       "      <td>0</td>\n",
       "      <td>1.4</td>\n",
       "      <td>2</td>\n",
       "      <td>0</td>\n",
       "      <td>2</td>\n",
       "      <td>1</td>\n",
       "    </tr>\n",
       "    <tr>\n",
       "      <th>3</th>\n",
       "      <td>56</td>\n",
       "      <td>1</td>\n",
       "      <td>1</td>\n",
       "      <td>120</td>\n",
       "      <td>236</td>\n",
       "      <td>0</td>\n",
       "      <td>1</td>\n",
       "      <td>178</td>\n",
       "      <td>0</td>\n",
       "      <td>0.8</td>\n",
       "      <td>2</td>\n",
       "      <td>0</td>\n",
       "      <td>2</td>\n",
       "      <td>1</td>\n",
       "    </tr>\n",
       "    <tr>\n",
       "      <th>4</th>\n",
       "      <td>57</td>\n",
       "      <td>0</td>\n",
       "      <td>0</td>\n",
       "      <td>120</td>\n",
       "      <td>354</td>\n",
       "      <td>0</td>\n",
       "      <td>1</td>\n",
       "      <td>163</td>\n",
       "      <td>1</td>\n",
       "      <td>0.6</td>\n",
       "      <td>2</td>\n",
       "      <td>0</td>\n",
       "      <td>2</td>\n",
       "      <td>1</td>\n",
       "    </tr>\n",
       "  </tbody>\n",
       "</table>\n",
       "</div>"
      ],
      "text/plain": [
       "   age  sex  cp  trestbps  chol  fbs  restecg  thalach  exang  oldpeak  slope  \\\n",
       "0   63    1   3       145   233    1        0      150      0      2.3      0   \n",
       "1   37    1   2       130   250    0        1      187      0      3.5      0   \n",
       "2   41    0   1       130   204    0        0      172      0      1.4      2   \n",
       "3   56    1   1       120   236    0        1      178      0      0.8      2   \n",
       "4   57    0   0       120   354    0        1      163      1      0.6      2   \n",
       "\n",
       "   ca  thal  target  \n",
       "0   0     1       1  \n",
       "1   0     2       1  \n",
       "2   0     2       1  \n",
       "3   0     2       1  \n",
       "4   0     2       1  "
      ]
     },
     "execution_count": 18,
     "metadata": {},
     "output_type": "execute_result"
    }
   ],
   "source": [
    "heart_disease.head()"
   ]
  },
  {
   "cell_type": "code",
   "execution_count": 19,
   "id": "ceb8cfbb",
   "metadata": {},
   "outputs": [],
   "source": [
    "X = heart_disease.drop(\"target\", axis = 1)\n",
    "y = heart_disease[\"target\"]"
   ]
  },
  {
   "cell_type": "code",
   "execution_count": 20,
   "id": "2da39b4c",
   "metadata": {},
   "outputs": [],
   "source": [
    "# Splitting the data into the training and tests sets\n",
    "\n",
    "from sklearn.model_selection import train_test_split\n",
    "X_train, y_train, X_test, y_test = train_test_split(X, y, test_size = 0.2)"
   ]
  },
  {
   "cell_type": "code",
   "execution_count": 21,
   "id": "3b7d46f2",
   "metadata": {},
   "outputs": [
    {
     "data": {
      "text/plain": [
       "((242, 13), (242,), (61, 13), (61,))"
      ]
     },
     "execution_count": 21,
     "metadata": {},
     "output_type": "execute_result"
    }
   ],
   "source": [
    "X_train.shape, X_test.shape, y_train.shape, y_test.shape"
   ]
  },
  {
   "cell_type": "code",
   "execution_count": 22,
   "id": "e1898133",
   "metadata": {},
   "outputs": [
    {
     "data": {
      "text/plain": [
       "242.4"
      ]
     },
     "execution_count": 22,
     "metadata": {},
     "output_type": "execute_result"
    }
   ],
   "source": [
    "X.shape[0] * 0.8"
   ]
  },
  {
   "cell_type": "code",
   "execution_count": null,
   "id": "8fe7279c",
   "metadata": {},
   "outputs": [],
   "source": []
  },
  {
   "cell_type": "markdown",
   "id": "32c254f3",
   "metadata": {},
   "source": [
    "### 1.1 Make sure it's all numerical"
   ]
  },
  {
   "cell_type": "code",
   "execution_count": 23,
   "id": "5761042c",
   "metadata": {},
   "outputs": [
    {
     "data": {
      "text/html": [
       "<div>\n",
       "<style scoped>\n",
       "    .dataframe tbody tr th:only-of-type {\n",
       "        vertical-align: middle;\n",
       "    }\n",
       "\n",
       "    .dataframe tbody tr th {\n",
       "        vertical-align: top;\n",
       "    }\n",
       "\n",
       "    .dataframe thead th {\n",
       "        text-align: right;\n",
       "    }\n",
       "</style>\n",
       "<table border=\"1\" class=\"dataframe\">\n",
       "  <thead>\n",
       "    <tr style=\"text-align: right;\">\n",
       "      <th></th>\n",
       "      <th>Make</th>\n",
       "      <th>Colour</th>\n",
       "      <th>Odometer (KM)</th>\n",
       "      <th>Doors</th>\n",
       "      <th>Price</th>\n",
       "    </tr>\n",
       "  </thead>\n",
       "  <tbody>\n",
       "    <tr>\n",
       "      <th>0</th>\n",
       "      <td>Honda</td>\n",
       "      <td>White</td>\n",
       "      <td>35431</td>\n",
       "      <td>4</td>\n",
       "      <td>15323</td>\n",
       "    </tr>\n",
       "    <tr>\n",
       "      <th>1</th>\n",
       "      <td>BMW</td>\n",
       "      <td>Blue</td>\n",
       "      <td>192714</td>\n",
       "      <td>5</td>\n",
       "      <td>19943</td>\n",
       "    </tr>\n",
       "    <tr>\n",
       "      <th>2</th>\n",
       "      <td>Honda</td>\n",
       "      <td>White</td>\n",
       "      <td>84714</td>\n",
       "      <td>4</td>\n",
       "      <td>28343</td>\n",
       "    </tr>\n",
       "    <tr>\n",
       "      <th>3</th>\n",
       "      <td>Toyota</td>\n",
       "      <td>White</td>\n",
       "      <td>154365</td>\n",
       "      <td>4</td>\n",
       "      <td>13434</td>\n",
       "    </tr>\n",
       "    <tr>\n",
       "      <th>4</th>\n",
       "      <td>Nissan</td>\n",
       "      <td>Blue</td>\n",
       "      <td>181577</td>\n",
       "      <td>3</td>\n",
       "      <td>14043</td>\n",
       "    </tr>\n",
       "  </tbody>\n",
       "</table>\n",
       "</div>"
      ],
      "text/plain": [
       "     Make Colour  Odometer (KM)  Doors  Price\n",
       "0   Honda  White          35431      4  15323\n",
       "1     BMW   Blue         192714      5  19943\n",
       "2   Honda  White          84714      4  28343\n",
       "3  Toyota  White         154365      4  13434\n",
       "4  Nissan   Blue         181577      3  14043"
      ]
     },
     "execution_count": 23,
     "metadata": {},
     "output_type": "execute_result"
    }
   ],
   "source": [
    "car_sales = pd.read_csv(\"../data/car-sales-extended.csv\")\n",
    "car_sales.head()"
   ]
  },
  {
   "cell_type": "code",
   "execution_count": 24,
   "id": "752f9f81",
   "metadata": {},
   "outputs": [
    {
     "data": {
      "text/plain": [
       "1000"
      ]
     },
     "execution_count": 24,
     "metadata": {},
     "output_type": "execute_result"
    }
   ],
   "source": [
    "len(car_sales)"
   ]
  },
  {
   "cell_type": "code",
   "execution_count": 25,
   "id": "f94d83b0",
   "metadata": {},
   "outputs": [
    {
     "data": {
      "text/plain": [
       "Make             object\n",
       "Colour           object\n",
       "Odometer (KM)     int64\n",
       "Doors             int64\n",
       "Price             int64\n",
       "dtype: object"
      ]
     },
     "execution_count": 25,
     "metadata": {},
     "output_type": "execute_result"
    }
   ],
   "source": [
    "car_sales.dtypes"
   ]
  },
  {
   "cell_type": "code",
   "execution_count": 26,
   "id": "c759d1d1",
   "metadata": {},
   "outputs": [],
   "source": [
    "# Split into X/y\n",
    "X = car_sales.drop(\"Price\", axis=1)\n",
    "y = car_sales[\"Price\"]\n",
    "\n",
    "#Split into training and test\n",
    "from sklearn.model_selection import train_test_split\n",
    "\n",
    "X_train, y_train, X_test, y_test = train_test_split(X, y, test_size=0.2)"
   ]
  },
  {
   "cell_type": "code",
   "execution_count": 27,
   "id": "3d4dd8a7",
   "metadata": {},
   "outputs": [
    {
     "ename": "ValueError",
     "evalue": "could not convert string to float: 'Toyota'",
     "output_type": "error",
     "traceback": [
      "\u001b[1;31m---------------------------------------------------------------------------\u001b[0m",
      "\u001b[1;31mValueError\u001b[0m                                Traceback (most recent call last)",
      "\u001b[1;32m~\\AppData\\Local\\Temp/ipykernel_8140/1502187422.py\u001b[0m in \u001b[0;36m<module>\u001b[1;34m\u001b[0m\n\u001b[0;32m      3\u001b[0m \u001b[1;33m\u001b[0m\u001b[0m\n\u001b[0;32m      4\u001b[0m \u001b[0mmodel\u001b[0m \u001b[1;33m=\u001b[0m \u001b[0mRandomForestRegressor\u001b[0m\u001b[1;33m(\u001b[0m\u001b[1;33m)\u001b[0m\u001b[1;33m\u001b[0m\u001b[1;33m\u001b[0m\u001b[0m\n\u001b[1;32m----> 5\u001b[1;33m \u001b[0mmodel\u001b[0m\u001b[1;33m.\u001b[0m\u001b[0mfit\u001b[0m\u001b[1;33m(\u001b[0m\u001b[0mX_train\u001b[0m\u001b[1;33m,\u001b[0m \u001b[0my_train\u001b[0m\u001b[1;33m)\u001b[0m\u001b[1;33m\u001b[0m\u001b[1;33m\u001b[0m\u001b[0m\n\u001b[0m\u001b[0;32m      6\u001b[0m \u001b[0mmodel\u001b[0m\u001b[1;33m.\u001b[0m\u001b[0mscore\u001b[0m\u001b[1;33m(\u001b[0m\u001b[0mX_test\u001b[0m\u001b[1;33m,\u001b[0m \u001b[0my_test\u001b[0m\u001b[1;33m)\u001b[0m\u001b[1;33m\u001b[0m\u001b[1;33m\u001b[0m\u001b[0m\n",
      "\u001b[1;32m~\\Desktop\\ML_Projects\\SampleProject\\env\\lib\\site-packages\\sklearn\\ensemble\\_forest.py\u001b[0m in \u001b[0;36mfit\u001b[1;34m(self, X, y, sample_weight)\u001b[0m\n\u001b[0;32m    302\u001b[0m                 \u001b[1;34m\"sparse multilabel-indicator for y is not supported.\"\u001b[0m\u001b[1;33m\u001b[0m\u001b[1;33m\u001b[0m\u001b[0m\n\u001b[0;32m    303\u001b[0m             )\n\u001b[1;32m--> 304\u001b[1;33m         X, y = self._validate_data(X, y, multi_output=True,\n\u001b[0m\u001b[0;32m    305\u001b[0m                                    accept_sparse=\"csc\", dtype=DTYPE)\n\u001b[0;32m    306\u001b[0m         \u001b[1;32mif\u001b[0m \u001b[0msample_weight\u001b[0m \u001b[1;32mis\u001b[0m \u001b[1;32mnot\u001b[0m \u001b[1;32mNone\u001b[0m\u001b[1;33m:\u001b[0m\u001b[1;33m\u001b[0m\u001b[1;33m\u001b[0m\u001b[0m\n",
      "\u001b[1;32m~\\Desktop\\ML_Projects\\SampleProject\\env\\lib\\site-packages\\sklearn\\base.py\u001b[0m in \u001b[0;36m_validate_data\u001b[1;34m(self, X, y, reset, validate_separately, **check_params)\u001b[0m\n\u001b[0;32m    431\u001b[0m                 \u001b[0my\u001b[0m \u001b[1;33m=\u001b[0m \u001b[0mcheck_array\u001b[0m\u001b[1;33m(\u001b[0m\u001b[0my\u001b[0m\u001b[1;33m,\u001b[0m \u001b[1;33m**\u001b[0m\u001b[0mcheck_y_params\u001b[0m\u001b[1;33m)\u001b[0m\u001b[1;33m\u001b[0m\u001b[1;33m\u001b[0m\u001b[0m\n\u001b[0;32m    432\u001b[0m             \u001b[1;32melse\u001b[0m\u001b[1;33m:\u001b[0m\u001b[1;33m\u001b[0m\u001b[1;33m\u001b[0m\u001b[0m\n\u001b[1;32m--> 433\u001b[1;33m                 \u001b[0mX\u001b[0m\u001b[1;33m,\u001b[0m \u001b[0my\u001b[0m \u001b[1;33m=\u001b[0m \u001b[0mcheck_X_y\u001b[0m\u001b[1;33m(\u001b[0m\u001b[0mX\u001b[0m\u001b[1;33m,\u001b[0m \u001b[0my\u001b[0m\u001b[1;33m,\u001b[0m \u001b[1;33m**\u001b[0m\u001b[0mcheck_params\u001b[0m\u001b[1;33m)\u001b[0m\u001b[1;33m\u001b[0m\u001b[1;33m\u001b[0m\u001b[0m\n\u001b[0m\u001b[0;32m    434\u001b[0m             \u001b[0mout\u001b[0m \u001b[1;33m=\u001b[0m \u001b[0mX\u001b[0m\u001b[1;33m,\u001b[0m \u001b[0my\u001b[0m\u001b[1;33m\u001b[0m\u001b[1;33m\u001b[0m\u001b[0m\n\u001b[0;32m    435\u001b[0m \u001b[1;33m\u001b[0m\u001b[0m\n",
      "\u001b[1;32m~\\Desktop\\ML_Projects\\SampleProject\\env\\lib\\site-packages\\sklearn\\utils\\validation.py\u001b[0m in \u001b[0;36minner_f\u001b[1;34m(*args, **kwargs)\u001b[0m\n\u001b[0;32m     61\u001b[0m             \u001b[0mextra_args\u001b[0m \u001b[1;33m=\u001b[0m \u001b[0mlen\u001b[0m\u001b[1;33m(\u001b[0m\u001b[0margs\u001b[0m\u001b[1;33m)\u001b[0m \u001b[1;33m-\u001b[0m \u001b[0mlen\u001b[0m\u001b[1;33m(\u001b[0m\u001b[0mall_args\u001b[0m\u001b[1;33m)\u001b[0m\u001b[1;33m\u001b[0m\u001b[1;33m\u001b[0m\u001b[0m\n\u001b[0;32m     62\u001b[0m             \u001b[1;32mif\u001b[0m \u001b[0mextra_args\u001b[0m \u001b[1;33m<=\u001b[0m \u001b[1;36m0\u001b[0m\u001b[1;33m:\u001b[0m\u001b[1;33m\u001b[0m\u001b[1;33m\u001b[0m\u001b[0m\n\u001b[1;32m---> 63\u001b[1;33m                 \u001b[1;32mreturn\u001b[0m \u001b[0mf\u001b[0m\u001b[1;33m(\u001b[0m\u001b[1;33m*\u001b[0m\u001b[0margs\u001b[0m\u001b[1;33m,\u001b[0m \u001b[1;33m**\u001b[0m\u001b[0mkwargs\u001b[0m\u001b[1;33m)\u001b[0m\u001b[1;33m\u001b[0m\u001b[1;33m\u001b[0m\u001b[0m\n\u001b[0m\u001b[0;32m     64\u001b[0m \u001b[1;33m\u001b[0m\u001b[0m\n\u001b[0;32m     65\u001b[0m             \u001b[1;31m# extra_args > 0\u001b[0m\u001b[1;33m\u001b[0m\u001b[1;33m\u001b[0m\u001b[0m\n",
      "\u001b[1;32m~\\Desktop\\ML_Projects\\SampleProject\\env\\lib\\site-packages\\sklearn\\utils\\validation.py\u001b[0m in \u001b[0;36mcheck_X_y\u001b[1;34m(X, y, accept_sparse, accept_large_sparse, dtype, order, copy, force_all_finite, ensure_2d, allow_nd, multi_output, ensure_min_samples, ensure_min_features, y_numeric, estimator)\u001b[0m\n\u001b[0;32m    869\u001b[0m         \u001b[1;32mraise\u001b[0m \u001b[0mValueError\u001b[0m\u001b[1;33m(\u001b[0m\u001b[1;34m\"y cannot be None\"\u001b[0m\u001b[1;33m)\u001b[0m\u001b[1;33m\u001b[0m\u001b[1;33m\u001b[0m\u001b[0m\n\u001b[0;32m    870\u001b[0m \u001b[1;33m\u001b[0m\u001b[0m\n\u001b[1;32m--> 871\u001b[1;33m     X = check_array(X, accept_sparse=accept_sparse,\n\u001b[0m\u001b[0;32m    872\u001b[0m                     \u001b[0maccept_large_sparse\u001b[0m\u001b[1;33m=\u001b[0m\u001b[0maccept_large_sparse\u001b[0m\u001b[1;33m,\u001b[0m\u001b[1;33m\u001b[0m\u001b[1;33m\u001b[0m\u001b[0m\n\u001b[0;32m    873\u001b[0m                     \u001b[0mdtype\u001b[0m\u001b[1;33m=\u001b[0m\u001b[0mdtype\u001b[0m\u001b[1;33m,\u001b[0m \u001b[0morder\u001b[0m\u001b[1;33m=\u001b[0m\u001b[0morder\u001b[0m\u001b[1;33m,\u001b[0m \u001b[0mcopy\u001b[0m\u001b[1;33m=\u001b[0m\u001b[0mcopy\u001b[0m\u001b[1;33m,\u001b[0m\u001b[1;33m\u001b[0m\u001b[1;33m\u001b[0m\u001b[0m\n",
      "\u001b[1;32m~\\Desktop\\ML_Projects\\SampleProject\\env\\lib\\site-packages\\sklearn\\utils\\validation.py\u001b[0m in \u001b[0;36minner_f\u001b[1;34m(*args, **kwargs)\u001b[0m\n\u001b[0;32m     61\u001b[0m             \u001b[0mextra_args\u001b[0m \u001b[1;33m=\u001b[0m \u001b[0mlen\u001b[0m\u001b[1;33m(\u001b[0m\u001b[0margs\u001b[0m\u001b[1;33m)\u001b[0m \u001b[1;33m-\u001b[0m \u001b[0mlen\u001b[0m\u001b[1;33m(\u001b[0m\u001b[0mall_args\u001b[0m\u001b[1;33m)\u001b[0m\u001b[1;33m\u001b[0m\u001b[1;33m\u001b[0m\u001b[0m\n\u001b[0;32m     62\u001b[0m             \u001b[1;32mif\u001b[0m \u001b[0mextra_args\u001b[0m \u001b[1;33m<=\u001b[0m \u001b[1;36m0\u001b[0m\u001b[1;33m:\u001b[0m\u001b[1;33m\u001b[0m\u001b[1;33m\u001b[0m\u001b[0m\n\u001b[1;32m---> 63\u001b[1;33m                 \u001b[1;32mreturn\u001b[0m \u001b[0mf\u001b[0m\u001b[1;33m(\u001b[0m\u001b[1;33m*\u001b[0m\u001b[0margs\u001b[0m\u001b[1;33m,\u001b[0m \u001b[1;33m**\u001b[0m\u001b[0mkwargs\u001b[0m\u001b[1;33m)\u001b[0m\u001b[1;33m\u001b[0m\u001b[1;33m\u001b[0m\u001b[0m\n\u001b[0m\u001b[0;32m     64\u001b[0m \u001b[1;33m\u001b[0m\u001b[0m\n\u001b[0;32m     65\u001b[0m             \u001b[1;31m# extra_args > 0\u001b[0m\u001b[1;33m\u001b[0m\u001b[1;33m\u001b[0m\u001b[0m\n",
      "\u001b[1;32m~\\Desktop\\ML_Projects\\SampleProject\\env\\lib\\site-packages\\sklearn\\utils\\validation.py\u001b[0m in \u001b[0;36mcheck_array\u001b[1;34m(array, accept_sparse, accept_large_sparse, dtype, order, copy, force_all_finite, ensure_2d, allow_nd, ensure_min_samples, ensure_min_features, estimator)\u001b[0m\n\u001b[0;32m    671\u001b[0m                     \u001b[0marray\u001b[0m \u001b[1;33m=\u001b[0m \u001b[0marray\u001b[0m\u001b[1;33m.\u001b[0m\u001b[0mastype\u001b[0m\u001b[1;33m(\u001b[0m\u001b[0mdtype\u001b[0m\u001b[1;33m,\u001b[0m \u001b[0mcasting\u001b[0m\u001b[1;33m=\u001b[0m\u001b[1;34m\"unsafe\"\u001b[0m\u001b[1;33m,\u001b[0m \u001b[0mcopy\u001b[0m\u001b[1;33m=\u001b[0m\u001b[1;32mFalse\u001b[0m\u001b[1;33m)\u001b[0m\u001b[1;33m\u001b[0m\u001b[1;33m\u001b[0m\u001b[0m\n\u001b[0;32m    672\u001b[0m                 \u001b[1;32melse\u001b[0m\u001b[1;33m:\u001b[0m\u001b[1;33m\u001b[0m\u001b[1;33m\u001b[0m\u001b[0m\n\u001b[1;32m--> 673\u001b[1;33m                     \u001b[0marray\u001b[0m \u001b[1;33m=\u001b[0m \u001b[0mnp\u001b[0m\u001b[1;33m.\u001b[0m\u001b[0masarray\u001b[0m\u001b[1;33m(\u001b[0m\u001b[0marray\u001b[0m\u001b[1;33m,\u001b[0m \u001b[0morder\u001b[0m\u001b[1;33m=\u001b[0m\u001b[0morder\u001b[0m\u001b[1;33m,\u001b[0m \u001b[0mdtype\u001b[0m\u001b[1;33m=\u001b[0m\u001b[0mdtype\u001b[0m\u001b[1;33m)\u001b[0m\u001b[1;33m\u001b[0m\u001b[1;33m\u001b[0m\u001b[0m\n\u001b[0m\u001b[0;32m    674\u001b[0m             \u001b[1;32mexcept\u001b[0m \u001b[0mComplexWarning\u001b[0m \u001b[1;32mas\u001b[0m \u001b[0mcomplex_warning\u001b[0m\u001b[1;33m:\u001b[0m\u001b[1;33m\u001b[0m\u001b[1;33m\u001b[0m\u001b[0m\n\u001b[0;32m    675\u001b[0m                 raise ValueError(\"Complex data not supported\\n\"\n",
      "\u001b[1;32m~\\Desktop\\ML_Projects\\SampleProject\\env\\lib\\site-packages\\numpy\\core\\_asarray.py\u001b[0m in \u001b[0;36masarray\u001b[1;34m(a, dtype, order, like)\u001b[0m\n\u001b[0;32m    100\u001b[0m         \u001b[1;32mreturn\u001b[0m \u001b[0m_asarray_with_like\u001b[0m\u001b[1;33m(\u001b[0m\u001b[0ma\u001b[0m\u001b[1;33m,\u001b[0m \u001b[0mdtype\u001b[0m\u001b[1;33m=\u001b[0m\u001b[0mdtype\u001b[0m\u001b[1;33m,\u001b[0m \u001b[0morder\u001b[0m\u001b[1;33m=\u001b[0m\u001b[0morder\u001b[0m\u001b[1;33m,\u001b[0m \u001b[0mlike\u001b[0m\u001b[1;33m=\u001b[0m\u001b[0mlike\u001b[0m\u001b[1;33m)\u001b[0m\u001b[1;33m\u001b[0m\u001b[1;33m\u001b[0m\u001b[0m\n\u001b[0;32m    101\u001b[0m \u001b[1;33m\u001b[0m\u001b[0m\n\u001b[1;32m--> 102\u001b[1;33m     \u001b[1;32mreturn\u001b[0m \u001b[0marray\u001b[0m\u001b[1;33m(\u001b[0m\u001b[0ma\u001b[0m\u001b[1;33m,\u001b[0m \u001b[0mdtype\u001b[0m\u001b[1;33m,\u001b[0m \u001b[0mcopy\u001b[0m\u001b[1;33m=\u001b[0m\u001b[1;32mFalse\u001b[0m\u001b[1;33m,\u001b[0m \u001b[0morder\u001b[0m\u001b[1;33m=\u001b[0m\u001b[0morder\u001b[0m\u001b[1;33m)\u001b[0m\u001b[1;33m\u001b[0m\u001b[1;33m\u001b[0m\u001b[0m\n\u001b[0m\u001b[0;32m    103\u001b[0m \u001b[1;33m\u001b[0m\u001b[0m\n\u001b[0;32m    104\u001b[0m \u001b[1;33m\u001b[0m\u001b[0m\n",
      "\u001b[1;32m~\\Desktop\\ML_Projects\\SampleProject\\env\\lib\\site-packages\\pandas\\core\\generic.py\u001b[0m in \u001b[0;36m__array__\u001b[1;34m(self, dtype)\u001b[0m\n\u001b[0;32m   1991\u001b[0m \u001b[1;33m\u001b[0m\u001b[0m\n\u001b[0;32m   1992\u001b[0m     \u001b[1;32mdef\u001b[0m \u001b[0m__array__\u001b[0m\u001b[1;33m(\u001b[0m\u001b[0mself\u001b[0m\u001b[1;33m,\u001b[0m \u001b[0mdtype\u001b[0m\u001b[1;33m:\u001b[0m \u001b[0mNpDtype\u001b[0m \u001b[1;33m|\u001b[0m \u001b[1;32mNone\u001b[0m \u001b[1;33m=\u001b[0m \u001b[1;32mNone\u001b[0m\u001b[1;33m)\u001b[0m \u001b[1;33m->\u001b[0m \u001b[0mnp\u001b[0m\u001b[1;33m.\u001b[0m\u001b[0mndarray\u001b[0m\u001b[1;33m:\u001b[0m\u001b[1;33m\u001b[0m\u001b[1;33m\u001b[0m\u001b[0m\n\u001b[1;32m-> 1993\u001b[1;33m         \u001b[1;32mreturn\u001b[0m \u001b[0mnp\u001b[0m\u001b[1;33m.\u001b[0m\u001b[0masarray\u001b[0m\u001b[1;33m(\u001b[0m\u001b[0mself\u001b[0m\u001b[1;33m.\u001b[0m\u001b[0m_values\u001b[0m\u001b[1;33m,\u001b[0m \u001b[0mdtype\u001b[0m\u001b[1;33m=\u001b[0m\u001b[0mdtype\u001b[0m\u001b[1;33m)\u001b[0m\u001b[1;33m\u001b[0m\u001b[1;33m\u001b[0m\u001b[0m\n\u001b[0m\u001b[0;32m   1994\u001b[0m \u001b[1;33m\u001b[0m\u001b[0m\n\u001b[0;32m   1995\u001b[0m     def __array_wrap__(\n",
      "\u001b[1;32m~\\Desktop\\ML_Projects\\SampleProject\\env\\lib\\site-packages\\numpy\\core\\_asarray.py\u001b[0m in \u001b[0;36masarray\u001b[1;34m(a, dtype, order, like)\u001b[0m\n\u001b[0;32m    100\u001b[0m         \u001b[1;32mreturn\u001b[0m \u001b[0m_asarray_with_like\u001b[0m\u001b[1;33m(\u001b[0m\u001b[0ma\u001b[0m\u001b[1;33m,\u001b[0m \u001b[0mdtype\u001b[0m\u001b[1;33m=\u001b[0m\u001b[0mdtype\u001b[0m\u001b[1;33m,\u001b[0m \u001b[0morder\u001b[0m\u001b[1;33m=\u001b[0m\u001b[0morder\u001b[0m\u001b[1;33m,\u001b[0m \u001b[0mlike\u001b[0m\u001b[1;33m=\u001b[0m\u001b[0mlike\u001b[0m\u001b[1;33m)\u001b[0m\u001b[1;33m\u001b[0m\u001b[1;33m\u001b[0m\u001b[0m\n\u001b[0;32m    101\u001b[0m \u001b[1;33m\u001b[0m\u001b[0m\n\u001b[1;32m--> 102\u001b[1;33m     \u001b[1;32mreturn\u001b[0m \u001b[0marray\u001b[0m\u001b[1;33m(\u001b[0m\u001b[0ma\u001b[0m\u001b[1;33m,\u001b[0m \u001b[0mdtype\u001b[0m\u001b[1;33m,\u001b[0m \u001b[0mcopy\u001b[0m\u001b[1;33m=\u001b[0m\u001b[1;32mFalse\u001b[0m\u001b[1;33m,\u001b[0m \u001b[0morder\u001b[0m\u001b[1;33m=\u001b[0m\u001b[0morder\u001b[0m\u001b[1;33m)\u001b[0m\u001b[1;33m\u001b[0m\u001b[1;33m\u001b[0m\u001b[0m\n\u001b[0m\u001b[0;32m    103\u001b[0m \u001b[1;33m\u001b[0m\u001b[0m\n\u001b[0;32m    104\u001b[0m \u001b[1;33m\u001b[0m\u001b[0m\n",
      "\u001b[1;31mValueError\u001b[0m: could not convert string to float: 'Toyota'"
     ]
    }
   ],
   "source": [
    "# Build ML model\n",
    "from sklearn.ensemble import RandomForestRegressor\n",
    "\n",
    "model = RandomForestRegressor()\n",
    "model.fit(X_train, y_train)\n",
    "model.score(X_test, y_test)"
   ]
  },
  {
   "cell_type": "code",
   "execution_count": 28,
   "id": "87f1c18a",
   "metadata": {},
   "outputs": [
    {
     "data": {
      "text/html": [
       "<div>\n",
       "<style scoped>\n",
       "    .dataframe tbody tr th:only-of-type {\n",
       "        vertical-align: middle;\n",
       "    }\n",
       "\n",
       "    .dataframe tbody tr th {\n",
       "        vertical-align: top;\n",
       "    }\n",
       "\n",
       "    .dataframe thead th {\n",
       "        text-align: right;\n",
       "    }\n",
       "</style>\n",
       "<table border=\"1\" class=\"dataframe\">\n",
       "  <thead>\n",
       "    <tr style=\"text-align: right;\">\n",
       "      <th></th>\n",
       "      <th>Make</th>\n",
       "      <th>Colour</th>\n",
       "      <th>Odometer (KM)</th>\n",
       "      <th>Doors</th>\n",
       "    </tr>\n",
       "  </thead>\n",
       "  <tbody>\n",
       "    <tr>\n",
       "      <th>0</th>\n",
       "      <td>Honda</td>\n",
       "      <td>White</td>\n",
       "      <td>35431</td>\n",
       "      <td>4</td>\n",
<<<<<<< HEAD
=======
       "    </tr>\n",
       "    <tr>\n",
       "      <th>1</th>\n",
       "      <td>BMW</td>\n",
       "      <td>Blue</td>\n",
       "      <td>192714</td>\n",
       "      <td>5</td>\n",
       "    </tr>\n",
       "    <tr>\n",
       "      <th>2</th>\n",
       "      <td>Honda</td>\n",
       "      <td>White</td>\n",
       "      <td>84714</td>\n",
       "      <td>4</td>\n",
       "    </tr>\n",
       "    <tr>\n",
       "      <th>3</th>\n",
       "      <td>Toyota</td>\n",
       "      <td>White</td>\n",
       "      <td>154365</td>\n",
       "      <td>4</td>\n",
       "    </tr>\n",
       "    <tr>\n",
       "      <th>4</th>\n",
       "      <td>Nissan</td>\n",
       "      <td>Blue</td>\n",
       "      <td>181577</td>\n",
       "      <td>3</td>\n",
       "    </tr>\n",
       "  </tbody>\n",
       "</table>\n",
       "</div>"
      ],
      "text/plain": [
       "     Make Colour  Odometer (KM)  Doors\n",
       "0   Honda  White          35431      4\n",
       "1     BMW   Blue         192714      5\n",
       "2   Honda  White          84714      4\n",
       "3  Toyota  White         154365      4\n",
       "4  Nissan   Blue         181577      3"
      ]
     },
     "execution_count": 28,
     "metadata": {},
     "output_type": "execute_result"
    }
   ],
   "source": [
    "X.head()"
   ]
  },
  {
   "cell_type": "code",
   "execution_count": 29,
   "id": "63b7983d",
   "metadata": {},
   "outputs": [
    {
     "data": {
      "text/plain": [
       "array([[0.00000e+00, 1.00000e+00, 0.00000e+00, ..., 1.00000e+00,\n",
       "        0.00000e+00, 3.54310e+04],\n",
       "       [1.00000e+00, 0.00000e+00, 0.00000e+00, ..., 0.00000e+00,\n",
       "        1.00000e+00, 1.92714e+05],\n",
       "       [0.00000e+00, 1.00000e+00, 0.00000e+00, ..., 1.00000e+00,\n",
       "        0.00000e+00, 8.47140e+04],\n",
       "       ...,\n",
       "       [0.00000e+00, 0.00000e+00, 1.00000e+00, ..., 1.00000e+00,\n",
       "        0.00000e+00, 6.66040e+04],\n",
       "       [0.00000e+00, 1.00000e+00, 0.00000e+00, ..., 1.00000e+00,\n",
       "        0.00000e+00, 2.15883e+05],\n",
       "       [0.00000e+00, 0.00000e+00, 0.00000e+00, ..., 1.00000e+00,\n",
       "        0.00000e+00, 2.48360e+05]])"
      ]
     },
     "execution_count": 29,
     "metadata": {},
     "output_type": "execute_result"
    }
   ],
   "source": [
    "# Turn the categories into number\n",
    "from sklearn.preprocessing import OneHotEncoder\n",
    "from sklearn.compose import ColumnTransformer\n",
    "\n",
    "categorical_features = [\"Make\", \"Colour\", \"Doors\"] #Doors can be considered as categorical\n",
    "one_hot = OneHotEncoder()\n",
    "transformer = ColumnTransformer([(\"one_hot\",\n",
    "                                   one_hot,\n",
    "                                   categorical_features)],\n",
    "                                   remainder = \"passthrough\")\n",
    "# column transformer takes one-hot-encoder and apply it to categorical features and,for the remainder of the \n",
    "# columns that it finds, passes through (ignores them)\n",
    "\n",
    "transformed_X = transformer.fit_transform(X)\n",
    "transformed_X"
   ]
  },
  {
   "cell_type": "code",
   "execution_count": 30,
   "id": "df21cf70",
   "metadata": {},
   "outputs": [
    {
     "data": {
      "text/html": [
       "<div>\n",
       "<style scoped>\n",
       "    .dataframe tbody tr th:only-of-type {\n",
       "        vertical-align: middle;\n",
       "    }\n",
       "\n",
       "    .dataframe tbody tr th {\n",
       "        vertical-align: top;\n",
       "    }\n",
       "\n",
       "    .dataframe thead th {\n",
       "        text-align: right;\n",
       "    }\n",
       "</style>\n",
       "<table border=\"1\" class=\"dataframe\">\n",
       "  <thead>\n",
       "    <tr style=\"text-align: right;\">\n",
       "      <th></th>\n",
       "      <th>0</th>\n",
       "      <th>1</th>\n",
       "      <th>2</th>\n",
       "      <th>3</th>\n",
       "      <th>4</th>\n",
       "      <th>5</th>\n",
       "      <th>6</th>\n",
       "      <th>7</th>\n",
       "      <th>8</th>\n",
       "      <th>9</th>\n",
       "      <th>10</th>\n",
       "      <th>11</th>\n",
       "      <th>12</th>\n",
       "    </tr>\n",
       "  </thead>\n",
       "  <tbody>\n",
       "    <tr>\n",
       "      <th>0</th>\n",
       "      <td>0.0</td>\n",
       "      <td>1.0</td>\n",
       "      <td>0.0</td>\n",
       "      <td>0.0</td>\n",
       "      <td>0.0</td>\n",
       "      <td>0.0</td>\n",
       "      <td>0.0</td>\n",
       "      <td>0.0</td>\n",
       "      <td>1.0</td>\n",
       "      <td>0.0</td>\n",
       "      <td>1.0</td>\n",
       "      <td>0.0</td>\n",
       "      <td>35431.0</td>\n",
       "    </tr>\n",
       "    <tr>\n",
       "      <th>1</th>\n",
       "      <td>1.0</td>\n",
       "      <td>0.0</td>\n",
       "      <td>0.0</td>\n",
       "      <td>0.0</td>\n",
       "      <td>0.0</td>\n",
       "      <td>1.0</td>\n",
       "      <td>0.0</td>\n",
       "      <td>0.0</td>\n",
       "      <td>0.0</td>\n",
       "      <td>0.0</td>\n",
       "      <td>0.0</td>\n",
       "      <td>1.0</td>\n",
       "      <td>192714.0</td>\n",
       "    </tr>\n",
       "    <tr>\n",
       "      <th>2</th>\n",
       "      <td>0.0</td>\n",
       "      <td>1.0</td>\n",
       "      <td>0.0</td>\n",
       "      <td>0.0</td>\n",
       "      <td>0.0</td>\n",
       "      <td>0.0</td>\n",
       "      <td>0.0</td>\n",
       "      <td>0.0</td>\n",
       "      <td>1.0</td>\n",
       "      <td>0.0</td>\n",
       "      <td>1.0</td>\n",
       "      <td>0.0</td>\n",
       "      <td>84714.0</td>\n",
       "    </tr>\n",
       "    <tr>\n",
       "      <th>3</th>\n",
       "      <td>0.0</td>\n",
       "      <td>0.0</td>\n",
       "      <td>0.0</td>\n",
       "      <td>1.0</td>\n",
       "      <td>0.0</td>\n",
       "      <td>0.0</td>\n",
       "      <td>0.0</td>\n",
       "      <td>0.0</td>\n",
       "      <td>1.0</td>\n",
       "      <td>0.0</td>\n",
       "      <td>1.0</td>\n",
       "      <td>0.0</td>\n",
       "      <td>154365.0</td>\n",
       "    </tr>\n",
       "    <tr>\n",
       "      <th>4</th>\n",
       "      <td>0.0</td>\n",
       "      <td>0.0</td>\n",
       "      <td>1.0</td>\n",
       "      <td>0.0</td>\n",
       "      <td>0.0</td>\n",
       "      <td>1.0</td>\n",
       "      <td>0.0</td>\n",
       "      <td>0.0</td>\n",
       "      <td>0.0</td>\n",
       "      <td>1.0</td>\n",
       "      <td>0.0</td>\n",
       "      <td>0.0</td>\n",
       "      <td>181577.0</td>\n",
       "    </tr>\n",
       "  </tbody>\n",
       "</table>\n",
       "</div>"
      ],
      "text/plain": [
       "    0    1    2    3    4    5    6    7    8    9    10   11        12\n",
       "0  0.0  1.0  0.0  0.0  0.0  0.0  0.0  0.0  1.0  0.0  1.0  0.0   35431.0\n",
       "1  1.0  0.0  0.0  0.0  0.0  1.0  0.0  0.0  0.0  0.0  0.0  1.0  192714.0\n",
       "2  0.0  1.0  0.0  0.0  0.0  0.0  0.0  0.0  1.0  0.0  1.0  0.0   84714.0\n",
       "3  0.0  0.0  0.0  1.0  0.0  0.0  0.0  0.0  1.0  0.0  1.0  0.0  154365.0\n",
       "4  0.0  0.0  1.0  0.0  0.0  1.0  0.0  0.0  0.0  1.0  0.0  0.0  181577.0"
      ]
     },
     "execution_count": 30,
     "metadata": {},
     "output_type": "execute_result"
    }
   ],
   "source": [
    "pd.DataFrame(transformed_X).head() "
   ]
  },
  {
   "cell_type": "code",
   "execution_count": 31,
   "id": "84ada20c",
   "metadata": {},
   "outputs": [
    {
     "data": {
      "text/html": [
       "<div>\n",
       "<style scoped>\n",
       "    .dataframe tbody tr th:only-of-type {\n",
       "        vertical-align: middle;\n",
       "    }\n",
       "\n",
       "    .dataframe tbody tr th {\n",
       "        vertical-align: top;\n",
       "    }\n",
       "\n",
       "    .dataframe thead th {\n",
       "        text-align: right;\n",
       "    }\n",
       "</style>\n",
       "<table border=\"1\" class=\"dataframe\">\n",
       "  <thead>\n",
       "    <tr style=\"text-align: right;\">\n",
       "      <th></th>\n",
       "      <th>Doors</th>\n",
       "      <th>Make_BMW</th>\n",
       "      <th>Make_Honda</th>\n",
       "      <th>Make_Nissan</th>\n",
       "      <th>Make_Toyota</th>\n",
       "      <th>Colour_Black</th>\n",
       "      <th>Colour_Blue</th>\n",
       "      <th>Colour_Green</th>\n",
       "      <th>Colour_Red</th>\n",
       "      <th>Colour_White</th>\n",
       "    </tr>\n",
       "  </thead>\n",
       "  <tbody>\n",
       "    <tr>\n",
       "      <th>0</th>\n",
       "      <td>4</td>\n",
       "      <td>0</td>\n",
       "      <td>1</td>\n",
       "      <td>0</td>\n",
       "      <td>0</td>\n",
       "      <td>0</td>\n",
       "      <td>0</td>\n",
       "      <td>0</td>\n",
       "      <td>0</td>\n",
       "      <td>1</td>\n",
       "    </tr>\n",
       "    <tr>\n",
       "      <th>1</th>\n",
       "      <td>5</td>\n",
       "      <td>1</td>\n",
       "      <td>0</td>\n",
       "      <td>0</td>\n",
       "      <td>0</td>\n",
       "      <td>0</td>\n",
       "      <td>1</td>\n",
       "      <td>0</td>\n",
       "      <td>0</td>\n",
       "      <td>0</td>\n",
       "    </tr>\n",
       "    <tr>\n",
       "      <th>2</th>\n",
       "      <td>4</td>\n",
       "      <td>0</td>\n",
       "      <td>1</td>\n",
       "      <td>0</td>\n",
       "      <td>0</td>\n",
       "      <td>0</td>\n",
       "      <td>0</td>\n",
       "      <td>0</td>\n",
       "      <td>0</td>\n",
       "      <td>1</td>\n",
       "    </tr>\n",
       "    <tr>\n",
       "      <th>3</th>\n",
       "      <td>4</td>\n",
       "      <td>0</td>\n",
       "      <td>0</td>\n",
       "      <td>0</td>\n",
       "      <td>1</td>\n",
       "      <td>0</td>\n",
       "      <td>0</td>\n",
       "      <td>0</td>\n",
       "      <td>0</td>\n",
       "      <td>1</td>\n",
       "    </tr>\n",
       "    <tr>\n",
       "      <th>4</th>\n",
       "      <td>3</td>\n",
       "      <td>0</td>\n",
       "      <td>0</td>\n",
       "      <td>1</td>\n",
       "      <td>0</td>\n",
       "      <td>0</td>\n",
       "      <td>1</td>\n",
       "      <td>0</td>\n",
       "      <td>0</td>\n",
       "      <td>0</td>\n",
       "    </tr>\n",
       "  </tbody>\n",
       "</table>\n",
       "</div>"
      ],
      "text/plain": [
       "   Doors  Make_BMW  Make_Honda  Make_Nissan  Make_Toyota  Colour_Black  \\\n",
       "0      4         0           1            0            0             0   \n",
       "1      5         1           0            0            0             0   \n",
       "2      4         0           1            0            0             0   \n",
       "3      4         0           0            0            1             0   \n",
       "4      3         0           0            1            0             0   \n",
       "\n",
       "   Colour_Blue  Colour_Green  Colour_Red  Colour_White  \n",
       "0            0             0           0             1  \n",
       "1            1             0           0             0  \n",
       "2            0             0           0             1  \n",
       "3            0             0           0             1  \n",
       "4            1             0           0             0  "
      ]
     },
     "execution_count": 31,
     "metadata": {},
     "output_type": "execute_result"
    }
   ],
   "source": [
    "# alternative to one-hot-encoder: dummy variables\n",
    "dummies = pd.get_dummies(car_sales[[\"Make\", \"Colour\", \"Doors\"]])\n",
    "dummies.head()"
   ]
  },
  {
   "cell_type": "code",
   "execution_count": 32,
   "id": "d78b7505",
   "metadata": {},
   "outputs": [],
   "source": [
    "# Doors didn't convert to categorical, checking for myself:\n",
    "car_sales2 = car_sales.copy()\n",
    "car_sales2[\"Doors\"] = car_sales2[\"Doors\"].astype(str)"
   ]
  },
  {
   "cell_type": "code",
   "execution_count": 33,
   "id": "8b2a67fc",
   "metadata": {},
   "outputs": [
    {
     "data": {
      "text/plain": [
       "Make             object\n",
       "Colour           object\n",
       "Odometer (KM)     int64\n",
       "Doors            object\n",
       "Price             int64\n",
       "dtype: object"
      ]
     },
     "execution_count": 33,
     "metadata": {},
     "output_type": "execute_result"
    }
   ],
   "source": [
    "car_sales2.dtypes"
   ]
  },
  {
   "cell_type": "code",
   "execution_count": 34,
   "id": "68917d0a",
   "metadata": {},
   "outputs": [
    {
     "data": {
      "text/html": [
       "<div>\n",
       "<style scoped>\n",
       "    .dataframe tbody tr th:only-of-type {\n",
       "        vertical-align: middle;\n",
       "    }\n",
       "\n",
       "    .dataframe tbody tr th {\n",
       "        vertical-align: top;\n",
       "    }\n",
       "\n",
       "    .dataframe thead th {\n",
       "        text-align: right;\n",
       "    }\n",
       "</style>\n",
       "<table border=\"1\" class=\"dataframe\">\n",
       "  <thead>\n",
       "    <tr style=\"text-align: right;\">\n",
       "      <th></th>\n",
       "      <th>Make_BMW</th>\n",
       "      <th>Make_Honda</th>\n",
       "      <th>Make_Nissan</th>\n",
       "      <th>Make_Toyota</th>\n",
       "      <th>Colour_Black</th>\n",
       "      <th>Colour_Blue</th>\n",
       "      <th>Colour_Green</th>\n",
       "      <th>Colour_Red</th>\n",
       "      <th>Colour_White</th>\n",
       "      <th>Doors_3</th>\n",
       "      <th>Doors_4</th>\n",
       "      <th>Doors_5</th>\n",
       "    </tr>\n",
       "  </thead>\n",
       "  <tbody>\n",
       "    <tr>\n",
       "      <th>0</th>\n",
       "      <td>0</td>\n",
       "      <td>1</td>\n",
       "      <td>0</td>\n",
       "      <td>0</td>\n",
       "      <td>0</td>\n",
       "      <td>0</td>\n",
       "      <td>0</td>\n",
       "      <td>0</td>\n",
       "      <td>1</td>\n",
       "      <td>0</td>\n",
       "      <td>1</td>\n",
       "      <td>0</td>\n",
       "    </tr>\n",
       "    <tr>\n",
       "      <th>1</th>\n",
       "      <td>1</td>\n",
       "      <td>0</td>\n",
       "      <td>0</td>\n",
       "      <td>0</td>\n",
       "      <td>0</td>\n",
       "      <td>1</td>\n",
       "      <td>0</td>\n",
       "      <td>0</td>\n",
       "      <td>0</td>\n",
       "      <td>0</td>\n",
       "      <td>0</td>\n",
       "      <td>1</td>\n",
       "    </tr>\n",
       "    <tr>\n",
       "      <th>2</th>\n",
       "      <td>0</td>\n",
       "      <td>1</td>\n",
       "      <td>0</td>\n",
       "      <td>0</td>\n",
       "      <td>0</td>\n",
       "      <td>0</td>\n",
       "      <td>0</td>\n",
       "      <td>0</td>\n",
       "      <td>1</td>\n",
       "      <td>0</td>\n",
       "      <td>1</td>\n",
       "      <td>0</td>\n",
       "    </tr>\n",
       "    <tr>\n",
       "      <th>3</th>\n",
       "      <td>0</td>\n",
       "      <td>0</td>\n",
       "      <td>0</td>\n",
       "      <td>1</td>\n",
       "      <td>0</td>\n",
       "      <td>0</td>\n",
       "      <td>0</td>\n",
       "      <td>0</td>\n",
       "      <td>1</td>\n",
       "      <td>0</td>\n",
       "      <td>1</td>\n",
       "      <td>0</td>\n",
       "    </tr>\n",
       "    <tr>\n",
       "      <th>4</th>\n",
       "      <td>0</td>\n",
       "      <td>0</td>\n",
       "      <td>1</td>\n",
       "      <td>0</td>\n",
       "      <td>0</td>\n",
       "      <td>1</td>\n",
       "      <td>0</td>\n",
       "      <td>0</td>\n",
       "      <td>0</td>\n",
       "      <td>1</td>\n",
       "      <td>0</td>\n",
       "      <td>0</td>\n",
       "    </tr>\n",
       "  </tbody>\n",
       "</table>\n",
       "</div>"
      ],
      "text/plain": [
       "   Make_BMW  Make_Honda  Make_Nissan  Make_Toyota  Colour_Black  Colour_Blue  \\\n",
       "0         0           1            0            0             0            0   \n",
       "1         1           0            0            0             0            1   \n",
       "2         0           1            0            0             0            0   \n",
       "3         0           0            0            1             0            0   \n",
       "4         0           0            1            0             0            1   \n",
       "\n",
       "   Colour_Green  Colour_Red  Colour_White  Doors_3  Doors_4  Doors_5  \n",
       "0             0           0             1        0        1        0  \n",
       "1             0           0             0        0        0        1  \n",
       "2             0           0             1        0        1        0  \n",
       "3             0           0             1        0        1        0  \n",
       "4             0           0             0        1        0        0  "
      ]
     },
     "execution_count": 34,
     "metadata": {},
     "output_type": "execute_result"
    }
   ],
   "source": [
    "dummies2 = pd.get_dummies(car_sales2[[\"Make\",\"Colour\",\"Doors\"]])\n",
    "dummies2.head()"
   ]
  },
  {
   "cell_type": "code",
   "execution_count": 35,
   "id": "2a402c4c",
   "metadata": {},
   "outputs": [
    {
     "data": {
      "text/plain": [
       "RandomForestRegressor()"
      ]
     },
     "execution_count": 35,
     "metadata": {},
     "output_type": "execute_result"
    }
   ],
   "source": [
    "# Let's refit the model\n",
    "np.random.seed(42)\n",
    "X_train, X_test, y_train, y_test = train_test_split(transformed_X,\n",
    "                                                    y,\n",
    "                                                    test_size=0.2)\n",
    "model = RandomForestRegressor()\n",
    "model.fit(X_train, y_train)"
   ]
  },
  {
   "cell_type": "code",
   "execution_count": 36,
   "id": "0a9f3a95",
   "metadata": {},
   "outputs": [
    {
     "data": {
      "text/plain": [
       "(0.891612713353635, 0.3235867221569877)"
      ]
     },
     "execution_count": 36,
     "metadata": {},
     "output_type": "execute_result"
    }
   ],
   "source": [
    "model.score(X_train, y_train), model.score(X_test, y_test)"
   ]
  },
  {
   "cell_type": "markdown",
   "id": "9c034cd1",
   "metadata": {},
   "source": [
    "### 1.2 What if there were missing values?\n",
    "\n",
    "1. Fill them with some value (also known as imputation)\n",
    "2. Remove the samples with missing data altogether"
   ]
  },
  {
   "cell_type": "code",
   "execution_count": 37,
   "id": "8a213894",
   "metadata": {},
   "outputs": [
    {
     "data": {
      "text/html": [
       "<div>\n",
       "<style scoped>\n",
       "    .dataframe tbody tr th:only-of-type {\n",
       "        vertical-align: middle;\n",
       "    }\n",
       "\n",
       "    .dataframe tbody tr th {\n",
       "        vertical-align: top;\n",
       "    }\n",
       "\n",
       "    .dataframe thead th {\n",
       "        text-align: right;\n",
       "    }\n",
       "</style>\n",
       "<table border=\"1\" class=\"dataframe\">\n",
       "  <thead>\n",
       "    <tr style=\"text-align: right;\">\n",
       "      <th></th>\n",
       "      <th>Make</th>\n",
       "      <th>Colour</th>\n",
       "      <th>Odometer (KM)</th>\n",
       "      <th>Doors</th>\n",
       "      <th>Price</th>\n",
       "    </tr>\n",
       "  </thead>\n",
       "  <tbody>\n",
       "    <tr>\n",
       "      <th>0</th>\n",
       "      <td>Honda</td>\n",
       "      <td>White</td>\n",
       "      <td>35431.0</td>\n",
       "      <td>4.0</td>\n",
       "      <td>15323.0</td>\n",
>>>>>>> ad807a3c1d1a9c45834c5a258d98d6f96f102b20
       "    </tr>\n",
       "    <tr>\n",
       "      <th>1</th>\n",
       "      <td>BMW</td>\n",
       "      <td>Blue</td>\n",
       "      <td>192714</td>\n",
       "      <td>5</td>\n",
       "    </tr>\n",
       "    <tr>\n",
       "      <th>2</th>\n",
       "      <td>Honda</td>\n",
       "      <td>White</td>\n",
       "      <td>84714</td>\n",
       "      <td>4</td>\n",
       "    </tr>\n",
       "    <tr>\n",
       "      <th>3</th>\n",
       "      <td>Toyota</td>\n",
       "      <td>White</td>\n",
       "      <td>154365</td>\n",
       "      <td>4</td>\n",
       "    </tr>\n",
       "    <tr>\n",
       "      <th>4</th>\n",
       "      <td>Nissan</td>\n",
       "      <td>Blue</td>\n",
       "      <td>181577</td>\n",
       "      <td>3</td>\n",
       "    </tr>\n",
       "  </tbody>\n",
       "</table>\n",
       "</div>"
      ],
      "text/plain": [
<<<<<<< HEAD
       "     Make Colour  Odometer (KM)  Doors\n",
       "0   Honda  White          35431      4\n",
       "1     BMW   Blue         192714      5\n",
       "2   Honda  White          84714      4\n",
       "3  Toyota  White         154365      4\n",
       "4  Nissan   Blue         181577      3"
=======
       "     Make Colour  Odometer (KM)  Doors    Price\n",
       "0   Honda  White        35431.0    4.0  15323.0\n",
       "1     BMW   Blue       192714.0    5.0  19943.0\n",
       "2   Honda  White        84714.0    4.0  28343.0\n",
       "3  Toyota  White       154365.0    4.0  13434.0\n",
       "4  Nissan   Blue       181577.0    3.0  14043.0\n",
       "5   Honda    Red        42652.0    4.0  23883.0\n",
       "6  Toyota   Blue       163453.0    4.0   8473.0\n",
       "7   Honda  White            NaN    4.0  20306.0\n",
       "8     NaN  White       130538.0    4.0   9374.0\n",
       "9   Honda   Blue        51029.0    4.0  26683.0"
      ]
     },
     "execution_count": 37,
     "metadata": {},
     "output_type": "execute_result"
    }
   ],
   "source": [
    "car_sales_missing = pd.read_csv(\"../data/car-sales-extended-missing-data.csv\")\n",
    "car_sales_missing.head(10)"
   ]
  },
  {
   "cell_type": "code",
   "execution_count": 38,
   "id": "a26a0523",
   "metadata": {},
   "outputs": [
    {
     "data": {
      "text/plain": [
       "Make             49\n",
       "Colour           50\n",
       "Odometer (KM)    50\n",
       "Doors            50\n",
       "Price            50\n",
       "dtype: int64"
>>>>>>> ad807a3c1d1a9c45834c5a258d98d6f96f102b20
      ]
     },
     "execution_count": 38,
     "metadata": {},
     "output_type": "execute_result"
    }
   ],
   "source": [
    "X.head()"
   ]
  },
  {
   "cell_type": "code",
<<<<<<< HEAD
   "execution_count": 29,
   "id": "63b7983d",
=======
   "execution_count": 39,
   "id": "4f08afc6",
   "metadata": {},
   "outputs": [],
   "source": [
    "# if i want to use .get_dummies i have to change doors to categorical first but .astype(str) changes even NaNs to strings hence:\n",
    "car_sales_missing[\"Doors\"] = car_sales_missing[\"Doors\"].astype(\"category\")"
   ]
  },
  {
   "cell_type": "code",
   "execution_count": 40,
   "id": "f2880b58",
   "metadata": {},
   "outputs": [
    {
     "data": {
      "text/plain": [
       "Make_BMW        0\n",
       "Make_Honda      0\n",
       "Make_Nissan     0\n",
       "Make_Toyota     0\n",
       "Colour_Black    0\n",
       "Colour_Blue     0\n",
       "Colour_Green    0\n",
       "Colour_Red      0\n",
       "Colour_White    0\n",
       "Doors_3.0       0\n",
       "Doors_4.0       0\n",
       "Doors_5.0       0\n",
       "dtype: int64"
      ]
     },
     "execution_count": 40,
     "metadata": {},
     "output_type": "execute_result"
    }
   ],
   "source": [
    "car_sales_missing_dummy = pd.get_dummies(car_sales_missing[[\"Make\", \"Colour\", \"Doors\"]])\n",
    "car_sales_missing_dummy.isna().sum()\n",
    "# concerning -> get_dummies changes missing data into category (actually that's Dan's solution later on so idk)"
   ]
  },
  {
   "cell_type": "markdown",
   "id": "89f8469f",
   "metadata": {},
   "source": [
    "---"
   ]
  },
  {
   "cell_type": "markdown",
   "id": "095d9a7c",
   "metadata": {},
   "source": [
    "### Dealing with NaN erros\n",
    "#### 1. Fill missing data with Pandas"
   ]
  },
  {
   "cell_type": "code",
   "execution_count": 41,
   "id": "111000a4",
   "metadata": {},
   "outputs": [],
   "source": [
    "car_sales_missing[\"Make\"].fillna(\"missing\", inplace = True)\n",
    "car_sales_missing[\"Colour\"].fillna(\"missing\", inplace = True)\n",
    "car_sales_missing[\"Odometer (KM)\"].fillna(car_sales_missing[\"Odometer (KM)\"].mean(), inplace = True)\n",
    "car_sales_missing[\"Doors\"].fillna(4, inplace = True)"
   ]
  },
  {
   "cell_type": "code",
   "execution_count": 42,
   "id": "3b67dadc",
>>>>>>> ad807a3c1d1a9c45834c5a258d98d6f96f102b20
   "metadata": {},
   "outputs": [
    {
     "data": {
      "text/plain": [
       "array([[0.00000e+00, 1.00000e+00, 0.00000e+00, ..., 1.00000e+00,\n",
       "        0.00000e+00, 3.54310e+04],\n",
       "       [1.00000e+00, 0.00000e+00, 0.00000e+00, ..., 0.00000e+00,\n",
       "        1.00000e+00, 1.92714e+05],\n",
       "       [0.00000e+00, 1.00000e+00, 0.00000e+00, ..., 1.00000e+00,\n",
       "        0.00000e+00, 8.47140e+04],\n",
       "       ...,\n",
       "       [0.00000e+00, 0.00000e+00, 1.00000e+00, ..., 1.00000e+00,\n",
       "        0.00000e+00, 6.66040e+04],\n",
       "       [0.00000e+00, 1.00000e+00, 0.00000e+00, ..., 1.00000e+00,\n",
       "        0.00000e+00, 2.15883e+05],\n",
       "       [0.00000e+00, 0.00000e+00, 0.00000e+00, ..., 1.00000e+00,\n",
       "        0.00000e+00, 2.48360e+05]])"
      ]
     },
<<<<<<< HEAD
     "execution_count": 29,
=======
     "execution_count": 42,
>>>>>>> ad807a3c1d1a9c45834c5a258d98d6f96f102b20
     "metadata": {},
     "output_type": "execute_result"
    }
   ],
   "source": [
    "# Turn the categories into number\n",
    "from sklearn.preprocessing import OneHotEncoder\n",
    "from sklearn.compose import ColumnTransformer\n",
    "\n",
    "categorical_features = [\"Make\", \"Colour\", \"Doors\"] #Doors can be considered as categorical\n",
    "one_hot = OneHotEncoder()\n",
    "transformer = ColumnTransformer([(\"one_hot\",\n",
    "                                   one_hot,\n",
    "                                   categorical_features)],\n",
    "                                   remainder = \"passthrough\")\n",
    "# column transformer takes one-hot-encoder and apply it to categorical features and,for the remainder of the \n",
    "# columns that it finds, passes through (ignores them)\n",
    "\n",
    "transformed_X = transformer.fit_transform(X)\n",
    "transformed_X"
   ]
  },
  {
   "cell_type": "code",
<<<<<<< HEAD
   "execution_count": 30,
   "id": "df21cf70",
=======
   "execution_count": 43,
   "id": "28653dc1",
   "metadata": {},
   "outputs": [
    {
     "data": {
      "text/plain": [
       "Make             0\n",
       "Colour           0\n",
       "Odometer (KM)    0\n",
       "Doors            0\n",
       "Price            0\n",
       "dtype: int64"
      ]
     },
     "execution_count": 43,
     "metadata": {},
     "output_type": "execute_result"
    }
   ],
   "source": [
    "# remove rows with missing price value\n",
    "car_sales_missing.dropna(inplace=True)\n",
    "car_sales_missing.isna().sum()"
   ]
  },
  {
   "cell_type": "code",
   "execution_count": 44,
   "id": "c9c4f781",
   "metadata": {},
   "outputs": [],
   "source": [
    "X = car_sales_missing.drop(\"Price\", axis=1)\n",
    "y = car_sales_missing[\"Price\"]"
   ]
  },
  {
   "cell_type": "code",
   "execution_count": 45,
   "id": "fc6d6fd7",
>>>>>>> ad807a3c1d1a9c45834c5a258d98d6f96f102b20
   "metadata": {},
   "outputs": [
    {
     "data": {
      "text/html": [
       "<div>\n",
       "<style scoped>\n",
       "    .dataframe tbody tr th:only-of-type {\n",
       "        vertical-align: middle;\n",
       "    }\n",
       "\n",
       "    .dataframe tbody tr th {\n",
       "        vertical-align: top;\n",
       "    }\n",
       "\n",
       "    .dataframe thead th {\n",
       "        text-align: right;\n",
       "    }\n",
       "</style>\n",
       "<table border=\"1\" class=\"dataframe\">\n",
       "  <thead>\n",
       "    <tr style=\"text-align: right;\">\n",
       "      <th></th>\n",
       "      <th>0</th>\n",
       "      <th>1</th>\n",
       "      <th>2</th>\n",
       "      <th>3</th>\n",
       "      <th>4</th>\n",
       "      <th>5</th>\n",
       "      <th>6</th>\n",
       "      <th>7</th>\n",
       "      <th>8</th>\n",
       "      <th>9</th>\n",
       "      <th>10</th>\n",
       "      <th>11</th>\n",
       "      <th>12</th>\n",
       "    </tr>\n",
       "  </thead>\n",
       "  <tbody>\n",
       "    <tr>\n",
       "      <th>0</th>\n",
       "      <td>0.0</td>\n",
       "      <td>1.0</td>\n",
       "      <td>0.0</td>\n",
       "      <td>0.0</td>\n",
       "      <td>0.0</td>\n",
       "      <td>0.0</td>\n",
       "      <td>0.0</td>\n",
       "      <td>0.0</td>\n",
       "      <td>1.0</td>\n",
       "      <td>0.0</td>\n",
       "      <td>1.0</td>\n",
       "      <td>0.0</td>\n",
       "      <td>35431.0</td>\n",
       "    </tr>\n",
       "    <tr>\n",
       "      <th>1</th>\n",
       "      <td>1.0</td>\n",
       "      <td>0.0</td>\n",
       "      <td>0.0</td>\n",
       "      <td>0.0</td>\n",
       "      <td>0.0</td>\n",
       "      <td>1.0</td>\n",
       "      <td>0.0</td>\n",
       "      <td>0.0</td>\n",
       "      <td>0.0</td>\n",
       "      <td>0.0</td>\n",
       "      <td>0.0</td>\n",
       "      <td>1.0</td>\n",
       "      <td>192714.0</td>\n",
       "    </tr>\n",
       "    <tr>\n",
       "      <th>2</th>\n",
       "      <td>0.0</td>\n",
       "      <td>1.0</td>\n",
       "      <td>0.0</td>\n",
       "      <td>0.0</td>\n",
       "      <td>0.0</td>\n",
       "      <td>0.0</td>\n",
       "      <td>0.0</td>\n",
       "      <td>0.0</td>\n",
       "      <td>1.0</td>\n",
       "      <td>0.0</td>\n",
       "      <td>1.0</td>\n",
       "      <td>0.0</td>\n",
       "      <td>84714.0</td>\n",
       "    </tr>\n",
       "    <tr>\n",
       "      <th>3</th>\n",
       "      <td>0.0</td>\n",
       "      <td>0.0</td>\n",
       "      <td>0.0</td>\n",
       "      <td>1.0</td>\n",
       "      <td>0.0</td>\n",
       "      <td>0.0</td>\n",
       "      <td>0.0</td>\n",
       "      <td>0.0</td>\n",
       "      <td>1.0</td>\n",
       "      <td>0.0</td>\n",
       "      <td>1.0</td>\n",
       "      <td>0.0</td>\n",
       "      <td>154365.0</td>\n",
       "    </tr>\n",
       "    <tr>\n",
       "      <th>4</th>\n",
       "      <td>0.0</td>\n",
       "      <td>0.0</td>\n",
       "      <td>1.0</td>\n",
       "      <td>0.0</td>\n",
       "      <td>0.0</td>\n",
       "      <td>1.0</td>\n",
       "      <td>0.0</td>\n",
       "      <td>0.0</td>\n",
       "      <td>0.0</td>\n",
       "      <td>1.0</td>\n",
       "      <td>0.0</td>\n",
       "      <td>0.0</td>\n",
       "      <td>181577.0</td>\n",
       "    </tr>\n",
       "  </tbody>\n",
       "</table>\n",
       "</div>"
      ],
      "text/plain": [
       "    0    1    2    3    4    5    6    7    8    9    10   11        12\n",
       "0  0.0  1.0  0.0  0.0  0.0  0.0  0.0  0.0  1.0  0.0  1.0  0.0   35431.0\n",
       "1  1.0  0.0  0.0  0.0  0.0  1.0  0.0  0.0  0.0  0.0  0.0  1.0  192714.0\n",
       "2  0.0  1.0  0.0  0.0  0.0  0.0  0.0  0.0  1.0  0.0  1.0  0.0   84714.0\n",
       "3  0.0  0.0  0.0  1.0  0.0  0.0  0.0  0.0  1.0  0.0  1.0  0.0  154365.0\n",
       "4  0.0  0.0  1.0  0.0  0.0  1.0  0.0  0.0  0.0  1.0  0.0  0.0  181577.0"
      ]
     },
<<<<<<< HEAD
     "execution_count": 30,
=======
     "execution_count": 45,
>>>>>>> ad807a3c1d1a9c45834c5a258d98d6f96f102b20
     "metadata": {},
     "output_type": "execute_result"
    }
   ],
   "source": [
    "pd.DataFrame(transformed_X).head() "
   ]
  },
  {
   "cell_type": "code",
<<<<<<< HEAD
   "execution_count": 31,
   "id": "84ada20c",
=======
   "execution_count": 46,
   "id": "612ee9fc",
>>>>>>> ad807a3c1d1a9c45834c5a258d98d6f96f102b20
   "metadata": {},
   "outputs": [
    {
     "data": {
      "text/html": [
       "<div>\n",
       "<style scoped>\n",
       "    .dataframe tbody tr th:only-of-type {\n",
       "        vertical-align: middle;\n",
       "    }\n",
       "\n",
       "    .dataframe tbody tr th {\n",
       "        vertical-align: top;\n",
       "    }\n",
       "\n",
       "    .dataframe thead th {\n",
       "        text-align: right;\n",
       "    }\n",
       "</style>\n",
       "<table border=\"1\" class=\"dataframe\">\n",
       "  <thead>\n",
       "    <tr style=\"text-align: right;\">\n",
       "      <th></th>\n",
       "      <th>Doors</th>\n",
       "      <th>Make_BMW</th>\n",
       "      <th>Make_Honda</th>\n",
       "      <th>Make_Nissan</th>\n",
       "      <th>Make_Toyota</th>\n",
       "      <th>Colour_Black</th>\n",
       "      <th>Colour_Blue</th>\n",
       "      <th>Colour_Green</th>\n",
       "      <th>Colour_Red</th>\n",
       "      <th>Colour_White</th>\n",
       "    </tr>\n",
       "  </thead>\n",
       "  <tbody>\n",
       "    <tr>\n",
       "      <th>0</th>\n",
       "      <td>4</td>\n",
       "      <td>0</td>\n",
       "      <td>1</td>\n",
       "      <td>0</td>\n",
       "      <td>0</td>\n",
       "      <td>0</td>\n",
       "      <td>0</td>\n",
       "      <td>0</td>\n",
       "      <td>0</td>\n",
       "      <td>1</td>\n",
       "    </tr>\n",
       "    <tr>\n",
       "      <th>1</th>\n",
       "      <td>5</td>\n",
       "      <td>1</td>\n",
       "      <td>0</td>\n",
       "      <td>0</td>\n",
       "      <td>0</td>\n",
       "      <td>0</td>\n",
       "      <td>1</td>\n",
       "      <td>0</td>\n",
       "      <td>0</td>\n",
       "      <td>0</td>\n",
       "    </tr>\n",
       "    <tr>\n",
       "      <th>2</th>\n",
       "      <td>4</td>\n",
       "      <td>0</td>\n",
       "      <td>1</td>\n",
       "      <td>0</td>\n",
       "      <td>0</td>\n",
       "      <td>0</td>\n",
       "      <td>0</td>\n",
       "      <td>0</td>\n",
       "      <td>0</td>\n",
       "      <td>1</td>\n",
       "    </tr>\n",
       "    <tr>\n",
       "      <th>3</th>\n",
       "      <td>4</td>\n",
       "      <td>0</td>\n",
       "      <td>0</td>\n",
       "      <td>0</td>\n",
       "      <td>1</td>\n",
       "      <td>0</td>\n",
       "      <td>0</td>\n",
       "      <td>0</td>\n",
       "      <td>0</td>\n",
       "      <td>1</td>\n",
       "    </tr>\n",
       "    <tr>\n",
       "      <th>4</th>\n",
       "      <td>3</td>\n",
       "      <td>0</td>\n",
       "      <td>0</td>\n",
       "      <td>1</td>\n",
       "      <td>0</td>\n",
       "      <td>0</td>\n",
       "      <td>1</td>\n",
       "      <td>0</td>\n",
       "      <td>0</td>\n",
       "      <td>0</td>\n",
       "    </tr>\n",
       "  </tbody>\n",
       "</table>\n",
       "</div>"
      ],
      "text/plain": [
       "   Doors  Make_BMW  Make_Honda  Make_Nissan  Make_Toyota  Colour_Black  \\\n",
       "0      4         0           1            0            0             0   \n",
       "1      5         1           0            0            0             0   \n",
       "2      4         0           1            0            0             0   \n",
       "3      4         0           0            0            1             0   \n",
       "4      3         0           0            1            0             0   \n",
       "\n",
       "   Colour_Blue  Colour_Green  Colour_Red  Colour_White  \n",
       "0            0             0           0             1  \n",
       "1            1             0           0             0  \n",
       "2            0             0           0             1  \n",
       "3            0             0           0             1  \n",
       "4            1             0           0             0  "
      ]
     },
<<<<<<< HEAD
     "execution_count": 31,
=======
     "execution_count": 46,
>>>>>>> ad807a3c1d1a9c45834c5a258d98d6f96f102b20
     "metadata": {},
     "output_type": "execute_result"
    }
   ],
   "source": [
    "# alternative to one-hot-encoder: dummy variables\n",
    "dummies = pd.get_dummies(car_sales[[\"Make\", \"Colour\", \"Doors\"]])\n",
    "dummies.head()"
   ]
  },
  {
   "cell_type": "code",
<<<<<<< HEAD
   "execution_count": 32,
   "id": "d78b7505",
   "metadata": {},
   "outputs": [],
   "source": [
    "# Doors didn't convert to categorical, checking for myself:\n",
    "car_sales2 = car_sales.copy()\n",
    "car_sales2[\"Doors\"] = car_sales2[\"Doors\"].astype(str)"
   ]
  },
  {
   "cell_type": "code",
   "execution_count": 33,
   "id": "8b2a67fc",
=======
   "execution_count": 47,
   "id": "00d72e90",
>>>>>>> ad807a3c1d1a9c45834c5a258d98d6f96f102b20
   "metadata": {},
   "outputs": [
    {
     "data": {
      "text/plain": [
       "Make             object\n",
       "Colour           object\n",
       "Odometer (KM)     int64\n",
       "Doors            object\n",
       "Price             int64\n",
       "dtype: object"
      ]
     },
<<<<<<< HEAD
     "execution_count": 33,
=======
     "execution_count": 47,
>>>>>>> ad807a3c1d1a9c45834c5a258d98d6f96f102b20
     "metadata": {},
     "output_type": "execute_result"
    }
   ],
   "source": [
<<<<<<< HEAD
    "car_sales2.dtypes"
=======
    "car_sales_missing.isna().sum()"
   ]
  },
  {
   "cell_type": "code",
   "execution_count": 48,
   "id": "916e26bc",
   "metadata": {},
   "outputs": [],
   "source": [
    "# Drop the rows with no labels\n",
    "car_sales_missing.dropna(subset = [\"Price\"], inplace = True)"
>>>>>>> ad807a3c1d1a9c45834c5a258d98d6f96f102b20
   ]
  },
  {
   "cell_type": "code",
<<<<<<< HEAD
   "execution_count": 34,
   "id": "68917d0a",
=======
   "execution_count": 49,
   "id": "f5180296",
>>>>>>> ad807a3c1d1a9c45834c5a258d98d6f96f102b20
   "metadata": {},
   "outputs": [
    {
     "data": {
      "text/html": [
       "<div>\n",
       "<style scoped>\n",
       "    .dataframe tbody tr th:only-of-type {\n",
       "        vertical-align: middle;\n",
       "    }\n",
       "\n",
       "    .dataframe tbody tr th {\n",
       "        vertical-align: top;\n",
       "    }\n",
       "\n",
       "    .dataframe thead th {\n",
       "        text-align: right;\n",
       "    }\n",
       "</style>\n",
       "<table border=\"1\" class=\"dataframe\">\n",
       "  <thead>\n",
       "    <tr style=\"text-align: right;\">\n",
       "      <th></th>\n",
       "      <th>Make_BMW</th>\n",
       "      <th>Make_Honda</th>\n",
       "      <th>Make_Nissan</th>\n",
       "      <th>Make_Toyota</th>\n",
       "      <th>Colour_Black</th>\n",
       "      <th>Colour_Blue</th>\n",
       "      <th>Colour_Green</th>\n",
       "      <th>Colour_Red</th>\n",
       "      <th>Colour_White</th>\n",
       "      <th>Doors_3</th>\n",
       "      <th>Doors_4</th>\n",
       "      <th>Doors_5</th>\n",
       "    </tr>\n",
       "  </thead>\n",
       "  <tbody>\n",
       "    <tr>\n",
       "      <th>0</th>\n",
       "      <td>0</td>\n",
       "      <td>1</td>\n",
       "      <td>0</td>\n",
       "      <td>0</td>\n",
       "      <td>0</td>\n",
       "      <td>0</td>\n",
       "      <td>0</td>\n",
       "      <td>0</td>\n",
       "      <td>1</td>\n",
       "      <td>0</td>\n",
       "      <td>1</td>\n",
       "      <td>0</td>\n",
       "    </tr>\n",
       "    <tr>\n",
       "      <th>1</th>\n",
       "      <td>1</td>\n",
       "      <td>0</td>\n",
       "      <td>0</td>\n",
       "      <td>0</td>\n",
       "      <td>0</td>\n",
       "      <td>1</td>\n",
       "      <td>0</td>\n",
       "      <td>0</td>\n",
       "      <td>0</td>\n",
       "      <td>0</td>\n",
       "      <td>0</td>\n",
       "      <td>1</td>\n",
       "    </tr>\n",
       "    <tr>\n",
       "      <th>2</th>\n",
       "      <td>0</td>\n",
       "      <td>1</td>\n",
       "      <td>0</td>\n",
       "      <td>0</td>\n",
       "      <td>0</td>\n",
       "      <td>0</td>\n",
       "      <td>0</td>\n",
       "      <td>0</td>\n",
       "      <td>1</td>\n",
       "      <td>0</td>\n",
       "      <td>1</td>\n",
       "      <td>0</td>\n",
       "    </tr>\n",
       "    <tr>\n",
       "      <th>3</th>\n",
       "      <td>0</td>\n",
       "      <td>0</td>\n",
       "      <td>0</td>\n",
       "      <td>1</td>\n",
       "      <td>0</td>\n",
       "      <td>0</td>\n",
       "      <td>0</td>\n",
       "      <td>0</td>\n",
       "      <td>1</td>\n",
       "      <td>0</td>\n",
       "      <td>1</td>\n",
       "      <td>0</td>\n",
       "    </tr>\n",
       "    <tr>\n",
       "      <th>4</th>\n",
       "      <td>0</td>\n",
       "      <td>0</td>\n",
       "      <td>1</td>\n",
       "      <td>0</td>\n",
       "      <td>0</td>\n",
       "      <td>1</td>\n",
       "      <td>0</td>\n",
       "      <td>0</td>\n",
       "      <td>0</td>\n",
       "      <td>1</td>\n",
       "      <td>0</td>\n",
       "      <td>0</td>\n",
       "    </tr>\n",
       "  </tbody>\n",
       "</table>\n",
       "</div>"
      ],
      "text/plain": [
       "   Make_BMW  Make_Honda  Make_Nissan  Make_Toyota  Colour_Black  Colour_Blue  \\\n",
       "0         0           1            0            0             0            0   \n",
       "1         1           0            0            0             0            1   \n",
       "2         0           1            0            0             0            0   \n",
       "3         0           0            0            1             0            0   \n",
       "4         0           0            1            0             0            1   \n",
       "\n",
       "   Colour_Green  Colour_Red  Colour_White  Doors_3  Doors_4  Doors_5  \n",
       "0             0           0             1        0        1        0  \n",
       "1             0           0             0        0        0        1  \n",
       "2             0           0             1        0        1        0  \n",
       "3             0           0             1        0        1        0  \n",
       "4             0           0             0        1        0        0  "
      ]
     },
<<<<<<< HEAD
     "execution_count": 34,
=======
     "execution_count": 49,
>>>>>>> ad807a3c1d1a9c45834c5a258d98d6f96f102b20
     "metadata": {},
     "output_type": "execute_result"
    }
   ],
   "source": [
    "dummies2 = pd.get_dummies(car_sales2[[\"Make\",\"Colour\",\"Doors\"]])\n",
    "dummies2.head()"
   ]
  },
  {
   "cell_type": "code",
<<<<<<< HEAD
   "execution_count": 35,
   "id": "2a402c4c",
=======
   "execution_count": 50,
   "id": "5254769e",
>>>>>>> ad807a3c1d1a9c45834c5a258d98d6f96f102b20
   "metadata": {},
   "outputs": [
    {
     "data": {
      "text/plain": [
       "RandomForestRegressor()"
      ]
     },
     "execution_count": 35,
     "metadata": {},
     "output_type": "execute_result"
    }
   ],
   "source": [
    "# Let's refit the model\n",
    "np.random.seed(42)\n",
    "X_train, X_test, y_train, y_test = train_test_split(transformed_X,\n",
    "                                                    y,\n",
    "                                                    test_size=0.2)\n",
    "model = RandomForestRegressor()\n",
    "model.fit(X_train, y_train)"
   ]
  },
  {
   "cell_type": "code",
<<<<<<< HEAD
   "execution_count": 36,
   "id": "0a9f3a95",
=======
   "execution_count": 51,
   "id": "af7b1332",
>>>>>>> ad807a3c1d1a9c45834c5a258d98d6f96f102b20
   "metadata": {},
   "outputs": [
    {
     "data": {
      "text/plain": [
       "(0.891612713353635, 0.3235867221569877)"
      ]
     },
<<<<<<< HEAD
     "execution_count": 36,
=======
     "execution_count": 51,
>>>>>>> ad807a3c1d1a9c45834c5a258d98d6f96f102b20
     "metadata": {},
     "output_type": "execute_result"
    }
   ],
   "source": [
    "model.score(X_train, y_train), model.score(X_test, y_test)"
   ]
  },
  {
   "cell_type": "markdown",
   "id": "9c034cd1",
   "metadata": {},
   "source": [
    "### 1.2 What if there were missing values?\n",
    "\n",
    "1. Fill them with some value (also known as imputation)\n",
    "2. Remove the samples with missing data altogether"
   ]
  },
  {
   "cell_type": "code",
<<<<<<< HEAD
   "execution_count": 37,
   "id": "8a213894",
=======
   "execution_count": 52,
   "id": "9d9889b4",
>>>>>>> ad807a3c1d1a9c45834c5a258d98d6f96f102b20
   "metadata": {},
   "outputs": [
    {
     "data": {
      "text/html": [
       "<div>\n",
       "<style scoped>\n",
       "    .dataframe tbody tr th:only-of-type {\n",
       "        vertical-align: middle;\n",
       "    }\n",
       "\n",
       "    .dataframe tbody tr th {\n",
       "        vertical-align: top;\n",
       "    }\n",
       "\n",
       "    .dataframe thead th {\n",
       "        text-align: right;\n",
       "    }\n",
       "</style>\n",
       "<table border=\"1\" class=\"dataframe\">\n",
       "  <thead>\n",
       "    <tr style=\"text-align: right;\">\n",
       "      <th></th>\n",
       "      <th>Make</th>\n",
       "      <th>Colour</th>\n",
       "      <th>Odometer (KM)</th>\n",
       "      <th>Doors</th>\n",
       "      <th>Price</th>\n",
       "    </tr>\n",
       "  </thead>\n",
       "  <tbody>\n",
       "    <tr>\n",
       "      <th>0</th>\n",
       "      <td>Honda</td>\n",
       "      <td>White</td>\n",
       "      <td>35431.0</td>\n",
       "      <td>4.0</td>\n",
       "      <td>15323.0</td>\n",
       "    </tr>\n",
       "    <tr>\n",
       "      <th>1</th>\n",
       "      <td>BMW</td>\n",
       "      <td>Blue</td>\n",
       "      <td>192714.0</td>\n",
       "      <td>5.0</td>\n",
       "      <td>19943.0</td>\n",
       "    </tr>\n",
       "    <tr>\n",
       "      <th>2</th>\n",
       "      <td>Honda</td>\n",
       "      <td>White</td>\n",
       "      <td>84714.0</td>\n",
       "      <td>4.0</td>\n",
       "      <td>28343.0</td>\n",
       "    </tr>\n",
       "    <tr>\n",
       "      <th>3</th>\n",
       "      <td>Toyota</td>\n",
       "      <td>White</td>\n",
       "      <td>154365.0</td>\n",
       "      <td>4.0</td>\n",
       "      <td>13434.0</td>\n",
       "    </tr>\n",
       "    <tr>\n",
       "      <th>4</th>\n",
       "      <td>Nissan</td>\n",
       "      <td>Blue</td>\n",
       "      <td>181577.0</td>\n",
       "      <td>3.0</td>\n",
       "      <td>14043.0</td>\n",
       "    </tr>\n",
       "    <tr>\n",
       "      <th>5</th>\n",
       "      <td>Honda</td>\n",
       "      <td>Red</td>\n",
       "      <td>42652.0</td>\n",
       "      <td>4.0</td>\n",
       "      <td>23883.0</td>\n",
       "    </tr>\n",
       "    <tr>\n",
       "      <th>6</th>\n",
       "      <td>Toyota</td>\n",
       "      <td>Blue</td>\n",
       "      <td>163453.0</td>\n",
       "      <td>4.0</td>\n",
       "      <td>8473.0</td>\n",
       "    </tr>\n",
       "    <tr>\n",
       "      <th>7</th>\n",
       "      <td>Honda</td>\n",
       "      <td>White</td>\n",
       "      <td>NaN</td>\n",
       "      <td>4.0</td>\n",
       "      <td>20306.0</td>\n",
       "    </tr>\n",
       "    <tr>\n",
       "      <th>8</th>\n",
       "      <td>NaN</td>\n",
       "      <td>White</td>\n",
       "      <td>130538.0</td>\n",
       "      <td>4.0</td>\n",
       "      <td>9374.0</td>\n",
       "    </tr>\n",
       "    <tr>\n",
       "      <th>9</th>\n",
       "      <td>Honda</td>\n",
       "      <td>Blue</td>\n",
       "      <td>51029.0</td>\n",
       "      <td>4.0</td>\n",
       "      <td>26683.0</td>\n",
       "    </tr>\n",
       "  </tbody>\n",
       "</table>\n",
       "</div>"
      ],
      "text/plain": [
       "     Make Colour  Odometer (KM)  Doors    Price\n",
       "0   Honda  White        35431.0    4.0  15323.0\n",
       "1     BMW   Blue       192714.0    5.0  19943.0\n",
       "2   Honda  White        84714.0    4.0  28343.0\n",
       "3  Toyota  White       154365.0    4.0  13434.0\n",
       "4  Nissan   Blue       181577.0    3.0  14043.0\n",
       "5   Honda    Red        42652.0    4.0  23883.0\n",
       "6  Toyota   Blue       163453.0    4.0   8473.0\n",
       "7   Honda  White            NaN    4.0  20306.0\n",
       "8     NaN  White       130538.0    4.0   9374.0\n",
       "9   Honda   Blue        51029.0    4.0  26683.0"
      ]
     },
<<<<<<< HEAD
     "execution_count": 37,
=======
     "execution_count": 52,
>>>>>>> ad807a3c1d1a9c45834c5a258d98d6f96f102b20
     "metadata": {},
     "output_type": "execute_result"
    }
   ],
   "source": [
<<<<<<< HEAD
    "car_sales_missing = pd.read_csv(\"../data/car-sales-extended-missing-data.csv\")\n",
    "car_sales_missing.head(10)"
=======
    "X_train.head()"
   ]
  },
  {
   "cell_type": "code",
   "execution_count": 53,
   "id": "78cfbf52",
   "metadata": {},
   "outputs": [],
   "source": [
    "# fill missing values with scikit learn\n",
    "from sklearn.impute import SimpleImputer\n",
    "from sklearn.compose import ColumnTransformer\n",
    "\n",
    "# fill categorical values with 'missing' and numerical with mean\n",
    "cat_imputer = SimpleImputer(strategy=\"constant\", fill_value = \"missing\") # if value is constant we have to pass fill_value that will be used to fill empty values\n",
    "door_imputer = SimpleImputer(strategy = \"constant\", fill_value = 4) # constant because the filling value remains the same for all defined columns\n",
    "num_imputer = SimpleImputer(strategy = \"mean\")\n",
    "\n",
    "# Define columns\n",
    "cat_features  = [\"Make\", \"Colour\"]\n",
    "door_feature = [\"Doors\"]\n",
    "num_features = [\"Odometer (KM)\"]\n",
    "\n",
    "# Create an imputer (something that fills missing data)\n",
    "imputer = ColumnTransformer([\n",
    "    (\"cat_imputer\", cat_imputer, cat_features), # name of imputer, imputer to be used on the specified features\n",
    "    (\"door_imputer\", door_imputer, door_feature),\n",
    "    (\"num_imputer\", num_imputer, num_features)\n",
    "])\n",
    "\n",
    "# Transform the data\n",
    "filled_X_train = imputer.fit_transform(X_train)\n",
    "filled_X_test = imputer.transform(X_test)\n",
    "  "
>>>>>>> ad807a3c1d1a9c45834c5a258d98d6f96f102b20
   ]
  },
  {
   "cell_type": "code",
<<<<<<< HEAD
   "execution_count": 38,
   "id": "a26a0523",
=======
   "execution_count": 54,
   "id": "ef81c78f",
>>>>>>> ad807a3c1d1a9c45834c5a258d98d6f96f102b20
   "metadata": {},
   "outputs": [
    {
     "data": {
      "text/plain": [
       "Make             49\n",
       "Colour           50\n",
       "Odometer (KM)    50\n",
       "Doors            50\n",
       "Price            50\n",
       "dtype: int64"
      ]
     },
<<<<<<< HEAD
     "execution_count": 38,
=======
     "execution_count": 54,
>>>>>>> ad807a3c1d1a9c45834c5a258d98d6f96f102b20
     "metadata": {},
     "output_type": "execute_result"
    }
   ],
   "source": [
    "car_sales_missing.isna().sum()"
   ]
  },
  {
   "cell_type": "markdown",
   "id": "f0932192",
   "metadata": {},
   "source": [
    "## Stuff that i was checking, most-likely to be ignored"
   ]
  },
  {
   "cell_type": "code",
<<<<<<< HEAD
   "execution_count": 39,
   "id": "4f08afc6",
   "metadata": {},
   "outputs": [],
=======
   "execution_count": 55,
   "id": "4228a1b3",
   "metadata": {},
   "outputs": [
    {
     "data": {
      "text/plain": [
       "array([[0.00000e+00, 1.00000e+00, 0.00000e+00, ..., 1.00000e+00,\n",
       "        0.00000e+00, 7.19340e+04],\n",
       "       [0.00000e+00, 0.00000e+00, 0.00000e+00, ..., 1.00000e+00,\n",
       "        0.00000e+00, 1.62665e+05],\n",
       "       [0.00000e+00, 1.00000e+00, 0.00000e+00, ..., 1.00000e+00,\n",
       "        0.00000e+00, 4.28440e+04],\n",
       "       ...,\n",
       "       [0.00000e+00, 0.00000e+00, 0.00000e+00, ..., 1.00000e+00,\n",
       "        0.00000e+00, 1.96225e+05],\n",
       "       [0.00000e+00, 1.00000e+00, 0.00000e+00, ..., 1.00000e+00,\n",
       "        0.00000e+00, 1.33117e+05],\n",
       "       [0.00000e+00, 1.00000e+00, 0.00000e+00, ..., 1.00000e+00,\n",
       "        0.00000e+00, 1.50582e+05]])"
      ]
     },
     "execution_count": 55,
     "metadata": {},
     "output_type": "execute_result"
    }
   ],
>>>>>>> ad807a3c1d1a9c45834c5a258d98d6f96f102b20
   "source": [
    "# if i want to use .get_dummies i have to change doors to categorical first but .astype(str) changes even NaNs to strings hence:\n",
    "car_sales_missing[\"Doors\"] = car_sales_missing[\"Doors\"].astype(\"category\")"
   ]
  },
  {
   "cell_type": "code",
<<<<<<< HEAD
   "execution_count": 40,
   "id": "f2880b58",
=======
   "execution_count": 56,
   "id": "a8723e13",
>>>>>>> ad807a3c1d1a9c45834c5a258d98d6f96f102b20
   "metadata": {},
   "outputs": [
    {
     "data": {
      "text/plain": [
       "Make_BMW        0\n",
       "Make_Honda      0\n",
       "Make_Nissan     0\n",
       "Make_Toyota     0\n",
       "Colour_Black    0\n",
       "Colour_Blue     0\n",
       "Colour_Green    0\n",
       "Colour_Red      0\n",
       "Colour_White    0\n",
       "Doors_3.0       0\n",
       "Doors_4.0       0\n",
       "Doors_5.0       0\n",
       "dtype: int64"
      ]
     },
<<<<<<< HEAD
     "execution_count": 40,
=======
     "execution_count": 56,
>>>>>>> ad807a3c1d1a9c45834c5a258d98d6f96f102b20
     "metadata": {},
     "output_type": "execute_result"
    }
   ],
   "source": [
    "car_sales_missing_dummy = pd.get_dummies(car_sales_missing[[\"Make\", \"Colour\", \"Doors\"]])\n",
    "car_sales_missing_dummy.isna().sum()\n",
    "# concerning -> get_dummies changes missing data into category (actually that's Dan's solution later on so idk)"
   ]
  },
  {
   "cell_type": "markdown",
   "id": "89f8469f",
   "metadata": {},
   "source": [
    "---"
   ]
  },
  {
   "cell_type": "markdown",
   "id": "095d9a7c",
   "metadata": {},
   "source": [
    "### Dealing with NaN erros\n",
    "#### 1. Fill missing data with Pandas"
   ]
  },
  {
   "cell_type": "code",
<<<<<<< HEAD
   "execution_count": 41,
   "id": "111000a4",
=======
   "execution_count": 57,
   "id": "a1c89da9",
>>>>>>> ad807a3c1d1a9c45834c5a258d98d6f96f102b20
   "metadata": {},
   "outputs": [],
   "source": [
    "car_sales_missing[\"Make\"].fillna(\"missing\", inplace = True)\n",
    "car_sales_missing[\"Colour\"].fillna(\"missing\", inplace = True)\n",
    "car_sales_missing[\"Odometer (KM)\"].fillna(car_sales_missing[\"Odometer (KM)\"].mean(), inplace = True)\n",
    "car_sales_missing[\"Doors\"].fillna(4, inplace = True)"
   ]
  },
  {
   "cell_type": "code",
<<<<<<< HEAD
   "execution_count": 42,
   "id": "3b67dadc",
=======
   "execution_count": 58,
   "id": "5685dca2",
>>>>>>> ad807a3c1d1a9c45834c5a258d98d6f96f102b20
   "metadata": {},
   "outputs": [
    {
     "data": {
      "text/plain": [
       "Make              0\n",
       "Colour            0\n",
       "Odometer (KM)     0\n",
       "Doors             0\n",
       "Price            50\n",
       "dtype: int64"
      ]
     },
     "execution_count": 42,
     "metadata": {},
     "output_type": "execute_result"
    }
   ],
   "source": [
    "car_sales_missing.isna().sum()"
   ]
  },
  {
   "cell_type": "markdown",
   "id": "d17e780b",
   "metadata": {},
   "source": [
    "If the label is missing, the row probably might be just as well deleted"
   ]
  },
  {
   "cell_type": "code",
   "execution_count": 43,
   "id": "28653dc1",
   "metadata": {},
   "outputs": [
    {
     "data": {
      "text/plain": [
       "Make             0\n",
       "Colour           0\n",
       "Odometer (KM)    0\n",
       "Doors            0\n",
       "Price            0\n",
       "dtype: int64"
      ]
     },
     "execution_count": 43,
     "metadata": {},
     "output_type": "execute_result"
    }
   ],
   "source": [
    "# remove rows with missing price value\n",
    "car_sales_missing.dropna(inplace=True)\n",
    "car_sales_missing.isna().sum()"
   ]
  },
  {
   "cell_type": "code",
   "execution_count": 44,
   "id": "c9c4f781",
   "metadata": {},
   "outputs": [],
   "source": [
    "X = car_sales_missing.drop(\"Price\", axis=1)\n",
    "y = car_sales_missing[\"Price\"]"
   ]
  },
  {
   "cell_type": "code",
   "execution_count": 45,
   "id": "fc6d6fd7",
   "metadata": {},
   "outputs": [
    {
     "data": {
      "text/plain": [
       "<950x15 sparse matrix of type '<class 'numpy.float64'>'\n",
       "\twith 3800 stored elements in Compressed Sparse Row format>"
      ]
     },
     "execution_count": 45,
     "metadata": {},
     "output_type": "execute_result"
    }
   ],
   "source": [
    "# Turn the categories into number\n",
    "from sklearn.preprocessing import OneHotEncoder\n",
    "from sklearn.compose import ColumnTransformer\n",
    "\n",
    "categorical_features = [\"Make\", \"Colour\", \"Doors\"] #Doors can be considered as categorical\n",
    "one_hot = OneHotEncoder()\n",
    "transformer = ColumnTransformer([(\"one_hot\",\n",
    "                                   one_hot,\n",
    "                                   categorical_features)],\n",
    "                                   remainder = \"passthrough\")\n",
    "# column transformer takes one-hot-encoder and apply it to categorical features and,for the remainder of the \n",
    "# columns that it finds, passes through (ignores them)\n",
    "\n",
    "transformed_X = transformer.fit_transform(X)\n",
    "transformed_X"
   ]
  },
  {
   "cell_type": "markdown",
   "id": "808bb652",
   "metadata": {},
   "source": [
    "Worth to rembember that he removed NaNs because onehot couldn't work with NaNs in the past (no longer the case)"
   ]
  },
  {
   "cell_type": "markdown",
   "id": "7c4c7041",
   "metadata": {},
   "source": [
    "### 2. Fill missing values with Scikit-learn"
   ]
  },
  {
   "cell_type": "code",
   "execution_count": 46,
   "id": "612ee9fc",
   "metadata": {},
   "outputs": [
    {
     "data": {
      "text/html": [
       "<div>\n",
       "<style scoped>\n",
       "    .dataframe tbody tr th:only-of-type {\n",
       "        vertical-align: middle;\n",
       "    }\n",
       "\n",
       "    .dataframe tbody tr th {\n",
       "        vertical-align: top;\n",
       "    }\n",
       "\n",
       "    .dataframe thead th {\n",
       "        text-align: right;\n",
       "    }\n",
       "</style>\n",
       "<table border=\"1\" class=\"dataframe\">\n",
       "  <thead>\n",
       "    <tr style=\"text-align: right;\">\n",
       "      <th></th>\n",
       "      <th>Make</th>\n",
       "      <th>Colour</th>\n",
       "      <th>Odometer (KM)</th>\n",
       "      <th>Doors</th>\n",
       "      <th>Price</th>\n",
       "    </tr>\n",
       "  </thead>\n",
       "  <tbody>\n",
       "    <tr>\n",
       "      <th>0</th>\n",
       "      <td>Honda</td>\n",
       "      <td>White</td>\n",
       "      <td>35431.0</td>\n",
       "      <td>4.0</td>\n",
       "      <td>15323.0</td>\n",
       "    </tr>\n",
       "    <tr>\n",
       "      <th>1</th>\n",
       "      <td>BMW</td>\n",
       "      <td>Blue</td>\n",
       "      <td>192714.0</td>\n",
       "      <td>5.0</td>\n",
       "      <td>19943.0</td>\n",
       "    </tr>\n",
       "    <tr>\n",
       "      <th>2</th>\n",
       "      <td>Honda</td>\n",
       "      <td>White</td>\n",
       "      <td>84714.0</td>\n",
       "      <td>4.0</td>\n",
       "      <td>28343.0</td>\n",
       "    </tr>\n",
       "    <tr>\n",
       "      <th>3</th>\n",
       "      <td>Toyota</td>\n",
       "      <td>White</td>\n",
       "      <td>154365.0</td>\n",
       "      <td>4.0</td>\n",
       "      <td>13434.0</td>\n",
       "    </tr>\n",
       "    <tr>\n",
       "      <th>4</th>\n",
       "      <td>Nissan</td>\n",
       "      <td>Blue</td>\n",
       "      <td>181577.0</td>\n",
       "      <td>3.0</td>\n",
       "      <td>14043.0</td>\n",
       "    </tr>\n",
       "  </tbody>\n",
       "</table>\n",
       "</div>"
      ],
      "text/plain": [
       "     Make Colour  Odometer (KM)  Doors    Price\n",
       "0   Honda  White        35431.0    4.0  15323.0\n",
       "1     BMW   Blue       192714.0    5.0  19943.0\n",
       "2   Honda  White        84714.0    4.0  28343.0\n",
       "3  Toyota  White       154365.0    4.0  13434.0\n",
       "4  Nissan   Blue       181577.0    3.0  14043.0"
      ]
     },
<<<<<<< HEAD
     "execution_count": 46,
=======
     "execution_count": 58,
>>>>>>> ad807a3c1d1a9c45834c5a258d98d6f96f102b20
     "metadata": {},
     "output_type": "execute_result"
    }
   ],
   "source": [
    "car_sales_missing = pd.read_csv(\"../data/car-sales-extended-missing-data.csv\")\n",
    "car_sales_missing.head()"
   ]
  },
  {
   "cell_type": "code",
   "execution_count": 47,
   "id": "00d72e90",
   "metadata": {},
   "outputs": [
    {
     "data": {
      "text/plain": [
       "Make             49\n",
       "Colour           50\n",
       "Odometer (KM)    50\n",
       "Doors            50\n",
       "Price            50\n",
       "dtype: int64"
      ]
     },
     "execution_count": 47,
     "metadata": {},
     "output_type": "execute_result"
    }
   ],
   "source": [
    "car_sales_missing.isna().sum()"
   ]
  },
  {
   "cell_type": "code",
   "execution_count": 48,
   "id": "916e26bc",
   "metadata": {},
   "outputs": [],
   "source": [
    "# Drop the rows with no labels\n",
    "car_sales_missing.dropna(subset = [\"Price\"], inplace = True)"
   ]
  },
  {
   "cell_type": "code",
<<<<<<< HEAD
   "execution_count": 49,
   "id": "f5180296",
   "metadata": {},
   "outputs": [
    {
     "data": {
      "text/plain": [
       "Make             47\n",
       "Colour           46\n",
       "Odometer (KM)    48\n",
       "Doors            47\n",
       "Price             0\n",
       "dtype: int64"
      ]
     },
     "execution_count": 49,
     "metadata": {},
     "output_type": "execute_result"
    }
   ],
   "source": [
    "car_sales_missing.isna().sum()"
   ]
  },
  {
   "cell_type": "code",
   "execution_count": 50,
   "id": "5254769e",
   "metadata": {},
   "outputs": [],
   "source": [
    "# Split into X and y\n",
    "X = car_sales_missing.drop(axis = 1, labels =  \"Price\")\n",
    "y = car_sales_missing[\"Price\"]\n",
    "\n",
    "# Split data into train and data test\n",
    "from sklearn.model_selection import train_test_split\n",
    "np.random.seed(42)\n",
    "X_train, X_test, y_train, y_test = train_test_split(X,\n",
    "                                                     y,\n",
    "                                                     test_size = 0.2)"
   ]
  },
  {
   "cell_type": "code",
   "execution_count": 51,
   "id": "af7b1332",
   "metadata": {},
   "outputs": [
    {
     "data": {
      "text/plain": [
       "Make             35\n",
       "Colour           38\n",
       "Odometer (KM)    36\n",
       "Doors            38\n",
       "dtype: int64"
      ]
     },
     "execution_count": 51,
     "metadata": {},
     "output_type": "execute_result"
    }
   ],
   "source": [
    "X_train.isna().sum()"
   ]
  },
  {
   "cell_type": "code",
   "execution_count": 52,
   "id": "9d9889b4",
=======
   "execution_count": 59,
   "id": "cb7da341",
>>>>>>> ad807a3c1d1a9c45834c5a258d98d6f96f102b20
   "metadata": {},
   "outputs": [
    {
     "data": {
      "text/html": [
       "<div>\n",
       "<style scoped>\n",
       "    .dataframe tbody tr th:only-of-type {\n",
       "        vertical-align: middle;\n",
       "    }\n",
       "\n",
       "    .dataframe tbody tr th {\n",
       "        vertical-align: top;\n",
       "    }\n",
       "\n",
       "    .dataframe thead th {\n",
       "        text-align: right;\n",
       "    }\n",
       "</style>\n",
       "<table border=\"1\" class=\"dataframe\">\n",
       "  <thead>\n",
       "    <tr style=\"text-align: right;\">\n",
       "      <th></th>\n",
       "      <th>Make</th>\n",
       "      <th>Colour</th>\n",
       "      <th>Odometer (KM)</th>\n",
       "      <th>Doors</th>\n",
       "    </tr>\n",
       "  </thead>\n",
       "  <tbody>\n",
       "    <tr>\n",
       "      <th>986</th>\n",
       "      <td>Honda</td>\n",
       "      <td>White</td>\n",
       "      <td>71934.0</td>\n",
       "      <td>4.0</td>\n",
       "    </tr>\n",
       "    <tr>\n",
       "      <th>297</th>\n",
       "      <td>Toyota</td>\n",
       "      <td>Red</td>\n",
       "      <td>162665.0</td>\n",
       "      <td>4.0</td>\n",
       "    </tr>\n",
       "    <tr>\n",
       "      <th>566</th>\n",
       "      <td>Honda</td>\n",
       "      <td>White</td>\n",
       "      <td>42844.0</td>\n",
       "      <td>4.0</td>\n",
       "    </tr>\n",
       "    <tr>\n",
       "      <th>282</th>\n",
       "      <td>Honda</td>\n",
       "      <td>White</td>\n",
       "      <td>195829.0</td>\n",
       "      <td>4.0</td>\n",
       "    </tr>\n",
       "    <tr>\n",
       "      <th>109</th>\n",
       "      <td>Honda</td>\n",
       "      <td>Blue</td>\n",
       "      <td>219217.0</td>\n",
       "      <td>4.0</td>\n",
       "    </tr>\n",
       "  </tbody>\n",
       "</table>\n",
       "</div>"
      ],
      "text/plain": [
       "       Make Colour  Odometer (KM)  Doors\n",
       "986   Honda  White        71934.0    4.0\n",
       "297  Toyota    Red       162665.0    4.0\n",
       "566   Honda  White        42844.0    4.0\n",
       "282   Honda  White       195829.0    4.0\n",
       "109   Honda   Blue       219217.0    4.0"
      ]
     },
<<<<<<< HEAD
     "execution_count": 52,
=======
     "execution_count": 59,
>>>>>>> ad807a3c1d1a9c45834c5a258d98d6f96f102b20
     "metadata": {},
     "output_type": "execute_result"
    }
   ],
   "source": [
    "X_train.head()"
   ]
  },
  {
   "cell_type": "code",
<<<<<<< HEAD
   "execution_count": 53,
   "id": "78cfbf52",
   "metadata": {},
   "outputs": [],
=======
   "execution_count": 60,
   "id": "62105a00",
   "metadata": {},
   "outputs": [
    {
     "data": {
      "text/plain": [
       "506"
      ]
     },
     "execution_count": 60,
     "metadata": {},
     "output_type": "execute_result"
    }
   ],
>>>>>>> ad807a3c1d1a9c45834c5a258d98d6f96f102b20
   "source": [
    "# fill missing values with scikit learn\n",
    "from sklearn.impute import SimpleImputer\n",
    "from sklearn.compose import ColumnTransformer\n",
    "\n",
    "# fill categorical values with 'missing' and numerical with mean\n",
    "cat_imputer = SimpleImputer(strategy=\"constant\", fill_value = \"missing\") # if value is constant we have to pass fill_value that will be used to fill empty values\n",
    "door_imputer = SimpleImputer(strategy = \"constant\", fill_value = 4) # constant because the filling value remains the same for all defined columns\n",
    "num_imputer = SimpleImputer(strategy = \"mean\")\n",
    "\n",
    "# Define columns\n",
    "cat_features  = [\"Make\", \"Colour\"]\n",
    "door_feature = [\"Doors\"]\n",
    "num_features = [\"Odometer (KM)\"]\n",
    "\n",
    "# Create an imputer (something that fills missing data)\n",
    "imputer = ColumnTransformer([\n",
    "    (\"cat_imputer\", cat_imputer, cat_features), # name of imputer, imputer to be used on the specified features\n",
    "    (\"door_imputer\", door_imputer, door_feature),\n",
    "    (\"num_imputer\", num_imputer, num_features)\n",
    "])\n",
    "\n",
    "# Transform the data\n",
    "filled_X_train = imputer.fit_transform(X_train)\n",
    "filled_X_test = imputer.transform(X_test)\n",
    "  "
   ]
  },
  {
   "cell_type": "code",
   "execution_count": 54,
   "id": "ef81c78f",
   "metadata": {},
   "outputs": [
    {
     "data": {
      "text/plain": [
       "Make             0\n",
       "Colour           0\n",
       "Doors            0\n",
       "Odometer (KM)    0\n",
       "dtype: int64"
      ]
     },
     "execution_count": 54,
     "metadata": {},
     "output_type": "execute_result"
    }
   ],
   "source": [
    "# Get transformed data array back into data frame format\n",
    "car_sales_filled_train = pd.DataFrame(filled_X_train,\n",
    "                                     columns = [\"Make\", \"Colour\", \"Doors\", \"Odometer (KM)\"])\n",
    "car_sales_filled_test = pd.DataFrame(filled_X_test,\n",
    "                                     columns = [\"Make\", \"Colour\", \"Doors\", \"Odometer (KM)\"])\n",
    "# check missing data in training data set\n",
    "car_sales_filled_train.isna().sum()"
   ]
  },
  {
   "cell_type": "code",
   "execution_count": 55,
   "id": "4228a1b3",
   "metadata": {},
   "outputs": [
    {
     "data": {
      "text/plain": [
       "array([[0.00000e+00, 1.00000e+00, 0.00000e+00, ..., 1.00000e+00,\n",
       "        0.00000e+00, 7.19340e+04],\n",
       "       [0.00000e+00, 0.00000e+00, 0.00000e+00, ..., 1.00000e+00,\n",
       "        0.00000e+00, 1.62665e+05],\n",
       "       [0.00000e+00, 1.00000e+00, 0.00000e+00, ..., 1.00000e+00,\n",
       "        0.00000e+00, 4.28440e+04],\n",
       "       ...,\n",
       "       [0.00000e+00, 0.00000e+00, 0.00000e+00, ..., 1.00000e+00,\n",
       "        0.00000e+00, 1.96225e+05],\n",
       "       [0.00000e+00, 1.00000e+00, 0.00000e+00, ..., 1.00000e+00,\n",
       "        0.00000e+00, 1.33117e+05],\n",
       "       [0.00000e+00, 1.00000e+00, 0.00000e+00, ..., 1.00000e+00,\n",
       "        0.00000e+00, 1.50582e+05]])"
      ]
     },
     "execution_count": 55,
     "metadata": {},
     "output_type": "execute_result"
    }
   ],
   "source": [
    "# Make categorical features into numerical\n",
    "cat_features = [\"Make\", \"Colour\", \"Doors\"]\n",
    "one_hot = OneHotEncoder()\n",
    "\n",
    "transformer = ColumnTransformer([(\"one hot\",\n",
    "                                  one_hot,\n",
    "                                  cat_features)],\n",
    "                                remainder = \"passthrough\")\n",
    "\n",
    "# fill the train and test values seperately\n",
    "transformed_X_train = transformer.fit_transform(car_sales_filled_train)\n",
    "transformed_X_test = transformer.transform(car_sales_filled_test)\n",
    "transformed_X_train.toarray()"
   ]
  },
  {
   "cell_type": "code",
   "execution_count": 56,
   "id": "a8723e13",
   "metadata": {},
   "outputs": [
    {
     "data": {
      "text/plain": [
       "0.21229043336119102"
      ]
     },
     "execution_count": 56,
     "metadata": {},
     "output_type": "execute_result"
    }
   ],
   "source": [
    "# Now we've transformed X, let's see if we can fit a model\n",
    "np.random.seed(42)\n",
    "from sklearn.ensemble import RandomForestRegressor\n",
    "\n",
    "model = RandomForestRegressor()\n",
    "\n",
    "# Make sure to use transformed (filled and one-hot encoded X data)\n",
    "model.fit(transformed_X_train, y_train)\n",
    "model.score(transformed_X_test, y_test)"
   ]
  },
  {
   "cell_type": "markdown",
   "id": "b9e9b627",
   "metadata": {},
   "source": [
    "## 2. Choosing the right estimator/algorithm for our problem\n",
    "\n",
    "Scikit-learn uses word 'estimator' as another term for machine learning model or algorithm\n",
    "\n",
    "* Classification - predicting whether a sample is one thing or another\n",
    "* Regression - predicting a number\n",
    "\n",
    "Step 1 - Check the Scikit-learn ML map https://scikit-learn.org/stable/tutorial/machine_learning_map/index.html\n"
   ]
  },
  {
   "cell_type": "markdown",
   "id": "9c74e987",
   "metadata": {},
   "source": [
    "## 2.1 Picking a machine learning model for a regression problem "
   ]
  },
  {
   "cell_type": "code",
<<<<<<< HEAD
   "execution_count": 57,
   "id": "a1c89da9",
   "metadata": {},
   "outputs": [],
   "source": [
    "# Import Boston housing dataset\n",
    "from sklearn.datasets import load_boston\n",
    "boston = load_boston()\n",
    "boston;"
   ]
  },
  {
   "cell_type": "code",
   "execution_count": 58,
   "id": "5685dca2",
=======
   "execution_count": 61,
   "id": "53895dad",
>>>>>>> ad807a3c1d1a9c45834c5a258d98d6f96f102b20
   "metadata": {},
   "outputs": [
    {
     "data": {
      "text/html": [
       "<div>\n",
       "<style scoped>\n",
       "    .dataframe tbody tr th:only-of-type {\n",
       "        vertical-align: middle;\n",
       "    }\n",
       "\n",
       "    .dataframe tbody tr th {\n",
       "        vertical-align: top;\n",
       "    }\n",
       "\n",
       "    .dataframe thead th {\n",
       "        text-align: right;\n",
       "    }\n",
       "</style>\n",
       "<table border=\"1\" class=\"dataframe\">\n",
       "  <thead>\n",
       "    <tr style=\"text-align: right;\">\n",
       "      <th></th>\n",
       "      <th>CRIM</th>\n",
       "      <th>ZN</th>\n",
       "      <th>INDUS</th>\n",
       "      <th>CHAS</th>\n",
       "      <th>NOX</th>\n",
       "      <th>RM</th>\n",
       "      <th>AGE</th>\n",
       "      <th>DIS</th>\n",
       "      <th>RAD</th>\n",
       "      <th>TAX</th>\n",
       "      <th>PTRATIO</th>\n",
       "      <th>B</th>\n",
       "      <th>LSTAT</th>\n",
       "    </tr>\n",
       "  </thead>\n",
       "  <tbody>\n",
       "    <tr>\n",
       "      <th>0</th>\n",
       "      <td>0.00632</td>\n",
       "      <td>18.0</td>\n",
       "      <td>2.31</td>\n",
       "      <td>0.0</td>\n",
       "      <td>0.538</td>\n",
       "      <td>6.575</td>\n",
       "      <td>65.2</td>\n",
       "      <td>4.0900</td>\n",
       "      <td>1.0</td>\n",
       "      <td>296.0</td>\n",
       "      <td>15.3</td>\n",
       "      <td>396.90</td>\n",
       "      <td>4.98</td>\n",
       "    </tr>\n",
       "    <tr>\n",
       "      <th>1</th>\n",
       "      <td>0.02731</td>\n",
       "      <td>0.0</td>\n",
       "      <td>7.07</td>\n",
       "      <td>0.0</td>\n",
       "      <td>0.469</td>\n",
       "      <td>6.421</td>\n",
       "      <td>78.9</td>\n",
       "      <td>4.9671</td>\n",
       "      <td>2.0</td>\n",
       "      <td>242.0</td>\n",
       "      <td>17.8</td>\n",
       "      <td>396.90</td>\n",
       "      <td>9.14</td>\n",
       "    </tr>\n",
       "    <tr>\n",
       "      <th>2</th>\n",
       "      <td>0.02729</td>\n",
       "      <td>0.0</td>\n",
       "      <td>7.07</td>\n",
       "      <td>0.0</td>\n",
       "      <td>0.469</td>\n",
       "      <td>7.185</td>\n",
       "      <td>61.1</td>\n",
       "      <td>4.9671</td>\n",
       "      <td>2.0</td>\n",
       "      <td>242.0</td>\n",
       "      <td>17.8</td>\n",
       "      <td>392.83</td>\n",
       "      <td>4.03</td>\n",
       "    </tr>\n",
       "    <tr>\n",
       "      <th>3</th>\n",
       "      <td>0.03237</td>\n",
       "      <td>0.0</td>\n",
       "      <td>2.18</td>\n",
       "      <td>0.0</td>\n",
       "      <td>0.458</td>\n",
       "      <td>6.998</td>\n",
       "      <td>45.8</td>\n",
       "      <td>6.0622</td>\n",
       "      <td>3.0</td>\n",
       "      <td>222.0</td>\n",
       "      <td>18.7</td>\n",
       "      <td>394.63</td>\n",
       "      <td>2.94</td>\n",
       "    </tr>\n",
       "    <tr>\n",
       "      <th>4</th>\n",
       "      <td>0.06905</td>\n",
       "      <td>0.0</td>\n",
       "      <td>2.18</td>\n",
       "      <td>0.0</td>\n",
       "      <td>0.458</td>\n",
       "      <td>7.147</td>\n",
       "      <td>54.2</td>\n",
       "      <td>6.0622</td>\n",
       "      <td>3.0</td>\n",
       "      <td>222.0</td>\n",
       "      <td>18.7</td>\n",
       "      <td>396.90</td>\n",
       "      <td>5.33</td>\n",
       "    </tr>\n",
       "    <tr>\n",
       "      <th>...</th>\n",
       "      <td>...</td>\n",
       "      <td>...</td>\n",
       "      <td>...</td>\n",
       "      <td>...</td>\n",
       "      <td>...</td>\n",
       "      <td>...</td>\n",
       "      <td>...</td>\n",
       "      <td>...</td>\n",
       "      <td>...</td>\n",
       "      <td>...</td>\n",
       "      <td>...</td>\n",
       "      <td>...</td>\n",
       "      <td>...</td>\n",
       "    </tr>\n",
       "    <tr>\n",
       "      <th>501</th>\n",
       "      <td>0.06263</td>\n",
       "      <td>0.0</td>\n",
       "      <td>11.93</td>\n",
       "      <td>0.0</td>\n",
       "      <td>0.573</td>\n",
       "      <td>6.593</td>\n",
       "      <td>69.1</td>\n",
       "      <td>2.4786</td>\n",
       "      <td>1.0</td>\n",
       "      <td>273.0</td>\n",
       "      <td>21.0</td>\n",
       "      <td>391.99</td>\n",
       "      <td>9.67</td>\n",
       "    </tr>\n",
       "    <tr>\n",
       "      <th>502</th>\n",
       "      <td>0.04527</td>\n",
       "      <td>0.0</td>\n",
       "      <td>11.93</td>\n",
       "      <td>0.0</td>\n",
       "      <td>0.573</td>\n",
       "      <td>6.120</td>\n",
       "      <td>76.7</td>\n",
       "      <td>2.2875</td>\n",
       "      <td>1.0</td>\n",
       "      <td>273.0</td>\n",
       "      <td>21.0</td>\n",
       "      <td>396.90</td>\n",
       "      <td>9.08</td>\n",
       "    </tr>\n",
       "    <tr>\n",
       "      <th>503</th>\n",
       "      <td>0.06076</td>\n",
       "      <td>0.0</td>\n",
       "      <td>11.93</td>\n",
       "      <td>0.0</td>\n",
       "      <td>0.573</td>\n",
       "      <td>6.976</td>\n",
       "      <td>91.0</td>\n",
       "      <td>2.1675</td>\n",
       "      <td>1.0</td>\n",
       "      <td>273.0</td>\n",
       "      <td>21.0</td>\n",
       "      <td>396.90</td>\n",
       "      <td>5.64</td>\n",
       "    </tr>\n",
       "    <tr>\n",
       "      <th>504</th>\n",
       "      <td>0.10959</td>\n",
       "      <td>0.0</td>\n",
       "      <td>11.93</td>\n",
       "      <td>0.0</td>\n",
       "      <td>0.573</td>\n",
       "      <td>6.794</td>\n",
       "      <td>89.3</td>\n",
       "      <td>2.3889</td>\n",
       "      <td>1.0</td>\n",
       "      <td>273.0</td>\n",
       "      <td>21.0</td>\n",
       "      <td>393.45</td>\n",
       "      <td>6.48</td>\n",
       "    </tr>\n",
       "    <tr>\n",
       "      <th>505</th>\n",
       "      <td>0.04741</td>\n",
       "      <td>0.0</td>\n",
       "      <td>11.93</td>\n",
       "      <td>0.0</td>\n",
       "      <td>0.573</td>\n",
       "      <td>6.030</td>\n",
       "      <td>80.8</td>\n",
       "      <td>2.5050</td>\n",
       "      <td>1.0</td>\n",
       "      <td>273.0</td>\n",
       "      <td>21.0</td>\n",
       "      <td>396.90</td>\n",
       "      <td>7.88</td>\n",
       "    </tr>\n",
       "  </tbody>\n",
       "</table>\n",
       "<p>506 rows × 13 columns</p>\n",
       "</div>"
      ],
      "text/plain": [
       "        CRIM    ZN  INDUS  CHAS    NOX     RM   AGE     DIS  RAD    TAX  \\\n",
       "0    0.00632  18.0   2.31   0.0  0.538  6.575  65.2  4.0900  1.0  296.0   \n",
       "1    0.02731   0.0   7.07   0.0  0.469  6.421  78.9  4.9671  2.0  242.0   \n",
       "2    0.02729   0.0   7.07   0.0  0.469  7.185  61.1  4.9671  2.0  242.0   \n",
       "3    0.03237   0.0   2.18   0.0  0.458  6.998  45.8  6.0622  3.0  222.0   \n",
       "4    0.06905   0.0   2.18   0.0  0.458  7.147  54.2  6.0622  3.0  222.0   \n",
       "..       ...   ...    ...   ...    ...    ...   ...     ...  ...    ...   \n",
       "501  0.06263   0.0  11.93   0.0  0.573  6.593  69.1  2.4786  1.0  273.0   \n",
       "502  0.04527   0.0  11.93   0.0  0.573  6.120  76.7  2.2875  1.0  273.0   \n",
       "503  0.06076   0.0  11.93   0.0  0.573  6.976  91.0  2.1675  1.0  273.0   \n",
       "504  0.10959   0.0  11.93   0.0  0.573  6.794  89.3  2.3889  1.0  273.0   \n",
       "505  0.04741   0.0  11.93   0.0  0.573  6.030  80.8  2.5050  1.0  273.0   \n",
       "\n",
       "     PTRATIO       B  LSTAT  \n",
       "0       15.3  396.90   4.98  \n",
       "1       17.8  396.90   9.14  \n",
       "2       17.8  392.83   4.03  \n",
       "3       18.7  394.63   2.94  \n",
       "4       18.7  396.90   5.33  \n",
       "..       ...     ...    ...  \n",
       "501     21.0  391.99   9.67  \n",
       "502     21.0  396.90   9.08  \n",
       "503     21.0  396.90   5.64  \n",
       "504     21.0  393.45   6.48  \n",
       "505     21.0  396.90   7.88  \n",
       "\n",
       "[506 rows x 13 columns]"
      ]
     },
     "execution_count": 58,
     "metadata": {},
     "output_type": "execute_result"
    }
   ],
   "source": [
    "boston_df = pd.DataFrame(boston[\"data\"], columns = boston[\"feature_names\"])\n",
    "X = boston_df\n",
    "boston_df"
   ]
  },
  {
   "cell_type": "code",
<<<<<<< HEAD
   "execution_count": 59,
   "id": "cb7da341",
=======
   "execution_count": 62,
   "id": "f29f4ca7",
   "metadata": {},
   "outputs": [
    {
     "data": {
      "text/plain": [
       "0.9999999958220656"
      ]
     },
     "execution_count": 62,
     "metadata": {},
     "output_type": "execute_result"
    }
   ],
   "source": [
    "# Split into train and test sets\n",
    "\n",
    "from sklearn.model_selection import train_test_split\n",
    "X_train, X_test, y_train, y_test = train_test_split(X, y, test_size = 0.2)\n",
    "\n",
    "# Instantiate Ridge model\n",
    "model = Ridge()\n",
    "model.fit(X_train, y_train)\n",
    "\n",
    "# Check the score of the ridge model on test data\n",
    "model.score(X_test, y_test)"
   ]
  },
  {
   "cell_type": "markdown",
   "id": "d544bea9",
   "metadata": {},
   "source": [
    "How do we improve this score?\n",
    "\n",
    "What if Ridge wasn't working?\n",
    "\n",
    "Refer back to map https://scikit-learn.org/stable/tutorial/machine_learning_map/index.html"
   ]
  },
  {
   "cell_type": "code",
   "execution_count": 63,
   "id": "a97e3988",
   "metadata": {},
   "outputs": [
    {
     "data": {
      "text/plain": [
       "0.9997254225398743"
      ]
     },
     "execution_count": 63,
     "metadata": {},
     "output_type": "execute_result"
    }
   ],
   "source": [
    "# Let's try random forest regressor\n",
    "from sklearn.ensemble import RandomForestRegressor\n",
    "\n",
    "# Setup random seed\n",
    "np.random.seed(42)\n",
    "\n",
    "# Split data into train and test sets\n",
    "X_train, X_test,y_train, y_test = train_test_split(X, y, test_size = 0.2)\n",
    "\n",
    "# Instantiate Regressor model\n",
    "rf = RandomForestRegressor()\n",
    "rf.fit(X_train, y_train)\n",
    "\n",
    "#Evaluate random forest regressor \n",
    "rf.score(X_test, y_test)"
   ]
  },
  {
   "cell_type": "code",
   "execution_count": 64,
   "id": "6d8c6583",
   "metadata": {},
   "outputs": [
    {
     "data": {
      "text/plain": [
       "(0.9999999958220656, 0.9997254225398743)"
      ]
     },
     "execution_count": 64,
     "metadata": {},
     "output_type": "execute_result"
    }
   ],
   "source": [
    "model.score(X_test, y_test), rf.score(X_test, y_test)"
   ]
  },
  {
   "cell_type": "markdown",
   "id": "9e8ac2d8",
   "metadata": {},
   "source": [
    "### 2.2 Choosing estimator for classification problem\n",
    "\n",
    "... let's go to the map https://scikit-learn.org/stable/tutorial/machine_learning_map/index.html"
   ]
  },
  {
   "cell_type": "code",
   "execution_count": 65,
   "id": "b8bc9fdd",
>>>>>>> ad807a3c1d1a9c45834c5a258d98d6f96f102b20
   "metadata": {},
   "outputs": [
    {
     "data": {
      "text/html": [
       "<div>\n",
       "<style scoped>\n",
       "    .dataframe tbody tr th:only-of-type {\n",
       "        vertical-align: middle;\n",
       "    }\n",
       "\n",
       "    .dataframe tbody tr th {\n",
       "        vertical-align: top;\n",
       "    }\n",
       "\n",
       "    .dataframe thead th {\n",
       "        text-align: right;\n",
       "    }\n",
       "</style>\n",
       "<table border=\"1\" class=\"dataframe\">\n",
       "  <thead>\n",
       "    <tr style=\"text-align: right;\">\n",
       "      <th></th>\n",
       "      <th>CRIM</th>\n",
       "      <th>ZN</th>\n",
       "      <th>INDUS</th>\n",
       "      <th>CHAS</th>\n",
       "      <th>NOX</th>\n",
       "      <th>RM</th>\n",
       "      <th>AGE</th>\n",
       "      <th>DIS</th>\n",
       "      <th>RAD</th>\n",
       "      <th>TAX</th>\n",
       "      <th>PTRATIO</th>\n",
       "      <th>B</th>\n",
       "      <th>LSTAT</th>\n",
       "      <th>target</th>\n",
       "    </tr>\n",
       "  </thead>\n",
       "  <tbody>\n",
       "    <tr>\n",
       "      <th>0</th>\n",
       "      <td>0.00632</td>\n",
       "      <td>18.0</td>\n",
       "      <td>2.31</td>\n",
       "      <td>0.0</td>\n",
       "      <td>0.538</td>\n",
       "      <td>6.575</td>\n",
       "      <td>65.2</td>\n",
       "      <td>4.0900</td>\n",
       "      <td>1.0</td>\n",
       "      <td>296.0</td>\n",
       "      <td>15.3</td>\n",
       "      <td>396.90</td>\n",
       "      <td>4.98</td>\n",
       "      <td>24.0</td>\n",
       "    </tr>\n",
       "    <tr>\n",
       "      <th>1</th>\n",
       "      <td>0.02731</td>\n",
       "      <td>0.0</td>\n",
       "      <td>7.07</td>\n",
       "      <td>0.0</td>\n",
       "      <td>0.469</td>\n",
       "      <td>6.421</td>\n",
       "      <td>78.9</td>\n",
       "      <td>4.9671</td>\n",
       "      <td>2.0</td>\n",
       "      <td>242.0</td>\n",
       "      <td>17.8</td>\n",
       "      <td>396.90</td>\n",
       "      <td>9.14</td>\n",
       "      <td>21.6</td>\n",
       "    </tr>\n",
       "    <tr>\n",
       "      <th>2</th>\n",
       "      <td>0.02729</td>\n",
       "      <td>0.0</td>\n",
       "      <td>7.07</td>\n",
       "      <td>0.0</td>\n",
       "      <td>0.469</td>\n",
       "      <td>7.185</td>\n",
       "      <td>61.1</td>\n",
       "      <td>4.9671</td>\n",
       "      <td>2.0</td>\n",
       "      <td>242.0</td>\n",
       "      <td>17.8</td>\n",
       "      <td>392.83</td>\n",
       "      <td>4.03</td>\n",
       "      <td>34.7</td>\n",
       "    </tr>\n",
       "    <tr>\n",
       "      <th>3</th>\n",
       "      <td>0.03237</td>\n",
       "      <td>0.0</td>\n",
       "      <td>2.18</td>\n",
       "      <td>0.0</td>\n",
       "      <td>0.458</td>\n",
       "      <td>6.998</td>\n",
       "      <td>45.8</td>\n",
       "      <td>6.0622</td>\n",
       "      <td>3.0</td>\n",
       "      <td>222.0</td>\n",
       "      <td>18.7</td>\n",
       "      <td>394.63</td>\n",
       "      <td>2.94</td>\n",
       "      <td>33.4</td>\n",
       "    </tr>\n",
       "    <tr>\n",
       "      <th>4</th>\n",
       "      <td>0.06905</td>\n",
       "      <td>0.0</td>\n",
       "      <td>2.18</td>\n",
       "      <td>0.0</td>\n",
       "      <td>0.458</td>\n",
       "      <td>7.147</td>\n",
       "      <td>54.2</td>\n",
       "      <td>6.0622</td>\n",
       "      <td>3.0</td>\n",
       "      <td>222.0</td>\n",
       "      <td>18.7</td>\n",
       "      <td>396.90</td>\n",
       "      <td>5.33</td>\n",
       "      <td>36.2</td>\n",
       "    </tr>\n",
       "    <tr>\n",
       "      <th>...</th>\n",
       "      <td>...</td>\n",
       "      <td>...</td>\n",
       "      <td>...</td>\n",
       "      <td>...</td>\n",
       "      <td>...</td>\n",
       "      <td>...</td>\n",
       "      <td>...</td>\n",
       "      <td>...</td>\n",
       "      <td>...</td>\n",
       "      <td>...</td>\n",
       "      <td>...</td>\n",
       "      <td>...</td>\n",
       "      <td>...</td>\n",
       "      <td>...</td>\n",
       "    </tr>\n",
       "    <tr>\n",
       "      <th>501</th>\n",
       "      <td>0.06263</td>\n",
       "      <td>0.0</td>\n",
       "      <td>11.93</td>\n",
       "      <td>0.0</td>\n",
       "      <td>0.573</td>\n",
       "      <td>6.593</td>\n",
       "      <td>69.1</td>\n",
       "      <td>2.4786</td>\n",
       "      <td>1.0</td>\n",
       "      <td>273.0</td>\n",
       "      <td>21.0</td>\n",
       "      <td>391.99</td>\n",
       "      <td>9.67</td>\n",
       "      <td>22.4</td>\n",
       "    </tr>\n",
       "    <tr>\n",
       "      <th>502</th>\n",
       "      <td>0.04527</td>\n",
       "      <td>0.0</td>\n",
       "      <td>11.93</td>\n",
       "      <td>0.0</td>\n",
       "      <td>0.573</td>\n",
       "      <td>6.120</td>\n",
       "      <td>76.7</td>\n",
       "      <td>2.2875</td>\n",
       "      <td>1.0</td>\n",
       "      <td>273.0</td>\n",
       "      <td>21.0</td>\n",
       "      <td>396.90</td>\n",
       "      <td>9.08</td>\n",
       "      <td>20.6</td>\n",
       "    </tr>\n",
       "    <tr>\n",
       "      <th>503</th>\n",
       "      <td>0.06076</td>\n",
       "      <td>0.0</td>\n",
       "      <td>11.93</td>\n",
       "      <td>0.0</td>\n",
       "      <td>0.573</td>\n",
       "      <td>6.976</td>\n",
       "      <td>91.0</td>\n",
       "      <td>2.1675</td>\n",
       "      <td>1.0</td>\n",
       "      <td>273.0</td>\n",
       "      <td>21.0</td>\n",
       "      <td>396.90</td>\n",
       "      <td>5.64</td>\n",
       "      <td>23.9</td>\n",
       "    </tr>\n",
       "    <tr>\n",
       "      <th>504</th>\n",
       "      <td>0.10959</td>\n",
       "      <td>0.0</td>\n",
       "      <td>11.93</td>\n",
       "      <td>0.0</td>\n",
       "      <td>0.573</td>\n",
       "      <td>6.794</td>\n",
       "      <td>89.3</td>\n",
       "      <td>2.3889</td>\n",
       "      <td>1.0</td>\n",
       "      <td>273.0</td>\n",
       "      <td>21.0</td>\n",
       "      <td>393.45</td>\n",
       "      <td>6.48</td>\n",
       "      <td>22.0</td>\n",
       "    </tr>\n",
       "    <tr>\n",
       "      <th>505</th>\n",
       "      <td>0.04741</td>\n",
       "      <td>0.0</td>\n",
       "      <td>11.93</td>\n",
       "      <td>0.0</td>\n",
       "      <td>0.573</td>\n",
       "      <td>6.030</td>\n",
       "      <td>80.8</td>\n",
       "      <td>2.5050</td>\n",
       "      <td>1.0</td>\n",
       "      <td>273.0</td>\n",
       "      <td>21.0</td>\n",
       "      <td>396.90</td>\n",
       "      <td>7.88</td>\n",
       "      <td>11.9</td>\n",
       "    </tr>\n",
       "  </tbody>\n",
       "</table>\n",
       "<p>506 rows × 14 columns</p>\n",
       "</div>"
      ],
      "text/plain": [
       "        CRIM    ZN  INDUS  CHAS    NOX     RM   AGE     DIS  RAD    TAX  \\\n",
       "0    0.00632  18.0   2.31   0.0  0.538  6.575  65.2  4.0900  1.0  296.0   \n",
       "1    0.02731   0.0   7.07   0.0  0.469  6.421  78.9  4.9671  2.0  242.0   \n",
       "2    0.02729   0.0   7.07   0.0  0.469  7.185  61.1  4.9671  2.0  242.0   \n",
       "3    0.03237   0.0   2.18   0.0  0.458  6.998  45.8  6.0622  3.0  222.0   \n",
       "4    0.06905   0.0   2.18   0.0  0.458  7.147  54.2  6.0622  3.0  222.0   \n",
       "..       ...   ...    ...   ...    ...    ...   ...     ...  ...    ...   \n",
       "501  0.06263   0.0  11.93   0.0  0.573  6.593  69.1  2.4786  1.0  273.0   \n",
       "502  0.04527   0.0  11.93   0.0  0.573  6.120  76.7  2.2875  1.0  273.0   \n",
       "503  0.06076   0.0  11.93   0.0  0.573  6.976  91.0  2.1675  1.0  273.0   \n",
       "504  0.10959   0.0  11.93   0.0  0.573  6.794  89.3  2.3889  1.0  273.0   \n",
       "505  0.04741   0.0  11.93   0.0  0.573  6.030  80.8  2.5050  1.0  273.0   \n",
       "\n",
       "     PTRATIO       B  LSTAT  target  \n",
       "0       15.3  396.90   4.98    24.0  \n",
       "1       17.8  396.90   9.14    21.6  \n",
       "2       17.8  392.83   4.03    34.7  \n",
       "3       18.7  394.63   2.94    33.4  \n",
       "4       18.7  396.90   5.33    36.2  \n",
       "..       ...     ...    ...     ...  \n",
       "501     21.0  391.99   9.67    22.4  \n",
       "502     21.0  396.90   9.08    20.6  \n",
       "503     21.0  396.90   5.64    23.9  \n",
       "504     21.0  393.45   6.48    22.0  \n",
       "505     21.0  396.90   7.88    11.9  \n",
       "\n",
       "[506 rows x 14 columns]"
      ]
     },
<<<<<<< HEAD
     "execution_count": 59,
=======
     "execution_count": 65,
>>>>>>> ad807a3c1d1a9c45834c5a258d98d6f96f102b20
     "metadata": {},
     "output_type": "execute_result"
    }
   ],
   "source": [
    "y = pd.Series(boston[\"target\"])\n",
    "boston_df[\"target\"] = y\n",
    "boston_df"
   ]
  },
  {
   "cell_type": "code",
<<<<<<< HEAD
   "execution_count": 60,
   "id": "62105a00",
=======
   "execution_count": 66,
   "id": "6ef3e107",
>>>>>>> ad807a3c1d1a9c45834c5a258d98d6f96f102b20
   "metadata": {},
   "outputs": [
    {
     "data": {
      "text/plain": [
       "506"
      ]
     },
<<<<<<< HEAD
     "execution_count": 60,
=======
     "execution_count": 66,
>>>>>>> ad807a3c1d1a9c45834c5a258d98d6f96f102b20
     "metadata": {},
     "output_type": "execute_result"
    }
   ],
   "source": [
    "# How many samples:\n",
    "len(boston_df)"
   ]
  },
  {
<<<<<<< HEAD
   "cell_type": "markdown",
   "id": "95e21227",
=======
   "cell_type": "code",
   "execution_count": 67,
   "id": "0c0833f1",
>>>>>>> ad807a3c1d1a9c45834c5a258d98d6f96f102b20
   "metadata": {},
   "source": [
    "![](../Pictures/ml_map.png)"
   ]
  },
  {
   "cell_type": "markdown",
   "id": "0192d224",
   "metadata": {},
   "source": [
    "by looking at it right now we end up on \"few features should be important\" - we have 13 features and don't really know if that's a case for now, so let's ignore it: hence `RidgeRegression` or `SVR(kernel='linear')`\n",
    "\n",
    "The image above is interactive on scikit learn page and takes to respective documentation pages for given estimator"
   ]
  },
  {
   "cell_type": "code",
<<<<<<< HEAD
   "execution_count": 61,
   "id": "53895dad",
=======
   "execution_count": 68,
   "id": "5536995e",
   "metadata": {},
   "outputs": [
    {
     "name": "stderr",
     "output_type": "stream",
     "text": [
      "C:\\Users\\ziolk\\Desktop\\ML_Projects\\SampleProject\\env\\lib\\site-packages\\sklearn\\svm\\_base.py:985: ConvergenceWarning: Liblinear failed to converge, increase the number of iterations.\n",
      "  warnings.warn(\"Liblinear failed to converge, increase \"\n"
     ]
    },
    {
     "data": {
      "text/plain": [
       "(0.7933884297520661, 0.8688524590163934)"
      ]
     },
     "execution_count": 68,
     "metadata": {},
     "output_type": "execute_result"
    }
   ],
   "source": [
    "# set up random seed\n",
    "np.random.seed(42)\n",
    "\n",
    "# divide data into training and testing sets\n",
    "from sklearn.model_selection import train_test_split\n",
    "X_train, X_test, y_train, y_test = train_test_split(X, y, test_size=0.2)\n",
    "\n",
    "\n",
    "# Import LinearSVC estimator class \n",
    "from sklearn.svm import LinearSVC\n",
    "\n",
    "# Instantiate LinearSVC\n",
    "clf = LinearSVC()\n",
    "clf.fit(X_train, y_train)\n",
    "clf.score(X_train, y_train), clf.score(X_test, y_test)"
   ]
  },
  {
   "cell_type": "code",
   "execution_count": 69,
   "id": "21c08d42",
>>>>>>> ad807a3c1d1a9c45834c5a258d98d6f96f102b20
   "metadata": {},
   "outputs": [
    {
     "data": {
      "text/html": [
       "<div>\n",
       "<style scoped>\n",
       "    .dataframe tbody tr th:only-of-type {\n",
       "        vertical-align: middle;\n",
       "    }\n",
       "\n",
       "    .dataframe tbody tr th {\n",
       "        vertical-align: top;\n",
       "    }\n",
       "\n",
       "    .dataframe thead th {\n",
       "        text-align: right;\n",
       "    }\n",
       "</style>\n",
       "<table border=\"1\" class=\"dataframe\">\n",
       "  <thead>\n",
       "    <tr style=\"text-align: right;\">\n",
       "      <th></th>\n",
       "      <th>CRIM</th>\n",
       "      <th>ZN</th>\n",
       "      <th>INDUS</th>\n",
       "      <th>CHAS</th>\n",
       "      <th>NOX</th>\n",
       "      <th>RM</th>\n",
       "      <th>AGE</th>\n",
       "      <th>DIS</th>\n",
       "      <th>RAD</th>\n",
       "      <th>TAX</th>\n",
       "      <th>PTRATIO</th>\n",
       "      <th>B</th>\n",
       "      <th>LSTAT</th>\n",
       "      <th>target</th>\n",
       "    </tr>\n",
       "  </thead>\n",
       "  <tbody>\n",
       "    <tr>\n",
       "      <th>0</th>\n",
       "      <td>0.00632</td>\n",
       "      <td>18.0</td>\n",
       "      <td>2.31</td>\n",
       "      <td>0.0</td>\n",
       "      <td>0.538</td>\n",
       "      <td>6.575</td>\n",
       "      <td>65.2</td>\n",
       "      <td>4.0900</td>\n",
       "      <td>1.0</td>\n",
       "      <td>296.0</td>\n",
       "      <td>15.3</td>\n",
       "      <td>396.90</td>\n",
       "      <td>4.98</td>\n",
       "      <td>24.0</td>\n",
       "    </tr>\n",
       "    <tr>\n",
       "      <th>1</th>\n",
       "      <td>0.02731</td>\n",
       "      <td>0.0</td>\n",
       "      <td>7.07</td>\n",
       "      <td>0.0</td>\n",
       "      <td>0.469</td>\n",
       "      <td>6.421</td>\n",
       "      <td>78.9</td>\n",
       "      <td>4.9671</td>\n",
       "      <td>2.0</td>\n",
       "      <td>242.0</td>\n",
       "      <td>17.8</td>\n",
       "      <td>396.90</td>\n",
       "      <td>9.14</td>\n",
       "      <td>21.6</td>\n",
       "    </tr>\n",
       "    <tr>\n",
       "      <th>2</th>\n",
       "      <td>0.02729</td>\n",
       "      <td>0.0</td>\n",
       "      <td>7.07</td>\n",
       "      <td>0.0</td>\n",
       "      <td>0.469</td>\n",
       "      <td>7.185</td>\n",
       "      <td>61.1</td>\n",
       "      <td>4.9671</td>\n",
       "      <td>2.0</td>\n",
       "      <td>242.0</td>\n",
       "      <td>17.8</td>\n",
       "      <td>392.83</td>\n",
       "      <td>4.03</td>\n",
       "      <td>34.7</td>\n",
       "    </tr>\n",
       "    <tr>\n",
       "      <th>3</th>\n",
       "      <td>0.03237</td>\n",
       "      <td>0.0</td>\n",
       "      <td>2.18</td>\n",
       "      <td>0.0</td>\n",
       "      <td>0.458</td>\n",
       "      <td>6.998</td>\n",
       "      <td>45.8</td>\n",
       "      <td>6.0622</td>\n",
       "      <td>3.0</td>\n",
       "      <td>222.0</td>\n",
       "      <td>18.7</td>\n",
       "      <td>394.63</td>\n",
       "      <td>2.94</td>\n",
       "      <td>33.4</td>\n",
       "    </tr>\n",
       "    <tr>\n",
       "      <th>4</th>\n",
       "      <td>0.06905</td>\n",
       "      <td>0.0</td>\n",
       "      <td>2.18</td>\n",
       "      <td>0.0</td>\n",
       "      <td>0.458</td>\n",
       "      <td>7.147</td>\n",
       "      <td>54.2</td>\n",
       "      <td>6.0622</td>\n",
       "      <td>3.0</td>\n",
       "      <td>222.0</td>\n",
       "      <td>18.7</td>\n",
       "      <td>396.90</td>\n",
       "      <td>5.33</td>\n",
       "      <td>36.2</td>\n",
       "    </tr>\n",
       "    <tr>\n",
       "      <th>...</th>\n",
       "      <td>...</td>\n",
       "      <td>...</td>\n",
       "      <td>...</td>\n",
       "      <td>...</td>\n",
       "      <td>...</td>\n",
       "      <td>...</td>\n",
       "      <td>...</td>\n",
       "      <td>...</td>\n",
       "      <td>...</td>\n",
       "      <td>...</td>\n",
       "      <td>...</td>\n",
       "      <td>...</td>\n",
       "      <td>...</td>\n",
       "      <td>...</td>\n",
       "    </tr>\n",
       "    <tr>\n",
       "      <th>501</th>\n",
       "      <td>0.06263</td>\n",
       "      <td>0.0</td>\n",
       "      <td>11.93</td>\n",
       "      <td>0.0</td>\n",
       "      <td>0.573</td>\n",
       "      <td>6.593</td>\n",
       "      <td>69.1</td>\n",
       "      <td>2.4786</td>\n",
       "      <td>1.0</td>\n",
       "      <td>273.0</td>\n",
       "      <td>21.0</td>\n",
       "      <td>391.99</td>\n",
       "      <td>9.67</td>\n",
       "      <td>22.4</td>\n",
       "    </tr>\n",
       "    <tr>\n",
       "      <th>502</th>\n",
       "      <td>0.04527</td>\n",
       "      <td>0.0</td>\n",
       "      <td>11.93</td>\n",
       "      <td>0.0</td>\n",
       "      <td>0.573</td>\n",
       "      <td>6.120</td>\n",
       "      <td>76.7</td>\n",
       "      <td>2.2875</td>\n",
       "      <td>1.0</td>\n",
       "      <td>273.0</td>\n",
       "      <td>21.0</td>\n",
       "      <td>396.90</td>\n",
       "      <td>9.08</td>\n",
       "      <td>20.6</td>\n",
       "    </tr>\n",
       "    <tr>\n",
       "      <th>503</th>\n",
       "      <td>0.06076</td>\n",
       "      <td>0.0</td>\n",
       "      <td>11.93</td>\n",
       "      <td>0.0</td>\n",
       "      <td>0.573</td>\n",
       "      <td>6.976</td>\n",
       "      <td>91.0</td>\n",
       "      <td>2.1675</td>\n",
       "      <td>1.0</td>\n",
       "      <td>273.0</td>\n",
       "      <td>21.0</td>\n",
       "      <td>396.90</td>\n",
       "      <td>5.64</td>\n",
       "      <td>23.9</td>\n",
       "    </tr>\n",
       "    <tr>\n",
       "      <th>504</th>\n",
       "      <td>0.10959</td>\n",
       "      <td>0.0</td>\n",
       "      <td>11.93</td>\n",
       "      <td>0.0</td>\n",
       "      <td>0.573</td>\n",
       "      <td>6.794</td>\n",
       "      <td>89.3</td>\n",
       "      <td>2.3889</td>\n",
       "      <td>1.0</td>\n",
       "      <td>273.0</td>\n",
       "      <td>21.0</td>\n",
       "      <td>393.45</td>\n",
       "      <td>6.48</td>\n",
       "      <td>22.0</td>\n",
       "    </tr>\n",
       "    <tr>\n",
       "      <th>505</th>\n",
       "      <td>0.04741</td>\n",
       "      <td>0.0</td>\n",
       "      <td>11.93</td>\n",
       "      <td>0.0</td>\n",
       "      <td>0.573</td>\n",
       "      <td>6.030</td>\n",
       "      <td>80.8</td>\n",
       "      <td>2.5050</td>\n",
       "      <td>1.0</td>\n",
       "      <td>273.0</td>\n",
       "      <td>21.0</td>\n",
       "      <td>396.90</td>\n",
       "      <td>7.88</td>\n",
       "      <td>11.9</td>\n",
       "    </tr>\n",
       "  </tbody>\n",
       "</table>\n",
       "<p>506 rows × 14 columns</p>\n",
       "</div>"
      ],
      "text/plain": [
       "        CRIM    ZN  INDUS  CHAS    NOX     RM   AGE     DIS  RAD    TAX  \\\n",
       "0    0.00632  18.0   2.31   0.0  0.538  6.575  65.2  4.0900  1.0  296.0   \n",
       "1    0.02731   0.0   7.07   0.0  0.469  6.421  78.9  4.9671  2.0  242.0   \n",
       "2    0.02729   0.0   7.07   0.0  0.469  7.185  61.1  4.9671  2.0  242.0   \n",
       "3    0.03237   0.0   2.18   0.0  0.458  6.998  45.8  6.0622  3.0  222.0   \n",
       "4    0.06905   0.0   2.18   0.0  0.458  7.147  54.2  6.0622  3.0  222.0   \n",
       "..       ...   ...    ...   ...    ...    ...   ...     ...  ...    ...   \n",
       "501  0.06263   0.0  11.93   0.0  0.573  6.593  69.1  2.4786  1.0  273.0   \n",
       "502  0.04527   0.0  11.93   0.0  0.573  6.120  76.7  2.2875  1.0  273.0   \n",
       "503  0.06076   0.0  11.93   0.0  0.573  6.976  91.0  2.1675  1.0  273.0   \n",
       "504  0.10959   0.0  11.93   0.0  0.573  6.794  89.3  2.3889  1.0  273.0   \n",
       "505  0.04741   0.0  11.93   0.0  0.573  6.030  80.8  2.5050  1.0  273.0   \n",
       "\n",
       "     PTRATIO       B  LSTAT  target  \n",
       "0       15.3  396.90   4.98    24.0  \n",
       "1       17.8  396.90   9.14    21.6  \n",
       "2       17.8  392.83   4.03    34.7  \n",
       "3       18.7  394.63   2.94    33.4  \n",
       "4       18.7  396.90   5.33    36.2  \n",
       "..       ...     ...    ...     ...  \n",
       "501     21.0  391.99   9.67    22.4  \n",
       "502     21.0  396.90   9.08    20.6  \n",
       "503     21.0  396.90   5.64    23.9  \n",
       "504     21.0  393.45   6.48    22.0  \n",
       "505     21.0  396.90   7.88    11.9  \n",
       "\n",
       "[506 rows x 14 columns]"
      ]
     },
<<<<<<< HEAD
=======
     "execution_count": 69,
>>>>>>> ad807a3c1d1a9c45834c5a258d98d6f96f102b20
     "metadata": {},
     "output_type": "display_data"
    },
    {
     "data": {
      "text/plain": [
       "0      24.0\n",
       "1      21.6\n",
       "2      34.7\n",
       "3      33.4\n",
       "4      36.2\n",
       "       ... \n",
       "501    22.4\n",
       "502    20.6\n",
       "503    23.9\n",
       "504    22.0\n",
       "505    11.9\n",
       "Length: 506, dtype: float64"
      ]
     },
     "metadata": {},
     "output_type": "display_data"
    }
   ],
   "source": [
    "# Let's try Ridge Regression model\n",
    "from sklearn.linear_model import Ridge\n",
    "\n",
    "# set up random seed for reproducibility \n",
    "np.random.seed(42)\n",
    "\n",
    "# Create the data \n",
    "display(X, y)"
   ]
  },
  {
   "cell_type": "code",
   "execution_count": 62,
   "id": "f29f4ca7",
   "metadata": {},
   "outputs": [
    {
     "data": {
      "text/plain": [
       "0.9999999958220656"
      ]
     },
     "execution_count": 62,
     "metadata": {},
     "output_type": "execute_result"
    }
   ],
   "source": [
    "# Split into train and test sets\n",
    "\n",
    "from sklearn.model_selection import train_test_split\n",
    "X_train, X_test, y_train, y_test = train_test_split(X, y, test_size = 0.2)\n",
    "\n",
    "# Instantiate Ridge model\n",
    "model = Ridge()\n",
    "model.fit(X_train, y_train)\n",
    "\n",
    "# Check the score of the ridge model on test data\n",
    "model.score(X_test, y_test)"
   ]
  },
  {
   "cell_type": "markdown",
   "id": "d544bea9",
   "metadata": {},
   "source": [
    "How do we improve this score?\n",
    "\n",
    "What if Ridge wasn't working?\n",
    "\n",
    "Refer back to map https://scikit-learn.org/stable/tutorial/machine_learning_map/index.html"
   ]
  },
  {
   "cell_type": "code",
<<<<<<< HEAD
   "execution_count": 63,
   "id": "a97e3988",
=======
   "execution_count": 70,
   "id": "c8db5903",
>>>>>>> ad807a3c1d1a9c45834c5a258d98d6f96f102b20
   "metadata": {},
   "outputs": [
    {
     "data": {
      "text/plain": [
       "0.9997254225398743"
      ]
     },
<<<<<<< HEAD
     "execution_count": 63,
=======
     "execution_count": 70,
>>>>>>> ad807a3c1d1a9c45834c5a258d98d6f96f102b20
     "metadata": {},
     "output_type": "execute_result"
    }
   ],
   "source": [
    "# Let's try random forest regressor\n",
    "from sklearn.ensemble import RandomForestRegressor\n",
    "\n",
    "# Setup random seed\n",
    "np.random.seed(42)\n",
    "\n",
    "# Split data into train and test sets\n",
    "X_train, X_test,y_train, y_test = train_test_split(X, y, test_size = 0.2)\n",
    "\n",
    "# Instantiate Regressor model\n",
    "rf = RandomForestRegressor()\n",
    "rf.fit(X_train, y_train)\n",
    "\n",
    "#Evaluate random forest regressor \n",
    "rf.score(X_test, y_test)"
   ]
  },
  {
   "cell_type": "code",
<<<<<<< HEAD
   "execution_count": 64,
   "id": "6d8c6583",
   "metadata": {},
   "outputs": [
    {
     "data": {
      "text/plain": [
       "(0.9999999958220656, 0.9997254225398743)"
      ]
     },
     "execution_count": 64,
     "metadata": {},
     "output_type": "execute_result"
    }
   ],
   "source": [
    "model.score(X_test, y_test), rf.score(X_test, y_test)"
   ]
  },
  {
   "cell_type": "markdown",
   "id": "9e8ac2d8",
   "metadata": {},
   "source": [
    "### 2.2 Choosing estimator for classification problem\n",
    "\n",
    "... let's go to the map https://scikit-learn.org/stable/tutorial/machine_learning_map/index.html"
   ]
  },
  {
   "cell_type": "code",
   "execution_count": 65,
   "id": "b8bc9fdd",
=======
   "execution_count": 71,
   "id": "9fef121a",
>>>>>>> ad807a3c1d1a9c45834c5a258d98d6f96f102b20
   "metadata": {},
   "outputs": [
    {
     "data": {
      "text/html": [
       "<div>\n",
       "<style scoped>\n",
       "    .dataframe tbody tr th:only-of-type {\n",
       "        vertical-align: middle;\n",
       "    }\n",
       "\n",
       "    .dataframe tbody tr th {\n",
       "        vertical-align: top;\n",
       "    }\n",
       "\n",
       "    .dataframe thead th {\n",
       "        text-align: right;\n",
       "    }\n",
       "</style>\n",
       "<table border=\"1\" class=\"dataframe\">\n",
       "  <thead>\n",
       "    <tr style=\"text-align: right;\">\n",
       "      <th></th>\n",
       "      <th>age</th>\n",
       "      <th>sex</th>\n",
       "      <th>cp</th>\n",
       "      <th>trestbps</th>\n",
       "      <th>chol</th>\n",
       "      <th>fbs</th>\n",
       "      <th>restecg</th>\n",
       "      <th>thalach</th>\n",
       "      <th>exang</th>\n",
       "      <th>oldpeak</th>\n",
       "      <th>slope</th>\n",
       "      <th>ca</th>\n",
       "      <th>thal</th>\n",
       "      <th>target</th>\n",
       "    </tr>\n",
       "  </thead>\n",
       "  <tbody>\n",
       "    <tr>\n",
       "      <th>0</th>\n",
       "      <td>63</td>\n",
       "      <td>1</td>\n",
       "      <td>3</td>\n",
       "      <td>145</td>\n",
       "      <td>233</td>\n",
       "      <td>1</td>\n",
       "      <td>0</td>\n",
       "      <td>150</td>\n",
       "      <td>0</td>\n",
       "      <td>2.3</td>\n",
       "      <td>0</td>\n",
       "      <td>0</td>\n",
       "      <td>1</td>\n",
       "      <td>1</td>\n",
       "    </tr>\n",
       "    <tr>\n",
       "      <th>1</th>\n",
       "      <td>37</td>\n",
       "      <td>1</td>\n",
       "      <td>2</td>\n",
       "      <td>130</td>\n",
       "      <td>250</td>\n",
       "      <td>0</td>\n",
       "      <td>1</td>\n",
       "      <td>187</td>\n",
       "      <td>0</td>\n",
       "      <td>3.5</td>\n",
       "      <td>0</td>\n",
       "      <td>0</td>\n",
       "      <td>2</td>\n",
       "      <td>1</td>\n",
       "    </tr>\n",
       "    <tr>\n",
       "      <th>2</th>\n",
       "      <td>41</td>\n",
       "      <td>0</td>\n",
       "      <td>1</td>\n",
       "      <td>130</td>\n",
       "      <td>204</td>\n",
       "      <td>0</td>\n",
       "      <td>0</td>\n",
       "      <td>172</td>\n",
       "      <td>0</td>\n",
       "      <td>1.4</td>\n",
       "      <td>2</td>\n",
       "      <td>0</td>\n",
       "      <td>2</td>\n",
       "      <td>1</td>\n",
       "    </tr>\n",
       "    <tr>\n",
       "      <th>3</th>\n",
       "      <td>56</td>\n",
       "      <td>1</td>\n",
       "      <td>1</td>\n",
       "      <td>120</td>\n",
       "      <td>236</td>\n",
       "      <td>0</td>\n",
       "      <td>1</td>\n",
       "      <td>178</td>\n",
       "      <td>0</td>\n",
       "      <td>0.8</td>\n",
       "      <td>2</td>\n",
       "      <td>0</td>\n",
       "      <td>2</td>\n",
       "      <td>1</td>\n",
       "    </tr>\n",
       "    <tr>\n",
       "      <th>4</th>\n",
       "      <td>57</td>\n",
       "      <td>0</td>\n",
       "      <td>0</td>\n",
       "      <td>120</td>\n",
       "      <td>354</td>\n",
       "      <td>0</td>\n",
       "      <td>1</td>\n",
       "      <td>163</td>\n",
       "      <td>1</td>\n",
       "      <td>0.6</td>\n",
       "      <td>2</td>\n",
       "      <td>0</td>\n",
       "      <td>2</td>\n",
       "      <td>1</td>\n",
       "    </tr>\n",
       "    <tr>\n",
       "      <th>...</th>\n",
       "      <td>...</td>\n",
       "      <td>...</td>\n",
       "      <td>...</td>\n",
       "      <td>...</td>\n",
       "      <td>...</td>\n",
       "      <td>...</td>\n",
       "      <td>...</td>\n",
       "      <td>...</td>\n",
       "      <td>...</td>\n",
       "      <td>...</td>\n",
       "      <td>...</td>\n",
       "      <td>...</td>\n",
       "      <td>...</td>\n",
       "      <td>...</td>\n",
       "    </tr>\n",
       "    <tr>\n",
       "      <th>298</th>\n",
       "      <td>57</td>\n",
       "      <td>0</td>\n",
       "      <td>0</td>\n",
       "      <td>140</td>\n",
       "      <td>241</td>\n",
       "      <td>0</td>\n",
       "      <td>1</td>\n",
       "      <td>123</td>\n",
       "      <td>1</td>\n",
       "      <td>0.2</td>\n",
       "      <td>1</td>\n",
       "      <td>0</td>\n",
       "      <td>3</td>\n",
       "      <td>0</td>\n",
       "    </tr>\n",
       "    <tr>\n",
       "      <th>299</th>\n",
       "      <td>45</td>\n",
       "      <td>1</td>\n",
       "      <td>3</td>\n",
       "      <td>110</td>\n",
       "      <td>264</td>\n",
       "      <td>0</td>\n",
       "      <td>1</td>\n",
       "      <td>132</td>\n",
       "      <td>0</td>\n",
       "      <td>1.2</td>\n",
       "      <td>1</td>\n",
       "      <td>0</td>\n",
       "      <td>3</td>\n",
       "      <td>0</td>\n",
       "    </tr>\n",
       "    <tr>\n",
       "      <th>300</th>\n",
       "      <td>68</td>\n",
       "      <td>1</td>\n",
       "      <td>0</td>\n",
       "      <td>144</td>\n",
       "      <td>193</td>\n",
       "      <td>1</td>\n",
       "      <td>1</td>\n",
       "      <td>141</td>\n",
       "      <td>0</td>\n",
       "      <td>3.4</td>\n",
       "      <td>1</td>\n",
       "      <td>2</td>\n",
       "      <td>3</td>\n",
       "      <td>0</td>\n",
       "    </tr>\n",
       "    <tr>\n",
       "      <th>301</th>\n",
       "      <td>57</td>\n",
       "      <td>1</td>\n",
       "      <td>0</td>\n",
       "      <td>130</td>\n",
       "      <td>131</td>\n",
       "      <td>0</td>\n",
       "      <td>1</td>\n",
       "      <td>115</td>\n",
       "      <td>1</td>\n",
       "      <td>1.2</td>\n",
       "      <td>1</td>\n",
       "      <td>1</td>\n",
       "      <td>3</td>\n",
       "      <td>0</td>\n",
       "    </tr>\n",
       "    <tr>\n",
       "      <th>302</th>\n",
       "      <td>57</td>\n",
       "      <td>0</td>\n",
       "      <td>1</td>\n",
       "      <td>130</td>\n",
       "      <td>236</td>\n",
       "      <td>0</td>\n",
       "      <td>0</td>\n",
       "      <td>174</td>\n",
       "      <td>0</td>\n",
       "      <td>0.0</td>\n",
       "      <td>1</td>\n",
       "      <td>1</td>\n",
       "      <td>2</td>\n",
       "      <td>0</td>\n",
       "    </tr>\n",
       "  </tbody>\n",
       "</table>\n",
       "<p>303 rows × 14 columns</p>\n",
       "</div>"
      ],
      "text/plain": [
       "     age  sex  cp  trestbps  chol  fbs  restecg  thalach  exang  oldpeak  \\\n",
       "0     63    1   3       145   233    1        0      150      0      2.3   \n",
       "1     37    1   2       130   250    0        1      187      0      3.5   \n",
       "2     41    0   1       130   204    0        0      172      0      1.4   \n",
       "3     56    1   1       120   236    0        1      178      0      0.8   \n",
       "4     57    0   0       120   354    0        1      163      1      0.6   \n",
       "..   ...  ...  ..       ...   ...  ...      ...      ...    ...      ...   \n",
       "298   57    0   0       140   241    0        1      123      1      0.2   \n",
       "299   45    1   3       110   264    0        1      132      0      1.2   \n",
       "300   68    1   0       144   193    1        1      141      0      3.4   \n",
       "301   57    1   0       130   131    0        1      115      1      1.2   \n",
       "302   57    0   1       130   236    0        0      174      0      0.0   \n",
       "\n",
       "     slope  ca  thal  target  \n",
       "0        0   0     1       1  \n",
       "1        0   0     2       1  \n",
       "2        2   0     2       1  \n",
       "3        2   0     2       1  \n",
       "4        2   0     2       1  \n",
       "..     ...  ..   ...     ...  \n",
       "298      1   0     3       0  \n",
       "299      1   0     3       0  \n",
       "300      1   2     3       0  \n",
       "301      1   1     3       0  \n",
       "302      1   1     2       0  \n",
       "\n",
       "[303 rows x 14 columns]"
      ]
     },
     "execution_count": 65,
     "metadata": {},
     "output_type": "execute_result"
    }
   ],
   "source": [
    "heart_disease = pd.read_csv(\"../data/heart-disease.csv\")\n",
    "heart_disease"
   ]
  },
  {
   "cell_type": "code",
   "execution_count": 66,
   "id": "6ef3e107",
   "metadata": {},
   "outputs": [
    {
     "data": {
      "text/plain": [
       "303"
      ]
     },
     "execution_count": 66,
     "metadata": {},
     "output_type": "execute_result"
    }
   ],
   "source": [
    "len(heart_disease)"
   ]
  },
  {
   "cell_type": "code",
   "execution_count": 67,
   "id": "0c0833f1",
   "metadata": {},
   "outputs": [],
   "source": [
    "# Make the data\n",
    "X = heart_disease.drop(\"target\", axis = 1)\n",
    "y = heart_disease[\"target\"]"
   ]
  },
  {
   "cell_type": "markdown",
   "id": "556a5802",
   "metadata": {},
   "source": [
    "Consulting the map and it says to try `LinearSVC`"
   ]
  },
  {
   "cell_type": "code",
   "execution_count": 68,
   "id": "5536995e",
   "metadata": {},
   "outputs": [
    {
     "name": "stderr",
     "output_type": "stream",
     "text": [
      "C:\\Users\\ziolk\\Desktop\\ML_Projects\\SampleProject\\env\\lib\\site-packages\\sklearn\\svm\\_base.py:985: ConvergenceWarning: Liblinear failed to converge, increase the number of iterations.\n",
      "  warnings.warn(\"Liblinear failed to converge, increase \"\n"
     ]
    },
    {
     "data": {
      "text/plain": [
       "(0.7933884297520661, 0.8688524590163934)"
      ]
     },
     "execution_count": 68,
     "metadata": {},
     "output_type": "execute_result"
    }
   ],
   "source": [
    "# set up random seed\n",
    "np.random.seed(42)\n",
    "\n",
    "# divide data into training and testing sets\n",
    "from sklearn.model_selection import train_test_split\n",
    "X_train, X_test, y_train, y_test = train_test_split(X, y, test_size=0.2)\n",
    "\n",
    "\n",
    "# Import LinearSVC estimator class \n",
    "from sklearn.svm import LinearSVC\n",
    "\n",
    "# Instantiate LinearSVC\n",
    "clf = LinearSVC()\n",
    "clf.fit(X_train, y_train)\n",
    "clf.score(X_train, y_train), clf.score(X_test, y_test)"
   ]
  },
  {
   "cell_type": "code",
   "execution_count": 69,
   "id": "21c08d42",
   "metadata": {},
   "outputs": [
    {
     "data": {
      "text/html": [
       "<div>\n",
       "<style scoped>\n",
       "    .dataframe tbody tr th:only-of-type {\n",
       "        vertical-align: middle;\n",
       "    }\n",
       "\n",
       "    .dataframe tbody tr th {\n",
       "        vertical-align: top;\n",
       "    }\n",
       "\n",
       "    .dataframe thead th {\n",
       "        text-align: right;\n",
       "    }\n",
       "</style>\n",
       "<table border=\"1\" class=\"dataframe\">\n",
       "  <thead>\n",
       "    <tr style=\"text-align: right;\">\n",
       "      <th></th>\n",
       "      <th>age</th>\n",
       "      <th>sex</th>\n",
       "      <th>cp</th>\n",
       "      <th>trestbps</th>\n",
       "      <th>chol</th>\n",
       "      <th>fbs</th>\n",
       "      <th>restecg</th>\n",
       "      <th>thalach</th>\n",
       "      <th>exang</th>\n",
       "      <th>oldpeak</th>\n",
       "      <th>slope</th>\n",
       "      <th>ca</th>\n",
       "      <th>thal</th>\n",
       "    </tr>\n",
       "  </thead>\n",
       "  <tbody>\n",
       "    <tr>\n",
       "      <th>0</th>\n",
       "      <td>0.270833</td>\n",
       "      <td>1.0</td>\n",
       "      <td>0.333333</td>\n",
       "      <td>0.265306</td>\n",
       "      <td>0.378753</td>\n",
       "      <td>0.0</td>\n",
       "      <td>0.5</td>\n",
       "      <td>0.649123</td>\n",
       "      <td>0.0</td>\n",
       "      <td>0.000000</td>\n",
       "      <td>1.0</td>\n",
       "      <td>0.00</td>\n",
       "      <td>0.666667</td>\n",
       "    </tr>\n",
       "    <tr>\n",
       "      <th>1</th>\n",
       "      <td>0.604167</td>\n",
       "      <td>1.0</td>\n",
       "      <td>0.000000</td>\n",
       "      <td>0.571429</td>\n",
       "      <td>0.321016</td>\n",
       "      <td>0.0</td>\n",
       "      <td>0.0</td>\n",
       "      <td>0.201754</td>\n",
       "      <td>1.0</td>\n",
       "      <td>0.142857</td>\n",
       "      <td>1.0</td>\n",
       "      <td>0.00</td>\n",
       "      <td>1.000000</td>\n",
       "    </tr>\n",
       "    <tr>\n",
       "      <th>2</th>\n",
       "      <td>0.354167</td>\n",
       "      <td>1.0</td>\n",
       "      <td>0.666667</td>\n",
       "      <td>0.571429</td>\n",
       "      <td>0.230947</td>\n",
       "      <td>0.0</td>\n",
       "      <td>0.5</td>\n",
       "      <td>0.517544</td>\n",
       "      <td>0.0</td>\n",
       "      <td>0.642857</td>\n",
       "      <td>0.5</td>\n",
       "      <td>0.00</td>\n",
       "      <td>0.666667</td>\n",
       "    </tr>\n",
       "    <tr>\n",
       "      <th>3</th>\n",
       "      <td>0.541667</td>\n",
       "      <td>0.0</td>\n",
       "      <td>0.333333</td>\n",
       "      <td>0.418367</td>\n",
       "      <td>0.274827</td>\n",
       "      <td>0.0</td>\n",
       "      <td>0.0</td>\n",
       "      <td>0.640351</td>\n",
       "      <td>0.0</td>\n",
       "      <td>0.250000</td>\n",
       "      <td>0.5</td>\n",
       "      <td>0.00</td>\n",
       "      <td>0.666667</td>\n",
       "    </tr>\n",
       "    <tr>\n",
       "      <th>4</th>\n",
       "      <td>0.645833</td>\n",
       "      <td>1.0</td>\n",
       "      <td>0.000000</td>\n",
       "      <td>0.234694</td>\n",
       "      <td>0.228637</td>\n",
       "      <td>1.0</td>\n",
       "      <td>0.5</td>\n",
       "      <td>0.631579</td>\n",
       "      <td>1.0</td>\n",
       "      <td>0.250000</td>\n",
       "      <td>1.0</td>\n",
       "      <td>0.50</td>\n",
       "      <td>1.000000</td>\n",
       "    </tr>\n",
       "    <tr>\n",
       "      <th>...</th>\n",
       "      <td>...</td>\n",
       "      <td>...</td>\n",
       "      <td>...</td>\n",
       "      <td>...</td>\n",
       "      <td>...</td>\n",
       "      <td>...</td>\n",
       "      <td>...</td>\n",
       "      <td>...</td>\n",
       "      <td>...</td>\n",
       "      <td>...</td>\n",
       "      <td>...</td>\n",
       "      <td>...</td>\n",
       "      <td>...</td>\n",
       "    </tr>\n",
       "    <tr>\n",
       "      <th>237</th>\n",
       "      <td>0.437500</td>\n",
       "      <td>1.0</td>\n",
       "      <td>0.666667</td>\n",
       "      <td>0.469388</td>\n",
       "      <td>0.235566</td>\n",
       "      <td>0.0</td>\n",
       "      <td>0.5</td>\n",
       "      <td>0.657895</td>\n",
       "      <td>0.0</td>\n",
       "      <td>0.107143</td>\n",
       "      <td>0.5</td>\n",
       "      <td>0.25</td>\n",
       "      <td>1.000000</td>\n",
       "    </tr>\n",
       "    <tr>\n",
       "      <th>238</th>\n",
       "      <td>0.458333</td>\n",
       "      <td>1.0</td>\n",
       "      <td>0.666667</td>\n",
       "      <td>0.000000</td>\n",
       "      <td>0.221709</td>\n",
       "      <td>0.0</td>\n",
       "      <td>0.5</td>\n",
       "      <td>0.578947</td>\n",
       "      <td>1.0</td>\n",
       "      <td>0.000000</td>\n",
       "      <td>1.0</td>\n",
       "      <td>0.25</td>\n",
       "      <td>1.000000</td>\n",
       "    </tr>\n",
       "    <tr>\n",
       "      <th>239</th>\n",
       "      <td>0.833333</td>\n",
       "      <td>1.0</td>\n",
       "      <td>1.000000</td>\n",
       "      <td>0.673469</td>\n",
       "      <td>0.237875</td>\n",
       "      <td>1.0</td>\n",
       "      <td>0.0</td>\n",
       "      <td>0.377193</td>\n",
       "      <td>0.0</td>\n",
       "      <td>0.017857</td>\n",
       "      <td>0.5</td>\n",
       "      <td>0.25</td>\n",
       "      <td>0.666667</td>\n",
       "    </tr>\n",
       "    <tr>\n",
       "      <th>240</th>\n",
       "      <td>0.354167</td>\n",
       "      <td>1.0</td>\n",
       "      <td>0.000000</td>\n",
       "      <td>0.265306</td>\n",
       "      <td>0.272517</td>\n",
       "      <td>0.0</td>\n",
       "      <td>0.0</td>\n",
       "      <td>0.491228</td>\n",
       "      <td>0.0</td>\n",
       "      <td>0.142857</td>\n",
       "      <td>1.0</td>\n",
       "      <td>0.00</td>\n",
       "      <td>1.000000</td>\n",
       "    </tr>\n",
       "    <tr>\n",
       "      <th>241</th>\n",
       "      <td>0.708333</td>\n",
       "      <td>0.0</td>\n",
       "      <td>0.333333</td>\n",
       "      <td>0.469388</td>\n",
       "      <td>0.147806</td>\n",
       "      <td>0.0</td>\n",
       "      <td>0.5</td>\n",
       "      <td>0.798246</td>\n",
       "      <td>0.0</td>\n",
       "      <td>0.000000</td>\n",
       "      <td>1.0</td>\n",
       "      <td>0.50</td>\n",
       "      <td>0.666667</td>\n",
       "    </tr>\n",
       "  </tbody>\n",
       "</table>\n",
       "<p>242 rows × 13 columns</p>\n",
       "</div>"
      ],
      "text/plain": [
       "          age  sex        cp  trestbps      chol  fbs  restecg   thalach  \\\n",
       "0    0.270833  1.0  0.333333  0.265306  0.378753  0.0      0.5  0.649123   \n",
       "1    0.604167  1.0  0.000000  0.571429  0.321016  0.0      0.0  0.201754   \n",
       "2    0.354167  1.0  0.666667  0.571429  0.230947  0.0      0.5  0.517544   \n",
       "3    0.541667  0.0  0.333333  0.418367  0.274827  0.0      0.0  0.640351   \n",
       "4    0.645833  1.0  0.000000  0.234694  0.228637  1.0      0.5  0.631579   \n",
       "..        ...  ...       ...       ...       ...  ...      ...       ...   \n",
       "237  0.437500  1.0  0.666667  0.469388  0.235566  0.0      0.5  0.657895   \n",
       "238  0.458333  1.0  0.666667  0.000000  0.221709  0.0      0.5  0.578947   \n",
       "239  0.833333  1.0  1.000000  0.673469  0.237875  1.0      0.0  0.377193   \n",
       "240  0.354167  1.0  0.000000  0.265306  0.272517  0.0      0.0  0.491228   \n",
       "241  0.708333  0.0  0.333333  0.469388  0.147806  0.0      0.5  0.798246   \n",
       "\n",
       "     exang   oldpeak  slope    ca      thal  \n",
       "0      0.0  0.000000    1.0  0.00  0.666667  \n",
       "1      1.0  0.142857    1.0  0.00  1.000000  \n",
       "2      0.0  0.642857    0.5  0.00  0.666667  \n",
       "3      0.0  0.250000    0.5  0.00  0.666667  \n",
       "4      1.0  0.250000    1.0  0.50  1.000000  \n",
       "..     ...       ...    ...   ...       ...  \n",
       "237    0.0  0.107143    0.5  0.25  1.000000  \n",
       "238    1.0  0.000000    1.0  0.25  1.000000  \n",
       "239    0.0  0.017857    0.5  0.25  0.666667  \n",
       "240    0.0  0.142857    1.0  0.00  1.000000  \n",
       "241    0.0  0.000000    1.0  0.50  0.666667  \n",
       "\n",
       "[242 rows x 13 columns]"
      ]
     },
     "execution_count": 69,
     "metadata": {},
     "output_type": "execute_result"
    }
   ],
   "source": [
    "# warning due to fact that SVC is not scale invariant - highly suggested to normalise the data\n",
    "\n",
    "# set up random seed\n",
    "np.random.seed(42)\n",
    "\n",
    "# divide data into training and testing sets\n",
    "from sklearn.model_selection import train_test_split\n",
    "X_train, X_test, y_train, y_test = train_test_split(X, y, test_size=0.2)\n",
    "\n",
    "# normalisation (min maxing)\n",
    "heart_disease\n",
    "from sklearn import preprocessing\n",
    "x = X_train.values\n",
    "min_max_scaler = preprocessing.MinMaxScaler()\n",
    "x_scaled = min_max_scaler.fit_transform(x)\n",
    "X_train = pd.DataFrame(x_scaled, columns = X_train.columns)\n",
    "X_train"
   ]
  },
  {
   "cell_type": "code",
   "execution_count": 70,
   "id": "c8db5903",
   "metadata": {},
   "outputs": [
    {
     "data": {
      "text/plain": [
       "(0.859504132231405, 0.47540983606557374)"
      ]
     },
     "execution_count": 70,
     "metadata": {},
     "output_type": "execute_result"
    }
   ],
   "source": [
    "clf = LinearSVC()\n",
    "clf.fit(X_train, y_train)\n",
    "clf.score(X_train, y_train), clf.score(X_test, y_test)"
   ]
  },
  {
   "cell_type": "code",
   "execution_count": 71,
   "id": "9fef121a",
   "metadata": {},
   "outputs": [
    {
     "data": {
      "text/html": [
       "<div>\n",
       "<style scoped>\n",
       "    .dataframe tbody tr th:only-of-type {\n",
       "        vertical-align: middle;\n",
       "    }\n",
       "\n",
       "    .dataframe tbody tr th {\n",
       "        vertical-align: top;\n",
       "    }\n",
       "\n",
       "    .dataframe thead th {\n",
       "        text-align: right;\n",
       "    }\n",
       "</style>\n",
       "<table border=\"1\" class=\"dataframe\">\n",
       "  <thead>\n",
       "    <tr style=\"text-align: right;\">\n",
       "      <th></th>\n",
       "      <th>age</th>\n",
       "      <th>sex</th>\n",
       "      <th>cp</th>\n",
       "      <th>trestbps</th>\n",
       "      <th>chol</th>\n",
       "      <th>fbs</th>\n",
       "      <th>restecg</th>\n",
       "      <th>thalach</th>\n",
       "      <th>exang</th>\n",
       "      <th>oldpeak</th>\n",
       "      <th>slope</th>\n",
       "      <th>ca</th>\n",
       "      <th>thal</th>\n",
       "    </tr>\n",
       "  </thead>\n",
       "  <tbody>\n",
       "    <tr>\n",
       "      <th>0</th>\n",
       "      <td>-1.356798</td>\n",
       "      <td>0.722504</td>\n",
       "      <td>0.008099</td>\n",
       "      <td>-0.616856</td>\n",
       "      <td>0.914034</td>\n",
       "      <td>-0.383301</td>\n",
       "      <td>0.843133</td>\n",
       "      <td>0.532781</td>\n",
       "      <td>-0.676632</td>\n",
       "      <td>-0.920864</td>\n",
       "      <td>0.953905</td>\n",
       "      <td>-0.689701</td>\n",
       "      <td>-0.509048</td>\n",
       "    </tr>\n",
       "    <tr>\n",
       "      <th>1</th>\n",
       "      <td>0.385086</td>\n",
       "      <td>0.722504</td>\n",
       "      <td>-0.971891</td>\n",
       "      <td>1.169491</td>\n",
       "      <td>0.439527</td>\n",
       "      <td>-0.383301</td>\n",
       "      <td>-1.046109</td>\n",
       "      <td>-1.753582</td>\n",
       "      <td>1.477907</td>\n",
       "      <td>-0.193787</td>\n",
       "      <td>0.953905</td>\n",
       "      <td>-0.689701</td>\n",
       "      <td>1.178480</td>\n",
       "    </tr>\n",
       "    <tr>\n",
       "      <th>2</th>\n",
       "      <td>-0.921327</td>\n",
       "      <td>0.722504</td>\n",
       "      <td>0.988089</td>\n",
       "      <td>1.169491</td>\n",
       "      <td>-0.300704</td>\n",
       "      <td>-0.383301</td>\n",
       "      <td>0.843133</td>\n",
       "      <td>-0.139679</td>\n",
       "      <td>-0.676632</td>\n",
       "      <td>2.350982</td>\n",
       "      <td>-0.694988</td>\n",
       "      <td>-0.689701</td>\n",
       "      <td>-0.509048</td>\n",
       "    </tr>\n",
       "    <tr>\n",
       "      <th>3</th>\n",
       "      <td>0.058483</td>\n",
       "      <td>-1.384075</td>\n",
       "      <td>0.008099</td>\n",
       "      <td>0.276318</td>\n",
       "      <td>0.059921</td>\n",
       "      <td>-0.383301</td>\n",
       "      <td>-1.046109</td>\n",
       "      <td>0.487950</td>\n",
       "      <td>-0.676632</td>\n",
       "      <td>0.351521</td>\n",
       "      <td>-0.694988</td>\n",
       "      <td>-0.689701</td>\n",
       "      <td>-0.509048</td>\n",
       "    </tr>\n",
       "    <tr>\n",
       "      <th>4</th>\n",
       "      <td>0.602822</td>\n",
       "      <td>0.722504</td>\n",
       "      <td>-0.971891</td>\n",
       "      <td>-0.795490</td>\n",
       "      <td>-0.319684</td>\n",
       "      <td>2.608918</td>\n",
       "      <td>0.843133</td>\n",
       "      <td>0.443119</td>\n",
       "      <td>1.477907</td>\n",
       "      <td>0.351521</td>\n",
       "      <td>0.953905</td>\n",
       "      <td>1.333421</td>\n",
       "      <td>1.178480</td>\n",
       "    </tr>\n",
       "    <tr>\n",
       "      <th>...</th>\n",
       "      <td>...</td>\n",
       "      <td>...</td>\n",
       "      <td>...</td>\n",
       "      <td>...</td>\n",
       "      <td>...</td>\n",
       "      <td>...</td>\n",
       "      <td>...</td>\n",
       "      <td>...</td>\n",
       "      <td>...</td>\n",
       "      <td>...</td>\n",
       "      <td>...</td>\n",
       "      <td>...</td>\n",
       "      <td>...</td>\n",
       "    </tr>\n",
       "    <tr>\n",
       "      <th>237</th>\n",
       "      <td>-0.485856</td>\n",
       "      <td>0.722504</td>\n",
       "      <td>0.988089</td>\n",
       "      <td>0.574042</td>\n",
       "      <td>-0.262744</td>\n",
       "      <td>-0.383301</td>\n",
       "      <td>0.843133</td>\n",
       "      <td>0.577611</td>\n",
       "      <td>-0.676632</td>\n",
       "      <td>-0.375556</td>\n",
       "      <td>-0.694988</td>\n",
       "      <td>0.321860</td>\n",
       "      <td>1.178480</td>\n",
       "    </tr>\n",
       "    <tr>\n",
       "      <th>238</th>\n",
       "      <td>-0.376988</td>\n",
       "      <td>0.722504</td>\n",
       "      <td>0.988089</td>\n",
       "      <td>-2.165023</td>\n",
       "      <td>-0.376625</td>\n",
       "      <td>-0.383301</td>\n",
       "      <td>0.843133</td>\n",
       "      <td>0.174136</td>\n",
       "      <td>1.477907</td>\n",
       "      <td>-0.920864</td>\n",
       "      <td>0.953905</td>\n",
       "      <td>0.321860</td>\n",
       "      <td>1.178480</td>\n",
       "    </tr>\n",
       "    <tr>\n",
       "      <th>239</th>\n",
       "      <td>1.582631</td>\n",
       "      <td>0.722504</td>\n",
       "      <td>1.968079</td>\n",
       "      <td>1.764940</td>\n",
       "      <td>-0.243763</td>\n",
       "      <td>2.608918</td>\n",
       "      <td>-1.046109</td>\n",
       "      <td>-0.856969</td>\n",
       "      <td>-0.676632</td>\n",
       "      <td>-0.829979</td>\n",
       "      <td>-0.694988</td>\n",
       "      <td>0.321860</td>\n",
       "      <td>-0.509048</td>\n",
       "    </tr>\n",
       "    <tr>\n",
       "      <th>240</th>\n",
       "      <td>-0.921327</td>\n",
       "      <td>0.722504</td>\n",
       "      <td>-0.971891</td>\n",
       "      <td>-0.616856</td>\n",
       "      <td>0.040941</td>\n",
       "      <td>-0.383301</td>\n",
       "      <td>-1.046109</td>\n",
       "      <td>-0.274171</td>\n",
       "      <td>-0.676632</td>\n",
       "      <td>-0.193787</td>\n",
       "      <td>0.953905</td>\n",
       "      <td>-0.689701</td>\n",
       "      <td>1.178480</td>\n",
       "    </tr>\n",
       "    <tr>\n",
       "      <th>241</th>\n",
       "      <td>0.929425</td>\n",
       "      <td>-1.384075</td>\n",
       "      <td>0.008099</td>\n",
       "      <td>0.574042</td>\n",
       "      <td>-0.983994</td>\n",
       "      <td>-0.383301</td>\n",
       "      <td>0.843133</td>\n",
       "      <td>1.294902</td>\n",
       "      <td>-0.676632</td>\n",
       "      <td>-0.920864</td>\n",
       "      <td>0.953905</td>\n",
       "      <td>1.333421</td>\n",
       "      <td>-0.509048</td>\n",
       "    </tr>\n",
       "  </tbody>\n",
       "</table>\n",
       "<p>242 rows × 13 columns</p>\n",
       "</div>"
      ],
      "text/plain": [
       "          age       sex        cp  trestbps      chol       fbs   restecg  \\\n",
       "0   -1.356798  0.722504  0.008099 -0.616856  0.914034 -0.383301  0.843133   \n",
       "1    0.385086  0.722504 -0.971891  1.169491  0.439527 -0.383301 -1.046109   \n",
       "2   -0.921327  0.722504  0.988089  1.169491 -0.300704 -0.383301  0.843133   \n",
       "3    0.058483 -1.384075  0.008099  0.276318  0.059921 -0.383301 -1.046109   \n",
       "4    0.602822  0.722504 -0.971891 -0.795490 -0.319684  2.608918  0.843133   \n",
       "..        ...       ...       ...       ...       ...       ...       ...   \n",
       "237 -0.485856  0.722504  0.988089  0.574042 -0.262744 -0.383301  0.843133   \n",
       "238 -0.376988  0.722504  0.988089 -2.165023 -0.376625 -0.383301  0.843133   \n",
       "239  1.582631  0.722504  1.968079  1.764940 -0.243763  2.608918 -1.046109   \n",
       "240 -0.921327  0.722504 -0.971891 -0.616856  0.040941 -0.383301 -1.046109   \n",
       "241  0.929425 -1.384075  0.008099  0.574042 -0.983994 -0.383301  0.843133   \n",
       "\n",
       "      thalach     exang   oldpeak     slope        ca      thal  \n",
       "0    0.532781 -0.676632 -0.920864  0.953905 -0.689701 -0.509048  \n",
       "1   -1.753582  1.477907 -0.193787  0.953905 -0.689701  1.178480  \n",
       "2   -0.139679 -0.676632  2.350982 -0.694988 -0.689701 -0.509048  \n",
       "3    0.487950 -0.676632  0.351521 -0.694988 -0.689701 -0.509048  \n",
       "4    0.443119  1.477907  0.351521  0.953905  1.333421  1.178480  \n",
       "..        ...       ...       ...       ...       ...       ...  \n",
       "237  0.577611 -0.676632 -0.375556 -0.694988  0.321860  1.178480  \n",
       "238  0.174136  1.477907 -0.920864  0.953905  0.321860  1.178480  \n",
       "239 -0.856969 -0.676632 -0.829979 -0.694988  0.321860 -0.509048  \n",
       "240 -0.274171 -0.676632 -0.193787  0.953905 -0.689701  1.178480  \n",
       "241  1.294902 -0.676632 -0.920864  0.953905  1.333421 -0.509048  \n",
       "\n",
       "[242 rows x 13 columns]"
      ]
     },
     "execution_count": 71,
     "metadata": {},
     "output_type": "execute_result"
    }
   ],
   "source": [
    "# Standarisation \n",
    "from sklearn.preprocessing import StandardScaler\n",
    "\n",
    "# set up random seed\n",
    "np.random.seed(42)\n",
    "\n",
    "# divide data into training and testing sets\n",
    "from sklearn.model_selection import train_test_split\n",
    "X_train, X_test, y_train, y_test = train_test_split(X, y, test_size=0.2)\n",
    "\n",
    "scaler = StandardScaler().fit(X_train)\n",
    "X_scaled = scaler.transform(X_train)\n",
    "X_train_scaled = pd.DataFrame(X_scaled, columns = X_train.columns)\n",
    "X_train_scaled"
   ]
  },
  {
   "cell_type": "code",
   "execution_count": 72,
   "id": "b5424134",
   "metadata": {},
   "outputs": [
    {
     "data": {
      "text/plain": [
       "(0.859504132231405, 0.5081967213114754)"
      ]
     },
     "execution_count": 72,
     "metadata": {},
     "output_type": "execute_result"
    }
   ],
   "source": [
    "clf = LinearSVC()\n",
    "clf.fit(X_train_scaled, y_train)\n",
    "clf.score(X_train_scaled, y_train), clf.score(X_test, y_test)"
   ]
  },
  {
   "cell_type": "markdown",
   "id": "6e24866e",
   "metadata": {},
   "source": [
    "Considering it's binary problem score of 0.5 is highly undesirable "
   ]
  },
  {
   "cell_type": "code",
   "execution_count": 73,
   "id": "307b9594",
   "metadata": {},
   "outputs": [
    {
     "data": {
      "text/plain": [
       "0.8524590163934426"
      ]
     },
     "execution_count": 73,
     "metadata": {},
     "output_type": "execute_result"
    }
   ],
   "source": [
    "# import the randomforestclassifier \n",
    "from sklearn.ensemble import RandomForestClassifier\n",
    "\n",
    "# setup random seed\n",
    "np.random.seed(42)\n",
    "\n",
    "# make the data\n",
    "X = heart_disease.drop(\"target\", axis = 1)\n",
    "y = heart_disease[\"target\"]\n",
    "\n",
    "# split the data\n",
    "X_train, X_test, y_train, y_test = train_test_split(X, y, test_size = 0.2)\n",
    "\n",
    "# instantiate Random Forest Classifier\n",
    "\n",
    "rf = RandomForestClassifier()\n",
    "rf.fit(X_train, y_train)\n",
    "\n",
    "# evaluate\n",
    "rf.score(X_test, y_test)"
   ]
  },
  {
   "cell_type": "markdown",
   "id": "0b98a244",
   "metadata": {},
   "source": [
    "Nicc\n",
    "\n",
    "There's tidbit in ML community: \n",
    " 1. if you're working with structured data there are high chances that ensembles will perform well\n",
    " 2. if you're working with unstructured data, use deep learning or transfer learning"
   ]
  },
  {
   "cell_type": "markdown",
   "id": "e7c98d60",
   "metadata": {},
   "source": [
    "## 3. Fit the model/algorithm on our data and use it to make predictions\n",
    "\n",
    "### 3.1 Fitting the model to the data\n",
    "\n",
    "Differnt names for:\n",
    "* `X` = features, feature variables\n",
    "* `y` = label, targets, target variables"
   ]
  },
  {
   "cell_type": "code",
   "execution_count": 74,
   "id": "93448aaf",
   "metadata": {},
   "outputs": [
    {
     "data": {
      "text/plain": [
       "0.8360655737704918"
      ]
     },
     "execution_count": 74,
     "metadata": {},
     "output_type": "execute_result"
    }
   ],
   "source": [
    "# import randomforestclassifier\n",
    "from sklearn.ensemble import RandomForestClassifier\n",
    "\n",
    "# make the data\n",
    "X = heart_disease.drop(\"target\", axis = 1)\n",
    "y = heart_disease[\"target\"]\n",
    "\n",
    "# split the data into training and testing sets\n",
    "from sklearn.model_selection import train_test_split\n",
    "X_train, X_test, y_train, y_test = train_test_split(X, y, test_size=0.2)\n",
    "\n",
    "# set random seed\n",
    "np.random.seed(42)\n",
    "\n",
    "# instantiate the model\n",
    "clf = RandomForestClassifier()\n",
    "\n",
    "# fit the model to the data (train the machine learning model)\n",
    "clf.fit(X_train, y_train)\n",
    "\n",
    "\n",
    "#evaluate the model (use the patterns the model has learned)\n",
    "clf.score(X_test, y_test)"
   ]
  },
  {
   "cell_type": "code",
   "execution_count": 75,
   "id": "48aa0d2c",
   "metadata": {},
   "outputs": [
    {
     "data": {
      "text/html": [
       "<div>\n",
       "<style scoped>\n",
       "    .dataframe tbody tr th:only-of-type {\n",
       "        vertical-align: middle;\n",
       "    }\n",
       "\n",
       "    .dataframe tbody tr th {\n",
       "        vertical-align: top;\n",
       "    }\n",
       "\n",
       "    .dataframe thead th {\n",
       "        text-align: right;\n",
       "    }\n",
       "</style>\n",
       "<table border=\"1\" class=\"dataframe\">\n",
       "  <thead>\n",
       "    <tr style=\"text-align: right;\">\n",
       "      <th></th>\n",
       "      <th>age</th>\n",
       "      <th>sex</th>\n",
       "      <th>cp</th>\n",
       "      <th>trestbps</th>\n",
       "      <th>chol</th>\n",
       "      <th>fbs</th>\n",
       "      <th>restecg</th>\n",
       "      <th>thalach</th>\n",
       "      <th>exang</th>\n",
       "      <th>oldpeak</th>\n",
       "      <th>slope</th>\n",
       "      <th>ca</th>\n",
       "      <th>thal</th>\n",
       "    </tr>\n",
       "  </thead>\n",
       "  <tbody>\n",
       "    <tr>\n",
       "      <th>0</th>\n",
       "      <td>63</td>\n",
       "      <td>1</td>\n",
       "      <td>3</td>\n",
       "      <td>145</td>\n",
       "      <td>233</td>\n",
       "      <td>1</td>\n",
       "      <td>0</td>\n",
       "      <td>150</td>\n",
       "      <td>0</td>\n",
       "      <td>2.3</td>\n",
       "      <td>0</td>\n",
       "      <td>0</td>\n",
       "      <td>1</td>\n",
       "    </tr>\n",
       "    <tr>\n",
       "      <th>1</th>\n",
       "      <td>37</td>\n",
       "      <td>1</td>\n",
       "      <td>2</td>\n",
       "      <td>130</td>\n",
       "      <td>250</td>\n",
       "      <td>0</td>\n",
       "      <td>1</td>\n",
       "      <td>187</td>\n",
       "      <td>0</td>\n",
       "      <td>3.5</td>\n",
       "      <td>0</td>\n",
       "      <td>0</td>\n",
       "      <td>2</td>\n",
       "    </tr>\n",
       "    <tr>\n",
       "      <th>2</th>\n",
       "      <td>41</td>\n",
       "      <td>0</td>\n",
       "      <td>1</td>\n",
       "      <td>130</td>\n",
       "      <td>204</td>\n",
       "      <td>0</td>\n",
       "      <td>0</td>\n",
       "      <td>172</td>\n",
       "      <td>0</td>\n",
       "      <td>1.4</td>\n",
       "      <td>2</td>\n",
       "      <td>0</td>\n",
       "      <td>2</td>\n",
       "    </tr>\n",
       "    <tr>\n",
       "      <th>3</th>\n",
       "      <td>56</td>\n",
       "      <td>1</td>\n",
       "      <td>1</td>\n",
       "      <td>120</td>\n",
       "      <td>236</td>\n",
       "      <td>0</td>\n",
       "      <td>1</td>\n",
       "      <td>178</td>\n",
       "      <td>0</td>\n",
       "      <td>0.8</td>\n",
       "      <td>2</td>\n",
       "      <td>0</td>\n",
       "      <td>2</td>\n",
       "    </tr>\n",
       "    <tr>\n",
       "      <th>4</th>\n",
       "      <td>57</td>\n",
       "      <td>0</td>\n",
       "      <td>0</td>\n",
       "      <td>120</td>\n",
       "      <td>354</td>\n",
       "      <td>0</td>\n",
       "      <td>1</td>\n",
       "      <td>163</td>\n",
       "      <td>1</td>\n",
       "      <td>0.6</td>\n",
       "      <td>2</td>\n",
       "      <td>0</td>\n",
       "      <td>2</td>\n",
       "    </tr>\n",
       "  </tbody>\n",
       "</table>\n",
       "</div>"
      ],
      "text/plain": [
       "   age  sex  cp  trestbps  chol  fbs  restecg  thalach  exang  oldpeak  slope  \\\n",
       "0   63    1   3       145   233    1        0      150      0      2.3      0   \n",
       "1   37    1   2       130   250    0        1      187      0      3.5      0   \n",
       "2   41    0   1       130   204    0        0      172      0      1.4      2   \n",
       "3   56    1   1       120   236    0        1      178      0      0.8      2   \n",
       "4   57    0   0       120   354    0        1      163      1      0.6      2   \n",
       "\n",
       "   ca  thal  \n",
       "0   0     1  \n",
       "1   0     2  \n",
       "2   0     2  \n",
       "3   0     2  \n",
       "4   0     2  "
      ]
     },
     "metadata": {},
     "output_type": "display_data"
    },
    {
     "data": {
      "text/plain": [
       "0    1\n",
       "1    1\n",
       "2    1\n",
       "3    1\n",
       "4    1\n",
       "Name: target, dtype: int64"
      ]
     },
     "metadata": {},
     "output_type": "display_data"
    }
   ],
   "source": [
    "display(X.head(), y.head())"
   ]
  },
  {
   "cell_type": "markdown",
   "id": "e696cc6b",
   "metadata": {},
   "source": [
    "### 3.2 Make predictions using machine learning model\n",
    "\n",
    "2 ways to make predictions:\n",
    "1. `predict()`\n",
    "2. `predict_proba()`"
   ]
  },
  {
   "cell_type": "code",
   "execution_count": 76,
   "id": "90957e9b",
   "metadata": {},
   "outputs": [
    {
     "data": {
      "text/plain": [
       "array([0, 0, 1, 0, 1, 1, 1, 0, 1, 1, 1, 0, 1, 0, 1, 1, 1, 0, 0, 1, 1, 1,\n",
       "       0, 1, 0, 0, 0, 0, 1, 1, 0, 1, 0, 1, 1, 0, 1, 0, 1, 1, 0, 1, 0, 0,\n",
       "       1, 0, 0, 1, 1, 0, 0, 0, 1, 1, 1, 1, 1, 0, 1, 0, 1], dtype=int64)"
      ]
     },
<<<<<<< HEAD
     "execution_count": 76,
=======
     "execution_count": 71,
>>>>>>> ad807a3c1d1a9c45834c5a258d98d6f96f102b20
     "metadata": {},
     "output_type": "execute_result"
    }
   ],
   "source": [
    "# Use trained model to make predictions\n",
    "\n",
    "# clf.predict(np.array([1,2,3,4,5])) # this won't work as the data has to have same shape (sort of)\n",
    "\n",
    "clf.predict(X_test)"
   ]
  },
  {
   "cell_type": "code",
<<<<<<< HEAD
   "execution_count": 77,
   "id": "7a84abed",
=======
   "execution_count": 72,
   "id": "b5424134",
>>>>>>> ad807a3c1d1a9c45834c5a258d98d6f96f102b20
   "metadata": {},
   "outputs": [
    {
     "data": {
      "text/plain": [
       "0.8360655737704918"
      ]
     },
<<<<<<< HEAD
     "execution_count": 77,
=======
     "execution_count": 72,
>>>>>>> ad807a3c1d1a9c45834c5a258d98d6f96f102b20
     "metadata": {},
     "output_type": "execute_result"
    }
   ],
   "source": [
    "# Compare predictions to the truth labels to evaluate the model\n",
    "y_preds = clf.predict(X_test) # good practice to assign predicted data to a variable \n",
    "np.mean(y_preds == y_test)"
   ]
  },
  {
   "cell_type": "code",
   "execution_count": 78,
   "id": "b7109aa0",
   "metadata": {},
   "outputs": [
    {
     "data": {
      "text/plain": [
       "(51, 61, 0.8360655737704918, 0.8360655737704918)"
      ]
     },
     "execution_count": 78,
     "metadata": {},
     "output_type": "execute_result"
    }
   ],
   "source": [
    "sum(y_preds == y_test), len(X_test), 51/61, clf.score(X_test, y_test)"
   ]
  },
  {
   "cell_type": "code",
<<<<<<< HEAD
   "execution_count": 79,
   "id": "196b3981",
=======
   "execution_count": 73,
   "id": "307b9594",
>>>>>>> ad807a3c1d1a9c45834c5a258d98d6f96f102b20
   "metadata": {},
   "outputs": [
    {
     "data": {
      "text/plain": [
       "0.8360655737704918"
      ]
     },
<<<<<<< HEAD
     "execution_count": 79,
=======
     "execution_count": 73,
>>>>>>> ad807a3c1d1a9c45834c5a258d98d6f96f102b20
     "metadata": {},
     "output_type": "execute_result"
    }
   ],
   "source": [
    "from sklearn.metrics import accuracy_score \n",
    "accuracy_score(y_test, y_preds)"
   ]
  },
  {
   "cell_type": "markdown",
   "id": "981be131",
   "metadata": {},
   "source": [
    "Make predictions with `predict_proba()`"
   ]
  },
  {
   "cell_type": "code",
   "execution_count": 80,
   "id": "b6aad846",
   "metadata": {},
   "outputs": [
    {
     "data": {
      "text/plain": [
       "array([[0.65, 0.35],\n",
       "       [0.62, 0.38],\n",
       "       [0.12, 0.88],\n",
       "       [0.6 , 0.4 ],\n",
       "       [0.32, 0.68]])"
      ]
     },
     "execution_count": 80,
     "metadata": {},
     "output_type": "execute_result"
    }
   ],
   "source": [
    "# predict_proba() returns probabilities of a classification label \n",
    "clf.predict_proba(X_test[:5])"
   ]
  },
  {
   "cell_type": "code",
<<<<<<< HEAD
   "execution_count": 81,
   "id": "d4f2fe63",
=======
   "execution_count": 74,
   "id": "93448aaf",
>>>>>>> ad807a3c1d1a9c45834c5a258d98d6f96f102b20
   "metadata": {},
   "outputs": [
    {
     "data": {
      "text/plain": [
       "array([0, 0, 1, 0, 1], dtype=int64)"
      ]
     },
<<<<<<< HEAD
     "execution_count": 81,
=======
     "execution_count": 74,
>>>>>>> ad807a3c1d1a9c45834c5a258d98d6f96f102b20
     "metadata": {},
     "output_type": "execute_result"
    }
   ],
   "source": [
    "# let's predict on the same data\n",
    "clf.predict(X_test[:5])"
   ]
  },
  {
<<<<<<< HEAD
   "cell_type": "markdown",
   "id": "cf21081a",
   "metadata": {},
   "source": [
    "Useful when you want to check if your model is confident with the outputs and allows to investigate why the model isn't sure about given samples."
   ]
  },
  {
   "cell_type": "markdown",
   "id": "7be7803d",
=======
   "cell_type": "code",
   "execution_count": 75,
   "id": "48aa0d2c",
>>>>>>> ad807a3c1d1a9c45834c5a258d98d6f96f102b20
   "metadata": {},
   "source": [
    "`predict()` can also be used for regression models"
   ]
  },
  {
   "cell_type": "code",
   "execution_count": 82,
   "id": "9dda4bdb",
   "metadata": {
    "scrolled": true
   },
   "outputs": [
    {
     "data": {
      "text/html": [
       "<div>\n",
       "<style scoped>\n",
       "    .dataframe tbody tr th:only-of-type {\n",
       "        vertical-align: middle;\n",
       "    }\n",
       "\n",
       "    .dataframe tbody tr th {\n",
       "        vertical-align: top;\n",
       "    }\n",
       "\n",
       "    .dataframe thead th {\n",
       "        text-align: right;\n",
       "    }\n",
       "</style>\n",
       "<table border=\"1\" class=\"dataframe\">\n",
       "  <thead>\n",
       "    <tr style=\"text-align: right;\">\n",
       "      <th></th>\n",
       "      <th>CRIM</th>\n",
       "      <th>ZN</th>\n",
       "      <th>INDUS</th>\n",
       "      <th>CHAS</th>\n",
       "      <th>NOX</th>\n",
       "      <th>RM</th>\n",
       "      <th>AGE</th>\n",
       "      <th>DIS</th>\n",
       "      <th>RAD</th>\n",
       "      <th>TAX</th>\n",
       "      <th>PTRATIO</th>\n",
       "      <th>B</th>\n",
       "      <th>LSTAT</th>\n",
       "      <th>target</th>\n",
       "    </tr>\n",
       "  </thead>\n",
       "  <tbody>\n",
       "    <tr>\n",
       "      <th>0</th>\n",
       "      <td>0.00632</td>\n",
       "      <td>18.0</td>\n",
       "      <td>2.31</td>\n",
       "      <td>0.0</td>\n",
       "      <td>0.538</td>\n",
       "      <td>6.575</td>\n",
       "      <td>65.2</td>\n",
       "      <td>4.0900</td>\n",
       "      <td>1.0</td>\n",
       "      <td>296.0</td>\n",
       "      <td>15.3</td>\n",
       "      <td>396.90</td>\n",
       "      <td>4.98</td>\n",
       "      <td>24.0</td>\n",
       "    </tr>\n",
       "    <tr>\n",
       "      <th>1</th>\n",
       "      <td>0.02731</td>\n",
       "      <td>0.0</td>\n",
       "      <td>7.07</td>\n",
       "      <td>0.0</td>\n",
       "      <td>0.469</td>\n",
       "      <td>6.421</td>\n",
       "      <td>78.9</td>\n",
       "      <td>4.9671</td>\n",
       "      <td>2.0</td>\n",
       "      <td>242.0</td>\n",
       "      <td>17.8</td>\n",
       "      <td>396.90</td>\n",
       "      <td>9.14</td>\n",
       "      <td>21.6</td>\n",
       "    </tr>\n",
       "    <tr>\n",
       "      <th>2</th>\n",
       "      <td>0.02729</td>\n",
       "      <td>0.0</td>\n",
       "      <td>7.07</td>\n",
       "      <td>0.0</td>\n",
       "      <td>0.469</td>\n",
       "      <td>7.185</td>\n",
       "      <td>61.1</td>\n",
       "      <td>4.9671</td>\n",
       "      <td>2.0</td>\n",
       "      <td>242.0</td>\n",
       "      <td>17.8</td>\n",
       "      <td>392.83</td>\n",
       "      <td>4.03</td>\n",
       "      <td>34.7</td>\n",
       "    </tr>\n",
       "    <tr>\n",
       "      <th>3</th>\n",
       "      <td>0.03237</td>\n",
       "      <td>0.0</td>\n",
       "      <td>2.18</td>\n",
       "      <td>0.0</td>\n",
       "      <td>0.458</td>\n",
       "      <td>6.998</td>\n",
       "      <td>45.8</td>\n",
       "      <td>6.0622</td>\n",
       "      <td>3.0</td>\n",
       "      <td>222.0</td>\n",
       "      <td>18.7</td>\n",
       "      <td>394.63</td>\n",
       "      <td>2.94</td>\n",
       "      <td>33.4</td>\n",
       "    </tr>\n",
       "    <tr>\n",
       "      <th>4</th>\n",
       "      <td>0.06905</td>\n",
       "      <td>0.0</td>\n",
       "      <td>2.18</td>\n",
       "      <td>0.0</td>\n",
       "      <td>0.458</td>\n",
       "      <td>7.147</td>\n",
       "      <td>54.2</td>\n",
       "      <td>6.0622</td>\n",
       "      <td>3.0</td>\n",
       "      <td>222.0</td>\n",
       "      <td>18.7</td>\n",
       "      <td>396.90</td>\n",
       "      <td>5.33</td>\n",
       "      <td>36.2</td>\n",
       "    </tr>\n",
       "  </tbody>\n",
       "</table>\n",
       "</div>"
      ],
      "text/plain": [
       "      CRIM    ZN  INDUS  CHAS    NOX     RM   AGE     DIS  RAD    TAX  \\\n",
       "0  0.00632  18.0   2.31   0.0  0.538  6.575  65.2  4.0900  1.0  296.0   \n",
       "1  0.02731   0.0   7.07   0.0  0.469  6.421  78.9  4.9671  2.0  242.0   \n",
       "2  0.02729   0.0   7.07   0.0  0.469  7.185  61.1  4.9671  2.0  242.0   \n",
       "3  0.03237   0.0   2.18   0.0  0.458  6.998  45.8  6.0622  3.0  222.0   \n",
       "4  0.06905   0.0   2.18   0.0  0.458  7.147  54.2  6.0622  3.0  222.0   \n",
       "\n",
       "   PTRATIO       B  LSTAT  target  \n",
       "0     15.3  396.90   4.98    24.0  \n",
       "1     17.8  396.90   9.14    21.6  \n",
       "2     17.8  392.83   4.03    34.7  \n",
       "3     18.7  394.63   2.94    33.4  \n",
       "4     18.7  396.90   5.33    36.2  "
      ]
     },
     "execution_count": 82,
     "metadata": {},
     "output_type": "execute_result"
    }
   ],
   "source": [
    "boston_df.head()"
   ]
  },
  {
   "cell_type": "code",
   "execution_count": 83,
   "id": "18c4e16c",
   "metadata": {},
   "outputs": [],
   "source": [
    "# import RandomForestRegressor model\n",
    "from sklearn.ensemble import RandomForestRegressor\n",
    "\n",
    "np.random.seed(42)\n",
    "\n",
    "# make data\n",
    "X = boston_df.drop(\"target\", axis = 1)\n",
    "y = boston_df[\"target\"]\n",
    "\n",
    "# split data into training and testing sets\n",
    "from sklearn.model_selection import train_test_split\n",
    "X_train, X_test, y_train, y_test = train_test_split(X,y, test_size=0.2)\n",
    "\n",
    "# instantiate and fit model to data\n",
    "model = RandomForestRegressor().fit(X_train, y_train) # code chaining\n",
    "\n",
    "# make predictions\n",
    "y_preds = model.predict(X_test) "
   ]
  },
  {
   "cell_type": "code",
   "execution_count": 84,
   "id": "83b9fe69",
   "metadata": {},
   "outputs": [
    {
     "data": {
      "text/plain": [
       "array([23.081, 30.574, 16.759, 23.46 , 16.893, 21.644, 19.113, 15.334,\n",
       "       21.14 , 20.639])"
      ]
     },
     "execution_count": 84,
     "metadata": {},
     "output_type": "execute_result"
    }
   ],
   "source": [
    "y_preds[:10]"
   ]
  },
  {
   "cell_type": "code",
<<<<<<< HEAD
   "execution_count": 85,
   "id": "47b27725",
=======
   "execution_count": 77,
   "id": "7a84abed",
>>>>>>> ad807a3c1d1a9c45834c5a258d98d6f96f102b20
   "metadata": {},
   "outputs": [
    {
     "data": {
      "text/plain": [
       "array([23.6, 32.4, 13.6, 22.8, 16.1, 20. , 17.8, 14. , 19.6, 16.8])"
      ]
     },
<<<<<<< HEAD
     "execution_count": 85,
=======
     "execution_count": 77,
>>>>>>> ad807a3c1d1a9c45834c5a258d98d6f96f102b20
     "metadata": {},
     "output_type": "execute_result"
    }
   ],
   "source": [
    "np.array(y_test[:10])"
   ]
  },
  {
   "cell_type": "code",
   "execution_count": 86,
   "id": "cc79694e",
   "metadata": {},
   "outputs": [
    {
     "data": {
      "text/plain": [
       "2.136382352941176"
      ]
     },
     "execution_count": 86,
     "metadata": {},
     "output_type": "execute_result"
    }
   ],
   "source": [
    "# compare the prediction to the truth\n",
    "from sklearn.metrics import mean_absolute_error\n",
    "mean_absolute_error(y_test, y_preds) # on average the single prediction is wrong by this value"
   ]
  },
  {
   "cell_type": "markdown",
   "id": "923fd627",
   "metadata": {},
   "source": [
    "## 4. Evaluating a machine learning model\n",
    "\n",
    "Three ways of evaluating Sklearn models/estimators:\n",
    "1. Estimator `score` method\n",
    "2. The `scoring` parameter\n",
    "3. Problem-specific metric function\n",
    "\n",
    "### 4.1 Evaluating a model with the `score` method\n",
    "* Every estimator has some default `.score` method,  e.g. usually for classification or regression problem it returns mean accuracy or coefficient of determination $R^2$   respectively\n",
    "* probably the first estimator method to be called after fitting the model\n",
    "* however, when you get further into a problem, it's likely you'll want to start using more powerful metrics to evaluate your models performance."
   ]
  },
  {
   "cell_type": "code",
   "execution_count": 87,
   "id": "4ad3d5b9",
   "metadata": {},
   "outputs": [],
   "source": [
    "from sklearn.ensemble import RandomForestClassifier\n",
    "\n",
    "# set a seed for reproducibility\n",
    "np.random.seed(42)\n",
    "\n",
    "# make data\n",
    "X = heart_disease.drop(\"target\", axis=1)\n",
    "y = heart_disease[\"target\"]\n",
    "\n",
    "# split data\n",
    "from sklearn.model_selection import train_test_split\n",
    "X_train, X_test, y_train, y_test = train_test_split(X, y)\n",
    "\n",
    "# instantiate and fit the model\n",
    "clf = RandomForestClassifier().fit(X_train, y_train)\n"
   ]
  },
  {
   "cell_type": "code",
<<<<<<< HEAD
   "execution_count": 88,
   "id": "7b6a331b",
=======
   "execution_count": 78,
   "id": "b7109aa0",
>>>>>>> ad807a3c1d1a9c45834c5a258d98d6f96f102b20
   "metadata": {},
   "outputs": [
    {
     "data": {
      "text/plain": [
       "(1.0, 0.8289473684210527)"
      ]
     },
<<<<<<< HEAD
     "execution_count": 88,
=======
     "execution_count": 78,
>>>>>>> ad807a3c1d1a9c45834c5a258d98d6f96f102b20
     "metadata": {},
     "output_type": "execute_result"
    }
   ],
   "source": [
    "clf.score(X_train, y_train), clf.score(X_test, y_test)"
   ]
  },
  {
   "cell_type": "markdown",
   "id": "abf5936a",
   "metadata": {},
   "source": [
    "Let's do the same but for regression"
   ]
  },
  {
   "cell_type": "code",
<<<<<<< HEAD
   "execution_count": 89,
   "id": "82a97c5a",
   "metadata": {},
   "outputs": [],
   "source": [
    "# import RandomForestRegressor model\n",
    "from sklearn.ensemble import RandomForestRegressor\n",
    "\n",
    "np.random.seed(42)\n",
    "\n",
    "# make data\n",
    "X = boston_df.drop(\"target\", axis = 1)\n",
    "y = boston_df[\"target\"]\n",
    "\n",
    "# split data into training and testing sets\n",
    "from sklearn.model_selection import train_test_split\n",
    "X_train, X_test, y_train, y_test = train_test_split(X,y, test_size=0.2)\n",
    "\n",
    "# instantiate and fit model to data\n",
    "model = RandomForestRegressor().fit(X_train, y_train) # code chaining"
   ]
  },
  {
   "cell_type": "code",
   "execution_count": 90,
   "id": "9780748e",
=======
   "execution_count": 79,
   "id": "196b3981",
>>>>>>> ad807a3c1d1a9c45834c5a258d98d6f96f102b20
   "metadata": {},
   "outputs": [
    {
     "data": {
      "text/plain": [
       "0.8654448653350507"
      ]
     },
<<<<<<< HEAD
     "execution_count": 90,
=======
     "execution_count": 79,
>>>>>>> ad807a3c1d1a9c45834c5a258d98d6f96f102b20
     "metadata": {},
     "output_type": "execute_result"
    }
   ],
   "source": [
    "model.score(X_test, y_test)"
   ]
  },
  {
   "cell_type": "markdown",
   "id": "850d215c",
   "metadata": {},
   "source": [
    "### 4.2 Evaluating a model using `scoring` parameter "
   ]
  },
  {
   "cell_type": "code",
<<<<<<< HEAD
   "execution_count": 91,
   "id": "1e789044",
   "metadata": {},
   "outputs": [],
=======
   "execution_count": 80,
   "id": "b6aad846",
   "metadata": {},
   "outputs": [
    {
     "data": {
      "text/plain": [
       "array([[0.65, 0.35],\n",
       "       [0.62, 0.38],\n",
       "       [0.12, 0.88],\n",
       "       [0.6 , 0.4 ],\n",
       "       [0.32, 0.68]])"
      ]
     },
     "execution_count": 80,
     "metadata": {},
     "output_type": "execute_result"
    }
   ],
>>>>>>> ad807a3c1d1a9c45834c5a258d98d6f96f102b20
   "source": [
    "from sklearn.model_selection import cross_val_score\n",
    "\n",
    "# set a seed for reproducibility\n",
    "np.random.seed(42)\n",
    "\n",
    "# make data\n",
    "X = heart_disease.drop(\"target\", axis=1)\n",
    "y = heart_disease[\"target\"]\n",
    "\n",
    "# split data\n",
    "from sklearn.model_selection import train_test_split\n",
    "X_train, X_test, y_train, y_test = train_test_split(X, y)\n",
    "\n",
    "# instantiate and fit the model\n",
    "clf = RandomForestClassifier().fit(X_train, y_train)"
   ]
  },
  {
   "cell_type": "code",
<<<<<<< HEAD
   "execution_count": 92,
   "id": "d4d7a452",
=======
   "execution_count": 81,
   "id": "d4f2fe63",
>>>>>>> ad807a3c1d1a9c45834c5a258d98d6f96f102b20
   "metadata": {},
   "outputs": [
    {
     "data": {
      "text/plain": [
       "array([0.81967213, 0.86885246, 0.81967213, 0.78333333, 0.76666667])"
      ]
     },
<<<<<<< HEAD
     "execution_count": 92,
=======
     "execution_count": 81,
>>>>>>> ad807a3c1d1a9c45834c5a258d98d6f96f102b20
     "metadata": {},
     "output_type": "execute_result"
    }
   ],
   "source": [
    "clf.score(X_test, y_test)\n",
    "cross_val_score(clf, X, y)"
   ]
  },
  {
   "cell_type": "markdown",
   "id": "e3a69bd0",
   "metadata": {},
   "source": [
    "![](../Pictures/sklearn-cross-validation.png)"
   ]
  },
  {
   "cell_type": "markdown",
   "id": "fa8d20d7",
   "metadata": {},
   "source": [
    "* Cross validation helps to ensure that the model performance is not pure luck\n",
    "* Basically divides the data into `cv` folds and trains and tests the accuracy on them separately, the result is an array of scores for respective folds"
   ]
  },
  {
   "cell_type": "code",
<<<<<<< HEAD
   "execution_count": 93,
   "id": "179192c6",
   "metadata": {},
=======
   "execution_count": 82,
   "id": "9dda4bdb",
   "metadata": {
    "scrolled": true
   },
>>>>>>> ad807a3c1d1a9c45834c5a258d98d6f96f102b20
   "outputs": [
    {
     "data": {
      "text/plain": [
<<<<<<< HEAD
       "(0.8289473684210527, 0.8248087431693989)"
      ]
     },
     "execution_count": 93,
=======
       "      CRIM    ZN  INDUS  CHAS    NOX     RM   AGE     DIS  RAD    TAX  \\\n",
       "0  0.00632  18.0   2.31   0.0  0.538  6.575  65.2  4.0900  1.0  296.0   \n",
       "1  0.02731   0.0   7.07   0.0  0.469  6.421  78.9  4.9671  2.0  242.0   \n",
       "2  0.02729   0.0   7.07   0.0  0.469  7.185  61.1  4.9671  2.0  242.0   \n",
       "3  0.03237   0.0   2.18   0.0  0.458  6.998  45.8  6.0622  3.0  222.0   \n",
       "4  0.06905   0.0   2.18   0.0  0.458  7.147  54.2  6.0622  3.0  222.0   \n",
       "\n",
       "   PTRATIO       B  LSTAT  target  \n",
       "0     15.3  396.90   4.98    24.0  \n",
       "1     17.8  396.90   9.14    21.6  \n",
       "2     17.8  392.83   4.03    34.7  \n",
       "3     18.7  394.63   2.94    33.4  \n",
       "4     18.7  396.90   5.33    36.2  "
      ]
     },
     "execution_count": 82,
     "metadata": {},
     "output_type": "execute_result"
    }
   ],
   "source": [
    "boston_df.head()"
   ]
  },
  {
   "cell_type": "code",
   "execution_count": 83,
   "id": "18c4e16c",
   "metadata": {},
   "outputs": [],
   "source": [
    "# import RandomForestRegressor model\n",
    "from sklearn.ensemble import RandomForestRegressor\n",
    "\n",
    "np.random.seed(42)\n",
    "\n",
    "# make data\n",
    "X = boston_df.drop(\"target\", axis = 1)\n",
    "y = boston_df[\"target\"]\n",
    "\n",
    "# split data into training and testing sets\n",
    "from sklearn.model_selection import train_test_split\n",
    "X_train, X_test, y_train, y_test = train_test_split(X,y, test_size=0.2)\n",
    "\n",
    "# instantiate and fit model to data\n",
    "model = RandomForestRegressor().fit(X_train, y_train) # code chaining\n",
    "\n",
    "# make predictions\n",
    "y_preds = model.predict(X_test) "
   ]
  },
  {
   "cell_type": "code",
   "execution_count": 84,
   "id": "83b9fe69",
   "metadata": {},
   "outputs": [
    {
     "data": {
      "text/plain": [
       "array([23.081, 30.574, 16.759, 23.46 , 16.893, 21.644, 19.113, 15.334,\n",
       "       21.14 , 20.639])"
      ]
     },
     "execution_count": 84,
     "metadata": {},
     "output_type": "execute_result"
    }
   ],
   "source": [
    "y_preds[:10]"
   ]
  },
  {
   "cell_type": "code",
   "execution_count": 85,
   "id": "47b27725",
   "metadata": {},
   "outputs": [
    {
     "data": {
      "text/plain": [
       "array([23.6, 32.4, 13.6, 22.8, 16.1, 20. , 17.8, 14. , 19.6, 16.8])"
      ]
     },
     "execution_count": 85,
     "metadata": {},
     "output_type": "execute_result"
    }
   ],
   "source": [
    "np.array(y_test[:10])"
   ]
  },
  {
   "cell_type": "code",
   "execution_count": 86,
   "id": "cc79694e",
   "metadata": {},
   "outputs": [
    {
     "data": {
      "text/plain": [
       "2.136382352941176"
      ]
     },
     "execution_count": 86,
     "metadata": {},
     "output_type": "execute_result"
    }
   ],
   "source": [
    "# compare the prediction to the truth\n",
    "from sklearn.metrics import mean_absolute_error\n",
    "mean_absolute_error(y_test, y_preds) # on average the single prediction is wrong by this value"
   ]
  },
  {
   "cell_type": "markdown",
   "id": "923fd627",
   "metadata": {},
   "source": [
    "## 4. Evaluating a machine learning model\n",
    "\n",
    "Three ways of evaluating Sklearn models/estimators:\n",
    "1. Estimator `score` method\n",
    "2. The `scoring` parameter\n",
    "3. Problem-specific metric function\n",
    "\n",
    "### 4.1 Evaluating a model with the `score` method\n",
    "* Every estimator has some default `.score` method,  e.g. usually for classification or regression problem it returns mean accuracy or coefficient of determination $R^2$   respectively\n",
    "* probably the first estimator method to be called after fitting the model\n",
    "* however, when you get further into a problem, it's likely you'll want to start using more powerful metrics to evaluate your models performance."
   ]
  },
  {
   "cell_type": "code",
   "execution_count": 87,
   "id": "4ad3d5b9",
   "metadata": {},
   "outputs": [],
   "source": [
    "from sklearn.ensemble import RandomForestClassifier\n",
    "\n",
    "# set a seed for reproducibility\n",
    "np.random.seed(42)\n",
    "\n",
    "# make data\n",
    "X = heart_disease.drop(\"target\", axis=1)\n",
    "y = heart_disease[\"target\"]\n",
    "\n",
    "# split data\n",
    "from sklearn.model_selection import train_test_split\n",
    "X_train, X_test, y_train, y_test = train_test_split(X, y)\n",
    "\n",
    "# instantiate and fit the model\n",
    "clf = RandomForestClassifier().fit(X_train, y_train)\n"
   ]
  },
  {
   "cell_type": "code",
   "execution_count": 88,
   "id": "7b6a331b",
   "metadata": {},
   "outputs": [
    {
     "data": {
      "text/plain": [
       "(1.0, 0.8289473684210527)"
      ]
     },
     "execution_count": 88,
>>>>>>> ad807a3c1d1a9c45834c5a258d98d6f96f102b20
     "metadata": {},
     "output_type": "execute_result"
    }
   ],
   "source": [
<<<<<<< HEAD
    "np.random.seed(42)\n",
    "\n",
    "# Single training and test split score\n",
    "clf_single_score = clf.score(X_test, y_test)\n",
    "\n",
    "# take the mean of 5-fold cross-validation score\n",
    "clf_cross_val_score = np.mean(cross_val_score(clf, X, y))\n",
    "\n",
    "# compare the two\n",
    "clf_single_score, clf_cross_val_score"
=======
    "clf.score(X_train, y_train), clf.score(X_test, y_test)"
>>>>>>> ad807a3c1d1a9c45834c5a258d98d6f96f102b20
   ]
  },
  {
   "cell_type": "markdown",
<<<<<<< HEAD
   "id": "f575fdb1",
   "metadata": {},
   "source": [
    "scoring parameter set to None by default\n",
    "\n",
    "`cross_val_score(clf, X, y, scoring = None)`  i.e. uses default scoring parameter of the model so it's accuracy in case of clf"
   ]
  },
  {
   "cell_type": "markdown",
   "id": "3042cbb4",
   "metadata": {},
   "source": [
    "### 4.2.1 Classification model evaluation metrics \n",
    "\n",
    "1. Accuracy\n",
    "2. Area under ROC curve\n",
    "3. Confusion matrix\n",
    "4. Classification report\n",
    "\n",
    "**Accuracy**"
=======
   "id": "abf5936a",
   "metadata": {},
   "source": [
    "Let's do the same but for regression"
>>>>>>> ad807a3c1d1a9c45834c5a258d98d6f96f102b20
   ]
  },
  {
   "cell_type": "code",
<<<<<<< HEAD
   "execution_count": 94,
   "id": "b389d160",
=======
   "execution_count": 89,
   "id": "82a97c5a",
>>>>>>> ad807a3c1d1a9c45834c5a258d98d6f96f102b20
   "metadata": {},
   "outputs": [],
   "source": [
    "from sklearn.model_selection import cross_val_score\n",
    "from sklearn.ensemble import RandomForestClassifier\n",
    "\n",
    "np.random.seed(42)\n",
    "\n",
    "X = heart_disease.drop(\"target\", axis=1)\n",
    "y = heart_disease[\"target\"]\n",
    "\n",
    "\n",
<<<<<<< HEAD
    "clf = RandomForestClassifier()\n",
    "cross_val_score = cross_val_score(clf, X, y)"
   ]
  },
  {
   "cell_type": "code",
   "execution_count": 95,
   "id": "81fed2fe",
   "metadata": {},
   "outputs": [
    {
     "data": {
      "text/plain": [
       "0.8248087431693989"
      ]
     },
     "execution_count": 95,
     "metadata": {},
     "output_type": "execute_result"
    }
   ],
   "source": [
    "np.mean(cross_val_score)"
   ]
  },
  {
   "cell_type": "code",
   "execution_count": 96,
   "id": "79de303f",
   "metadata": {},
   "outputs": [
    {
     "name": "stdout",
     "output_type": "stream",
     "text": [
      "Heart Disease Classifier Cross-Validated Accuracy: 82.48%\n"
     ]
    }
   ],
   "source": [
    "print(f\"Heart Disease Classifier Cross-Validated Accuracy: {np.mean(cross_val_score)*100:.2f}%\")"
   ]
  },
  {
   "cell_type": "markdown",
   "id": "ce4a5b06",
   "metadata": {},
   "source": [
    "**Area under the receiver operating characteristic curve (AUC/ROC)**\n",
    "\n",
    "* Area under curve(AUC)\n",
    "* ROC curve\n",
    "\n",
    "ROC curves are comparison of model's true positive rate (tpr) versus false positive rate (fpr).\n",
    "\n",
    "* True positive = model predicts 1 when the truth is 1\n",
    "* False positive = model predicts 1 when the truth is 0\n",
    "* True negative = model predicts 0 when the truth is 0\n",
    "* False negative = model predicts 0 when the truth is 1"
=======
    "# instantiate and fit model to data\n",
    "model = RandomForestRegressor().fit(X_train, y_train) # code chaining"
>>>>>>> ad807a3c1d1a9c45834c5a258d98d6f96f102b20
   ]
  },
  {
   "cell_type": "code",
<<<<<<< HEAD
   "execution_count": 100,
   "id": "fb808782",
   "metadata": {},
   "outputs": [],
   "source": [
    "# Create X_test etc...\n",
    "X_train, X_test, y_train, y_test = train_test_split(X, y, test_size = 0.2)\n",
    "# fit the classifier (can't make predictions without fitting)\n",
    "clf = RandomForestClassifier().fit(X_train, y_train)"
   ]
  },
  {
   "cell_type": "code",
   "execution_count": 103,
   "id": "1f7edc17",
=======
   "execution_count": 90,
   "id": "9780748e",
>>>>>>> ad807a3c1d1a9c45834c5a258d98d6f96f102b20
   "metadata": {},
   "outputs": [
    {
     "data": {
      "text/plain": [
<<<<<<< HEAD
       "array([[0.16, 0.84],\n",
       "       [0.09, 0.91],\n",
       "       [0.26, 0.74],\n",
       "       [0.71, 0.29],\n",
       "       [0.28, 0.72],\n",
       "       [0.08, 0.92],\n",
       "       [0.97, 0.03],\n",
       "       [0.05, 0.95],\n",
       "       [0.14, 0.86],\n",
       "       [0.  , 1.  ]])"
      ]
     },
     "execution_count": 103,
=======
       "0.8654448653350507"
      ]
     },
     "execution_count": 90,
>>>>>>> ad807a3c1d1a9c45834c5a258d98d6f96f102b20
     "metadata": {},
     "output_type": "execute_result"
    }
   ],
   "source": [
<<<<<<< HEAD
    "from sklearn.metrics import roc_curve\n",
    "\n",
    "# make predictions with probabilities\n",
    "y_probs = clf.predict_proba(X_test)\n",
    "\n",
    "y_probs[:10]"
=======
    "model.score(X_test, y_test)"
   ]
  },
  {
   "cell_type": "markdown",
   "id": "850d215c",
   "metadata": {},
   "source": [
    "### 4.2 Evaluating a model using `scoring` parameter "
>>>>>>> ad807a3c1d1a9c45834c5a258d98d6f96f102b20
   ]
  },
  {
   "cell_type": "code",
<<<<<<< HEAD
   "execution_count": 107,
   "id": "5089b51e",
=======
   "execution_count": 91,
   "id": "1e789044",
   "metadata": {},
   "outputs": [],
   "source": [
    "from sklearn.model_selection import cross_val_score\n",
    "\n",
    "# set a seed for reproducibility\n",
    "np.random.seed(42)\n",
    "\n",
    "# make data\n",
    "X = heart_disease.drop(\"target\", axis=1)\n",
    "y = heart_disease[\"target\"]\n",
    "\n",
    "# split data\n",
    "from sklearn.model_selection import train_test_split\n",
    "X_train, X_test, y_train, y_test = train_test_split(X, y)\n",
    "\n",
    "# instantiate and fit the model\n",
    "clf = RandomForestClassifier().fit(X_train, y_train)"
   ]
  },
  {
   "cell_type": "code",
   "execution_count": 92,
   "id": "d4d7a452",
>>>>>>> ad807a3c1d1a9c45834c5a258d98d6f96f102b20
   "metadata": {},
   "outputs": [
    {
     "data": {
      "text/plain": [
<<<<<<< HEAD
       "array([0.84, 0.91, 0.74, 0.29, 0.72, 0.92, 0.03, 0.95, 0.86, 1.  ])"
      ]
     },
     "execution_count": 107,
=======
       "array([0.81967213, 0.86885246, 0.81967213, 0.78333333, 0.76666667])"
      ]
     },
     "execution_count": 92,
>>>>>>> ad807a3c1d1a9c45834c5a258d98d6f96f102b20
     "metadata": {},
     "output_type": "execute_result"
    }
   ],
   "source": [
<<<<<<< HEAD
    "y_probs_positive = y_probs[:, 1] # second column of y_probs\n",
    "y_probs_positive[:10]"
=======
    "clf.score(X_test, y_test)\n",
    "cross_val_score(clf, X, y)"
   ]
  },
  {
   "cell_type": "markdown",
   "id": "e3a69bd0",
   "metadata": {},
   "source": [
    "![](../Pictures/sklearn-cross-validation.png)"
   ]
  },
  {
   "cell_type": "markdown",
   "id": "fa8d20d7",
   "metadata": {},
   "source": [
    "* Cross validation helps to ensure that the model performance is not pure luck\n",
    "* Basically divides the data into `cv` folds and trains and tests the accuracy on them separately, the result is an array of scores for respective folds"
>>>>>>> ad807a3c1d1a9c45834c5a258d98d6f96f102b20
   ]
  },
  {
   "cell_type": "code",
<<<<<<< HEAD
   "execution_count": 108,
   "id": "bd2e57aa",
   "metadata": {},
   "outputs": [],
   "source": [
    "# calculate fpr, tpr and thresholds\n",
    "fpr, tpr, thresholds = roc_curve(y_test, y_probs_positive)\n",
    "\n",
    "# check the false positive rates \n",
    "fpr"
   ]
  },
  {
   "cell_type": "code",
   "execution_count": 110,
   "id": "7cbfbd38",
=======
   "execution_count": 93,
   "id": "179192c6",
>>>>>>> ad807a3c1d1a9c45834c5a258d98d6f96f102b20
   "metadata": {},
   "outputs": [
    {
     "data": {
      "image/png": "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\n",
      "text/plain": [
<<<<<<< HEAD
       "<Figure size 432x288 with 1 Axes>"
      ]
     },
     "metadata": {
      "needs_background": "light"
     },
     "output_type": "display_data"
    }
   ],
   "source": [
    "# create a function for plotting ROC curves\n",
    "import matplotlib.pyplot as plt\n",
    "\n",
    "def plot_roc_curve(fpr, tpr):\n",
    "    \"\"\"\n",
    "    Plots a ROC curve given false positive rate (fpr) and \n",
    "    true positive rate (tpr) of a model\n",
    "    \"\"\"\n",
    "    # Plot roc curve\n",
    "    plt.plot(fpr, tpr, color = \"orange\", label = \"ROC\")\n",
    "    # Plot line with no predictive power (baseline)\n",
    "    plt.plot([0, 1], [0, 1], color = \"darkblue\", linestyle = '--', label = \"Guessing\")\n",
    "    \n",
    "    # Customise a plot\n",
    "    plt.xlabel(\"False positive rate (fpr)\")\n",
    "    plt.ylabel(\"True positive rate (tpr)\")\n",
    "    plt.title(\"Receiver Operating Characteristic (ROC) Curve\")\n",
    "    plt.legend()\n",
    "    plt.show()\n",
    "    \n",
    "plot_roc_curve(fpr, tpr)"
   ]
  },
  {
   "cell_type": "code",
   "execution_count": 114,
   "id": "34376d25",
   "metadata": {},
   "outputs": [
    {
     "data": {
      "text/plain": [
       "0.9368131868131868"
      ]
     },
     "execution_count": 114,
=======
       "(0.8289473684210527, 0.8248087431693989)"
      ]
     },
     "execution_count": 93,
>>>>>>> ad807a3c1d1a9c45834c5a258d98d6f96f102b20
     "metadata": {},
     "output_type": "execute_result"
    }
   ],
   "source": [
<<<<<<< HEAD
    "from sklearn.metrics import roc_auc_score\n",
    "roc_auc_score(y_test, y_probs_positive) # area under the yellow curve (perfect would be 1.0)"
   ]
  },
  {
   "cell_type": "code",
   "execution_count": 115,
   "id": "63129eac",
   "metadata": {},
   "outputs": [
    {
     "data": {
      "image/png": "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\n",
      "text/plain": [
       "<Figure size 432x288 with 1 Axes>"
      ]
     },
     "metadata": {
      "needs_background": "light"
     },
     "output_type": "display_data"
    }
   ],
   "source": [
    "# Plot perfect ROC curve and AUC score\n",
    "fpr, tpr, thresholds = roc_curve(y_test, y_test)\n",
    "plot_roc_curve(fpr, tpr)"
   ]
  },
  {
   "cell_type": "code",
   "execution_count": 116,
   "id": "44c31001",
   "metadata": {},
   "outputs": [
    {
     "data": {
      "text/plain": [
       "1.0"
      ]
     },
     "execution_count": 116,
     "metadata": {},
     "output_type": "execute_result"
    }
   ],
   "source": [
    "# Perfect AUC score\n",
    "roc_auc_score(y_test, y_test)"
=======
    "np.random.seed(42)\n",
    "\n",
    "# Single training and test split score\n",
    "clf_single_score = clf.score(X_test, y_test)\n",
    "\n",
    "# take the mean of 5-fold cross-validation score\n",
    "clf_cross_val_score = np.mean(cross_val_score(clf, X, y))\n",
    "\n",
    "# compare the two\n",
    "clf_single_score, clf_cross_val_score"
>>>>>>> ad807a3c1d1a9c45834c5a258d98d6f96f102b20
   ]
  },
  {
   "cell_type": "markdown",
<<<<<<< HEAD
   "id": "2cb93d1f",
   "metadata": {},
   "source": [
    "**Confusion Matrix**\n",
    "\n",
    "Is a quick way to compare the labels a models predicts and the actual labels it was supposed to predic.\n",
    "\n",
    "In essence, giving you an idea where the model is getting confused"
=======
   "id": "f575fdb1",
   "metadata": {},
   "source": [
    "scoring parameter set to None by default\n",
    "\n",
    "`cross_val_score(clf, X, y, scoring = None)`  i.e. uses default scoring parameter of the model so it's accuracy in case of clf"
   ]
  },
  {
   "cell_type": "markdown",
   "id": "3042cbb4",
   "metadata": {},
   "source": [
    "### 4.2.1 Classification model evaluation metrics \n",
    "\n",
    "1. Accuracy\n",
    "2. Area under ROC curve\n",
    "3. Confusion matrix\n",
    "4. Classification report\n",
    "\n",
    "**Accuracy**"
>>>>>>> ad807a3c1d1a9c45834c5a258d98d6f96f102b20
   ]
  },
  {
   "cell_type": "code",
<<<<<<< HEAD
   "execution_count": 117,
   "id": "9f70a415",
=======
   "execution_count": 94,
   "id": "b389d160",
>>>>>>> ad807a3c1d1a9c45834c5a258d98d6f96f102b20
   "metadata": {},
   "outputs": [
    {
     "data": {
      "text/plain": [
       "array([[27,  8],\n",
       "       [ 2, 24]], dtype=int64)"
      ]
     },
     "execution_count": 117,
     "metadata": {},
     "output_type": "execute_result"
    }
   ],
   "source": [
    "from sklearn.metrics import confusion_matrix\n",
    "y_preds =clf.predict(X_test)\n",
    "\n",
    "confusion_matrix(y_test, y_preds)"
   ]
  },
  {
   "cell_type": "code",
   "execution_count": 120,
   "id": "09eb3fd1",
   "metadata": {},
   "outputs": [
    {
     "data": {
      "text/html": [
       "<div>\n",
       "<style scoped>\n",
       "    .dataframe tbody tr th:only-of-type {\n",
       "        vertical-align: middle;\n",
       "    }\n",
       "\n",
       "    .dataframe tbody tr th {\n",
       "        vertical-align: top;\n",
       "    }\n",
       "\n",
       "    .dataframe thead th {\n",
       "        text-align: right;\n",
       "    }\n",
       "</style>\n",
       "<table border=\"1\" class=\"dataframe\">\n",
       "  <thead>\n",
       "    <tr style=\"text-align: right;\">\n",
       "      <th>Predicted labels</th>\n",
       "      <th>0</th>\n",
       "      <th>1</th>\n",
       "    </tr>\n",
       "    <tr>\n",
       "      <th>Actual labels</th>\n",
       "      <th></th>\n",
       "      <th></th>\n",
       "    </tr>\n",
       "  </thead>\n",
       "  <tbody>\n",
       "    <tr>\n",
       "      <th>0</th>\n",
       "      <td>27</td>\n",
       "      <td>8</td>\n",
       "    </tr>\n",
       "    <tr>\n",
       "      <th>1</th>\n",
       "      <td>2</td>\n",
       "      <td>24</td>\n",
       "    </tr>\n",
       "  </tbody>\n",
       "</table>\n",
       "</div>"
      ],
      "text/plain": [
       "Predicted labels   0   1\n",
       "Actual labels           \n",
       "0                 27   8\n",
       "1                  2  24"
      ]
     },
     "execution_count": 120,
     "metadata": {},
     "output_type": "execute_result"
    }
   ],
   "source": [
<<<<<<< HEAD
    "# Visualise confusion matrix with pd.crosstab()\n",
    "pd.crosstab(y_test,\n",
    "            y_preds,\n",
    "            rownames=[\"Actual labels\"],\n",
    "            colnames=[\"Predicted labels\"])\n",
    "# 2 false negatives, 8 false positives"
=======
    "from sklearn.model_selection import cross_val_score\n",
    "from sklearn.ensemble import RandomForestClassifier\n",
    "\n",
    "np.random.seed(42)\n",
    "\n",
    "X = heart_disease.drop(\"target\", axis=1)\n",
    "y = heart_disease[\"target\"]\n",
    "\n",
    "\n",
    "clf = RandomForestClassifier()\n",
    "cross_val_score = cross_val_score(clf, X, y)"
   ]
  },
  {
   "cell_type": "code",
   "execution_count": 95,
   "id": "81fed2fe",
   "metadata": {},
   "outputs": [
    {
     "data": {
      "text/plain": [
       "0.8248087431693989"
      ]
     },
     "execution_count": 95,
     "metadata": {},
     "output_type": "execute_result"
    }
   ],
   "source": [
    "np.mean(cross_val_score)"
   ]
  },
  {
   "cell_type": "code",
   "execution_count": 96,
   "id": "79de303f",
   "metadata": {},
   "outputs": [
    {
     "name": "stdout",
     "output_type": "stream",
     "text": [
      "Heart Disease Classifier Cross-Validated Accuracy: 82.48%\n"
     ]
    }
   ],
   "source": [
    "print(f\"Heart Disease Classifier Cross-Validated Accuracy: {np.mean(cross_val_score)*100:.2f}%\")"
   ]
  },
  {
   "cell_type": "markdown",
   "id": "09fd6de3",
   "metadata": {},
   "source": [
    "**Area under the receiver operating characteristic curve (AUC/ROC)**\n",
    "\n",
    "* Area under curve(AUC)\n",
    "* ROC curve\n",
    "\n",
    "ROC curves are comparison of model's true positive rate (tpr) versus false positive rate (fpr).\n",
    "\n",
    "* True positive = model predicts 1 when the truth is 1\n",
    "* False positive = model predicts 1 when the truth is 0\n",
    "* True negative = model predicts 0 when the truth is 0\n",
    "* False negative = model predicts 0 when the truth is 1"
   ]
  },
  {
   "cell_type": "code",
   "execution_count": 100,
   "id": "e27414a2",
   "metadata": {},
   "outputs": [],
   "source": [
    "# Create X_test etc...\n",
    "X_train, X_test, y_train, y_test = train_test_split(X, y, test_size = 0.2)\n",
    "# fit the classifier (can't make predictions without fitting)\n",
    "clf = RandomForestClassifier().fit(X_train, y_train)"
   ]
  },
  {
   "cell_type": "code",
   "execution_count": 103,
   "id": "3d3c9255",
   "metadata": {},
   "outputs": [
    {
     "data": {
      "text/plain": [
       "array([[0.16, 0.84],\n",
       "       [0.09, 0.91],\n",
       "       [0.26, 0.74],\n",
       "       [0.71, 0.29],\n",
       "       [0.28, 0.72],\n",
       "       [0.08, 0.92],\n",
       "       [0.97, 0.03],\n",
       "       [0.05, 0.95],\n",
       "       [0.14, 0.86],\n",
       "       [0.  , 1.  ]])"
      ]
     },
     "execution_count": 103,
     "metadata": {},
     "output_type": "execute_result"
    }
   ],
   "source": [
    "from sklearn.metrics import roc_curve\n",
    "\n",
    "# make predictions with probabilities\n",
    "y_probs = clf.predict_proba(X_test)\n",
    "\n",
    "y_probs[:10]"
>>>>>>> ad807a3c1d1a9c45834c5a258d98d6f96f102b20
   ]
  },
  {
   "cell_type": "code",
<<<<<<< HEAD
   "execution_count": 121,
   "id": "4a571207",
=======
   "execution_count": 107,
   "id": "f0e948f4",
>>>>>>> ad807a3c1d1a9c45834c5a258d98d6f96f102b20
   "metadata": {},
   "outputs": [
    {
     "data": {
      "text/plain": [
<<<<<<< HEAD
       "(61, 61)"
      ]
     },
     "execution_count": 121,
=======
       "array([0.84, 0.91, 0.74, 0.29, 0.72, 0.92, 0.03, 0.95, 0.86, 1.  ])"
      ]
     },
     "execution_count": 107,
>>>>>>> ad807a3c1d1a9c45834c5a258d98d6f96f102b20
     "metadata": {},
     "output_type": "execute_result"
    }
   ],
   "source": [
<<<<<<< HEAD
    "27+8+2+24, len(y_test) "
=======
    "y_probs_positive = y_probs[:, 1] # second column of y_probs\n",
    "y_probs_positive[:10]"
   ]
  },
  {
   "cell_type": "code",
   "execution_count": 108,
   "id": "0f2d39a4",
   "metadata": {},
   "outputs": [],
   "source": [
    "# calculate fpr, tpr and thresholds\n",
    "fpr, tpr, thresholds = roc_curve(y_test, y_probs_positive)\n",
    "\n",
    "# check the false positive rates \n",
    "fpr"
>>>>>>> ad807a3c1d1a9c45834c5a258d98d6f96f102b20
   ]
  },
  {
   "cell_type": "code",
<<<<<<< HEAD
   "execution_count": 124,
   "id": "b435e70d",
   "metadata": {},
   "outputs": [
    {
     "name": "stdout",
     "output_type": "stream",
     "text": [
      "Collecting package metadata (current_repodata.json): ...working... done\n",
      "Solving environment: ...working... done\n",
      "\n",
      "## Package Plan ##\n",
      "\n",
      "  environment location: C:\\Users\\ziolk\\Desktop\\ML_Projects\\SampleProject\\env\n",
      "\n",
      "  added / updated specs:\n",
      "    - seaborn\n",
      "\n",
      "\n",
      "The following packages will be downloaded:\n",
      "\n",
      "    package                    |            build\n",
      "    ---------------------------|-----------------\n",
      "    seaborn-0.11.2             |     pyhd3eb1b0_0         218 KB\n",
      "    ------------------------------------------------------------\n",
      "                                           Total:         218 KB\n",
      "\n",
      "The following NEW packages will be INSTALLED:\n",
      "\n",
      "  seaborn            pkgs/main/noarch::seaborn-0.11.2-pyhd3eb1b0_0\n",
      "\n",
      "\n",
      "\n",
      "Downloading and Extracting Packages\n",
      "\n",
      "seaborn-0.11.2       | 218 KB    |            |   0% \n",
      "seaborn-0.11.2       | 218 KB    | ##2        |  22% \n",
      "seaborn-0.11.2       | 218 KB    | ########## | 100% \n",
      "Preparing transaction: ...working... done\n",
      "Verifying transaction: ...working... done\n",
      "Executing transaction: ...working... done\n"
     ]
    }
   ],
   "source": [
    "# How to install a conda package into the current environment in Jupyter Notebook\n",
    "import sys\n",
    "!conda install --yes --prefix {sys.prefix} seaborn\n",
    "# prefix is another name for pathname (conda's environment)"
=======
   "execution_count": 110,
   "id": "42743ee0",
   "metadata": {},
   "outputs": [
    {
     "data": {
      "image/png": "iVBORw0KGgoAAAANSUhEUgAAAYIAAAEWCAYAAABrDZDcAAAAOXRFWHRTb2Z0d2FyZQBNYXRwbG90bGliIHZlcnNpb24zLjQuMiwgaHR0cHM6Ly9tYXRwbG90bGliLm9yZy8rg+JYAAAACXBIWXMAAAsTAAALEwEAmpwYAAA+cklEQVR4nO3deZxN9f/A8dfbMGYwdsq+ZSdkT6QQKUublBYi+UZ91be9X6XybVVJSFqoVL5RtihKlpBsITupmET2dcZs798f54yucWfmYu6cuXPfz8djHnPvOZ9zzvtz7r3nfc7nnPM5oqoYY4wJX3m8DsAYY4y3LBEYY0yYs0RgjDFhzhKBMcaEOUsExhgT5iwRGGNMmLNEkMOIyHoRaet1HDmFiDwhIu95tOzxIjLUi2VnNRHpJSJzznHac/5OishiEWl0LtOeKxG5X0Reys5lhjpLBBkQkd9FJE5EjonIbnfDUCiYy1TVuqo6P5jLSCUi+UXkRRHZ4dZzq4g8LCKSHcv3E09bEYn1HaaqL6hqvyAtT9yNxjoROS4isSIySUTqB2N550pEhojIhPOZh6p+oqpXBbCsM5LfuX4nRaQLcFRVf3bfDxGRRPf3dEhElohIyzTTFBWRt93f2wkR+UVE+viZ960issKd118i8rWIXOaOHgvcJiKlM4gtJD777GKJIHNdVLUQ0BBoBDzubThnT0TypjNqEtAO6AzEALcD/YE3gxCDiEhO+769CfwbuB8oDtQApgLXZPWCMvgMgs7DZQ8APk4z7H/u76kkMA/nOwiAiEQC3wGVgJZAEeBh4CURedCn3IPAcOAF4AKgIjAa6AagqvHA18AdGcSWZZ+9l59tllFV+0vnD/gdaO/z/hVgps/7FsAS4BCwBmjrM644MA7YBRwEpvqMuxZY7U63BLg47TKBskAcUNxnXCNgH5DPfX8XsNGd/2ygkk9ZBQYCW4Hf/NStHRAPVEgzvDmQDFzkvp8PvAgsAw4D09LElNE6mA/8F1js1uUioI8b81FgO3CPW7agWyYFOOb+lQWGABPcMpXdet0J7HDXxZM+y4sGPnTXx0bgESA2nc+2ulvPZhl8/uOBUcBMN96fgGo+498EdgJHgJVAa59xQ4DJwAR3fD+gGfCju67+AkYCkT7T1AW+BQ4Ae4AngE5AApDorpM1btkiwPvufP4EhgIR7rje7jp/w53XUHfYIne8uOP+dj/TtUA9nJ2ARHd5x4AZaX8HQIQb16/uOllJmu+QWy7S/TzLp1knE3ze13E/z1Lu+75uTAXTzOtmN57Cbr2PATdl8tvtBcw7j89+PtDP5/2p9efv9wWMAYalmcc04EH3dVngC2CvW/5+r7dvp8XqdQA5+S/ND6A88Avwpvu+HLAfZ286D9DBfZ/6pZ4J/A8oBuQDLneHX+J+2Zu7P6o73eXk97PM74G7feJ5FRjjvu4ObANqA3mB/wOWpPmifouTkKL91O0lYEE69f6DfzbQ83E2NPVwNtZf8M+GObN1MB9ng13XjTEfzh5XNZyN0eXACeASt3xb0my48Z8I3sXZ6DcATgK1fevkrvPyOBu49BLBAOCPTD7/8Tgb0mZu/J8AE33G3waUcMf9B9gNRPnEneh+TnnceBvjJM68bl02AoPd8jE4G/X/AFHu++Zp14HPsqcC77ifSWmcRJ36mfUGkoD73GVFc3oi6IizAS/qfg61gTI+dR6awe/gYZzfQU132gZACT/rri5wPIPPMtL9vPYBed1hE4EP/cwrr1ufjjiJMSl1mgw+u0uAA+fx2c8n80Rw6vcFtMHZKRB3fDGcRFjW/fxXAk+79a6KsxPU0ettXOpfTjtUz4mmishRnA/5b+AZd/htwCxVnaWqKar6LbAC6CwiZYCrgQGqelBVE1V1gTvd3cA7qvqTqiar6oc4G7MWfpb9KXALOE0rQE93GMA9wIuqulFVk3AOkxuKSCWf6V9U1QOqGudn3iVxNjz+/OWOT/Wxqq5T1ePAU0APEYnIaB34TDteVderapK7Hmaq6q/qWADMAVqnE0d6nlXVOFVdg3MU0sAd3gN4wV3nscCIDOZRIoP6+/pSVZe56/gTnCZCAFR1gqrud+v2GpAfZwOZ6kdVnequmzhVXamqS93yv+NsyC93y14L7FbV11Q1XlWPqupP/gISkQtwvl+DVfW4qv6Ns4ff06fYLlV9y11W2s8/ESfR1MLZcG1U1UDWBThHNv+nqpvdz3CNqu73U64ozhFDWj1E5BDORvJu4EZ33UI630l3/D53fAlgn8806TmKc/TgT6CffWZ8f18/4CSH1O/yjTif/y6gKc7O0XOqmqCq23F2Znr6nasHLBFkrruqxuDsrdbinw1kJeAm96TXIffLfRlQBqiAszdy0M/8KgH/STNdBZw9h7QmAy1FpCzOHofifOFS5/OmzzwO4OyhlfOZfmcG9drnxupPGXe8v/n8gbNnX5KM14HfGETkahFZKiIH3PKdOT3pBGK3z+sTQOoJ/LJplpdR/feTfv0DWRYi8h8R2Sgih926FOH0uqStew0R+co9EXoEJ3mnlq+A09wSiEo4n8FfPuv9HZwjA7/L9qWq3+M0S40C9ojIWBEpHOCyA43zIE6ySetzVS2K07a/DucoKZXf76TbBl/SHb8fKBlAu3wMTrOXP4F+9pk5tY7VOQyYiLvjBtyKs+MAzudVNs3v5AmcdZAjWCIIkLv3Oh4Y5g7aibOnXNTnr6CqvuSOKy4iRf3Maifw3zTTFVDVz/ws8xDOHnMPnC/WZ+4XLnU+96SZT7SqLvGdRQZV+g5oLiIVfAeKSDOcH/v3PoN9y1TE2aPcl8k6OCMGEcmP07Q0DLjA3SDMwklgmcUbiL9wmoT8xZ3WXKC8iDQ5lwWJSGvgUZzPpphbl8P8Uxc4sz5vA5uA6qpaGGdjkFp+J06TmT9p57MT5yiypM96L6yqdTOY5vQZqo5Q1cY4TTg1cJp8Mp0ukzh9bcU5kC3nb6Sq7sM5qh3iHkGD8528WkQKpil+A059l+KcY4nHaXLLSG2co0V/AvnsjwMFfN5f6KdM2nX1GXCje1TeHOe7Ds46+y3N7yRGVTuTQ1giODvDgQ4i0hDnJGAXEekoIhEiEuVe/ljePcz+GhgtIsVEJJ+ItHHn8S4wQESau1fSFBSRa0TE394TOE1Bd+D8GD71GT4GeFxE6gKISBERuSnQiqjqdzg/iC9EpK5bhxY4ezFvq+pWn+K3iUgdESkAPAdMVtXkjNZBOouNxGk+2QskicjVgO8ljXuAEiKS3iF9Zj7HWSfF3A3QoPQKuvUbDXzmxhzpxt9TRB4LYFkxOG3Ve4G8IvI0zsnMzKY5AhwTkVrAv3zGfQVcKCKDxbmsN0ZEmrvj9gCVU6+6cr9fc4DXRKSwiOQRkWoicjkBEJGm7vcvH84GLx7n5GnqsqpmMPl7wPMiUt39/l4sIiXSFlLVRJwNe7oxqeomnIscHnEHfQzEApNEpLL7u+mI08Q3RFUPq+phnLb2USLSXUQKuOWuFpFXfGZ/Oc5v0N9yA/nsVwPXu/O/COdEdobUuUx2r7uOZrs7cuCcvzkiIo+KSLT7W6knIk0zm2d2sURwFlR1L/AR8JSq7sS5XO0JnA9/J85eVeo6vR1nz3kTzrmFwe48VuC0jY7EOXzehnMiKj3Tca5y2OO2iafGMgV4GZjoNjOsw2k3Phs34FzC9w3OlRgTcK5EuS9NuY9xjoZ245zIvN+NIbN1cBpVPepO+zlO3W9165c6fhPOXtV29xDaX3NZRp7D2ZD8hrMRmoyzJ5me+/mnieQQTpPHdcCMAJY1G2dDswWnuSyejJuiAB7CqfNRnB2C/6WOcNdNB6ALznreClzhjk69xHK/iKxyX9+Bk1g34KzLyQTe3FHYXf5BN/b9/HOk+z5Qx13/U/1M+zrO5zcHJ6m9j3Oy1J93cH4HGXkV6C8ipVX1JM4VcztxrtA64i7vSVV9NXUCVX0deBDnAonU790gnBPoiEgUTpPjhxksN7PP/g2cq6f2uPP55MxZ+PWZW4dTO23uTlMXnPNLv+EcTb9H+ucwsl3qGW5j/BKR+ThXenhyd+/5EJF/AT1VNaA9ZZP1RGQRcJ+7t5xdy7wP55LWRzItbADnsixjcgW3rbkqTjtydZxLMUd6GlSYU9XLMi+V5ct8K7uXGeosEZjcJBKnOaIKzuH+RJy2YGNMBqxpyBhjwpydLDbGmDAXck1DJUuW1MqVK3sdhjHGhJSVK1fuU9VS/saFXCKoXLkyK1as8DoMY4wJKSLyR3rjrGnIGGPCnCUCY4wJc5YIjDEmzFkiMMaYMGeJwBhjwlzQEoGIfCAif4vIunTGi4iMEJFtIrJWRC4JVizGGGPSF8wjgvE4j5VLz9U4/cFUx3lW6ttBjMUYY0w6gnYfgaouFJHKGRTpBnzkPmhlqYgUFZEyZ/HIPGNyv/i9sO0dSEnwOhLjocRE+O3PPNRoeimUuSrzCc6SlzeUleP0/ttj3WFnJAIR6Y9z1EDFihWzJThjcoTYKbD2KfeNZFjU5E4//16Wu8bexN9HCrFl5jwK5rJE4O9b7bcHPFUdC4wFaNKkifWSZ8KHug8Ou243ROeYR9yabBAfn8Szzy7h1VeXU7JkNKPfa0/BljWCsiwvE0Espz9Ttjywy6NYjDEmR+nefSqzZ/9Onz71eO21thQrFhW0ZXl5+eh04A736qEWwGE7P2CMCWdHjyYQH58EwGOPNWPOnBv54INOQU0CEMQjAhH5DGgLlBSRWOAZIB+Aqo4BZuE8V3QbcALoE6xYjDEmp5s9+zf695/DbbfV4b//bU3bttl3PjSYVw3dksl4BQYGa/nGGBMKDhyI48EH5/Phh+upVas411xTNdtjCLluqI0xJreYO/cPevWayf798Tz5ZAv+7/9aEBWV/ZtlSwQmNBz7DbaMhB2Tw+ua+qTjzn+xS0dzo9KlC1ClShG++eZGGjYs7VkclghMzqUKexfB5uEQOxXIA+WuhSjvfjCeiC4H+f0+WMqEGFXlww/Xs2rVHkaMaEf9+qVYsuRWxONEb4nA5DzJJ+GP/8HmN+HgKogsDrUfhRr3QoHyXkdnzDn57bdD3HPPt3z77R+0bl2euLhEoqPzeZ4EwBKByUni/4atY2DraIjfA4VrQ7N3oPJtkLeA19EZc06Sk1MYNWo1jz++kDx5hNGj23PPPQ3Ik8f7BJDKEoHx3sE1zt7/75847f9lroZag+HCDtY2bkLevn1xPP30Yi6/vAJjxnSgYsXCXod0BksExhspybBrptP+v2ceRBSAav2gxn1QpJbX0RlzXhITk/nkk43ccUddLrigIKtW3U6VKkVyRDOQP5YITPZKPAK/joMtI+DYdihQARq+Ahf1g8hiXkdnzHlbuXI3d901m7Vr91KmTEE6dqxC1apFvQ4rQ5YIQtneJXByv9dRBEidPf9f34eko1DyUmj4EpS/DvLY19CEvri4RJ599keGDVtO6dIFmDKlGx07VvE6rIDYLzBUHd8B37byOoqzI3mh0s1Q899QoqnX0RiTpbp3n8acOb/Tr199Xn31cooWDW7/QFnJEkGoSjrh/G/wXyjT0dtYAhVd3rpSNrnKkSMniYyMICoqL0880ZxHHmlKu3aVvA7rrFkiCHUFq0Lxxl5HYUzYmTVrOwMGfMttt9XhhRdac/nlFTKfKIfyshtqY4wJOfv2neD222dxzTVfEhMTSdeu1bwO6bzZEYExxgTo229/p1evmRw8eJKnn27JE080J3/+0N+Mhn4NjDEmm5QpU5AaNYrz9tvtqV8/9/T/ZE1DxhiTDlXlvffWMnDgdwDUq1eKH37omauSAFgiMMYYv7ZvP0T79pO4++45bNiwn7i4RIAce3fw+bBEYIwxPpKTU3jjjRXUqzee5ct38847HZg7twfR0fm8Di1o7ByBMcb42Lcvjmef/ZF27Sry9tsdKF8+xuuQgs4SgTEm7CUkJDNhwgZ6967HBRcUZPXqO6hUqXCubAbyxxKBMSasLV/+F3fdNZt16/ZRvnwMV11VmcqVi3gdVraycwTGmLB04kQiDz00nxYtPuXgwXimT7+Oq66q7HVYnrAjAmNMWOrWbSrfffcH/ftfzCuvXE6RIvm9DskzlgiMMWHj8OGT5M/vdBL31FMteOKJ5lxxRUWvw/KcNQ0ZY8LCV1/9St2643j22SUAtGlTwZKAyxKBMSZX27v3BLfe+hVdukyhePEorr++utch5TjWNGSMybXmzHE6iTt8+CTPPnspjz3WnMjICK/DynEsERhjcq1y5QpRu3YJ3n67PXXrlvQ6nBzLmoaMMblGSooyduwa/vWvbwGoW7ckCxf2tCSQCUsExphcYdu2g7Rr9zn33PMtmzcfONVJnMmcJQJjTEhLTk7htdeWc/HFH7Jq1R7effeqXN9JXFYL6jkCEekEvAlEAO+p6ktpxhcBJgAV3ViGqeq4YMZ03nZOhUNrvY4CTu71OgJjcoR9++IYOnQpHTpUYvTo9pQrl/s7ictqQUsEIhIBjAI6ALHAchGZrqobfIoNBDaoahcRKQVsFpFPVDUhWHGdt5/ugoSDXkfhyJMfClX2Ogpjst3Jk0l89NEG+vatf6qTuIoVw6eTuKwWzCOCZsA2Vd0OICITgW6AbyJQIEacT68QcABICmJM50+Toea/4ZLXvY7EIda6Z8LLTz/9Rd++37B+/X4qVSrMVVdVplKl8OokLqsFcytSDtjp8z7WHeZrJFAb2AX8AvxbVVPSzkhE+ovIChFZsXdvTmgSEWcDnBP+jAkTx48n8OCD82jZ8hMOH05g5szrw7aTuKwWzC2Jv2M0TfO+I7AaKAs0BEaKSOEzJlIdq6pNVLVJqVK561mhxpjAdO8+jTfeWMmAAQ1Yv743nTtX9TqkXCOYiSAWqODzvjzOnr+vPsCX6tgG/AbUCmJMxpgQcuhQ/KnLQJ9+uiULFtzM6NEdKFw4fHsKDYZgJoLlQHURqSIikUBPYHqaMjuAdgAicgFQE9gexJiMMSFi+vRt1K07nmef/RGA1q3L06ZNhUymMuciaIlAVZOAQcBsYCPwuaquF5EBIjLALfY8cKmI/ALMBR5V1X3BiskYk/P9/fdxevacQbduUylZMpobb6zhdUi5XsBXDYlIQSBeVZMDnUZVZwGz0gwb4/N6F3BVoPMzxuRu33zzG716zeTYsUSef74Vjz7ajHz5rJO4YEs3EYhIHpzmnF5AU+AkkF9E9uJs3Meq6tZsidIYExYqVIihfv2SjB7dnjp1rH+g7JJR09A8oBrwOHChqlZQ1dJAa2Ap8JKI3JYNMRpjcqmUFOXtt1dzzz1zAKeTuPnze1oSyGYZNQ21V9Uzem1S1QPAF8AXImKdeRhjzsmWLQfo128OP/wQS4cOlYiPTyIqynrG90K6RwSqmigieURkXUZlghOWMSa3SkpK4eWXf+Liiz/kl1/2Mm5cJ2bPvtGSgIcyXPOqmiIia0SkoqruyK6gjDG51/79cbz88nI6d67KqFHtKFOmkNchhb1AUnAZYL2ILAOOpw5U1a5Bi8oYk6ucPJnE+PHrufvui7nggoKsWXMHFSqc0YmA8UggieDZoEdhjMm1fvxxF337fsPGjQeoVq0o7dtXsiSQw2R6Q5mqLgA2A0WAwsBmd5gxxqTr2LEEBg/+nlatPuX48US++eYG2rev5HVYxo9ME4GI9AOWAdcDNwJLReSuYAdmjAlt3btP5c03VzFwYCPWretDx45VvA7JpCOQpqGHgUaquh9AREoAS4APghmYMSb0HDwYT1RUBNHR+Rgy5FKGDLmUyy4r73VYJhOB9DUUCxz1eX+U058zYIwxfPnlFurUGceQIUsAuOyy8pYEQkQgRwR/Aj+JyDSc5wl0A5aJyIMAqppDHtVljPHC7t3HGTToO774YisNG5amZ0/rST7UBJIIfnX/Uk1z/9sToo0Jc19/vZ1evWZx4kQiL7zQmoceamKdxIWgQBLBBlWd5DtARG5KO8wYE34qVSpMo0alGTWqHbVqlfA6HHOOAkkEjwNpN/r+hoW+XbNh25iMyyQdz3i8MblYSooyevTPrFmzl3ff7UidOiWZO7eH12GZ85RRN9RXA52BciIywmdUYSAp2IF54vcJsGsmFK6dfpmi9eGCK7MvJmNyiM2bD9C372wWL/6Tjh0rWydxuUhGn+IuYCXQ1f2f6ijwQDCD8lSBCtB5jddRGJNjJCYmM2zYCp59dgkFCuRj/PhO3HFHXUTE69BMFkk3EajqGmCNiHxivYwaE74OHozn1VeX06VLNd56qx0XXljQ65BMFkv3PgIRmSEiXdIZV1VEnrM7jI3JneLjkxg9+mdSUpTSpQuydu2dTJrU1ZJALpVR09DdwIPAcBE5AOwFooDKOJeTjlTVaelPbowJRYsWxdK372y2bDlIjRrFad++EuXL29XiuVlGTUO7gUeAR0SkMk531HHAFlU9kT3hGWOyy9GjCTz++EJGjVpN5cqFmTPnRuskLkwEdMpfVX8Hfg9qJMYYT3XvPpV583bw739fwtChl1GoUKTXIZlsYtd+pTq5Hw6uhjz25Tfh48CBOKKi8lKgQD6ef74VIpfRsmVZr8My2SyQTudyv6O/wpxL4ehWaPCC19EYky0mT95M7dr/dBJ36aXlLAmEqYASgYhEi0jNYAfjiX0/wZyWcHIfXPkdVLjO64iMCaq//jrG9ddP46abZlChQgy9emVwA6UJC4E8mKYLsBr4xn3fUESmBzmu7BE7DeZeAXkLwVVLoPRlXkdkTFDNnPkrdeqM4+uvf+Pll9uwdGkvGjQo7XVYxmOBnCMYAjQD5gOo6mr3KqLQtnkkrLwfijeBy2dA9AVeR2RM0FWtWpSmTS9k5Mh21KhR3OtwTA4RSNNQkqoeDnok2UVTYNVDsPI+KNcF2s+zJGByreTkFN58cyV9+34DQO3aJZgz5yZLAuY0gSSCdSJyKxAhItVF5C2cR1WGnqQ4WHQzbHoNagyC1l9CXrtT0uROGzbso3XriQwePI/du48TH587+4o05y+QRHAfUBc4CXwKHAb+HcyggiLxGHzfHnZOhkavQeMRkMceoGFyn4SEZIYO/ZFGjT5my5aDTJjQma++ut56CjXpCiQRXKOqT6pqU/fv/3B6JM2UiHQSkc0isk1EHkunTFsRWS0i60VkwdkEf1Z2fwv7lkDz96H2g2A9J5pc6tCheN54YyXXXXcRGzb0plevOtZTqMlQIIng8QCHnUZEIoBRwNVAHeAWEamTpkxRYDTQVVXrAjcFEM+5UfewuETzoC3CGK/ExSUycuSqU53E/fJLbyZO7ELp0tb0aTIXzAfTNAO2qep2d34TcR58v8GnzK3Al6q6A0BV/z678I0xCxfupF+/OWzdepDatUvQrl0lypYt5HVYJoRkdESwC1gBxOM8mCb1bzrQMYB5lwN2+ryPdYf5qgEUE5H5IrJSRO7wNyMR6S8iK0Rkxd69ewNYtDG535EjJ7n33m+5/PL/kZSUwnff3US7dtZJnDl7gTyY5tNzfDCNv0ZJ9bP8xkA7IBr4UUSWquqWNLGMBcYCNGnSJO08jAlL3btPZf78nTzwQGOef74VBQtaP1nm3ARyGUFlEXkRp50/KnWgqlbNZLpYoILP+/I4Rxlpy+xT1ePAcRFZCDQAtmCMOcO+fScoUCAfBQrk47//bY0ItGhh/QOZ8xPIyeJxwNs45wWuAD4CPg5guuVAdRGpIiKRQE+cZiVf04DWIpJXRAoAzYGNgQZvTLhQVSZO3ETt2uN45pnFALRsWdaSgMkSgSSCaFWdC4iq/qGqQ4ArM5tIVZOAQcBsnI3756q6XkQGiMgAt8xGnD6M1gLLgPdUdd25VcWY3OnPP4/SvftUbrnlK6pUKcIdd9T1OiSTywTSNBQvInmArSIyCPgTCKiXKlWdBcxKM2xMmvevAq8GFq4x4eWrr36lV6+ZJCamMGzY5Qwe3JiICOs93mStQBLBYKAAcD/wPE7z0J1BjMkY47rooqJcemlZ3nqrHRddVMzrcEwulWEicG8K66GqDwPHgD7ZEpUxYSo5OYURI1axZs1exo+/mlq1SvD11zd6HZbJ5TI8xlTVZKCx2P3pxgTd+vX7aNXqMx58cD779sVZJ3Em2wTSNPQzME1EJgHHUweq6pdBi8qYMJKQkMxLL/3E0KFLKVIkP59+eg09e9ay/oFMtgkkERQH9nP6lUIKWCIwJgscOhTPiBE/c9NNNRk+/ApKlSrgdUgmzGSaCFTVzgsYk8VOnEjk3XfXMmhQI7eTuDspU8b6BzLesA7Kjclm8+btoF+/2Wzffph69UrSrl0lSwLGU3ZBsjHZ5PDhk9xzzxyuvPJzRIR583pYJ3EmR7AjAmOySffuU1m4MJaHH27KkCGXUqBAPq9DMgYIIBGIyAXAC0BZVb3afbhMS1V9P+jRGRPi9u49QcGCTidxL77YmogIoWnTMl6HZcxpAmkaGo/TX1Bq71ZbcO42NsakQ1X59NONp3US16JFWUsCJkcKJBGUVNXPgRQ41ZlcclCjMiaExcYepWvXKfTqNZOLLipK7971vA7JmAwFco7guIiUwH2ojIi0AA4HNSpjQtT06du47bZZJCen8MYbV3DffY2skziT4wWSCP6D8xyBaiKyGCgFWOcnxvhRo0YxLrusHCNHtqNq1aJeh2NMQAK5oWyliFwO1MR5/OTmc3x0pTG5TlJSCsOHr2Tt2r189FFnatUqwaxZN3gdljFnJdNjVhFZAzwCxKvqOksCxjjWrt1Ly5af8PDDCzhyJME6iTMhK5DGy644j6n8XESWi8hDIlIxyHEZk2OdPJnEM88spnHjj9mx4yiff96FKVO6ERVlt+WY0JRpInAfT/mKqjYGbgUuBn4LemTG5FBHjiQwevRqbrmlFhs29OGmm2paT6EmpAW0CyMilYEewM04l44+EsSYjMlxjh9PYOzYtdx//yWUKlWAdet6c8EFBb0Oy5gsEcidxT8B+YBJwE2quj3oURmTg8yd+wd33z2H3347TIMGpbnyyoqWBEyuEsgRwZ2quinokRiTwxw6FM9DDy3g/fd/oXr1YixYcDNt2lTwOixjsly6iUBEblPVCUBnEemcdryqvh7UyIzx2HXXTeOHH2J59NFmPPNMS6KjrZM4kztldESQeuwb42ecBiEWYzy3Z89xChXKR8GCkbz0Uhvy5hUaN77Q67CMCap0E4GqvuO+/E5VF/uOE5FWQY3KmGymqkyYsIHBg+fRp089hg1rS/Pm1kGcCQ+B3EfwVoDDjAlJO3Yc4ZprvuSOO76mZs3i9O1b3+uQjMlWGZ0jaAlcCpQSkQd9RhUGIoIdmDHZYdq0bdx220xUYcSIK7n33obWSZwJOxmdI4gECrllfM8THME6nTMhTlUREWrVKk7bthV46612VK5cxOuwjPFERucIFgALRGS8qv6RjTEZEzRJSSm89tpyfvllHxMmXEPNmsWZMeN6r8MyxlMZNQ0NV9XBwEgROeMqIVXtGszAjMlqa9b8zV13zWbVqj1cd1114uOTrH8gY8i4aehj9/+w7AjEmGCJj09i6NClvPzyMkqUiGLy5K7ccEMNr8MyJsfIqGlopft/QeowESkGVFDVtdkQmzFZ4ujRBN55Zw29etXm9dfbUrx4tNchGZOjBPI8gvkiUlhEigNrgHEiEtBdxSLSSUQ2i8g2EXksg3JNRSRZROwktMkSx44lMGzYcpKTUyhVqgAbNvRh/PirLQkY40cg18kVUdUjwPXAOLc76vaZTSQiEcAo4GqgDnCLiNRJp9zLwOyzCdyY9MyZ8zv16o3nkUcWsHBhLAClShXwOCpjcq5AEkFeESmD0w31V2cx72bANlXdrqoJwESgm59y9wFfAH+fxbyNOcOBA3H06fM1HTtOJioqLz/8cAtXXGHPUDImM4FcMvEczt76YlVdLiJVga0BTFcO2OnzPhZo7ltARMoB1wFXAk3Tm5GI9Af6A1SsaD9s4991101j8eI/eeKJ5jz1VEu7IsiYAAXy8PpJOM8iSH2/HQjk6dz+HtmU9jLU4cCjqpqc0ROeVHUsMBagSZMm1uGdOWX37uPExDidxL366uVERkbQsGFpr8MyJqQEcrK4vIhMEZG/RWSPiHwhIuUDmHcs4Nt5e3lgV5oyTYCJIvI7zt3Ko0Wke2Chm3Cmqowfv446dcbx9NNOn4jNmpWxJGDMOQjkHME4YDpQFqe5Z4Y7LDPLgeoiUkVEIoGe7nxOUdUqqlpZVSsDk4F7VXVq4OGbcPT774fp1OkL+vT5hrp1S9C/fwOvQzImpAXSiFpKVX03/ONFZHBmE6lqkogMwjm/EAF8oKrrRWSAO37MuQRswtuUKVu5/fZZiMDIke34178akiePPTjemPMRSCLYJyK3AZ+5728B9gcyc1WdBcxKM8xvAlDV3oHM04Sn1E7i6tYtQfv2lXjzzSuoVMk6iTMmKwTSNHQXzqWju92/G91hxgRdYmIyL7ywlF69ZgJQo0Zxpk7tbknAmCwUyFVDOwDrYM5ku1Wr9tC372xWr/6bHj1qcvJkEvnz2yWhxmS1QK4aqioiM0Rkr3vl0DT3XgJjgiIuLpHHH19Is2YT2L37OFOmdON//+tiScCYIAmkaehT4HOgDM6VQ5P453yBMVnu+PFE3n//F+68sy4bNvShe/fqXodkTK4WSCIQVf1YVZPcvwmceWOYMefl6NEEXnllGcnJKZQs6XQS9/77nShWLMrr0IzJ9QI51p7n9hw6EScB3AzMdHsjRVUPBDE+Ewa++eY37rlnDjt3HqVZswtp27YiJUtaJ3HGZJdAEsHN7v970gy/Cycx2PkCc07274/jwQfn8dFHG6hduziLF99Ky5ZlvQ7LmLATyFVDVbIjEBN+rr9+GkuW7OKpp1rw5JMt7GSwMR6xX57JVn/9dYyYmEgKFYpk2DCnk7gGDax/IGO8FMjJYmPOm6rywQe/ULv2P53ENW1axpKAMTmAHRGYoNu+/RD33PMt3333B23alGfAAOskzpicJNNEIM6DAnoBVVX1ORGpCFyoqsuCHp0JeV9+uYXbb59FREQe3n67Pf37N7BO4ozJYQI5IhgNpOA8Rew54CjOoyXTfaKYMamdxNWvX4pOnaowfPgVVKhQ2OuwjDF+BHKOoLmqDgTiAVT1IBAZ1KhMyEpISGbo0B+59daZqCrVqxfjiy+6WRIwJgcLJBEkikgE7t3EIlIK5wjBmNOsWLGbpk0n8NRTzsnghIRkjyMyxgQikEQwApgClBaR/wKLgBeCGpUJKXFxiTzyyAKaN/+EffvimDatO599dq3dF2BMiAjkhrJPRGQl0A7ngfTdVXVj0CMzIeP48UTGj19H3771eeWVNhQtav0DGRNKArlqqCJwAudZxaeGuc8pMGHqyJGTjB69mocfbkrJkgXYuPEuSpSI9josY8w5COTYfSbO+QEBooAqwGagbhDjMjnYzJm/MmDAd+zadYwWLcrQtm1FSwLGhLBMzxGoan1Vvdj9Xx1ohnOewISZvXtP0KvXTK69dgpFikSyZMmttG1b0euwjDHn6azP5qnqKhGxewjC0A03TGfp0l0MGXIpjz/enMjICK9DMsZkgUDOETzo8zYPcAmwN2gRmRzlzz+PUqRIfgoViuSNN9qSP38E9eqV8josY0wWCuTy0Rifv/w45wy6BTMo4z1V5d1311Knzj+dxDVufKElAWNyoQyPCNwbyQqp6sPZFI/JAX799RB33z2befN2csUVFRg4sJHXIRljgijdRCAieVU1SUQuyc6AjLcmT97MHXd8Tb58eRg79ir69auP0++gMSa3yuiIYBnO+YDVIjIdmAQcTx2pql8GOTaTjVI7iWvQoDTXXFOVN964gvLlY7wOyxiTDQK5aqg4sB+n99HU+wkUsESQCyQkJPPiiz+xYcN+Jk68lurVizFpUlevwzLGZKOMEkFp94qhdfyTAFJpUKMy2WLZsr/o23c269bt49Zba5OQkGz9AxkThjL61UcAhTg9AaSyRBDCTpxI5OmnF/PGGyspU6YgM2Zcx7XXVvM6LGOMRzJKBH+p6nPZFonJNnFxSUyYsIH+/S/m5ZfbULhwfq9DMsZ4KKP7CM77UhER6SQim0Vkm4g85md8LxFZ6/4tERF7mG2QHD58kv/+dylJSSmUKBHNxo138fbbHSwJGGMyTATtzmfG7j0Io4CrgTrALSJSJ02x34DLVfVi4Hlg7Pks0/g3Y8avp24MW7QoFoBixayraGOMI91EoKoHznPezYBtqrpdVROAiaS5I1lVl7iPvgRYCpQ/z2UaH3v3nuCWW76ia9cplCgRxU8/9bJO4owxZwjmJSLlgJ0+72OB5hmU7wt87W+EiPQH+gNUrGgbskCldhL33HOtePTRZtZJnDHGr2AmgoCvNhKRK3ASwWX+xqvqWNxmoyZNmtgVSxmIjT1K0aJOJ3HDh19B/vwR1K1b0uuwjDE5WCCdzp2rWKCCz/vywK60hUTkYuA9oJuq7g9iPLlaSoryzjtrqFNn3KmHx19yyQWWBIwxmQrmEcFyoLqIVAH+BHoCt/oWcB+D+SVwu6puCWIsudrWrQe5++7ZLFgQS7t2FbnvPuskzhgTuKAlArfDukHAbJyb0z5Q1fUiMsAdPwZ4GigBjHY7NktS1SbBiik3mjTJ6SQuf/4I3n+/I3361LNO4owxZyWo/Qmo6ixgVpphY3xe9wP6BTOG3Cq1k7hGjUrTrVs1Xn/9CsqWLeR1WMaYEBTMcwQmCE6eTOLppxfRo8cMVJWLLirGxIldLAkYY86ZJYIQsnTpLi655GOef34p0dF5SUhI9jokY0wuYIkgBBw/nsADD8zj0ks/5ejRBGbNup6PPupsPYUaY7KEbUlCQHx8MhMnbuLeexvy4ottiImJ9DokY0wuYokghzp0KJ633vqZxx9v7nYS14eiRa1/IGNM1rOmoRxo6tSt1KkzjmefXcKSJX8CWBIwxgSNHRHkIHv2HOe+++YyadIWGjQoxYwZ19G48YVeh2VMtklMTCQ2Npb4+HivQwlZUVFRlC9fnnz58gU8jSWCHOTGG6ezbNluhg69jEceaUq+fNZJnAkvsbGxxMTEULlyZbsx8hyoKvv37yc2NpYqVaoEPJ0lAo/t2HGEYsWiiImJZMSIK8mfP4I6dax/IBOe4uPjLQmcBxGhRIkS7N2796yms3MEHklJUUaN+pm6dZ0HxgA0anSBJQET9iwJnJ9zWX92ROCBzZsP0K/fbBYt+pMOHSrx739f4nVIxpgwZkcE2ezzzzfRoMGHrFu3j3HjOjF79o1UrlzE67CMMa6IiAgaNmxIvXr16NKlC4cOHTo1bv369Vx55ZXUqFGD6tWr8/zzz6P6zyNSvv76a5o0aULt2rWpVasWDz30kAc1OHuWCLJJ6pelceMLuf766mzceBe9e1tPocbkNNHR0axevZp169ZRvHhxRo0aBUBcXBxdu3blscceY8uWLaxZs4YlS5YwevRoANatW8egQYOYMGECGzduZN26dVStWtXLqgTMmoaCLD4+ieef/5FNmw4weXJXqlUryqefXut1WMbkfCsHw8HVWTvPYg2h8fCAi7ds2ZK1a9cC8Omnn9KqVSuuuuoqAAoUKMDIkSNp27YtAwcO5JVXXuHJJ5+kVq1aAOTNm5d77703a+MPEjsiCKIlS/6kUaOPeOGFn4iJibRO4owJIcnJycydO5euXbsCTrNQ48aNTytTrVo1jh07xpEjR1i3bt0Z40OFHREEwbFjCTzxxA+MHPkzFSrE8M03N9CxY+DX9BpjOKs996wUFxdHw4YN+f3332ncuDEdOnQA/nkGiD+h3sRrRwRBkJCQzOTJWxg4sBHr1vWxJGBMCEk9R/DHH3+QkJBw6hxB3bp1WbFixWllt2/fTqFChYiJiaFu3bqsXLnSi5DPmyWCLHLgQBxDhiwmKSmF4sWj2bjxLt56q531FGpMiCpSpAgjRoxg2LBhJCYm0qtXLxYtWsR3330HOEcO999/P4888ggADz/8MC+88AJbtjiPX09JSeH111/3LP6zYYkgC3zxxRbq1BnH0KFLT3USV6RIfo+jMsacr0aNGtGgQQMmTpxIdHQ006ZNY+jQodSsWZP69evTtGlTBg0aBMDFF1/M8OHDueWWW6hduzb16tXjr7/+8rgGgbFzBOfhr7+OMWjQXL78ciuNGpXmm29upGHD0l6HZYw5D8eOHTvt/YwZM069rl+/PvPnz0932muvvZZrrw29qwItEZyHHj1msHz5bl56qTX/+U9T8ua1AyxjTOixRHCW/vjjMMWLRxMTE8lbb7UjOjovNWsW9zosY4w5Z7YLG6CUFOWtt1ZRt+54nnpqEQANG5a2JGCMCXl2RBCATZv206/fHBYv/pNOnSrzwAOhedOIMcb4Y4kgExMnbuLOO7+mUKF8fPTR1dx2W52Qv3nEGGN8WSJIR0qKkieP0LTphdx0Uw1ee60tF1xQ0OuwjDEmy9k5gjTi4hJ57LGF3HDDNFSVatWKMmHCNZYEjAkTe/bs4dZbb6Vq1ao0btyYli1bMmXKlKAuc8WKFdx///1BXUZGLBH4+OGHWBo2/IiXX15GiRLRJCameB2SMSYbqSrdu3enTZs2bN++nZUrVzJx4kRiY2ODutwmTZowYsSIoC4jI9Y0BBw9msBjjy1k9OjVVKlShG+/vYn27St5HZYxYa9t24lnDOvRoyb33tuIEycS6dz5izPG9+5dj96967Fv3wluvHH6aePmz++Z4fK+//57IiMjGTBgwKlhlSpV4r777mP8+PGsWLGCkSNHAs7NYw899BBt27Zlzpw5PPPMM5w8eZJq1aoxbtw4ChUqxGOPPcb06dPJmzcvV111FcOGDWPSpEk8++yzREREUKRIERYuXMj8+fMZNmwYX331FUOGDGHHjh1s376dHTt2MHjw4FNHC88//zyffPIJFSpUoGTJkjRu3DhLHn5jiQBITExm6tRtDB7cmKFDW1GwoPUPZEw4Wr9+PZdccnaPjt23bx9Dhw7lu+++o2DBgrz88su8/vrrDBo0iClTprBp0yZE5NSTzp577jlmz55NuXLlTnv6ma9NmzYxb948jh49Ss2aNfnXv/7FmjVr+OKLL/j5559JSkrikksuybJur8M2EezfH8ebb67k6acvpXjxaDZtuss6iDMmh8loD75AgXwZji9ZskCmRwCZGThwIIsWLSIyMpKBAwf6LbN06VI2bNhAq1atAEhISKBly5YULlyYqKgo+vXrxzXXXHOq64lWrVrRu3dvevTowfXXX+93ntdccw358+cnf/78lC5dmj179rBo0SK6detGdHQ0AF26dDmvuvkK6jkCEekkIptFZJuIPOZnvIjICHf8WhEJ+lPcVZVJkzZTp844XnxxGT/+uAvAkoAxhrp167Jq1apT70eNGsXcuXPZu3cvefPmJSXln/OG8fHxgLNN6dChA6tXr2b16tVs2LCB999/n7x587Js2TJuuOEGpk6dSqdOnQAYM2YMQ4cOZefOnTRs2JD9+/efEUf+/P90WhkREUFSUtJpz0bOakFLBCISAYwCrgbqALeISJ00xa4Gqrt//YG3gxUPwK6Dhbn+9p/p0WMGFSrEsGLFbbRuXT6YizTGhJArr7yS+Ph43n77n03RiRMnAKhcuTKrV68mJSWFnTt3smzZMgBatGjB4sWL2bZt26nyW7Zs4dixYxw+fJjOnTszfPhwVq9eDcCvv/5K8+bNee655yhZsiQ7d+4MKLbLLruMGTNmEB8fz7Fjx5g5c2aW1TuYTUPNgG2quh1ARCYC3YANPmW6AR+pk+qWikhRESmjqkHpu7XHiNtYuWMvr7zShgceaGKdxBljTiMiTJ06lQceeIBXXnmFUqVKnWr3b9WqFVWqVKF+/frUq1fv1LmEUqVKMX78eG655RZOnjwJwNChQ4mJiaFbt27Ex8ejqrzxxhuA89yCrVu3oqq0a9eOBg0asGDBgkxja9q0KV27dqVBgwZUqlSJJk2aUKRIkaypd7AON0TkRqCTqvZz398ONFfVQT5lvgJeUtVF7vu5wKOquiLNvPrjHDFQsWLFxn/88cfZB7T3R9Z8NYboRo9So2HaAxNjTE6wceNGateu7XUYOdaxY8coVKgQJ06coE2bNowdO9bvyW1/61FEVqpqE3/zDeYRgb9+GNJmnUDKoKpjgbEATZo0ObfMVaolDfq0PKdJjTEmJ+jfvz8bNmwgPj6eO++886yvcEpPMBNBLFDB5315YNc5lDHGGAN8+umnQZlvMBvJlwPVRaSKiEQCPYHpacpMB+5wrx5qARwO1vkBY0xoCObVMeHgXNZf0I4IVDVJRAYBs4EI4ANVXS8iA9zxY4BZQGdgG3AC6BOseIwxOV9UVBT79++nRIkS1svvOVBV9u/fT1RU1FlNF7STxcHSpEkTXbFiReYFjTEhJzExkdjY2FPX6JuzFxUVRfny5cmXL99pw706WWyMMWclX758VKlSxeswwo5dSG+MMWHOEoExxoQ5SwTGGBPmQu5ksYjsBc7h1mIASgL7sjCcUGB1Dg9W5/BwPnWupKql/I0IuURwPkRkRXpnzXMrq3N4sDqHh2DV2ZqGjDEmzFkiMMaYMBduiWCs1wF4wOocHqzO4SEodQ6rcwTGGGPOFG5HBMYYY9KwRGCMMWEuVyYCEekkIptFZJuIPOZnvIjICHf8WhHJmqc7eCiAOvdy67pWRJaISAMv4sxKmdXZp1xTEUl2n5oX0gKps4i0FZHVIrJeRDJ/BmIOF8B3u4iIzBCRNW6dQ7oXYxH5QET+FpF16YzP+u2XquaqP5wur38FqgKRwBqgTpoynYGvcZ6Q1gL4yeu4s6HOlwLF3NdXh0Odfcp9j9Pl+Y1ex50Nn3NRnOeCV3Tfl/Y67myo8xPAy+7rUsABINLr2M+jzm2AS4B16YzP8u1XbjwiaAZsU9XtqpoATAS6pSnTDfhIHUuBoiJSJrsDzUKZ1llVl6jqQfftUpynwYWyQD5ngPuAL4C/szO4IAmkzrcCX6rqDgBVDfV6B1JnBWLEeYBBIZxEkJS9YWYdVV2IU4f0ZPn2KzcmgnLATp/3se6wsy0TSs62Pn1x9ihCWaZ1FpFywHXAmGyMK5gC+ZxrAMVEZL6IrBSRO7ItuuAIpM4jgdo4j7n9Bfi3qqZkT3ieyPLtV258HoG/xxqlvUY2kDKhJOD6iMgVOIngsqBGFHyB1Hk48KiqJueSp10FUue8QGOgHRAN/CgiS1V1S7CDC5JA6twRWA1cCVQDvhWRH1T1SJBj80qWb79yYyKIBSr4vC+Ps6dwtmVCSUD1EZGLgfeAq1V1fzbFFiyB1LkJMNFNAiWBziKSpKpTsyXCrBfod3ufqh4HjovIQqABEKqJIJA69wFeUqcBfZuI/AbUApZlT4jZLsu3X7mxaWg5UF1EqohIJNATmJ6mzHTgDvfsewvgsKr+ld2BZqFM6ywiFYEvgdtDeO/QV6Z1VtUqqlpZVSsDk4F7QzgJQGDf7WlAaxHJKyIFgObAxmyOMysFUucdOEdAiMgFQE1ge7ZGmb2yfPuV644IVDVJRAYBs3GuOPhAVdeLyAB3/BicK0g6A9uAEzh7FCErwDo/DZQARrt7yEkawj03BljnXCWQOqvqRhH5BlgLpADvqarfyxBDQYCf8/PAeBH5BafZ5FFVDdnuqUXkM6AtUFJEYoFngHwQvO2XdTFhjDFhLjc2DRljjDkLlgiMMSbMWSIwxpgwZ4nAGGPCnCUCY4wJc5YITLZxewBd7fNXOYOyx7IxtHSJSFkRmey+biginX3Gdc2o19MgxFJZRG49h+miRWSBiES47191e+l89SzmUcq9LNXkQnb5qMk2InJMVQtlddnsIiK9gSaqOiiIy8irqn47TBORtsBDqnrtWc5zIJBXVd903x8BSqnqybOJSUTG4dyXsPhslm9yPjsiMJ4RkUIiMldEVonILyJyRu+hIlJGRBa6RxDrRKS1O/wqEfnRnXaSiJyRNNyO14aL8/yFdSLSzB1eXESmun25L3W73kBELvc5WvlZRGLcvfB17l2tzwE3u+NvFpHeIjJSnP7wfxeRPO58CojIThHJJyLVROQbcTqA+0FEavmJc4iIjBWROcBH7jJ/cOu2SkQudYu+hHPX8GoReUBEIty9++VuXe5JZ1X3wrnjGBGZDhQEfnLrMF5ExrjL2yIi17rlervrdQYwx53PVHdeJrfxuu9t+wufPyAZp3Ow1cAUnDvbC7vjSuLcKZl6lHrM/f8f4En3dQQQ45ZdCBR0hz8KPO1nefOBd93XbXD7dwfeAp5xX18JrHZfzwBaua8LufFV9pmuNzDSZ/6n3uNsaK9wX9+Ms+cMMBeo7r5uDnzvJ84hwEog2n1fAIhyX1cHVriv2wJf+UzXH/g/93V+YAVQJc28I4HdaYYd83k9HvgGZ6ewOk4/NlFu3WKB4j5lywG/eP09sr+s/8t1XUyYHC1OVRumvhGRfMALItIGpzuEcsAFwG6faZYDH7hlp6rqahG5HKgDLHa7y4gEfkxnmZ+B08e7iBQWkaI4Pa/e4A7/XkRKiEgRYDHwuoh8gtOnf6wE3mvp/3ASwDyc/nBGu0cplwKTfOaTP53pp6tqnPs6HzBSRBriJM8a6UxzFXCx/PPktSI4G/PffMqUBA5lEvvn6nTbvFVEtuN02Abwrar69ov/N1A2k3mZEGSJwHipF84TpRqraqKI/I6zN3qKuwFvA1wDfOye4DyIs5G6JYBlpD0JpqTTja+qviQiM3H6cVkqIu2B+ADrMh14UUSK43QD/T1OE8wh3+SXgeM+rx8A9uD0GpongxgEuE9VZ2cw3zjSrFM//K2jtDHhzicOk+vYOQLjpSLA324SuAKolLaAiFRyy7wLvI/zCL+lQCsRucgtU0BE0ttrvtktcxlOL42HcZqVernD2+J023xERKqp6i+q+jJOM0va9vyjOE1TZ1DVYzjdHr+J03yTrE5/+L+JyE3uskQCe1Z0EeAvdy/9dpwmMX/Lnw38yz1aQkRqiEjBNHEdBCJEJKNkcJOI5BGRajiPhNycTrkaQMh2YGfSZ4nAeOkToImIrMDZMG/yU6YtsFpEfsZpznlTVffitGF/JiJrcRLDGSdhXQdFZAnOU8r6usOGuMtdi3MC9k53+GD3xPAanD3ftE9xmwfUST1Z7GdZ/wNuc/+n6gX0dee5Hv+P00xrNHCniCzF2fim7pmvBZLEeUj7AzjPltgArBLnQefv4P8ofw4ZP4hoM7AAp74DVDW9I5ArgJkBxG9CjF0+anItEZmPc7nlCq9j8ZKINAIeVNXb/Ywbj3MEMzmA+SwEuuk/z742uYQdERiTy6nqz8A8cW8oOxciUgp43ZJA7mRHBMYYE+bsiMAYY8KcJQJjjAlzlgiMMSbMWSIwxpgwZ4nAGGPC3P8DiB8px+TQCaEAAAAASUVORK5CYII=\n",
      "text/plain": [
       "<Figure size 432x288 with 1 Axes>"
      ]
     },
     "metadata": {
      "needs_background": "light"
     },
     "output_type": "display_data"
    }
   ],
   "source": [
    "# create a function for plotting ROC curves\n",
    "import matplotlib.pyplot as plt\n",
    "\n",
    "def plot_roc_curve(fpr, tpr):\n",
    "    \"\"\"\n",
    "    Plots a ROC curve given false positive rate (fpr) and \n",
    "    true positive rate (tpr) of a model\n",
    "    \"\"\"\n",
    "    # Plot roc curve\n",
    "    plt.plot(fpr, tpr, color = \"orange\", label = \"ROC\")\n",
    "    # Plot line with no predictive power (baseline)\n",
    "    plt.plot([0, 1], [0, 1], color = \"darkblue\", linestyle = '--', label = \"Guessing\")\n",
    "    \n",
    "    # Customise a plot\n",
    "    plt.xlabel(\"False positive rate (fpr)\")\n",
    "    plt.ylabel(\"True positive rate (tpr)\")\n",
    "    plt.title(\"Receiver Operating Characteristic (ROC) Curve\")\n",
    "    plt.legend()\n",
    "    plt.show()\n",
    "    \n",
    "plot_roc_curve(fpr, tpr)"
>>>>>>> ad807a3c1d1a9c45834c5a258d98d6f96f102b20
   ]
  },
  {
   "cell_type": "code",
<<<<<<< HEAD
   "execution_count": 136,
   "id": "eed35c2f",
=======
   "execution_count": 114,
   "id": "9d2ff7ea",
>>>>>>> ad807a3c1d1a9c45834c5a258d98d6f96f102b20
   "metadata": {},
   "outputs": [
    {
     "data": {
      "image/png": "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\n",
      "text/plain": [
<<<<<<< HEAD
       "<Figure size 432x288 with 2 Axes>"
      ]
     },
=======
       "0.9368131868131868"
      ]
     },
     "execution_count": 114,
>>>>>>> ad807a3c1d1a9c45834c5a258d98d6f96f102b20
     "metadata": {},
     "output_type": "display_data"
    }
   ],
   "source": [
<<<<<<< HEAD
    "# Make our confusion matrix more visual with Seaborn's heatmap()\n",
    "import seaborn as sns\n",
    "\n",
    "# Set the font scale \n",
    "sns.set(font_scale=1.5)\n",
    "# Create a confusion matrix\n",
    "conf_mat = confusion_matrix(y_test, y_preds)\n",
    "# Plot is using seaborn\n",
    "sns.heatmap(conf_mat);"
=======
    "from sklearn.metrics import roc_auc_score\n",
    "roc_auc_score(y_test, y_probs_positive) # area under the yellow curve (perfect would be 1.0)"
   ]
  },
  {
   "cell_type": "code",
   "execution_count": 115,
   "id": "e3bbbc5c",
   "metadata": {},
   "outputs": [
    {
     "data": {
      "image/png": "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\n",
      "text/plain": [
       "<Figure size 432x288 with 1 Axes>"
      ]
     },
     "metadata": {
      "needs_background": "light"
     },
     "output_type": "display_data"
    }
   ],
   "source": [
    "# Plot perfect ROC curve and AUC score\n",
    "fpr, tpr, thresholds = roc_curve(y_test, y_test)\n",
    "plot_roc_curve(fpr, tpr)"
   ]
  },
  {
   "cell_type": "code",
   "execution_count": 116,
   "id": "780f101a",
   "metadata": {},
   "outputs": [
    {
     "data": {
      "text/plain": [
       "1.0"
      ]
     },
     "execution_count": 116,
     "metadata": {},
     "output_type": "execute_result"
    }
   ],
   "source": [
    "# Perfect AUC score\n",
    "roc_auc_score(y_test, y_test)"
   ]
  },
  {
   "cell_type": "markdown",
   "id": "0842dd5d",
   "metadata": {},
   "source": [
    "**Confusion Matrix**\n",
    "\n",
    "Is a quick way to compare the labels a models predicts and the actual labels it was supposed to predic.\n",
    "\n",
    "In essence, giving you an idea where the model is getting confused"
>>>>>>> ad807a3c1d1a9c45834c5a258d98d6f96f102b20
   ]
  },
  {
   "cell_type": "code",
<<<<<<< HEAD
   "execution_count": 134,
   "id": "097151d1",
=======
   "execution_count": 117,
   "id": "08a08172",
>>>>>>> ad807a3c1d1a9c45834c5a258d98d6f96f102b20
   "metadata": {},
   "outputs": [
    {
     "data": {
      "image/png": "iVBORw0KGgoAAAANSUhEUgAAAOQAAADfCAYAAADm6n/jAAAAOXRFWHRTb2Z0d2FyZQBNYXRwbG90bGliIHZlcnNpb24zLjQuMiwgaHR0cHM6Ly9tYXRwbG90bGliLm9yZy8rg+JYAAAACXBIWXMAAAsTAAALEwEAmpwYAAAdb0lEQVR4nO3de1xM+f8H8NfMpKSUwjekkr4SKlIuSShEuUQJS/mSuyTXpV3X3e8iLBtrbbvk0jeU69etZV3qaxFrtx+LSLrqKt0vmqY5vz88mt3ZKWaY6Zya9/Px2D868zmn17S9nDmnzzmHxzAMA0IIJ/DZDkAI+RMVkhAOoUISwiFUSEI4hApJCIdosB1AVWoKUtiO0Gz4269kO0KzEpF+usHXaA9JCIdQIQnhECokIRxChSSEQ6iQhHAIFZIQDqFCEsIhVEhCOIQKSQiHUCEJ4RAqJCEcQoUkhEOokIRwCBWSEA6hQhLCIVRIQjiECkkIh1AhCeEQKiQhHEKFJIRDqJCEcAgVkhAOoUISwiFUSEI4hApJCIdQIQnhECokIRxChSSEQ6iQhHAIFZIQDqFCEsIhVEhCOKTZPrCVK27d/Q1hh47hybNk8Pg89O5lhcC5M9DbugeycvIwatLMd64fvicE/fvaNk7YJqqLdVdMWeOHbvbdIa4V4+ndxzj61WHkpmSzHU1hPIZhGLZDqAIXnqD8a8JD+AeuwT/NzTBxjBtEtbWIOnMB+QWvceS7HbAwN8O1/92WWa+6uhqbd+2DoUEbnDq0F/p6rVlI/ycuP0G5Q9dO+OL8dgirqhGz/zwAwGPueIAHfD56OYrzi1hOKOtdT1CmPaQKhYSGocM/2uPoj7ug3bIlAGC8+3CMnzYPoWGHsT90M8aNcpVZb+s330MkqkXI+k9ZLyPXjfYfC21dbXw1eS3SH6cCAJ7c/gNfnN+G0XPG4fjmIywnVAwdQ6pISWkZniWnYpSrs6SMANDO0AAOdjZ48OhJveslvUjF0VPn4ekxAvZ9rBsrbpPV3tQIpa9LJGUEgNSHySgrLIVJdzMWk30Y2kOqiK5OK1w49qNUGesUF5dCIBDUu97usMPQ0tLEkrn/UnXEZiEvLQfWg23R2lAPZYWlAAAdfV200tPh5MfV96E9pIoIBAKYmRjjH+3bSi1/lpyKhD+eoI9NT5l1niWnIvbWXUye4IH27QwbK2qTdvH7syjMKcSiPctgYmWGzt1NsWjPMohqRLhy6CLb8RTG+h4yKysLqampKC8vB5/PR+vWrWFubo4OHTqwHU3pKiur8NmXOwAAs319ZF6POnMBAgEf0yeNb+xoTdbr7AKc23sKM76Yg82XdwEAakW12LNwu9TH2KaCtUJeuXIFoaGhSElJwd9P9PJ4PJiZmWHp0qUYPXo0SwmVq+rNGyxevQnPklMwx28K+tlJ/ynjTXU1Lly+gWFOA9GpgxFLKZse7xWfYMISHyTeeYQbx34Gn8/HcL9RWLx3BXYv2I6Ea/fZjqiQBgv566+/ftAG+/Xr994xZ8+exZo1a+Du7o7AwECYmZlBR0cHDMOgoqIC6enpuHz5MpYtW4aamhqMGzfug7JwRWlZOQI+3YCEh08wcawbgubLHh/e++0BKquqMMrVmYWETVMrvVbwmOeJlAfJ2DJtIxixGAAQf/4XbDq3Df5bF2KZ03yIhCKWk8qvwUL6+fmBx+PJvSGGYcDj8ZCYmPjesT/88AM++eQTbNiwod7Xe/bsCXd3d2zcuBFhYWFNupCvi4oxf9nnePo8BT6e7li/KrDen+vNO/fRooUGhgx6/z9o5C2jLp2g2VITd87dlJQRePuR9fZ//4dPPvsXOll0RkZiGnshFdRgIbds2aKyb5qVlYURI0a8d9zw4cNx5swZleVQtYqKSkkZZ0yZiE+XzGtwbMIfj2HdwxK6OjqNmLBpEwlrAAB8gey5ST7/7TIeX/6dChc0WMiJEyeq7JuamJjgl19+gZOT0zvHxcbGNumTO//e+R2ePk+Br4/nO8tYIxLhRVoGfMa7N2K6pu9lUiYKc1/DeZILfj50CTXVbwvaQqsFBnsPQ+nrErx8lsFySsUofFLn+vXriI2NRXZ2NpYvX45WrVrh9u3b8Pb2hpaWllzbWLBgAVatWoX8/Hy4ubnB3Nwcurq64PF4KC8vlxxDXrhwAZs2bVL4TXHBi7QMnP/pGlrr6sCqmwXOX74uM6Zulk5Obj5qakToYPSPxo7ZpDFiMY6s348l+1Zi439DEBd1DXwBH0MnD0dHC2OELduNWlEt2zEVIncha2pqsGTJEty4cQMCgQBisRizZ89GWloavvjiC5w+fRoHDhyAvr7+e7c1duxYCAQC7Nq1CxcvXpQ5pmIYBp07d8bmzZtVuqdWpfsJfwAAysorsHbzznrH1BWypLQMwNvJBEQxv12+ixDfTZiwZDImfzodAJD2KAU7Zn6FP+ISWE6nOLknl+/evRvff/89Nm3aBGdnZwwbNgwHDx5Ev379cOzYMYSEhGDatGn47LPPFAqQmZmJlJQUlJeXg2EYyd8hTU1NP+gN1eHC5PLmgsuTy5sipUwuP3fuHLy9veHj44Oioj+nJGloaMDPzw+pqam4du2awoU0MTGBiYmJQusQ0lzJPXUuNzcX1tYNT3bu3r07Xr16pZRQhKgruQtpZGSElJSGPwY+fPgQ7du3V0ooQtSV3IUcO3YsoqKicPv2nxfU1p2MiYyMxJkzZ5rNNDdC2CL3MWRAQAAePHiA2bNnw9DQEDweDxs3bkRxcTGKi4thY2ODgIAAVWYlpNmTu5CampoIDw/H2bNnceXKFWRmZqK2tha9evWCq6srfHx8oKmpqcqshDR7Ck0M4PP58PLygpeXl6ryEKLWFJ6pExsbi9jYWGRlZUEgEMDU1BQjRoxA//79VZGPELUidyHLy8sREBCAe/fugWEY6OvrQywWIzY2FhEREfDw8MC2bdsavDUFIeT95C7kN998g3v37iEgIAAzZsyAnp4eAKCwsBAHDhzAgQMH0KVLFwQGBqosLCHNndx/9oiJiYGPjw8WL14sKSMAGBoaYtWqVfD09MSpU6dUEpIQdSF3ISsqKtC9e/cGX7e3t0dxcbEyMhGituQupJOTE2JiYiD+y5XZfxUXFwcHBwelBSNEHcl9Tx13d3esW7cOfn5+mDlzJszNzcHj8fDy5UucPHkSv//+O3burP8yI0KIfBq8/MrKyqre6xQBvHO5PPfUaQx0+ZXy0OVXyvVBl1+p8p46hJD6sXJPHUJI/RSeqZOYmIiKigqpmxuLRCJUVFQgPj4ea9euVWpAQtSJ3IVMTk5GQEAAMjIavosXn8+nQhLyEeQu5I4dO5CdnY25c+eCx+MhLCwM69evR2lpKc6cOYO8vDycPXtWhVEJaf7k/jtkQkICpkyZguXLl2PhwoVvn+5kZoYFCxbg5MmTMDQ0RHh4uCqzEtLsKTRTx8rKCgDQsmVLdO7cGY8fPwYAtG7dGpMmTUJ8fLxqUhKiJuQuZNu2baWmxpmamiIpKUnydfv27ZGfn6/UcISoG7kLOXDgQERFRSEtLQ3A2wfi3LlzR1LSW7duwcDAQBUZCVEbchcyICAApaWlcHd3R2FhIaZNm4bKykqMHj0aY8aMweXLl+Hh4aHKrIQ0e3IX0tTUFJcuXcLy5cthaGgIIyMjREREwNLSEhoaGpgzZw6CgoJUmZWQZk/uRwk0NTSXVXloLqtyvWsuq9x7yPf5/vvvabodIR9JaYXMycnB06dPlbU5QtSS0gpJCPl4VEhCOIQKSQiHUCEJ4ZAGr/b49ttvFdrQo0ePPjoMIepOaYUEZO+1wybtTs5sR2g2yi5vYjuC2miwkEeOHGnMHIQQvKOQ9PAcQhofndQhhEOokIRwCBWSEA6hQhLCIVRIQjhE4RslP3v2DLGxscjOzsaMGTPQqlUrJCUlYejQoarIR4haUaiQX375JY4ePQqGYcDj8TB69GiUlpYiKCgIw4YNQ2hoKLS0tFSVlZBmT+6PrEeOHEFkZCTmzZuH6OhoyaMEHB0dMXPmTMTGxuLHH39UWVBC1IHchTx+/DhGjx6NZcuWwcTERLJcT08Pa9aswfjx43HhwgWVhCREXchdyMzMTAwcOLDB1x0cHJCTk6OUUISoK7kLaWBggNzc3AZff/78OfT19ZUSihB1JXchR44ciaNHjyI5OVmyrO7qjri4OERFRcHFxUX5CQlRI3LfBrK0tBTTp09Heno6unXrhidPnsDe3h4VFRV4+vQpjI2NER0dDUNDQ1VnlouGpjHbEZoNuvxKubRd5jT4mtx7SD09PURHR2Pu3LkQCoXQ0tLCgwcPUFVVhVmzZuHUqVOcKSMhTVWzvVEy7SGVh/aQyvWuPaTcEwOys7PlGtepUyd5N0kI+Ru5C+nq6irXLToSExM/KhAh6kzuQgYEBMgUsra2FgUFBYiLi4OOjg4CAwOVHpAQdSJ3Id9VtvLyckydOhXp6elKCUWIulLK5Ve6urrw8fFBVFSUMjZHiNpS2vWQNTU1KCoqUtbmCFFLH32WVSgUIjExEeHh4ejRo4fSghGijpRylpVhGGhpaWHFihVKC0aIOpK7kIsXL653OZ/PR/v27TF8+HCaqUPIR5K7kB07doS9vT26dOmiwjiEqDe5T+ps3rwZFy9eVGUWQtSe3IXU1tam++UQomJyf2TduHEj1q5di+rqagwePBiGhoYQCAQy42guKyEfTu6rPWxtbSESiSAWi985p5Urc1npag/loas9lEspV3vMnTuXU89/JKQ5arCQwcHBmDp1Knr37g3g3XNZiWLcRg7FZ8FB6NvXFmKxGHfv/o71G7bh7r3f2Y7Gebcfp+LHmDtITM8Dj8+DrXlHBIx3hm3X+g+Vkl7mY9qWCMwePRALxzk1clrFNXhS58yZM8jIyGjMLGphiPNAXDj/H+i30cO69SH48t870bWrGa5fO4l+Dn3Yjsdp95MyEfDtSZRVViPA0xnzxwxC5qsSzN55HH+kyt7xUFQrxvrDMRDVillI+2EUfpQA+Thff70JmZnZGOQ0FlVVbwAAEf85iUcPY/HlF6sx2uMTlhNy1/YT19HBQA8Ra3yhrdkCADBuYC9M3BiOb/97E2FLJ0uND/8pHi9yXrMR9YPRw3YaUZs2+uht2xMnT56XlBEA8vML8L+b8XB0dGAxHbeVVrxB0st8jLTvLikjALTV04F9t854kCI91/p51iv8GBOPeR6OjR31o7xzD3n//n3U1tYqtMEJEyZ8TJ5mrbS0DD2th6CiolLmtXZtDSESiVhI1TToaGvi7MY50NZqIfNacUUVNPh/nnAU1Yqx4XAMBliZwaN/T+w990tjRv0o7yxkdHQ0oqOj5dpQ3QN4qJANE4vFSE5OlVluY9MDgwb1w5UrsY0fqokQ8PkwMzKQWZ70Mh//9yILg3qaS5YdvHwXGflF2LVwYpM6fgTeU8jJkyejT58+jRRFPenotMLB8FAAwLbte1lO07RUvhFi7aFLAIBZowYAAJKzC/DDpTtYM2U4jAxaI6ughM2ICntnIR0cHDBu3LjGyqJ2tLVb4uzpQ+jTuxe2huzB/27Gsx2pyagS1iBo3xkkvXwF/9ED4GBpglrx24+qdhbG8HbuzXbED8LaWda8vDyFxhsZGakoCTv09fVw7uxhODn1R/jBY1i7bivbkZqM0so3WLL3NP7vRRYmDLJBoKczAODwlV+RlPUKB1d+gqLyt8fpZZVvT569EdagqLwS+q20wedzd4ILa4UcPny4QieMuDIlTxnat2+LSxePwq6PNX748T9YFLCa7UhNRmFpBRbuOYlnmfnwdrbF2mlukhlktx6nokZUC9+t/5FZ7/DPv+Lwz7/i4r/nwbgddx8K1WAhJ06cCFNTU5V94xMnTmD+/PkQCoVYsWIFNDTU40+iuro6kjJ+880PWPkpzROVV8UboaSMvsPtsdLHVer1FZOGobTyjdSy16WV+PzgRYwd0BNjB/ZCO32dxoyssAZbsGXLFpV+4x49euDQoUPw8fHBq1evsGjRIpV+P67Ys3sz7PpYI3T3fiqjgrYc+xnPMvMxzVW2jADQ06yDzLK6kzrG7dpgYI8uqo740VjdLXXt2hXLly/H119/jalTpzb7W4BYWf0Tfr6TUFxcggcPHmPaNC+ZMUePnmYhGfel5LzGhbtPoKuthe6d/4GLdx/LjBkzoBcLyZSL9c+JU6dORbdu3diO0SiGOL+dNdKmjT7CD+yqdwwVsn6/Pc8EAJRXVWPDkZh6xzSHQtLTr8h70fWQyqWU50MSQlSPCkkIh1AhCeEQKiQhHEKFJIRDqJCEcAgVkhAOoUISwiFUSEI4hApJCIdQIQnhECokIRxChSSEQ6iQhHAIFZIQDqFCEsIhVEhCOIQKSQiHUCEJ4RAqJCEcQoUkhEOokIRwCBWSEA6hQhLCIVRIQjiECkkIh1AhCeEQKiQhHEKFJIRDqJCEcAgVkhAOoUISwiFUSEI4pNk+QZmQpoj2kIRwCBWSEA6hQhLCIVRIQjiECkkIh1AhCeEQKiQhHEKFJIRDqJCEcAgVkhAOoUKy5MKFCxgzZgxsbW3h7u6Os2fPsh2pyUtMTESvXr2Qm5vLdpQPRoVkQUxMDFauXAknJyfs3bsX/fv3x+rVq/HTTz+xHa3JSklJwfz58yESidiO8lFocjkLRo4cCWtra+zatUuybOnSpXj27BliYmJYTNb0iEQiREVF4euvv0aLFi1QXFyMuLg4dOjQge1oH4T2kI0sMzMTGRkZcHNzk1o+atQopKSkIDMzk6VkTdNvv/2GHTt2wN/fHytXrmQ7zkejQjaylJQUAIC5ubnUcjMzMwBAampqo2dqyiwsLHD16lUsXrwYAoGA7TgfTYPtAOqmrKwMAKCrqyu1XEdHBwBQXl7e6Jmasnbt2rEdQaloD9nI6g7ZeTxevcv5fPpfos7o/34ja926NQDZPWFFRYXU60Q9USEbWd2xY0ZGhtTy9PR0qdeJeqJCNjIzMzN07txZ5m+OV65cQZcuXdCpUyeWkhEuoJM6LAgICEBwcDD09fUxbNgwXL9+HTExMVJ/lyTqiQrJAi8vLwiFQoSHh+PEiRMwMTFBSEgIPDw82I5GWEYzdQjhEDqGJIRDqJCEcAgVkhAOoUISwiFUSEI4hApJCIdQIT/CmjVr0L17d6n/evTogb59+8LHxwdnzpxplByurq7w8/OTfO3n5wdXV1eFt1NeXo7CwkKl5ar7+XzsGGWu11jb+1A0MUAJgoODYWBgAODtVRvl5eU4d+4c1qxZg6KiIvj7+zdqngULFqCqqkqhdR49eoSFCxdix44dGDBggIqSkfehQirBiBEj0LlzZ6llkyZNgoeHB/bu3QtfX19oamo2Wh4nJyeF10lKSkJ+fr4K0hBF0EdWFWnZsiVcXV1RXl6O58+fsx2HNBFUSBWquwi5trYWwNtjvbVr1+Kzzz6DjY0NhgwZIjlmS0hIwKxZs2BnZwc7Ozv4+/vj4cOHMtu8dOkSPD09YWtri7FjxyI+Pl5mTH3HkC9evEBQUBAGDBgAe3t7+Pn54f79+wCAPXv2IDg4GAAwY8YMqXVzc3Px6aefYuDAgbCxscGECRNw7tw5me/56NEj+Pv7w87ODs7Ozjhy5MiH/MgAAHfu3MGcOXMwYMAA9OrVC87Ozli/fj1KS0tlxiYkJMDb2xs2NjZwc3PDoUOHZMbI+x64gD6yqohYLMa9e/egqakJCwsLyfKLFy/C3Nwcn3/+OQoKCmBoaIhbt25h/vz5sLKyQlBQEIRCIU6fPo3p06fj4MGDcHBwAACcPn0awcHBsLOzw6pVq5Ceno4FCxZALBbD2Ni4wSxpaWmYPHkyNDQ04OvrC0NDQxw/fhyzZs1CZGQkRo4ciVevXiEqKgoLFiyAjY0NACAvLw8+Pj5gGAZ+fn7Q19fHtWvXsGrVKuTn52POnDkAgOfPn8PPzw96enpYtGgRampqsHfvXsk/RIr45ZdfMHfuXPTt2xdLliwBj8fDrVu3EBUVhZqaGmzZskVqvL+/P0aMGAEvLy9cvXoVW7ZsQVlZGQIDAxV6D5zBkA+2evVqxtLSknn8+DHz+vVr5vXr10x+fj6TkJDABAUFMZaWlszmzZsl411cXBgrKysmPT1dsqy2tpYZPnw4M3XqVEYkEkmWV1RUMCNHjmQ8PT0ZhmEYkUjEODo6Mt7e3oxQKJSMO3XqFGNpacn4+vpKlvn6+jIuLi6Sr4OCghhbW1smLS1NsqywsJCxt7dnlixZIrWd+Ph4qffXv39/Ji8vT+p9L1++nLG2tmYKCgoYhmGYwMBApk+fPkx2drZkTHJyMmNtbc1YWlrK9TOsM3v2bMbFxYWprq6WGjd58mTGzs5OZr2QkBDJstraWmbGjBmMtbU1U1hYqNB7+HsOttBHViWYOHEiHB0d4ejoiMGDB2PKlCm4du0a/Pz8sGLFCqmxpqamMDU1lXz95MkTZGZmYsSIESgpKUFhYSEKCwvx5s0buLi4IDExEbm5uXj8+DFev34NLy8vtGjRQrK+p6cn9PX1G8wmFosRFxeHoUOHSu5sBwAGBgY4evQo1q5d2+B6V69ehYODAzQ0NCS5CgsL4ebmBqFQiFu3bkEsFuPmzZsYOnQoOnbsKFnfwsICgwcPVvhnGRYWhlOnTkmdBCsqKoKuri4qKytlxv91D8fn8+Hr6wuhUIjbt2/L/R64hD6yKsH27dsldz/j8/nQ09ODhYUFtLS0ZMa2bdtW6uu6W3ls27YN27Ztq3f7OTk5ktvj/7XMACAQCKSK9nfFxcWorKysd4ylpWWD6xUVFaGsrAxXr17F1atXG8xVt/2/5wKArl274vr16w1+j/oIBAJkZmYiNDQUycnJyMjIQF5eXr1j27RpA0NDQ6llJiYmAICsrCy53wOXUCGVoG/fvjJ/9mjI3+8dKhaLAQBBQUHo06dPvet07dpV8ktZXV0t83rdNupTdxyn6N3s6tYbNWoUpk6dWu+Yul/+D8nVkOPHj2PDhg0wNzeHg4MD3Nzc0Lt3b0REROD8+fNSY/9+5z5A+u59ir4HLqBCsqzuZEyrVq0waNAgqdcePnyIkpIStGzZUvKLk5aWJjWGYRhkZWWhW7du9W7fwMAALVu2lNxE668OHDiAgoICrF69WuY1Q0NDaGtrQyQSyeTKzs7GkydPoK2tDQMDA+jq6srkAoCXL182+L7rU11dja1bt2LAgAEIDw+Hhsafv56hoaEy40tKSlBeXi51j9u6HKampnK/By6hY0iWWVtbo3379oiIiJDcChJ4O41t6dKlCA4OhkAgQM+ePWFsbIxjx45JzcK5ePEiioqKGty+hoYGnJycEBcXJ/XxrKSkBAcOHJB8ZK7bg9bt1TQ0NDBkyBDExcXh6dOnUtvcunUrAgICUFRUBB6Ph5EjR+LmzZtISkqSjHn58iViY2MV+lm8efMGVVVV6NKli1QZExMTce/ePQCQepiOWCzGyZMnJV+LRCIcPnwYrVq1gqOjo9zvgUtoD8myFi1aYN26dVi6dCm8vLwwadIkaGlp4cSJE8jOzsaOHTskv5zr1q1DQEAApkyZAm9vb+Tl5SEyMhJt2rR55/dYsWIFfHx84OPjg+nTp0NXVxfR0dGorKzE0qVLAUByLHbs2DEUFBRg3LhxWLlyJe7evYvp06dj+vTp6NSpE2JjY3Hjxg1MmTJFslcOCgpCbGws/Pz8MHPmTAgEAkREREBHRwdCoVDun4W+vj569+6N06dPQ1dXF+bm5nj+/DlOnDgh+QejoqJCchJLW1sbu3fvRk5ODkxNTXHp0iUkJCRgw4YNkvvbyvseuIIKyQGjRo1CeHg49u3bh++++w58Ph/dunXDvn374OLiIhnn4uKCsLAw7NmzBzt37oSRkRG++uorREZGvnP7FhYWiIqKws6dO7F//37w+XzY2toiJCRE8gvp6OgId3d33LhxA/Hx8XBzc4OpqSmio6Oxe/duSYFNTEwQHBwsNZm9Y8eOOHbsGLZt24b9+/dDU1MTPj4+AN6eNVVEaGgotmzZglOnTkEoFMLY2Bjz5s2DhYUFAgMDER8fj1GjRgEA9PT0EBISgs2bNyMyMhJmZmbYvn07xo8fL9mevO+BK+gmV4RwCB1DEsIhVEhCOIQKSQiHUCEJ4RAqJCEcQoUkhEOokIRwCBWSEA6hQhLCIf8PzsPSsOpASuIAAAAASUVORK5CYII=\n",
      "text/plain": [
<<<<<<< HEAD
       "<Figure size 216x216 with 1 Axes>"
      ]
     },
=======
       "array([[27,  8],\n",
       "       [ 2, 24]], dtype=int64)"
      ]
     },
     "execution_count": 117,
>>>>>>> ad807a3c1d1a9c45834c5a258d98d6f96f102b20
     "metadata": {},
     "output_type": "display_data"
    }
   ],
   "source": [
<<<<<<< HEAD
    "import seaborn as sns\n",
    "\n",
    "def plot_conf_mat(conf_mat):\n",
    "    \"\"\"\n",
    "    Plots a confusion matrix using Seaborn's heatmap\n",
    "    \"\"\"\n",
    "    fig, ax = plt.subplots(figsize=(3,3))\n",
    "    ax = sns.heatmap(conf_mat,\n",
    "                     annot=True, #Annotate the boxes with conf_mat info\n",
    "                     cbar=False)\n",
    "    plt.xlabel(\"Predicted label\")\n",
    "    plt.ylabel(\"True Label\");\n",
    "\n",
    "plot_conf_mat(conf_mat)"
=======
    "from sklearn.metrics import confusion_matrix\n",
    "y_preds =clf.predict(X_test)\n",
    "\n",
    "confusion_matrix(y_test, y_preds)"
   ]
  },
  {
   "cell_type": "code",
   "execution_count": 120,
   "id": "3253cddd",
   "metadata": {},
   "outputs": [
    {
     "data": {
      "text/html": [
       "<div>\n",
       "<style scoped>\n",
       "    .dataframe tbody tr th:only-of-type {\n",
       "        vertical-align: middle;\n",
       "    }\n",
       "\n",
       "    .dataframe tbody tr th {\n",
       "        vertical-align: top;\n",
       "    }\n",
       "\n",
       "    .dataframe thead th {\n",
       "        text-align: right;\n",
       "    }\n",
       "</style>\n",
       "<table border=\"1\" class=\"dataframe\">\n",
       "  <thead>\n",
       "    <tr style=\"text-align: right;\">\n",
       "      <th>Predicted labels</th>\n",
       "      <th>0</th>\n",
       "      <th>1</th>\n",
       "    </tr>\n",
       "    <tr>\n",
       "      <th>Actual labels</th>\n",
       "      <th></th>\n",
       "      <th></th>\n",
       "    </tr>\n",
       "  </thead>\n",
       "  <tbody>\n",
       "    <tr>\n",
       "      <th>0</th>\n",
       "      <td>27</td>\n",
       "      <td>8</td>\n",
       "    </tr>\n",
       "    <tr>\n",
       "      <th>1</th>\n",
       "      <td>2</td>\n",
       "      <td>24</td>\n",
       "    </tr>\n",
       "  </tbody>\n",
       "</table>\n",
       "</div>"
      ],
      "text/plain": [
       "Predicted labels   0   1\n",
       "Actual labels           \n",
       "0                 27   8\n",
       "1                  2  24"
      ]
     },
     "execution_count": 120,
     "metadata": {},
     "output_type": "execute_result"
    }
   ],
   "source": [
    "# Visualise confusion matrix with pd.crosstab()\n",
    "pd.crosstab(y_test,\n",
    "            y_preds,\n",
    "            rownames=[\"Actual labels\"],\n",
    "            colnames=[\"Predicted labels\"])\n",
    "# 2 false negatives, 8 false positives"
>>>>>>> ad807a3c1d1a9c45834c5a258d98d6f96f102b20
   ]
  },
  {
   "cell_type": "code",
<<<<<<< HEAD
   "execution_count": 140,
   "id": "cc1c1b69",
=======
   "execution_count": 121,
   "id": "27d6b7a6",
>>>>>>> ad807a3c1d1a9c45834c5a258d98d6f96f102b20
   "metadata": {},
   "outputs": [
    {
     "data": {
      "image/png": "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\n",
      "text/plain": [
<<<<<<< HEAD
       "<Figure size 432x288 with 2 Axes>"
      ]
     },
=======
       "(61, 61)"
      ]
     },
     "execution_count": 121,
>>>>>>> ad807a3c1d1a9c45834c5a258d98d6f96f102b20
     "metadata": {},
     "output_type": "display_data"
    }
   ],
   "source": [
<<<<<<< HEAD
    "from sklearn.metrics import plot_confusion_matrix\n",
    "plot_confusion_matrix(clf, X_test, y_test);"
   ]
  },
  {
   "cell_type": "markdown",
   "id": "a7dfd836",
=======
    "27+8+2+24, len(y_test) "
   ]
  },
  {
   "cell_type": "code",
   "execution_count": 124,
   "id": "d7809777",
>>>>>>> ad807a3c1d1a9c45834c5a258d98d6f96f102b20
   "metadata": {},
   "outputs": [
    {
     "name": "stdout",
     "output_type": "stream",
     "text": [
      "Collecting package metadata (current_repodata.json): ...working... done\n",
      "Solving environment: ...working... done\n",
      "\n",
      "## Package Plan ##\n",
      "\n",
      "  environment location: C:\\Users\\ziolk\\Desktop\\ML_Projects\\SampleProject\\env\n",
      "\n",
      "  added / updated specs:\n",
      "    - seaborn\n",
      "\n",
      "\n",
      "The following packages will be downloaded:\n",
      "\n",
      "    package                    |            build\n",
      "    ---------------------------|-----------------\n",
      "    seaborn-0.11.2             |     pyhd3eb1b0_0         218 KB\n",
      "    ------------------------------------------------------------\n",
      "                                           Total:         218 KB\n",
      "\n",
      "The following NEW packages will be INSTALLED:\n",
      "\n",
      "  seaborn            pkgs/main/noarch::seaborn-0.11.2-pyhd3eb1b0_0\n",
      "\n",
      "\n",
      "\n",
      "Downloading and Extracting Packages\n",
      "\n",
      "seaborn-0.11.2       | 218 KB    |            |   0% \n",
      "seaborn-0.11.2       | 218 KB    | ##2        |  22% \n",
      "seaborn-0.11.2       | 218 KB    | ########## | 100% \n",
      "Preparing transaction: ...working... done\n",
      "Verifying transaction: ...working... done\n",
      "Executing transaction: ...working... done\n"
     ]
    }
   ],
   "source": [
<<<<<<< HEAD
    "**Classification Report**"
=======
    "# How to install a conda package into the current environment in Jupyter Notebook\n",
    "import sys\n",
    "!conda install --yes --prefix {sys.prefix} seaborn\n",
    "# prefix is another name for pathname (conda's environment)"
>>>>>>> ad807a3c1d1a9c45834c5a258d98d6f96f102b20
   ]
  },
  {
   "cell_type": "code",
<<<<<<< HEAD
   "execution_count": 142,
   "id": "e9bb3bbb",
   "metadata": {},
   "outputs": [
    {
     "name": "stdout",
     "output_type": "stream",
     "text": [
      "              precision    recall  f1-score   support\n",
      "\n",
      "           0       0.93      0.77      0.84        35\n",
      "           1       0.75      0.92      0.83        26\n",
      "\n",
      "    accuracy                           0.84        61\n",
      "   macro avg       0.84      0.85      0.84        61\n",
      "weighted avg       0.85      0.84      0.84        61\n",
      "\n"
     ]
    }
   ],
   "source": [
    "from sklearn.metrics import classification_report\n",
    "\n",
    "print(classification_report(y_test, y_preds))"
   ]
  },
  {
   "cell_type": "markdown",
   "id": "7dd4c326",
   "metadata": {},
   "source": [
    "**Classification report anatomy:**\n",
    "\n",
    "* Precision - Indicates the proportion of positive identifications (model predicted class 1) which were actually correct. A model which produces no false positives has a precision of 1.0.\n",
    "* Recall - Indicates the proportion of actual positives which were correctly classified. A model which produces no false negatives has a recall of 1.0.\n",
    "* F1 score - A combination of precision and recall. A perfect model achieves an F1 score of 1.0.\n",
    "* Support - The number of samples each metric was calculated on.\n",
    "* Accuracy - The accuracy of the model in decimal form. Perfect accuracy is equal to 1.0, in other words, getting the prediction right 100% of the time.\n",
    "* Macro avg - Short for macro average, the average precision, recall and F1 score between classes. Macro avg doesn't take class imbalance into effect. So if you do have class imbalances (more examples of one class than another), you should pay attention to this.\n",
    "* Weighted avg - Short for weighted average, the weighted average precision, recall and F1 score between classes. Weighted means each metric is calculated with respect to how many samples there are in each class. This metric will favour the majority class (e.g. it will give a high value when one class out performs another due to having more samples)."
=======
   "execution_count": 136,
   "id": "f89d103b",
   "metadata": {},
   "outputs": [
    {
     "data": {
      "image/png": "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\n",
      "text/plain": [
       "<Figure size 432x288 with 2 Axes>"
      ]
     },
     "metadata": {},
     "output_type": "display_data"
    }
   ],
   "source": [
    "# Make our confusion matrix more visual with Seaborn's heatmap()\n",
    "import seaborn as sns\n",
    "\n",
    "# Set the font scale \n",
    "sns.set(font_scale=1.5)\n",
    "# Create a confusion matrix\n",
    "conf_mat = confusion_matrix(y_test, y_preds)\n",
    "# Plot is using seaborn\n",
    "sns.heatmap(conf_mat);"
   ]
  },
  {
   "cell_type": "code",
   "execution_count": 134,
   "id": "3f0e2a54",
   "metadata": {},
   "outputs": [
    {
     "data": {
      "image/png": "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\n",
      "text/plain": [
       "<Figure size 216x216 with 1 Axes>"
      ]
     },
     "metadata": {},
     "output_type": "display_data"
    }
   ],
   "source": [
    "import seaborn as sns\n",
    "\n",
    "def plot_conf_mat(conf_mat):\n",
    "    \"\"\"\n",
    "    Plots a confusion matrix using Seaborn's heatmap\n",
    "    \"\"\"\n",
    "    fig, ax = plt.subplots(figsize=(3,3))\n",
    "    ax = sns.heatmap(conf_mat,\n",
    "                     annot=True, #Annotate the boxes with conf_mat info\n",
    "                     cbar=False)\n",
    "    plt.xlabel(\"Predicted label\")\n",
    "    plt.ylabel(\"True Label\");\n",
    "\n",
    "plot_conf_mat(conf_mat)"
>>>>>>> ad807a3c1d1a9c45834c5a258d98d6f96f102b20
   ]
  },
  {
   "cell_type": "code",
<<<<<<< HEAD
   "execution_count": 145,
   "id": "1ee646bd",
=======
   "execution_count": 140,
   "id": "a908e268",
>>>>>>> ad807a3c1d1a9c45834c5a258d98d6f96f102b20
   "metadata": {},
   "outputs": [
    {
     "name": "stderr",
     "output_type": "stream",
     "text": [
      "C:\\Users\\ziolk\\Desktop\\ML_Projects\\SampleProject\\env\\lib\\site-packages\\sklearn\\metrics\\_classification.py:1248: UndefinedMetricWarning: Precision and F-score are ill-defined and being set to 0.0 in labels with no predicted samples. Use `zero_division` parameter to control this behavior.\n",
      "  _warn_prf(average, modifier, msg_start, len(result))\n",
      "C:\\Users\\ziolk\\Desktop\\ML_Projects\\SampleProject\\env\\lib\\site-packages\\sklearn\\metrics\\_classification.py:1248: UndefinedMetricWarning: Precision and F-score are ill-defined and being set to 0.0 in labels with no predicted samples. Use `zero_division` parameter to control this behavior.\n",
      "  _warn_prf(average, modifier, msg_start, len(result))\n",
      "C:\\Users\\ziolk\\Desktop\\ML_Projects\\SampleProject\\env\\lib\\site-packages\\sklearn\\metrics\\_classification.py:1248: UndefinedMetricWarning: Precision and F-score are ill-defined and being set to 0.0 in labels with no predicted samples. Use `zero_division` parameter to control this behavior.\n",
      "  _warn_prf(average, modifier, msg_start, len(result))\n"
     ]
    },
    {
     "data": {
<<<<<<< HEAD
      "text/html": [
       "<div>\n",
       "<style scoped>\n",
       "    .dataframe tbody tr th:only-of-type {\n",
       "        vertical-align: middle;\n",
       "    }\n",
       "\n",
       "    .dataframe tbody tr th {\n",
       "        vertical-align: top;\n",
       "    }\n",
       "\n",
       "    .dataframe thead th {\n",
       "        text-align: right;\n",
       "    }\n",
       "</style>\n",
       "<table border=\"1\" class=\"dataframe\">\n",
       "  <thead>\n",
       "    <tr style=\"text-align: right;\">\n",
       "      <th></th>\n",
       "      <th>0.0</th>\n",
       "      <th>1.0</th>\n",
       "      <th>accuracy</th>\n",
       "      <th>macro avg</th>\n",
       "      <th>weighted avg</th>\n",
       "    </tr>\n",
       "  </thead>\n",
       "  <tbody>\n",
       "    <tr>\n",
       "      <th>precision</th>\n",
       "      <td>0.99990</td>\n",
       "      <td>0.0</td>\n",
       "      <td>0.9999</td>\n",
       "      <td>0.499950</td>\n",
       "      <td>0.99980</td>\n",
       "    </tr>\n",
       "    <tr>\n",
       "      <th>recall</th>\n",
       "      <td>1.00000</td>\n",
       "      <td>0.0</td>\n",
       "      <td>0.9999</td>\n",
       "      <td>0.500000</td>\n",
       "      <td>0.99990</td>\n",
       "    </tr>\n",
       "    <tr>\n",
       "      <th>f1-score</th>\n",
       "      <td>0.99995</td>\n",
       "      <td>0.0</td>\n",
       "      <td>0.9999</td>\n",
       "      <td>0.499975</td>\n",
       "      <td>0.99985</td>\n",
       "    </tr>\n",
       "    <tr>\n",
       "      <th>support</th>\n",
       "      <td>9999.00000</td>\n",
       "      <td>1.0</td>\n",
       "      <td>0.9999</td>\n",
       "      <td>10000.000000</td>\n",
       "      <td>10000.00000</td>\n",
       "    </tr>\n",
       "  </tbody>\n",
       "</table>\n",
       "</div>"
      ],
      "text/plain": [
       "                  0.0  1.0  accuracy     macro avg  weighted avg\n",
       "precision     0.99990  0.0    0.9999      0.499950       0.99980\n",
       "recall        1.00000  0.0    0.9999      0.500000       0.99990\n",
       "f1-score      0.99995  0.0    0.9999      0.499975       0.99985\n",
       "support    9999.00000  1.0    0.9999  10000.000000   10000.00000"
      ]
     },
     "execution_count": 145,
=======
      "image/png": "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\n",
      "text/plain": [
       "<Figure size 432x288 with 2 Axes>"
      ]
     },
>>>>>>> ad807a3c1d1a9c45834c5a258d98d6f96f102b20
     "metadata": {},
     "output_type": "display_data"
    }
   ],
   "source": [
<<<<<<< HEAD
    "# where precision and recall become valuable\n",
    "disease_true = np.zeros(10000)\n",
    "disease_true[0] = 1 # only one positive case \n",
    "\n",
    "disease_preds = np.zeros(10000) # model predicts every case to be 0\n",
    "\n",
    "pd.DataFrame(classification_report(disease_true, disease_preds, output_dict=True))"
=======
    "from sklearn.metrics import plot_confusion_matrix\n",
    "plot_confusion_matrix(clf, X_test, y_test);"
   ]
  },
  {
   "cell_type": "markdown",
   "id": "9906a6e8",
   "metadata": {},
   "source": [
    "**Classification Report**"
>>>>>>> ad807a3c1d1a9c45834c5a258d98d6f96f102b20
   ]
  },
  {
   "cell_type": "code",
<<<<<<< HEAD
   "execution_count": 146,
   "id": "4e895bbf",
   "metadata": {},
   "outputs": [],
   "source": [
    "# macro avg being 0.5 while accuracy and weighted avg close to 1"
=======
   "execution_count": 142,
   "id": "9a575cc5",
   "metadata": {},
   "outputs": [
    {
     "name": "stdout",
     "output_type": "stream",
     "text": [
      "              precision    recall  f1-score   support\n",
      "\n",
      "           0       0.93      0.77      0.84        35\n",
      "           1       0.75      0.92      0.83        26\n",
      "\n",
      "    accuracy                           0.84        61\n",
      "   macro avg       0.84      0.85      0.84        61\n",
      "weighted avg       0.85      0.84      0.84        61\n",
      "\n"
     ]
    }
   ],
   "source": [
    "from sklearn.metrics import classification_report\n",
    "\n",
    "print(classification_report(y_test, y_preds))"
>>>>>>> ad807a3c1d1a9c45834c5a258d98d6f96f102b20
   ]
  },
  {
   "cell_type": "code",
   "execution_count": null,
<<<<<<< HEAD
   "id": "b39f2df5",
   "metadata": {},
   "outputs": [],
   "source": []
  },
  {
   "cell_type": "code",
   "execution_count": null,
   "id": "0bc88d6c",
=======
   "id": "678c7dd9",
>>>>>>> ad807a3c1d1a9c45834c5a258d98d6f96f102b20
   "metadata": {},
   "outputs": [],
   "source": []
  }
 ],
 "metadata": {
  "kernelspec": {
   "display_name": "Python 3 (ipykernel)",
   "language": "python",
   "name": "python3"
  },
  "language_info": {
   "codemirror_mode": {
    "name": "ipython",
    "version": 3
   },
   "file_extension": ".py",
   "mimetype": "text/x-python",
   "name": "python",
   "nbconvert_exporter": "python",
   "pygments_lexer": "ipython3",
   "version": "3.9.7"
  }
 },
 "nbformat": 4,
 "nbformat_minor": 5
}
